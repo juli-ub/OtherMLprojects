{
 "cells": [
  {
   "cell_type": "markdown",
   "metadata": {},
   "source": [
    "#  Stable Compounds, Proof of Concept"
   ]
  },
  {
   "cell_type": "markdown",
   "metadata": {},
   "source": [
    "Imports and Data Loading"
   ]
  },
  {
   "cell_type": "code",
   "execution_count": 1,
   "metadata": {},
   "outputs": [],
   "source": [
    "import pandas as pd\n",
    "import numpy as np\n",
    "import os\n",
    "import matplotlib.pyplot as plt\n",
    "%matplotlib inline\n",
    "import seaborn as sns"
   ]
  },
  {
   "cell_type": "code",
   "execution_count": 2,
   "metadata": {},
   "outputs": [],
   "source": [
    "from sklearn.preprocessing import OneHotEncoder"
   ]
  },
  {
   "cell_type": "code",
   "execution_count": 3,
   "metadata": {},
   "outputs": [],
   "source": [
    "from sklearn.preprocessing import StandardScaler\n",
    "from sklearn.model_selection import train_test_split\n",
    "from sklearn.ensemble import RandomForestClassifier\n",
    "from sklearn.metrics import classification_report\n",
    "from sklearn.neighbors import KNeighborsClassifier\n",
    "from sklearn.multiclass import OneVsRestClassifier"
   ]
  },
  {
   "cell_type": "code",
   "execution_count": 4,
   "metadata": {},
   "outputs": [],
   "source": [
    "from sklearn.svm import SVC\n",
    "from sklearn.linear_model import LinearRegression\n",
    "from sklearn.model_selection import GridSearchCV, cross_validate\n",
    "from sklearn.metrics import confusion_matrix\n",
    "from sklearn.metrics import recall_score, precision_score"
   ]
  },
  {
   "cell_type": "code",
   "execution_count": 5,
   "metadata": {},
   "outputs": [],
   "source": [
    "from sklearn.decomposition import PCA"
   ]
  },
  {
   "cell_type": "code",
   "execution_count": 6,
   "metadata": {},
   "outputs": [
    {
     "data": {
      "text/html": [
       "<div>\n",
       "<style scoped>\n",
       "    .dataframe tbody tr th:only-of-type {\n",
       "        vertical-align: middle;\n",
       "    }\n",
       "\n",
       "    .dataframe tbody tr th {\n",
       "        vertical-align: top;\n",
       "    }\n",
       "\n",
       "    .dataframe thead th {\n",
       "        text-align: right;\n",
       "    }\n",
       "</style>\n",
       "<table border=\"1\" class=\"dataframe\">\n",
       "  <thead>\n",
       "    <tr style=\"text-align: right;\">\n",
       "      <th></th>\n",
       "      <th>formulaA</th>\n",
       "      <th>formulaB</th>\n",
       "      <th>formulaA_elements_AtomicVolume</th>\n",
       "      <th>formulaB_elements_AtomicVolume</th>\n",
       "      <th>formulaA_elements_AtomicWeight</th>\n",
       "      <th>formulaB_elements_AtomicWeight</th>\n",
       "      <th>formulaA_elements_BoilingT</th>\n",
       "      <th>formulaB_elements_BoilingT</th>\n",
       "      <th>formulaA_elements_BulkModulus</th>\n",
       "      <th>formulaB_elements_BulkModulus</th>\n",
       "      <th>...</th>\n",
       "      <th>formulaB_elements_Row</th>\n",
       "      <th>formulaA_elements_ShearModulus</th>\n",
       "      <th>formulaB_elements_ShearModulus</th>\n",
       "      <th>formulaA_elements_SpaceGroupNumber</th>\n",
       "      <th>formulaB_elements_SpaceGroupNumber</th>\n",
       "      <th>avg_coordination_A</th>\n",
       "      <th>avg_coordination_B</th>\n",
       "      <th>avg_nearest_neighbor_distance_A</th>\n",
       "      <th>avg_nearest_neighbor_distance_B</th>\n",
       "      <th>stabilityVec</th>\n",
       "    </tr>\n",
       "  </thead>\n",
       "  <tbody>\n",
       "    <tr>\n",
       "      <th>0</th>\n",
       "      <td>Ac</td>\n",
       "      <td>Ag</td>\n",
       "      <td>37.433086</td>\n",
       "      <td>17.075648</td>\n",
       "      <td>227.000</td>\n",
       "      <td>107.868200</td>\n",
       "      <td>3473.0</td>\n",
       "      <td>2435.0</td>\n",
       "      <td>0.0</td>\n",
       "      <td>100.0</td>\n",
       "      <td>...</td>\n",
       "      <td>5</td>\n",
       "      <td>0.0</td>\n",
       "      <td>30.0</td>\n",
       "      <td>225</td>\n",
       "      <td>225</td>\n",
       "      <td>12.0</td>\n",
       "      <td>12.0</td>\n",
       "      <td>3.99462</td>\n",
       "      <td>2.94195</td>\n",
       "      <td>[1.0,0.0,0.0,1.0,0.0,1.0,0.0,0.0,0.0,0.0,1.0]</td>\n",
       "    </tr>\n",
       "    <tr>\n",
       "      <th>1</th>\n",
       "      <td>Ac</td>\n",
       "      <td>Al</td>\n",
       "      <td>37.433086</td>\n",
       "      <td>16.594425</td>\n",
       "      <td>227.000</td>\n",
       "      <td>26.981539</td>\n",
       "      <td>3473.0</td>\n",
       "      <td>2792.0</td>\n",
       "      <td>0.0</td>\n",
       "      <td>76.0</td>\n",
       "      <td>...</td>\n",
       "      <td>3</td>\n",
       "      <td>0.0</td>\n",
       "      <td>26.0</td>\n",
       "      <td>225</td>\n",
       "      <td>225</td>\n",
       "      <td>12.0</td>\n",
       "      <td>12.0</td>\n",
       "      <td>3.99462</td>\n",
       "      <td>2.85595</td>\n",
       "      <td>[1.0,0.0,0.0,1.0,0.0,0.0,0.0,0.0,0.0,0.0,1.0]</td>\n",
       "    </tr>\n",
       "    <tr>\n",
       "      <th>2</th>\n",
       "      <td>Ac</td>\n",
       "      <td>As</td>\n",
       "      <td>37.433086</td>\n",
       "      <td>21.723966</td>\n",
       "      <td>227.000</td>\n",
       "      <td>74.921600</td>\n",
       "      <td>3473.0</td>\n",
       "      <td>887.0</td>\n",
       "      <td>0.0</td>\n",
       "      <td>22.0</td>\n",
       "      <td>...</td>\n",
       "      <td>4</td>\n",
       "      <td>0.0</td>\n",
       "      <td>0.0</td>\n",
       "      <td>225</td>\n",
       "      <td>166</td>\n",
       "      <td>12.0</td>\n",
       "      <td>3.0</td>\n",
       "      <td>3.99462</td>\n",
       "      <td>2.55790</td>\n",
       "      <td>[1.0,0.0,0.0,0.0,0.0,0.0,0.0,0.0,0.0,0.0,1.0]</td>\n",
       "    </tr>\n",
       "    <tr>\n",
       "      <th>3</th>\n",
       "      <td>Ac</td>\n",
       "      <td>Ba</td>\n",
       "      <td>37.433086</td>\n",
       "      <td>64.969282</td>\n",
       "      <td>227.000</td>\n",
       "      <td>137.327000</td>\n",
       "      <td>3473.0</td>\n",
       "      <td>2143.0</td>\n",
       "      <td>0.0</td>\n",
       "      <td>9.6</td>\n",
       "      <td>...</td>\n",
       "      <td>6</td>\n",
       "      <td>0.0</td>\n",
       "      <td>4.9</td>\n",
       "      <td>225</td>\n",
       "      <td>229</td>\n",
       "      <td>12.0</td>\n",
       "      <td>8.0</td>\n",
       "      <td>3.99462</td>\n",
       "      <td>4.35637</td>\n",
       "      <td>[1.0,0.0,0.0,0.0,0.0,0.0,0.0,0.0,0.0,0.0,1.0]</td>\n",
       "    </tr>\n",
       "    <tr>\n",
       "      <th>4</th>\n",
       "      <td>Ac</td>\n",
       "      <td>Bi</td>\n",
       "      <td>37.433086</td>\n",
       "      <td>35.483459</td>\n",
       "      <td>227.000</td>\n",
       "      <td>208.980400</td>\n",
       "      <td>3473.0</td>\n",
       "      <td>1837.0</td>\n",
       "      <td>0.0</td>\n",
       "      <td>31.0</td>\n",
       "      <td>...</td>\n",
       "      <td>6</td>\n",
       "      <td>0.0</td>\n",
       "      <td>12.0</td>\n",
       "      <td>225</td>\n",
       "      <td>12</td>\n",
       "      <td>12.0</td>\n",
       "      <td>3.0</td>\n",
       "      <td>3.99462</td>\n",
       "      <td>3.11221</td>\n",
       "      <td>[1.0,0.0,0.0,0.0,0.0,0.0,0.0,0.0,0.0,0.0,1.0]</td>\n",
       "    </tr>\n",
       "    <tr>\n",
       "      <th>...</th>\n",
       "      <td>...</td>\n",
       "      <td>...</td>\n",
       "      <td>...</td>\n",
       "      <td>...</td>\n",
       "      <td>...</td>\n",
       "      <td>...</td>\n",
       "      <td>...</td>\n",
       "      <td>...</td>\n",
       "      <td>...</td>\n",
       "      <td>...</td>\n",
       "      <td>...</td>\n",
       "      <td>...</td>\n",
       "      <td>...</td>\n",
       "      <td>...</td>\n",
       "      <td>...</td>\n",
       "      <td>...</td>\n",
       "      <td>...</td>\n",
       "      <td>...</td>\n",
       "      <td>...</td>\n",
       "      <td>...</td>\n",
       "      <td>...</td>\n",
       "    </tr>\n",
       "    <tr>\n",
       "      <th>2567</th>\n",
       "      <td>Zr</td>\n",
       "      <td>Th</td>\n",
       "      <td>23.265943</td>\n",
       "      <td>32.865683</td>\n",
       "      <td>91.224</td>\n",
       "      <td>232.038060</td>\n",
       "      <td>4682.0</td>\n",
       "      <td>5093.0</td>\n",
       "      <td>0.0</td>\n",
       "      <td>54.0</td>\n",
       "      <td>...</td>\n",
       "      <td>7</td>\n",
       "      <td>33.0</td>\n",
       "      <td>31.0</td>\n",
       "      <td>194</td>\n",
       "      <td>225</td>\n",
       "      <td>12.0</td>\n",
       "      <td>12.0</td>\n",
       "      <td>3.19147</td>\n",
       "      <td>3.56059</td>\n",
       "      <td>[1.0,0.0,0.0,0.0,0.0,0.0,0.0,0.0,0.0,0.0,1.0]</td>\n",
       "    </tr>\n",
       "    <tr>\n",
       "      <th>2568</th>\n",
       "      <td>Zr</td>\n",
       "      <td>Tl</td>\n",
       "      <td>23.265943</td>\n",
       "      <td>28.640877</td>\n",
       "      <td>91.224</td>\n",
       "      <td>204.383300</td>\n",
       "      <td>4682.0</td>\n",
       "      <td>1746.0</td>\n",
       "      <td>0.0</td>\n",
       "      <td>43.0</td>\n",
       "      <td>...</td>\n",
       "      <td>6</td>\n",
       "      <td>33.0</td>\n",
       "      <td>2.8</td>\n",
       "      <td>194</td>\n",
       "      <td>194</td>\n",
       "      <td>12.0</td>\n",
       "      <td>8.0</td>\n",
       "      <td>3.19147</td>\n",
       "      <td>3.43253</td>\n",
       "      <td>[1.0,0.0,0.0,0.0,0.0,0.0,0.0,0.0,1.0,0.0,1.0]</td>\n",
       "    </tr>\n",
       "    <tr>\n",
       "      <th>2569</th>\n",
       "      <td>Zr</td>\n",
       "      <td>V</td>\n",
       "      <td>23.265943</td>\n",
       "      <td>13.844898</td>\n",
       "      <td>91.224</td>\n",
       "      <td>50.941500</td>\n",
       "      <td>4682.0</td>\n",
       "      <td>3680.0</td>\n",
       "      <td>0.0</td>\n",
       "      <td>160.0</td>\n",
       "      <td>...</td>\n",
       "      <td>4</td>\n",
       "      <td>33.0</td>\n",
       "      <td>47.0</td>\n",
       "      <td>194</td>\n",
       "      <td>229</td>\n",
       "      <td>12.0</td>\n",
       "      <td>8.0</td>\n",
       "      <td>3.19147</td>\n",
       "      <td>2.59229</td>\n",
       "      <td>[1.0,0.0,0.0,0.0,0.0,0.0,0.0,0.0,0.0,0.0,1.0]</td>\n",
       "    </tr>\n",
       "    <tr>\n",
       "      <th>2570</th>\n",
       "      <td>Zr</td>\n",
       "      <td>Xe</td>\n",
       "      <td>23.265943</td>\n",
       "      <td>36952.924020</td>\n",
       "      <td>91.224</td>\n",
       "      <td>131.293000</td>\n",
       "      <td>4682.0</td>\n",
       "      <td>165.0</td>\n",
       "      <td>0.0</td>\n",
       "      <td>0.0</td>\n",
       "      <td>...</td>\n",
       "      <td>5</td>\n",
       "      <td>33.0</td>\n",
       "      <td>0.0</td>\n",
       "      <td>194</td>\n",
       "      <td>225</td>\n",
       "      <td>12.0</td>\n",
       "      <td>12.0</td>\n",
       "      <td>3.19147</td>\n",
       "      <td>4.85032</td>\n",
       "      <td>[1.0,0.0,0.0,0.0,0.0,0.0,0.0,0.0,0.0,0.0,1.0]</td>\n",
       "    </tr>\n",
       "    <tr>\n",
       "      <th>2571</th>\n",
       "      <td>Zr</td>\n",
       "      <td>Zn</td>\n",
       "      <td>23.265943</td>\n",
       "      <td>15.205684</td>\n",
       "      <td>91.224</td>\n",
       "      <td>65.380000</td>\n",
       "      <td>4682.0</td>\n",
       "      <td>1180.0</td>\n",
       "      <td>0.0</td>\n",
       "      <td>70.0</td>\n",
       "      <td>...</td>\n",
       "      <td>4</td>\n",
       "      <td>33.0</td>\n",
       "      <td>43.0</td>\n",
       "      <td>194</td>\n",
       "      <td>194</td>\n",
       "      <td>12.0</td>\n",
       "      <td>6.0</td>\n",
       "      <td>3.19147</td>\n",
       "      <td>2.62673</td>\n",
       "      <td>[1.0,0.0,0.0,1.0,0.0,1.0,0.0,0.0,0.0,0.0,1.0]</td>\n",
       "    </tr>\n",
       "  </tbody>\n",
       "</table>\n",
       "<p>2572 rows × 99 columns</p>\n",
       "</div>"
      ],
      "text/plain": [
       "     formulaA formulaB  formulaA_elements_AtomicVolume  \\\n",
       "0          Ac       Ag                       37.433086   \n",
       "1          Ac       Al                       37.433086   \n",
       "2          Ac       As                       37.433086   \n",
       "3          Ac       Ba                       37.433086   \n",
       "4          Ac       Bi                       37.433086   \n",
       "...       ...      ...                             ...   \n",
       "2567       Zr       Th                       23.265943   \n",
       "2568       Zr       Tl                       23.265943   \n",
       "2569       Zr        V                       23.265943   \n",
       "2570       Zr       Xe                       23.265943   \n",
       "2571       Zr       Zn                       23.265943   \n",
       "\n",
       "      formulaB_elements_AtomicVolume  formulaA_elements_AtomicWeight  \\\n",
       "0                          17.075648                         227.000   \n",
       "1                          16.594425                         227.000   \n",
       "2                          21.723966                         227.000   \n",
       "3                          64.969282                         227.000   \n",
       "4                          35.483459                         227.000   \n",
       "...                              ...                             ...   \n",
       "2567                       32.865683                          91.224   \n",
       "2568                       28.640877                          91.224   \n",
       "2569                       13.844898                          91.224   \n",
       "2570                    36952.924020                          91.224   \n",
       "2571                       15.205684                          91.224   \n",
       "\n",
       "      formulaB_elements_AtomicWeight  formulaA_elements_BoilingT  \\\n",
       "0                         107.868200                      3473.0   \n",
       "1                          26.981539                      3473.0   \n",
       "2                          74.921600                      3473.0   \n",
       "3                         137.327000                      3473.0   \n",
       "4                         208.980400                      3473.0   \n",
       "...                              ...                         ...   \n",
       "2567                      232.038060                      4682.0   \n",
       "2568                      204.383300                      4682.0   \n",
       "2569                       50.941500                      4682.0   \n",
       "2570                      131.293000                      4682.0   \n",
       "2571                       65.380000                      4682.0   \n",
       "\n",
       "      formulaB_elements_BoilingT  formulaA_elements_BulkModulus  \\\n",
       "0                         2435.0                            0.0   \n",
       "1                         2792.0                            0.0   \n",
       "2                          887.0                            0.0   \n",
       "3                         2143.0                            0.0   \n",
       "4                         1837.0                            0.0   \n",
       "...                          ...                            ...   \n",
       "2567                      5093.0                            0.0   \n",
       "2568                      1746.0                            0.0   \n",
       "2569                      3680.0                            0.0   \n",
       "2570                       165.0                            0.0   \n",
       "2571                      1180.0                            0.0   \n",
       "\n",
       "      formulaB_elements_BulkModulus  ...  formulaB_elements_Row  \\\n",
       "0                             100.0  ...                      5   \n",
       "1                              76.0  ...                      3   \n",
       "2                              22.0  ...                      4   \n",
       "3                               9.6  ...                      6   \n",
       "4                              31.0  ...                      6   \n",
       "...                             ...  ...                    ...   \n",
       "2567                           54.0  ...                      7   \n",
       "2568                           43.0  ...                      6   \n",
       "2569                          160.0  ...                      4   \n",
       "2570                            0.0  ...                      5   \n",
       "2571                           70.0  ...                      4   \n",
       "\n",
       "      formulaA_elements_ShearModulus  formulaB_elements_ShearModulus  \\\n",
       "0                                0.0                            30.0   \n",
       "1                                0.0                            26.0   \n",
       "2                                0.0                             0.0   \n",
       "3                                0.0                             4.9   \n",
       "4                                0.0                            12.0   \n",
       "...                              ...                             ...   \n",
       "2567                            33.0                            31.0   \n",
       "2568                            33.0                             2.8   \n",
       "2569                            33.0                            47.0   \n",
       "2570                            33.0                             0.0   \n",
       "2571                            33.0                            43.0   \n",
       "\n",
       "      formulaA_elements_SpaceGroupNumber  formulaB_elements_SpaceGroupNumber  \\\n",
       "0                                    225                                 225   \n",
       "1                                    225                                 225   \n",
       "2                                    225                                 166   \n",
       "3                                    225                                 229   \n",
       "4                                    225                                  12   \n",
       "...                                  ...                                 ...   \n",
       "2567                                 194                                 225   \n",
       "2568                                 194                                 194   \n",
       "2569                                 194                                 229   \n",
       "2570                                 194                                 225   \n",
       "2571                                 194                                 194   \n",
       "\n",
       "      avg_coordination_A  avg_coordination_B  avg_nearest_neighbor_distance_A  \\\n",
       "0                   12.0                12.0                          3.99462   \n",
       "1                   12.0                12.0                          3.99462   \n",
       "2                   12.0                 3.0                          3.99462   \n",
       "3                   12.0                 8.0                          3.99462   \n",
       "4                   12.0                 3.0                          3.99462   \n",
       "...                  ...                 ...                              ...   \n",
       "2567                12.0                12.0                          3.19147   \n",
       "2568                12.0                 8.0                          3.19147   \n",
       "2569                12.0                 8.0                          3.19147   \n",
       "2570                12.0                12.0                          3.19147   \n",
       "2571                12.0                 6.0                          3.19147   \n",
       "\n",
       "      avg_nearest_neighbor_distance_B  \\\n",
       "0                             2.94195   \n",
       "1                             2.85595   \n",
       "2                             2.55790   \n",
       "3                             4.35637   \n",
       "4                             3.11221   \n",
       "...                               ...   \n",
       "2567                          3.56059   \n",
       "2568                          3.43253   \n",
       "2569                          2.59229   \n",
       "2570                          4.85032   \n",
       "2571                          2.62673   \n",
       "\n",
       "                                       stabilityVec  \n",
       "0     [1.0,0.0,0.0,1.0,0.0,1.0,0.0,0.0,0.0,0.0,1.0]  \n",
       "1     [1.0,0.0,0.0,1.0,0.0,0.0,0.0,0.0,0.0,0.0,1.0]  \n",
       "2     [1.0,0.0,0.0,0.0,0.0,0.0,0.0,0.0,0.0,0.0,1.0]  \n",
       "3     [1.0,0.0,0.0,0.0,0.0,0.0,0.0,0.0,0.0,0.0,1.0]  \n",
       "4     [1.0,0.0,0.0,0.0,0.0,0.0,0.0,0.0,0.0,0.0,1.0]  \n",
       "...                                             ...  \n",
       "2567  [1.0,0.0,0.0,0.0,0.0,0.0,0.0,0.0,0.0,0.0,1.0]  \n",
       "2568  [1.0,0.0,0.0,0.0,0.0,0.0,0.0,0.0,1.0,0.0,1.0]  \n",
       "2569  [1.0,0.0,0.0,0.0,0.0,0.0,0.0,0.0,0.0,0.0,1.0]  \n",
       "2570  [1.0,0.0,0.0,0.0,0.0,0.0,0.0,0.0,0.0,0.0,1.0]  \n",
       "2571  [1.0,0.0,0.0,1.0,0.0,1.0,0.0,0.0,0.0,0.0,1.0]  \n",
       "\n",
       "[2572 rows x 99 columns]"
      ]
     },
     "execution_count": 6,
     "metadata": {},
     "output_type": "execute_result"
    }
   ],
   "source": [
    "my_path = './challenge_data/training_data.csv'\n",
    "df = pd.read_csv(my_path)\n",
    "df"
   ]
  },
  {
   "cell_type": "code",
   "execution_count": 7,
   "metadata": {},
   "outputs": [],
   "source": [
    "my_path2 = './challenge_data/test_data.csv'\n",
    "test = pd.read_csv(my_path2)"
   ]
  },
  {
   "cell_type": "markdown",
   "metadata": {},
   "source": [
    "# Data Ingestion and EDA"
   ]
  },
  {
   "cell_type": "code",
   "execution_count": 8,
   "metadata": {},
   "outputs": [],
   "source": [
    "# df.iloc[:,:10].hist(figsize=(12,10),bins=50);"
   ]
  },
  {
   "cell_type": "code",
   "execution_count": 9,
   "metadata": {},
   "outputs": [],
   "source": [
    "# len(pd.unique(df['formulaB']))"
   ]
  },
  {
   "cell_type": "markdown",
   "metadata": {},
   "source": [
    "Removal of Stability Vector and Features relating to positioning in element table as many other properties are defining "
   ]
  },
  {
   "cell_type": "code",
   "execution_count": 10,
   "metadata": {},
   "outputs": [],
   "source": [
    "feature=df.drop(['stabilityVec'], axis=1)"
   ]
  },
  {
   "cell_type": "code",
   "execution_count": 11,
   "metadata": {},
   "outputs": [],
   "source": [
    "feature2=feature.drop(['formulaA', 'formulaB','formulaA_elements_Column','formulaB_elements_Column',\n",
    "                      'formulaA_elements_MendeleevNumber','formulaB_elements_MendeleevNumber',\n",
    "                      'formulaA_elements_Number','formulaB_elements_Number',\n",
    "                      'formulaA_elements_Row','formulaB_elements_Row'], axis=1)"
   ]
  },
  {
   "cell_type": "code",
   "execution_count": 12,
   "metadata": {},
   "outputs": [],
   "source": [
    "test2=test.drop(['formulaA', 'formulaB','formulaA_elements_Column','formulaB_elements_Column',\n",
    "                      'formulaA_elements_MendeleevNumber','formulaB_elements_MendeleevNumber',\n",
    "                      'formulaA_elements_Number','formulaB_elements_Number',\n",
    "                      'formulaA_elements_Row','formulaB_elements_Row'], axis=1)"
   ]
  },
  {
   "cell_type": "markdown",
   "metadata": {},
   "source": [
    "Creation of a heatmap of features"
   ]
  },
  {
   "cell_type": "code",
   "execution_count": 13,
   "metadata": {},
   "outputs": [
    {
     "data": {
      "image/png": "[encoded data removed]",
      "text/plain": [
       "<Figure size 792x648 with 2 Axes>"
      ]
     },
     "metadata": {
      "needs_background": "light"
     },
     "output_type": "display_data"
    }
   ],
   "source": [
    "#cell taken from class notebook\n",
    "# extract the first 20 features\n",
    "first_twenty = feature2.iloc[:, :20] \n",
    "# compute correlation matrix\n",
    "corr = first_twenty.corr()  \n",
    "# make mask\n",
    "mask = np.zeros_like(corr, dtype=np.bool)  \n",
    "# mask the upper triangle\n",
    "mask[np.triu_indices_from(mask)] = True  \n",
    "\n",
    "# create a figure and a subplot\n",
    "fig, ax = plt.subplots(figsize=(11, 9))  \n",
    "# costumizing the color map\n",
    "cmap = sns.diverging_palette(220, 10, as_cmap=True) \n",
    "sns.heatmap(\n",
    "    corr,\n",
    "    mask=mask,\n",
    "    cmap=cmap,\n",
    "    center=0,\n",
    "    linewidth=0.5,\n",
    "    cbar_kws={'shrink': 0.5}\n",
    ");"
   ]
  },
  {
   "cell_type": "markdown",
   "metadata": {},
   "source": [
    "Extraction of the target , conversion to float and into a numpy array"
   ]
  },
  {
   "cell_type": "code",
   "execution_count": 14,
   "metadata": {},
   "outputs": [
    {
     "data": {
      "text/html": [
       "<div>\n",
       "<style scoped>\n",
       "    .dataframe tbody tr th:only-of-type {\n",
       "        vertical-align: middle;\n",
       "    }\n",
       "\n",
       "    .dataframe tbody tr th {\n",
       "        vertical-align: top;\n",
       "    }\n",
       "\n",
       "    .dataframe thead th {\n",
       "        text-align: right;\n",
       "    }\n",
       "</style>\n",
       "<table border=\"1\" class=\"dataframe\">\n",
       "  <thead>\n",
       "    <tr style=\"text-align: right;\">\n",
       "      <th></th>\n",
       "      <th>0</th>\n",
       "    </tr>\n",
       "  </thead>\n",
       "  <tbody>\n",
       "    <tr>\n",
       "      <th>0</th>\n",
       "      <td>[1.0,0.0,0.0,1.0,0.0,1.0,0.0,0.0,0.0,0.0,1.0]</td>\n",
       "    </tr>\n",
       "    <tr>\n",
       "      <th>1</th>\n",
       "      <td>[1.0,0.0,0.0,1.0,0.0,0.0,0.0,0.0,0.0,0.0,1.0]</td>\n",
       "    </tr>\n",
       "    <tr>\n",
       "      <th>2</th>\n",
       "      <td>[1.0,0.0,0.0,0.0,0.0,0.0,0.0,0.0,0.0,0.0,1.0]</td>\n",
       "    </tr>\n",
       "  </tbody>\n",
       "</table>\n",
       "</div>"
      ],
      "text/plain": [
       "                                               0\n",
       "0  [1.0,0.0,0.0,1.0,0.0,1.0,0.0,0.0,0.0,0.0,1.0]\n",
       "1  [1.0,0.0,0.0,1.0,0.0,0.0,0.0,0.0,0.0,0.0,1.0]\n",
       "2  [1.0,0.0,0.0,0.0,0.0,0.0,0.0,0.0,0.0,0.0,1.0]"
      ]
     },
     "execution_count": 14,
     "metadata": {},
     "output_type": "execute_result"
    }
   ],
   "source": [
    "target=df[['stabilityVec']]\n",
    "target.columns = range(target.shape[1])\n",
    "target.iloc[:3,:]"
   ]
  },
  {
   "cell_type": "code",
   "execution_count": 15,
   "metadata": {},
   "outputs": [],
   "source": [
    "b=np.zeros((1,11))\n",
    "for idx, row in target.iterrows():\n",
    "    ser=target.iat[idx,0]\n",
    "    ser=pd.DataFrame(list(ser.split(\",\")) )\n",
    "    ser=ser.T\n",
    "    a=np.zeros((1,11))\n",
    "    for i,col in enumerate(ser):\n",
    "        elem=ser.iat[0,i]\n",
    "        if i==0:\n",
    "            new=float(elem[1:4])\n",
    "        if i==10:\n",
    "            new=float(elem[0:3])\n",
    "        if i>0 and i<10:\n",
    "            new=float(elem)\n",
    "        a[0,i]=new\n",
    "    b=np.vstack((b, a))"
   ]
  },
  {
   "cell_type": "code",
   "execution_count": 16,
   "metadata": {},
   "outputs": [
    {
     "data": {
      "text/plain": [
       "array([[1., 0., 0., 1., 0., 1., 0., 0., 0., 0., 1.],\n",
       "       [1., 0., 0., 1., 0., 0., 0., 0., 0., 0., 1.],\n",
       "       [1., 0., 0., 0., 0., 0., 0., 0., 0., 0., 1.]])"
      ]
     },
     "execution_count": 16,
     "metadata": {},
     "output_type": "execute_result"
    }
   ],
   "source": [
    "target_np=b[1:]\n",
    "target_np[:3]"
   ]
  },
  {
   "cell_type": "markdown",
   "metadata": {},
   "source": [
    "Distribution of class labels training data"
   ]
  },
  {
   "cell_type": "code",
   "execution_count": 17,
   "metadata": {},
   "outputs": [
    {
     "data": {
      "image/png": "[encoded data removed]",
      "text/plain": [
       "<Figure size 432x288 with 1 Axes>"
      ]
     },
     "metadata": {
      "needs_background": "light"
     },
     "output_type": "display_data"
    }
   ],
   "source": [
    "y_pos = [0,1,2,3,4,5,6,7,8,9,10]#np.arange(11)\n",
    "squares = [np.count_nonzero(x) for x in target_np.T]\n",
    "\n",
    "plt.bar(y_pos, squares, align='center', alpha=0.5)\n",
    "plt.xticks(y_pos)\n",
    "plt.ylabel('# Compund Mixtures')\n",
    "plt.title('Frequency of Stable Compound Mixtures Ratios')\n",
    "\n",
    "plt.show()"
   ]
  },
  {
   "cell_type": "markdown",
   "metadata": {},
   "source": [
    "Functions for counting nonzero samples, and total stable mixed compounds"
   ]
  },
  {
   "cell_type": "code",
   "execution_count": 18,
   "metadata": {},
   "outputs": [],
   "source": [
    "def nonzero_calc(target):  \n",
    "    target_min=target[:,1:10]\n",
    "\n",
    "    nonzs_rowsT=[]\n",
    "    for rowT in target_min:\n",
    "        nonz_rowT=(rowT != 0).sum()\n",
    "        nonzs_rowsT.append(nonz_rowT)\n",
    "    # print(nonzs_rowsT[:1000])\n",
    "#     print(np.count_nonzero(nonzs_rowsT))\n",
    "    return np.count_nonzero(nonzs_rowsT),sum(nonzs_rowsT)"
   ]
  },
  {
   "cell_type": "code",
   "execution_count": 19,
   "metadata": {},
   "outputs": [
    {
     "data": {
      "text/plain": [
       "(1228, 2493)"
      ]
     },
     "execution_count": 19,
     "metadata": {},
     "output_type": "execute_result"
    }
   ],
   "source": [
    "nonzero_calc(target_np)"
   ]
  },
  {
   "cell_type": "markdown",
   "metadata": {},
   "source": [
    "One-Hot Encoding of Geometry features on complete Dataset (train_test)"
   ]
  },
  {
   "cell_type": "code",
   "execution_count": 20,
   "metadata": {},
   "outputs": [],
   "source": [
    "comb1=pd.concat((feature2,test2), axis=0)"
   ]
  },
  {
   "cell_type": "code",
   "execution_count": 21,
   "metadata": {},
   "outputs": [],
   "source": [
    "comb_enc1=comb1[['formulaA_elements_SpaceGroupNumber','formulaB_elements_SpaceGroupNumber',\n",
    "                 'avg_coordination_A','avg_coordination_B']]"
   ]
  },
  {
   "cell_type": "code",
   "execution_count": 22,
   "metadata": {},
   "outputs": [],
   "source": [
    "ohe = OneHotEncoder(sparse = False)"
   ]
  },
  {
   "cell_type": "code",
   "execution_count": 23,
   "metadata": {},
   "outputs": [
    {
     "name": "stderr",
     "output_type": "stream",
     "text": [
      "C:\\ProgramData\\Miniconda3\\lib\\site-packages\\sklearn\\preprocessing\\_encoders.py:415: FutureWarning: The handling of integer data will change in version 0.22. Currently, the categories are determined based on the range [0, max(values)], while in the future they will be determined based on the unique values.\n",
      "If you want the future behaviour and silence this warning, you can specify \"categories='auto'\".\n",
      "In case you used a LabelEncoder before this OneHotEncoder to convert the categories to integers, then you can now use the OneHotEncoder directly.\n",
      "  warnings.warn(msg, FutureWarning)\n"
     ]
    },
    {
     "data": {
      "text/plain": [
       "array([[0., 0., 0., ..., 0., 0., 1.],\n",
       "       [0., 0., 0., ..., 0., 0., 1.],\n",
       "       [0., 0., 0., ..., 0., 0., 0.],\n",
       "       ...,\n",
       "       [0., 0., 0., ..., 0., 0., 1.],\n",
       "       [0., 0., 0., ..., 0., 0., 1.],\n",
       "       [0., 0., 0., ..., 0., 1., 0.]])"
      ]
     },
     "execution_count": 23,
     "metadata": {},
     "output_type": "execute_result"
    }
   ],
   "source": [
    "ohe.fit(comb_enc1)\n",
    "\n",
    "# Transforming the \"training\" data\n",
    "comb_encdd1 = ohe.transform(comb_enc1)\n",
    "comb_encdd1"
   ]
  },
  {
   "cell_type": "code",
   "execution_count": 24,
   "metadata": {},
   "outputs": [
    {
     "data": {
      "text/plain": [
       "[array([  2.,  12.,  14.,  62.,  63.,  64.,  70., 139., 141., 152., 166.,\n",
       "        194., 217., 225., 227., 229.]),\n",
       " array([  2.,  12.,  14.,  62.,  63.,  64.,  70., 139., 141., 152., 166.,\n",
       "        194., 217., 225., 227., 229.]),\n",
       " array([ 1.,  2.,  3.,  4.,  5.,  6.,  8., 12.]),\n",
       " array([ 1.,  2.,  3.,  4.,  5.,  6.,  8., 12.])]"
      ]
     },
     "execution_count": 24,
     "metadata": {},
     "output_type": "execute_result"
    }
   ],
   "source": [
    "ohe.categories_"
   ]
  },
  {
   "cell_type": "markdown",
   "metadata": {},
   "source": [
    "Removal and subsequent concatenation of binary features, standardization of remaining features"
   ]
  },
  {
   "cell_type": "code",
   "execution_count": 25,
   "metadata": {},
   "outputs": [],
   "source": [
    "# cat={}\n",
    "# for i,col in enumerate(comb1):\n",
    "#     num=len(comb1[col].unique())\n",
    "#     cat[i]=num\n",
    "# cat"
   ]
  },
  {
   "cell_type": "code",
   "execution_count": 26,
   "metadata": {},
   "outputs": [],
   "source": [
    "binaries=feature2.iloc[:,[42,43,44,45,46,47,48,49,50,51,52,53,74,75]]"
   ]
  },
  {
   "cell_type": "code",
   "execution_count": 27,
   "metadata": {},
   "outputs": [],
   "source": [
    "bins=binaries.to_numpy()"
   ]
  },
  {
   "cell_type": "code",
   "execution_count": 28,
   "metadata": {},
   "outputs": [],
   "source": [
    "bin_test=test2.iloc[:,[42,43,44,45,46,47,48,49,50,51,52,53,74,75]]"
   ]
  },
  {
   "cell_type": "code",
   "execution_count": 29,
   "metadata": {},
   "outputs": [],
   "source": [
    "bin_test2=bin_test.to_numpy()"
   ]
  },
  {
   "cell_type": "code",
   "execution_count": 30,
   "metadata": {},
   "outputs": [],
   "source": [
    "feature3=feature2.drop(feature2.columns[[42,43,44,45,46,47,48,49,50,51,52,53,74,75,82,83,84,85]],axis=1)"
   ]
  },
  {
   "cell_type": "code",
   "execution_count": 31,
   "metadata": {},
   "outputs": [],
   "source": [
    "test3=test2.drop(test2.columns[[42,43,44,45,46,47,48,49,50,51,52,53,74,75,82,83,84,85]],axis=1)"
   ]
  },
  {
   "cell_type": "code",
   "execution_count": 32,
   "metadata": {},
   "outputs": [],
   "source": [
    "scalar=StandardScaler()\n",
    "scalar.fit(feature3)\n",
    "X_tr=scalar.transform(feature3)\n",
    "X_ts=scalar.transform(test3)\n",
    "# print(X_tr)\n",
    "# print(X_ts)"
   ]
  },
  {
   "cell_type": "code",
   "execution_count": 33,
   "metadata": {},
   "outputs": [],
   "source": [
    "X_tr2=np.concatenate((X_tr,bins), axis=1)"
   ]
  },
  {
   "cell_type": "code",
   "execution_count": 34,
   "metadata": {},
   "outputs": [],
   "source": [
    "X_ts2=np.concatenate((X_ts,bin_test2), axis=1)"
   ]
  },
  {
   "cell_type": "code",
   "execution_count": 35,
   "metadata": {},
   "outputs": [
    {
     "data": {
      "text/plain": [
       "(2572, 84)"
      ]
     },
     "execution_count": 35,
     "metadata": {},
     "output_type": "execute_result"
    }
   ],
   "source": [
    "X_tr2.shape"
   ]
  },
  {
   "cell_type": "code",
   "execution_count": 36,
   "metadata": {},
   "outputs": [],
   "source": [
    "X_tr3=np.concatenate((X_tr2,comb_encdd1[:2572]), axis=1)"
   ]
  },
  {
   "cell_type": "code",
   "execution_count": 37,
   "metadata": {},
   "outputs": [],
   "source": [
    "X_ts3=np.concatenate((X_ts2,comb_encdd1[2572:3321]), axis=1)"
   ]
  },
  {
   "cell_type": "markdown",
   "metadata": {},
   "source": [
    "# Initial Model Construction"
   ]
  },
  {
   "cell_type": "code",
   "execution_count": 38,
   "metadata": {},
   "outputs": [],
   "source": [
    "X_train, X_val, y_train, y_val = train_test_split(X_tr3, target_np)"
   ]
  },
  {
   "cell_type": "markdown",
   "metadata": {},
   "source": [
    "!Going forward, use cross-validation instead of these functions## Function for calculating the probability difference of classes (certainty) on test set"
   ]
  },
  {
   "cell_type": "code",
   "execution_count": 39,
   "metadata": {},
   "outputs": [],
   "source": [
    "def prob_diff(pred_prob):   \n",
    "    differences=[]\n",
    "    for index,arr in enumerate(pred_prob):\n",
    "        if index==0: \n",
    "            continue\n",
    "        if index>9:\n",
    "            break  \n",
    "        if index>0 or index<10:\n",
    "            means=np.mean(arr[:,0]-arr[:,1])\n",
    "            differences.append(means)\n",
    "    return np.min(differences)"
   ]
  },
  {
   "cell_type": "code",
   "execution_count": 40,
   "metadata": {},
   "outputs": [],
   "source": [
    "def prob_diff2(pred_prob):\n",
    "    mins=[]\n",
    "    for index,col in enumerate(pred_prob.T):\n",
    "        if index==0: \n",
    "            continue\n",
    "        if index>9:\n",
    "            break  \n",
    "        if index>0 or index<10:\n",
    "            min_avg=np.mean(col)\n",
    "            mins.append(min_avg)\n",
    "    return 1-2*np.min(mins)"
   ]
  },
  {
   "cell_type": "markdown",
   "metadata": {},
   "source": [
    "Random Forest Base Model"
   ]
  },
  {
   "cell_type": "code",
   "execution_count": 41,
   "metadata": {},
   "outputs": [
    {
     "name": "stdout",
     "output_type": "stream",
     "text": [
      "Random Forest base model: \n",
      "               precision    recall  f1-score   support\n",
      "\n",
      "           0       1.00      1.00      1.00       643\n",
      "           1       1.00      0.06      0.12        16\n",
      "           2       0.67      0.08      0.14        25\n",
      "           3       0.76      0.65      0.70       150\n",
      "           4       0.62      0.23      0.33        35\n",
      "           5       0.77      0.60      0.68       141\n",
      "           6       0.73      0.20      0.31        40\n",
      "           7       0.80      0.41      0.55        80\n",
      "           8       0.78      0.47      0.59        92\n",
      "           9       0.83      0.38      0.53        13\n",
      "          10       1.00      1.00      1.00       643\n",
      "\n",
      "   micro avg       0.95      0.83      0.89      1878\n",
      "   macro avg       0.81      0.46      0.54      1878\n",
      "weighted avg       0.93      0.83      0.86      1878\n",
      " samples avg       0.96      0.89      0.91      1878\n",
      " \n",
      "\n",
      "Validation score: \n",
      " 0.6267496111975117\n",
      "Minimal Probability difference: 0.5148464619492656\n"
     ]
    }
   ],
   "source": [
    "rf_base = RandomForestClassifier(n_estimators=100)\n",
    "rf_base.fit(X_train, y_train)\n",
    "print(\"Random Forest base model: \\n\", classification_report(y_val, rf_base.predict(X_val)), \"\\n\")\n",
    "print(\"Validation score: \\n\",rf_base.score(X_val, y_val))\n",
    "print('Minimal Probability difference:', prob_diff(rf_base.predict_proba(X_ts3)))  "
   ]
  },
  {
   "cell_type": "markdown",
   "metadata": {},
   "source": [
    "Multivariate Linear Regression Model"
   ]
  },
  {
   "cell_type": "code",
   "execution_count": 42,
   "metadata": {},
   "outputs": [
    {
     "name": "stdout",
     "output_type": "stream",
     "text": [
      "Linear Regression: \n",
      "               precision    recall  f1-score   support\n",
      "\n",
      "           0       1.00      1.00      1.00       643\n",
      "           1       0.00      0.00      0.00        16\n",
      "           2       0.00      0.00      0.00        25\n",
      "           3       0.63      0.40      0.49       150\n",
      "           4       0.33      0.06      0.10        35\n",
      "           5       0.56      0.29      0.38       141\n",
      "           6       0.29      0.05      0.09        40\n",
      "           7       0.40      0.07      0.13        80\n",
      "           8       0.66      0.27      0.38        92\n",
      "           9       0.00      0.00      0.00        13\n",
      "          10       1.00      1.00      1.00       643\n",
      "\n",
      "   micro avg       0.94      0.76      0.84      1878\n",
      "   macro avg       0.44      0.29      0.32      1878\n",
      "weighted avg       0.84      0.76      0.78      1878\n",
      " samples avg       0.96      0.83      0.87      1878\n",
      " \n",
      "\n",
      "Validation score: \n",
      " 0.1816389102497435\n"
     ]
    },
    {
     "name": "stderr",
     "output_type": "stream",
     "text": [
      "C:\\ProgramData\\Miniconda3\\lib\\site-packages\\sklearn\\metrics\\classification.py:1437: UndefinedMetricWarning: Precision and F-score are ill-defined and being set to 0.0 in labels with no predicted samples.\n",
      "  'precision', 'predicted', average, warn_for)\n",
      "C:\\ProgramData\\Miniconda3\\lib\\site-packages\\sklearn\\base.py:420: FutureWarning: The default value of multioutput (not exposed in score method) will change from 'variance_weighted' to 'uniform_average' in 0.23 to keep consistent with 'metrics.r2_score'. To specify the default value manually and avoid the warning, please either call 'metrics.r2_score' directly or make a custom scorer with 'metrics.make_scorer' (the built-in scorer 'r2' uses multioutput='uniform_average').\n",
      "  \"multioutput='uniform_average').\", FutureWarning)\n"
     ]
    }
   ],
   "source": [
    "lr = LinearRegression()\n",
    "lr.fit(X_train,y_train)\n",
    "y_val_pred_cont=lr.predict(X_val)\n",
    "y_val_pred_cont\n",
    "y_val_pred=np.where(y_val_pred_cont < 0.5, 0.0, 1.0)\n",
    "y_val_pred\n",
    "print(\"Linear Regression: \\n\", classification_report(y_val, y_val_pred), \"\\n\")\n",
    "print(\"Validation score: \\n\",lr.score(X_val, y_val_pred))"
   ]
  },
  {
   "cell_type": "markdown",
   "metadata": {},
   "source": [
    "Support Vector Machine Model (OneVsRest Wrapper Used to enable multi-class target)"
   ]
  },
  {
   "cell_type": "code",
   "execution_count": 43,
   "metadata": {},
   "outputs": [
    {
     "name": "stderr",
     "output_type": "stream",
     "text": [
      "C:\\ProgramData\\Miniconda3\\lib\\site-packages\\sklearn\\multiclass.py:76: UserWarning: Label 0 is present in all training examples.\n",
      "  str(classes[c]))\n",
      "C:\\ProgramData\\Miniconda3\\lib\\site-packages\\sklearn\\multiclass.py:76: UserWarning: Label 10 is present in all training examples.\n",
      "  str(classes[c]))\n",
      "C:\\ProgramData\\Miniconda3\\lib\\site-packages\\sklearn\\metrics\\classification.py:1437: UndefinedMetricWarning: Precision and F-score are ill-defined and being set to 0.0 in labels with no predicted samples.\n",
      "  'precision', 'predicted', average, warn_for)\n"
     ]
    },
    {
     "name": "stdout",
     "output_type": "stream",
     "text": [
      "Support Vector Machine: \n",
      "               precision    recall  f1-score   support\n",
      "\n",
      "           0       1.00      1.00      1.00       643\n",
      "           1       0.00      0.00      0.00        16\n",
      "           2       0.00      0.00      0.00        25\n",
      "           3       0.80      0.37      0.51       150\n",
      "           4       0.00      0.00      0.00        35\n",
      "           5       0.82      0.22      0.35       141\n",
      "           6       0.00      0.00      0.00        40\n",
      "           7       0.00      0.00      0.00        80\n",
      "           8       0.50      0.03      0.06        92\n",
      "           9       0.00      0.00      0.00        13\n",
      "          10       1.00      1.00      1.00       643\n",
      "\n",
      "   micro avg       0.98      0.73      0.84      1878\n",
      "   macro avg       0.37      0.24      0.27      1878\n",
      "weighted avg       0.83      0.73      0.75      1878\n",
      " samples avg       0.99      0.82      0.88      1878\n",
      " \n",
      "\n",
      "Validation score: \n",
      " 0.5629860031104199\n",
      "Minimal Probability difference: 0.9671174181198008\n"
     ]
    }
   ],
   "source": [
    "clf = OneVsRestClassifier(SVC(gamma='auto',probability=True)).fit(X_train, y_train)\n",
    "print(\"Support Vector Machine: \\n\", classification_report(y_val, clf.predict(X_val)), \"\\n\")\n",
    "print(\"Validation score: \\n\",clf.score(X_val, y_val))\n",
    "print('Minimal Probability difference:',prob_diff2(clf.predict_proba(X_ts3)))"
   ]
  },
  {
   "cell_type": "markdown",
   "metadata": {},
   "source": [
    "k-Nearest Neighbor Model (Algorithm Choice)"
   ]
  },
  {
   "cell_type": "code",
   "execution_count": 44,
   "metadata": {},
   "outputs": [
    {
     "name": "stdout",
     "output_type": "stream",
     "text": [
      "KNeighbors: \n",
      "               precision    recall  f1-score   support\n",
      "\n",
      "           0       1.00      1.00      1.00       643\n",
      "           1       0.50      0.06      0.11        16\n",
      "           2       0.67      0.16      0.26        25\n",
      "           3       0.73      0.69      0.71       150\n",
      "           4       0.39      0.26      0.31        35\n",
      "           5       0.69      0.61      0.65       141\n",
      "           6       0.45      0.23      0.30        40\n",
      "           7       0.58      0.42      0.49        80\n",
      "           8       0.61      0.45      0.52        92\n",
      "           9       0.40      0.15      0.22        13\n",
      "          10       1.00      1.00      1.00       643\n",
      "\n",
      "   micro avg       0.91      0.84      0.87      1878\n",
      "   macro avg       0.64      0.46      0.51      1878\n",
      "weighted avg       0.88      0.84      0.85      1878\n",
      " samples avg       0.94      0.89      0.90      1878\n",
      " \n",
      "\n",
      "Validation score: \n",
      " 0.5800933125972006\n",
      "Minimal Probability difference: 0.5359145527369826\n"
     ]
    }
   ],
   "source": [
    "knn = KNeighborsClassifier()\n",
    "knn.fit(X_train, y_train)\n",
    "print(\"KNeighbors: \\n\", classification_report(y_val, knn.predict(X_val)), \"\\n\")\n",
    "print(\"Validation score: \\n\",knn.score(X_val, y_val))\n",
    "print('Minimal Probability difference:', prob_diff(knn.predict_proba(X_ts3)))"
   ]
  },
  {
   "cell_type": "markdown",
   "metadata": {},
   "source": [
    "Alternative: fitting all methods in a series:"
   ]
  },
  {
   "cell_type": "code",
   "execution_count": 45,
   "metadata": {},
   "outputs": [],
   "source": [
    "# estimators = [\n",
    "#     ('Random Forest - base model',\n",
    "#      RandomForestClassifier(n_estimators=100),False),\n",
    "\n",
    "#     ('Linear regression',\n",
    "#      LinearRegression(),True),\n",
    "\n",
    "#     ('Support Vector Machine',\n",
    "#      OneVsRestClassifier(SVC(gamma='auto',probability=True)),False),\n",
    "\n",
    "#     ('k-Nearest Neighbor',\n",
    "#      KNeighborsClassifier(),False)]"
   ]
  },
  {
   "cell_type": "code",
   "execution_count": 46,
   "metadata": {},
   "outputs": [],
   "source": [
    "# for name, est, y_process in estimators:\n",
    "#     est.fit(X_train,y_train)\n",
    "#     if y_process==True:\n",
    "#         y_pred=est.predict(X_val)\n",
    "#         y_pred=np.where(y_pred < 0.5, 0.0, 1.0)\n",
    "#     if y_process==False:\n",
    "#         y_pred=est.predict(X_val)\n",
    "#     print(name,\"\\n\", classification_report(y_val,y_pred), \"\\n\")\n",
    "#     print(\"Validation score: \\n\",est.score(X_val, y_val))"
   ]
  },
  {
   "cell_type": "markdown",
   "metadata": {},
   "source": [
    "Principal Component Analysis (PCA)"
   ]
  },
  {
   "cell_type": "code",
   "execution_count": 47,
   "metadata": {},
   "outputs": [
    {
     "data": {
      "text/plain": [
       "[<matplotlib.lines.Line2D at 0x2ded5f88688>]"
      ]
     },
     "execution_count": 47,
     "metadata": {},
     "output_type": "execute_result"
    },
    {
     "data": {
      "image/png": "[encoded data removed]",
      "text/plain": [
       "<Figure size 432x288 with 1 Axes>"
      ]
     },
     "metadata": {
      "needs_background": "light"
     },
     "output_type": "display_data"
    }
   ],
   "source": [
    "n_samples,n_features= X_tr3.shape[0], X_tr3.shape[1]\n",
    "fig = plt.figure()\n",
    "ax = plt.axes()\n",
    "vs=[]\n",
    "expls=[]\n",
    "for v in range(0,min(n_samples, n_features)):\n",
    "    pca = PCA(n_components=v)\n",
    "    pca.fit(X_tr3)\n",
    "    expl=pca.explained_variance_ratio_  \n",
    "    vs.append(v)\n",
    "    expls.append(expl.sum())\n",
    "ax.plot(vs, expls)"
   ]
  },
  {
   "cell_type": "markdown",
   "metadata": {},
   "source": [
    "# Model Refinement"
   ]
  },
  {
   "cell_type": "markdown",
   "metadata": {},
   "source": [
    "Random Forest Refinements"
   ]
  },
  {
   "cell_type": "markdown",
   "metadata": {},
   "source": [
    "Optimizing features and trees"
   ]
  },
  {
   "cell_type": "code",
   "execution_count": 48,
   "metadata": {},
   "outputs": [
    {
     "name": "stdout",
     "output_type": "stream",
     "text": [
      "Wall time: 1min 14s\n"
     ]
    },
    {
     "data": {
      "text/html": [
       "<div>\n",
       "<style scoped>\n",
       "    .dataframe tbody tr th:only-of-type {\n",
       "        vertical-align: middle;\n",
       "    }\n",
       "\n",
       "    .dataframe tbody tr th {\n",
       "        vertical-align: top;\n",
       "    }\n",
       "\n",
       "    .dataframe thead th {\n",
       "        text-align: right;\n",
       "    }\n",
       "</style>\n",
       "<table border=\"1\" class=\"dataframe\">\n",
       "  <thead>\n",
       "    <tr style=\"text-align: right;\">\n",
       "      <th></th>\n",
       "      <th>recall</th>\n",
       "      <th>trees</th>\n",
       "      <th>feat</th>\n",
       "    </tr>\n",
       "  </thead>\n",
       "  <tbody>\n",
       "    <tr>\n",
       "      <th>0</th>\n",
       "      <td>0.439584</td>\n",
       "      <td>50</td>\n",
       "      <td>auto</td>\n",
       "    </tr>\n",
       "    <tr>\n",
       "      <th>1</th>\n",
       "      <td>0.464511</td>\n",
       "      <td>75</td>\n",
       "      <td>auto</td>\n",
       "    </tr>\n",
       "    <tr>\n",
       "      <th>2</th>\n",
       "      <td>0.451491</td>\n",
       "      <td>100</td>\n",
       "      <td>auto</td>\n",
       "    </tr>\n",
       "    <tr>\n",
       "      <th>3</th>\n",
       "      <td>0.452861</td>\n",
       "      <td>125</td>\n",
       "      <td>auto</td>\n",
       "    </tr>\n",
       "    <tr>\n",
       "      <th>4</th>\n",
       "      <td>0.454538</td>\n",
       "      <td>150</td>\n",
       "      <td>auto</td>\n",
       "    </tr>\n",
       "    <tr>\n",
       "      <th>5</th>\n",
       "      <td>0.445047</td>\n",
       "      <td>50</td>\n",
       "      <td>132</td>\n",
       "    </tr>\n",
       "    <tr>\n",
       "      <th>6</th>\n",
       "      <td>0.450508</td>\n",
       "      <td>75</td>\n",
       "      <td>132</td>\n",
       "    </tr>\n",
       "    <tr>\n",
       "      <th>7</th>\n",
       "      <td>0.446691</td>\n",
       "      <td>100</td>\n",
       "      <td>132</td>\n",
       "    </tr>\n",
       "    <tr>\n",
       "      <th>8</th>\n",
       "      <td>0.44923</td>\n",
       "      <td>125</td>\n",
       "      <td>132</td>\n",
       "    </tr>\n",
       "    <tr>\n",
       "      <th>9</th>\n",
       "      <td>0.453469</td>\n",
       "      <td>150</td>\n",
       "      <td>132</td>\n",
       "    </tr>\n",
       "  </tbody>\n",
       "</table>\n",
       "</div>"
      ],
      "text/plain": [
       "     recall trees  feat\n",
       "0  0.439584    50  auto\n",
       "1  0.464511    75  auto\n",
       "2  0.451491   100  auto\n",
       "3  0.452861   125  auto\n",
       "4  0.454538   150  auto\n",
       "5  0.445047    50   132\n",
       "6  0.450508    75   132\n",
       "7  0.446691   100   132\n",
       "8   0.44923   125   132\n",
       "9  0.453469   150   132"
      ]
     },
     "execution_count": 48,
     "metadata": {},
     "output_type": "execute_result"
    }
   ],
   "source": [
    "%%time\n",
    "num_features = ['auto', 132]\n",
    "n_estimators = [50,75,100,125,150]\n",
    "scores = dict()\n",
    "i = 0\n",
    "for f in num_features:\n",
    "    for e in n_estimators:\n",
    "        rf_est = RandomForestClassifier(n_estimators = e, max_features = f)#, random_state = 1738)\n",
    "        rf_est.fit(X_train, y_train)\n",
    "        scores[i] = {'recall':recall_score(y_val, rf_est.predict(X_val),average='macro'), 'trees' :e, \"feat\":f}\n",
    "        i+=1\n",
    "pd.DataFrame(scores).T"
   ]
  },
  {
   "cell_type": "markdown",
   "metadata": {},
   "source": [
    "GridSearch for optimal weights"
   ]
  },
  {
   "cell_type": "markdown",
   "metadata": {},
   "source": [
    "Credit: https://www.kaggle.com/eikedehling/exploring-class-imbalance-resampling-and-weights"
   ]
  },
  {
   "cell_type": "code",
   "execution_count": 49,
   "metadata": {},
   "outputs": [
    {
     "name": "stderr",
     "output_type": "stream",
     "text": [
      "C:\\ProgramData\\Miniconda3\\lib\\site-packages\\sklearn\\model_selection\\_split.py:1978: FutureWarning: The default value of cv will change from 3 to 5 in version 0.22. Specify it explicitly to silence this warning.\n",
      "  warnings.warn(CV_WARNING, FutureWarning)\n",
      "C:\\ProgramData\\Miniconda3\\lib\\site-packages\\sklearn\\metrics\\classification.py:1437: UndefinedMetricWarning: F-score is ill-defined and being set to 0.0 in labels with no predicted samples.\n",
      "  'precision', 'predicted', average, warn_for)\n"
     ]
    },
    {
     "name": "stdout",
     "output_type": "stream",
     "text": [
      "Best parameters : {'class_weight': [{1: 0.05}, {0: 0.2873684210526316, 1: 0.7126315789473684}, {0: 0.2873684210526316, 1: 0.7126315789473684}, {0: 0.2873684210526316, 1: 0.7126315789473684}, {0: 0.4555555555555556, 1: 0.5444444444444444}, {0: 0.4555555555555556, 1: 0.5444444444444444}, {0: 0.2873684210526316, 1: 0.7126315789473684}, {0: 0.4555555555555556, 1: 0.5444444444444444}, {0: 0.4555555555555556, 1: 0.5444444444444444}, {0: 0.2873684210526316, 1: 0.7126315789473684}, {1: 0.05}]} score:\n"
     ]
    }
   ],
   "source": [
    "middle = np.linspace(0.1, 0.9,10)\n",
    "minority=np.linspace(0.1, 0.99, 20)\n",
    "majority=np.linspace(0.01, 0.05, 5)\n",
    "\n",
    "gsc = GridSearchCV(\n",
    "    estimator=RandomForestClassifier(n_estimators=100),\n",
    "    param_grid={\n",
    "        'class_weight':\n",
    "#         [{0: x, 1: 1.0-x} for x in weights]\n",
    "        [[{1: z},{0: x, 1:1.0-x},{0: x, 1: 1.0-x}, {0: x, 1: 1.0-x},\n",
    "                                          {0: y, 1: 1.0-y},{0: y, 1: 1.0-y}, {0: x, 1: 1.0-x}, {0: y, 1: 1.0-y},\n",
    "                                          {0: y, 1: 1.0-y}, {0: x, 1: 1.0-x}, {1: z}] \n",
    "                                          for x,y,z in zip(minority, middle, majority)\n",
    "                                         ]\n",
    "    },\n",
    "#     scoring='f1'<--was problem before\n",
    "    scoring='f1_macro'\n",
    "#     scoring='recall_macro'\n",
    "   \n",
    ")\n",
    "grid_result = gsc.fit(X_train, y_train)\n",
    "\n",
    "print(\"Best parameters : %s\" % grid_result.best_params_,'score:')"
   ]
  },
  {
   "cell_type": "code",
   "execution_count": 50,
   "metadata": {},
   "outputs": [
    {
     "name": "stdout",
     "output_type": "stream",
     "text": [
      "Random Forest: \n",
      "               precision    recall  f1-score   support\n",
      "\n",
      "           0       1.00      1.00      1.00       643\n",
      "           1       1.00      0.06      0.12        16\n",
      "           2       0.50      0.08      0.14        25\n",
      "           3       0.74      0.67      0.70       150\n",
      "           4       0.45      0.14      0.22        35\n",
      "           5       0.77      0.58      0.66       141\n",
      "           6       0.60      0.23      0.33        40\n",
      "           7       0.71      0.34      0.46        80\n",
      "           8       0.71      0.46      0.56        92\n",
      "           9       1.00      0.38      0.56        13\n",
      "          10       1.00      1.00      1.00       643\n",
      "\n",
      "   micro avg       0.94      0.83      0.88      1878\n",
      "   macro avg       0.77      0.45      0.52      1878\n",
      "weighted avg       0.91      0.83      0.85      1878\n",
      " samples avg       0.96      0.88      0.91      1878\n",
      " \n",
      "\n",
      "Validation score: \n",
      " 0.6034214618973561\n",
      "Minimal Probability difference: 0.5038718291054739\n"
     ]
    }
   ],
   "source": [
    "rf_opt = RandomForestClassifier(n_estimators=150,max_features=132,class_weight=[{1: 0.05}, {0: 0.2873684210526316, 1: 0.7126315789473684}, {0: 0.2873684210526316, 1: 0.7126315789473684}, \n",
    "                                                                                {0: 0.2873684210526316, 1: 0.7126315789473684}, {0: 0.4555555555555556, 1: 0.5444444444444444}, \n",
    "                                                                                {0: 0.4555555555555556, 1: 0.5444444444444444}, {0: 0.2873684210526316, 1: 0.7126315789473684}, \n",
    "                                                                                {0: 0.4555555555555556, 1: 0.5444444444444444}, {0: 0.4555555555555556, 1: 0.5444444444444444}, \n",
    "                                                                                {0: 0.2873684210526316, 1: 0.7126315789473684}, {1: 0.05}]\n",
    "                                         )\n",
    "\n",
    "rf_opt.fit(X_train, y_train)\n",
    "print(\"Random Forest: \\n\", classification_report(y_val, rf_opt.predict(X_val)), \"\\n\")\n",
    "print(\"Validation score: \\n\",rf_opt.score(X_val, y_val))\n",
    "print('Minimal Probability difference:', prob_diff(rf_opt.predict_proba(X_ts3)))"
   ]
  },
  {
   "cell_type": "markdown",
   "metadata": {},
   "source": [
    "SVM Model Refinement"
   ]
  },
  {
   "cell_type": "markdown",
   "metadata": {},
   "source": [
    "'balanced' class weights to strengthen minority classes"
   ]
  },
  {
   "cell_type": "code",
   "execution_count": 51,
   "metadata": {},
   "outputs": [
    {
     "name": "stderr",
     "output_type": "stream",
     "text": [
      "C:\\ProgramData\\Miniconda3\\lib\\site-packages\\sklearn\\multiclass.py:76: UserWarning: Label 0 is present in all training examples.\n",
      "  str(classes[c]))\n",
      "C:\\ProgramData\\Miniconda3\\lib\\site-packages\\sklearn\\multiclass.py:76: UserWarning: Label 10 is present in all training examples.\n",
      "  str(classes[c]))\n"
     ]
    },
    {
     "name": "stdout",
     "output_type": "stream",
     "text": [
      "Support Vector Machine: \n",
      "               precision    recall  f1-score   support\n",
      "\n",
      "           0       1.00      1.00      1.00       643\n",
      "           1       0.31      0.50      0.38        16\n",
      "           2       0.22      0.44      0.29        25\n",
      "           3       0.67      0.73      0.70       150\n",
      "           4       0.29      0.54      0.38        35\n",
      "           5       0.59      0.72      0.65       141\n",
      "           6       0.28      0.53      0.37        40\n",
      "           7       0.48      0.74      0.58        80\n",
      "           8       0.55      0.66      0.60        92\n",
      "           9       0.38      0.62      0.47        13\n",
      "          10       1.00      1.00      1.00       643\n",
      "\n",
      "   micro avg       0.80      0.90      0.85      1878\n",
      "   macro avg       0.52      0.68      0.58      1878\n",
      "weighted avg       0.85      0.90      0.87      1878\n",
      " samples avg       0.87      0.93      0.88      1878\n",
      " \n",
      "\n",
      "Validation score: \n",
      " 0.5225505443234837\n",
      "Minimal Probability difference: 0.9588413367236808\n"
     ]
    }
   ],
   "source": [
    "svm = OneVsRestClassifier(SVC(gamma='auto',probability=True,class_weight='balanced'))\n",
    "svm.fit(X_train, y_train)\n",
    "print(\"Support Vector Machine: \\n\", classification_report(y_val, svm.predict(X_val)), \"\\n\")\n",
    "print(\"Validation score: \\n\",svm.score(X_val, y_val))\n",
    "print('Minimal Probability difference:', prob_diff2(svm.predict_proba(X_ts3)))"
   ]
  },
  {
   "cell_type": "markdown",
   "metadata": {},
   "source": [
    "GridSearch for kernels"
   ]
  },
  {
   "cell_type": "code",
   "execution_count": 52,
   "metadata": {},
   "outputs": [
    {
     "name": "stderr",
     "output_type": "stream",
     "text": [
      "C:\\ProgramData\\Miniconda3\\lib\\site-packages\\sklearn\\multiclass.py:76: UserWarning: Label 0 is present in all training examples.\n",
      "  str(classes[c]))\n",
      "C:\\ProgramData\\Miniconda3\\lib\\site-packages\\sklearn\\multiclass.py:76: UserWarning: Label 10 is present in all training examples.\n",
      "  str(classes[c]))\n",
      "C:\\ProgramData\\Miniconda3\\lib\\site-packages\\sklearn\\multiclass.py:76: UserWarning: Label 0 is present in all training examples.\n",
      "  str(classes[c]))\n",
      "C:\\ProgramData\\Miniconda3\\lib\\site-packages\\sklearn\\multiclass.py:76: UserWarning: Label 10 is present in all training examples.\n",
      "  str(classes[c]))\n",
      "C:\\ProgramData\\Miniconda3\\lib\\site-packages\\sklearn\\multiclass.py:76: UserWarning: Label 0 is present in all training examples.\n",
      "  str(classes[c]))\n",
      "C:\\ProgramData\\Miniconda3\\lib\\site-packages\\sklearn\\multiclass.py:76: UserWarning: Label 10 is present in all training examples.\n",
      "  str(classes[c]))\n"
     ]
    },
    {
     "name": "stdout",
     "output_type": "stream",
     "text": [
      "Wall time: 1min 54s\n"
     ]
    },
    {
     "data": {
      "text/html": [
       "<div>\n",
       "<style scoped>\n",
       "    .dataframe tbody tr th:only-of-type {\n",
       "        vertical-align: middle;\n",
       "    }\n",
       "\n",
       "    .dataframe tbody tr th {\n",
       "        vertical-align: top;\n",
       "    }\n",
       "\n",
       "    .dataframe thead th {\n",
       "        text-align: right;\n",
       "    }\n",
       "</style>\n",
       "<table border=\"1\" class=\"dataframe\">\n",
       "  <thead>\n",
       "    <tr style=\"text-align: right;\">\n",
       "      <th></th>\n",
       "      <th>precision</th>\n",
       "      <th>kernel</th>\n",
       "    </tr>\n",
       "  </thead>\n",
       "  <tbody>\n",
       "    <tr>\n",
       "      <th>0</th>\n",
       "      <td>0.550783</td>\n",
       "      <td>poly</td>\n",
       "    </tr>\n",
       "    <tr>\n",
       "      <th>1</th>\n",
       "      <td>0.524041</td>\n",
       "      <td>rbf</td>\n",
       "    </tr>\n",
       "    <tr>\n",
       "      <th>2</th>\n",
       "      <td>0.376672</td>\n",
       "      <td>sigmoid</td>\n",
       "    </tr>\n",
       "  </tbody>\n",
       "</table>\n",
       "</div>"
      ],
      "text/plain": [
       "  precision   kernel\n",
       "0  0.550783     poly\n",
       "1  0.524041      rbf\n",
       "2  0.376672  sigmoid"
      ]
     },
     "execution_count": 52,
     "metadata": {},
     "output_type": "execute_result"
    }
   ],
   "source": [
    "%%time\n",
    "kernels = ['poly', 'rbf', 'sigmoid']\n",
    "scores_SVM = dict()\n",
    "i = 0\n",
    "for k in kernels:    \n",
    "        svm2=OneVsRestClassifier(SVC(gamma='auto',probability=True,class_weight='balanced',kernel=k))\n",
    "        svm2.fit(X_train, y_train)        \n",
    "        scores_SVM[i] = {'precision':precision_score(y_val, svm2.predict(X_val),average='macro'), 'kernel' :k}\n",
    "        i+=1\n",
    "pd.DataFrame(scores_SVM).T"
   ]
  },
  {
   "cell_type": "markdown",
   "metadata": {},
   "source": [
    "KNN Model refinement"
   ]
  },
  {
   "cell_type": "code",
   "execution_count": 54,
   "metadata": {},
   "outputs": [
    {
     "data": {
      "text/html": [
       "<div>\n",
       "<style scoped>\n",
       "    .dataframe tbody tr th:only-of-type {\n",
       "        vertical-align: middle;\n",
       "    }\n",
       "\n",
       "    .dataframe tbody tr th {\n",
       "        vertical-align: top;\n",
       "    }\n",
       "\n",
       "    .dataframe thead th {\n",
       "        text-align: right;\n",
       "    }\n",
       "</style>\n",
       "<table border=\"1\" class=\"dataframe\">\n",
       "  <thead>\n",
       "    <tr style=\"text-align: right;\">\n",
       "      <th></th>\n",
       "      <th>1</th>\n",
       "      <th>2</th>\n",
       "      <th>3</th>\n",
       "      <th>4</th>\n",
       "      <th>5</th>\n",
       "      <th>6</th>\n",
       "      <th>7</th>\n",
       "      <th>8</th>\n",
       "      <th>9</th>\n",
       "      <th>10</th>\n",
       "      <th>11</th>\n",
       "    </tr>\n",
       "  </thead>\n",
       "  <tbody>\n",
       "    <tr>\n",
       "      <th>1</th>\n",
       "      <td>1.0</td>\n",
       "      <td>0.3750</td>\n",
       "      <td>0.32</td>\n",
       "      <td>0.660000</td>\n",
       "      <td>0.428571</td>\n",
       "      <td>0.687943</td>\n",
       "      <td>0.325</td>\n",
       "      <td>0.5500</td>\n",
       "      <td>0.565217</td>\n",
       "      <td>0.153846</td>\n",
       "      <td>1.0</td>\n",
       "    </tr>\n",
       "    <tr>\n",
       "      <th>2</th>\n",
       "      <td>1.0</td>\n",
       "      <td>0.1250</td>\n",
       "      <td>0.12</td>\n",
       "      <td>0.500000</td>\n",
       "      <td>0.171429</td>\n",
       "      <td>0.411348</td>\n",
       "      <td>0.150</td>\n",
       "      <td>0.3125</td>\n",
       "      <td>0.304348</td>\n",
       "      <td>0.076923</td>\n",
       "      <td>1.0</td>\n",
       "    </tr>\n",
       "    <tr>\n",
       "      <th>3</th>\n",
       "      <td>1.0</td>\n",
       "      <td>0.3125</td>\n",
       "      <td>0.16</td>\n",
       "      <td>0.700000</td>\n",
       "      <td>0.257143</td>\n",
       "      <td>0.645390</td>\n",
       "      <td>0.275</td>\n",
       "      <td>0.4625</td>\n",
       "      <td>0.423913</td>\n",
       "      <td>0.153846</td>\n",
       "      <td>1.0</td>\n",
       "    </tr>\n",
       "    <tr>\n",
       "      <th>4</th>\n",
       "      <td>1.0</td>\n",
       "      <td>0.0625</td>\n",
       "      <td>0.12</td>\n",
       "      <td>0.533333</td>\n",
       "      <td>0.171429</td>\n",
       "      <td>0.489362</td>\n",
       "      <td>0.200</td>\n",
       "      <td>0.3125</td>\n",
       "      <td>0.358696</td>\n",
       "      <td>0.000000</td>\n",
       "      <td>1.0</td>\n",
       "    </tr>\n",
       "    <tr>\n",
       "      <th>5</th>\n",
       "      <td>1.0</td>\n",
       "      <td>0.0625</td>\n",
       "      <td>0.16</td>\n",
       "      <td>0.693333</td>\n",
       "      <td>0.257143</td>\n",
       "      <td>0.609929</td>\n",
       "      <td>0.225</td>\n",
       "      <td>0.4250</td>\n",
       "      <td>0.445652</td>\n",
       "      <td>0.153846</td>\n",
       "      <td>1.0</td>\n",
       "    </tr>\n",
       "  </tbody>\n",
       "</table>\n",
       "</div>"
      ],
      "text/plain": [
       "     1       2     3         4         5         6      7       8         9  \\\n",
       "1  1.0  0.3750  0.32  0.660000  0.428571  0.687943  0.325  0.5500  0.565217   \n",
       "2  1.0  0.1250  0.12  0.500000  0.171429  0.411348  0.150  0.3125  0.304348   \n",
       "3  1.0  0.3125  0.16  0.700000  0.257143  0.645390  0.275  0.4625  0.423913   \n",
       "4  1.0  0.0625  0.12  0.533333  0.171429  0.489362  0.200  0.3125  0.358696   \n",
       "5  1.0  0.0625  0.16  0.693333  0.257143  0.609929  0.225  0.4250  0.445652   \n",
       "\n",
       "         10   11  \n",
       "1  0.153846  1.0  \n",
       "2  0.076923  1.0  \n",
       "3  0.153846  1.0  \n",
       "4  0.000000  1.0  \n",
       "5  0.153846  1.0  "
      ]
     },
     "execution_count": 54,
     "metadata": {},
     "output_type": "execute_result"
    }
   ],
   "source": [
    "#notebook from class\n",
    "## Calculating Recal scores for multiple \"n-neighbors\"\n",
    "recall_scores = {}\n",
    "for n in [1,2,3,4,5,10,20,50]:\n",
    "     knn2 = KNeighborsClassifier(n_neighbors=n)\n",
    "     knn2.fit(X_train, y_train)\n",
    "     recall_scores[n] = recall_score(y_val, knn2.predict(X_val), average = None)\n",
    "\n",
    "### Put recall scores into DataFrame\n",
    "scores_df = pd.DataFrame(recall_scores).T\n",
    "scores_df\n",
    "scores_df.columns = [str(i) for i in range(1,12)]\n",
    "scores_df.index = scores_df.index.astype(str)\n",
    "scores_df.iloc[:5,:]\n",
    "        \n",
    "# ### Optional plot of recall scores\n",
    "# plt.figure(figsize = (10,10))\n",
    "# for col in scores_df:\n",
    "#      if col != 'n_neighbors':\n",
    "#         plt.plot(scores_df[col], label = col)\n",
    "    \n",
    "# plt.ylabel(\" Recall Score\", fontsize = 12)\n",
    "# plt.xlabel(\"n_neighbors\", fontsize = 12)\n",
    "# plt.legend(title = \"Class Label\",loc='center right',bbox_to_anchor=(1, 0.7));"
   ]
  },
  {
   "cell_type": "markdown",
   "metadata": {},
   "source": [
    "# Model Evaluation (Model Choice)"
   ]
  },
  {
   "cell_type": "markdown",
   "metadata": {},
   "source": [
    "Summarizing all model results in a dataframe"
   ]
  },
  {
   "cell_type": "code",
   "execution_count": 55,
   "metadata": {},
   "outputs": [
    {
     "data": {
      "text/html": [
       "<div>\n",
       "<style scoped>\n",
       "    .dataframe tbody tr th:only-of-type {\n",
       "        vertical-align: middle;\n",
       "    }\n",
       "\n",
       "    .dataframe tbody tr th {\n",
       "        vertical-align: top;\n",
       "    }\n",
       "\n",
       "    .dataframe thead th {\n",
       "        text-align: right;\n",
       "    }\n",
       "</style>\n",
       "<table border=\"1\" class=\"dataframe\">\n",
       "  <thead>\n",
       "    <tr style=\"text-align: right;\">\n",
       "      <th></th>\n",
       "      <th>validation score</th>\n",
       "      <th>macro avg recall</th>\n",
       "      <th>probability difference</th>\n",
       "    </tr>\n",
       "  </thead>\n",
       "  <tbody>\n",
       "    <tr>\n",
       "      <th>Linear Regression</th>\n",
       "      <td>0.18</td>\n",
       "      <td>0.29</td>\n",
       "      <td>0.00</td>\n",
       "    </tr>\n",
       "    <tr>\n",
       "      <th>Support Vector Machine</th>\n",
       "      <td>0.53</td>\n",
       "      <td>0.25</td>\n",
       "      <td>0.18</td>\n",
       "    </tr>\n",
       "    <tr>\n",
       "      <th>Random Forest base model</th>\n",
       "      <td>0.63</td>\n",
       "      <td>0.46</td>\n",
       "      <td>0.51</td>\n",
       "    </tr>\n",
       "    <tr>\n",
       "      <th>k-nearest Neighbors</th>\n",
       "      <td>0.58</td>\n",
       "      <td>0.46</td>\n",
       "      <td>0.54</td>\n",
       "    </tr>\n",
       "    <tr>\n",
       "      <th>Support Vector Machine balanced</th>\n",
       "      <td>0.52</td>\n",
       "      <td>0.68</td>\n",
       "      <td>0.96</td>\n",
       "    </tr>\n",
       "    <tr>\n",
       "      <th>Random Forest optimized</th>\n",
       "      <td>0.60</td>\n",
       "      <td>0.45</td>\n",
       "      <td>0.50</td>\n",
       "    </tr>\n",
       "  </tbody>\n",
       "</table>\n",
       "</div>"
      ],
      "text/plain": [
       "                                 validation score  macro avg recall  \\\n",
       "Linear Regression                            0.18              0.29   \n",
       "Support Vector Machine                       0.53              0.25   \n",
       "Random Forest base model                     0.63              0.46   \n",
       "k-nearest Neighbors                          0.58              0.46   \n",
       "Support Vector Machine balanced              0.52              0.68   \n",
       "Random Forest optimized                      0.60              0.45   \n",
       "\n",
       "                                 probability difference  \n",
       "Linear Regression                                  0.00  \n",
       "Support Vector Machine                             0.18  \n",
       "Random Forest base model                           0.51  \n",
       "k-nearest Neighbors                                0.54  \n",
       "Support Vector Machine balanced                    0.96  \n",
       "Random Forest optimized                            0.50  "
      ]
     },
     "execution_count": 55,
     "metadata": {},
     "output_type": "execute_result"
    }
   ],
   "source": [
    "res_indv = {'Linear Regression':[ 0.18,0.29,0], 'Support Vector Machine': [0.53,0.25,0.18],\n",
    "           'Random Forest base model':[ 0.63,0.46,0.51], 'k-nearest Neighbors': [0.58,0.46,0.54],\n",
    "            'Support Vector Machine balanced':[0.52,0.68,0.96], 'Random Forest optimized': [0.6,0.45,0.5]\n",
    "           } \n",
    "\n",
    "results = pd.DataFrame(res_indv,  index=['validation score', 'macro avg recall', \n",
    "                                     'probability difference']) \n",
    "results=results.T\n",
    "results"
   ]
  },
  {
   "cell_type": "markdown",
   "metadata": {},
   "source": [
    "Making predictions with the model of choice"
   ]
  },
  {
   "cell_type": "code",
   "execution_count": 56,
   "metadata": {},
   "outputs": [],
   "source": [
    "predictions=rf_base.predict(X_ts3)"
   ]
  },
  {
   "cell_type": "code",
   "execution_count": 57,
   "metadata": {},
   "outputs": [
    {
     "data": {
      "text/plain": [
       "array([[1., 0., 0., 0., 0., 0., 0., 0., 0., 0., 1.],\n",
       "       [1., 0., 0., 1., 0., 0., 0., 0., 0., 0., 1.],\n",
       "       [1., 0., 0., 0., 0., 0., 0., 0., 0., 0., 1.],\n",
       "       [1., 0., 0., 0., 0., 0., 0., 0., 0., 0., 1.],\n",
       "       [1., 0., 0., 0., 0., 0., 0., 0., 0., 0., 1.],\n",
       "       [1., 0., 0., 0., 0., 0., 0., 0., 0., 0., 1.],\n",
       "       [1., 0., 0., 0., 0., 0., 0., 0., 0., 0., 1.],\n",
       "       [1., 0., 0., 1., 0., 1., 0., 0., 0., 0., 1.],\n",
       "       [1., 0., 0., 1., 0., 0., 0., 0., 0., 0., 1.],\n",
       "       [1., 0., 0., 0., 0., 0., 0., 0., 0., 0., 1.]])"
      ]
     },
     "execution_count": 57,
     "metadata": {},
     "output_type": "execute_result"
    }
   ],
   "source": [
    "predictions[:10]"
   ]
  },
  {
   "cell_type": "markdown",
   "metadata": {},
   "source": [
    "Calculating nonzero samples and total stable compounds"
   ]
  },
  {
   "cell_type": "code",
   "execution_count": 58,
   "metadata": {},
   "outputs": [
    {
     "data": {
      "text/plain": [
       "(277, 473)"
      ]
     },
     "execution_count": 58,
     "metadata": {},
     "output_type": "execute_result"
    }
   ],
   "source": [
    "nonzero_calc(predictions)"
   ]
  },
  {
   "cell_type": "markdown",
   "metadata": {},
   "source": [
    "Distribution of class labels predictions"
   ]
  },
  {
   "cell_type": "code",
   "execution_count": 59,
   "metadata": {},
   "outputs": [
    {
     "data": {
      "image/png": "[encoded data removed]",
      "text/plain": [
       "<Figure size 432x288 with 1 Axes>"
      ]
     },
     "metadata": {
      "needs_background": "light"
     },
     "output_type": "display_data"
    }
   ],
   "source": [
    "y_pos_pred = [0,1,2,3,4,5,6,7,8,9,10]#np.arange(11)\n",
    "squares_pred = [np.count_nonzero(x) for x in predictions.T]\n",
    "\n",
    "plt.bar(y_pos, squares, align='center', alpha=0.5, color='g')\n",
    "plt.xticks(y_pos)\n",
    "plt.ylabel('# Compund Mixtures')\n",
    "plt.title('Frequency of Stable Compound Mixtures Ratios')\n",
    "\n",
    "plt.show()"
   ]
  },
  {
   "cell_type": "markdown",
   "metadata": {},
   "source": [
    "Export to csv"
   ]
  },
  {
   "cell_type": "code",
   "execution_count": 60,
   "metadata": {},
   "outputs": [
    {
     "data": {
      "text/html": [
       "<div>\n",
       "<style scoped>\n",
       "    .dataframe tbody tr th:only-of-type {\n",
       "        vertical-align: middle;\n",
       "    }\n",
       "\n",
       "    .dataframe tbody tr th {\n",
       "        vertical-align: top;\n",
       "    }\n",
       "\n",
       "    .dataframe thead th {\n",
       "        text-align: right;\n",
       "    }\n",
       "</style>\n",
       "<table border=\"1\" class=\"dataframe\">\n",
       "  <thead>\n",
       "    <tr style=\"text-align: right;\">\n",
       "      <th></th>\n",
       "      <th>new</th>\n",
       "    </tr>\n",
       "  </thead>\n",
       "  <tbody>\n",
       "    <tr>\n",
       "      <th>0</th>\n",
       "      <td>[1.0, 0.0, 0.0, 0.0, 0.0, 0.0, 0.0, 0.0, 0.0, ...</td>\n",
       "    </tr>\n",
       "    <tr>\n",
       "      <th>1</th>\n",
       "      <td>[1.0, 0.0, 0.0, 1.0, 0.0, 0.0, 0.0, 0.0, 0.0, ...</td>\n",
       "    </tr>\n",
       "    <tr>\n",
       "      <th>2</th>\n",
       "      <td>[1.0, 0.0, 0.0, 0.0, 0.0, 0.0, 0.0, 0.0, 0.0, ...</td>\n",
       "    </tr>\n",
       "    <tr>\n",
       "      <th>3</th>\n",
       "      <td>[1.0, 0.0, 0.0, 0.0, 0.0, 0.0, 0.0, 0.0, 0.0, ...</td>\n",
       "    </tr>\n",
       "    <tr>\n",
       "      <th>4</th>\n",
       "      <td>[1.0, 0.0, 0.0, 0.0, 0.0, 0.0, 0.0, 0.0, 0.0, ...</td>\n",
       "    </tr>\n",
       "    <tr>\n",
       "      <th>...</th>\n",
       "      <td>...</td>\n",
       "    </tr>\n",
       "    <tr>\n",
       "      <th>744</th>\n",
       "      <td>[1.0, 0.0, 0.0, 1.0, 0.0, 1.0, 1.0, 0.0, 0.0, ...</td>\n",
       "    </tr>\n",
       "    <tr>\n",
       "      <th>745</th>\n",
       "      <td>[1.0, 0.0, 0.0, 1.0, 0.0, 0.0, 0.0, 0.0, 0.0, ...</td>\n",
       "    </tr>\n",
       "    <tr>\n",
       "      <th>746</th>\n",
       "      <td>[1.0, 0.0, 0.0, 1.0, 0.0, 1.0, 0.0, 0.0, 0.0, ...</td>\n",
       "    </tr>\n",
       "    <tr>\n",
       "      <th>747</th>\n",
       "      <td>[1.0, 0.0, 0.0, 0.0, 0.0, 0.0, 0.0, 0.0, 0.0, ...</td>\n",
       "    </tr>\n",
       "    <tr>\n",
       "      <th>748</th>\n",
       "      <td>[1.0, 0.0, 0.0, 0.0, 0.0, 0.0, 0.0, 0.0, 0.0, ...</td>\n",
       "    </tr>\n",
       "  </tbody>\n",
       "</table>\n",
       "<p>749 rows × 1 columns</p>\n",
       "</div>"
      ],
      "text/plain": [
       "                                                   new\n",
       "0    [1.0, 0.0, 0.0, 0.0, 0.0, 0.0, 0.0, 0.0, 0.0, ...\n",
       "1    [1.0, 0.0, 0.0, 1.0, 0.0, 0.0, 0.0, 0.0, 0.0, ...\n",
       "2    [1.0, 0.0, 0.0, 0.0, 0.0, 0.0, 0.0, 0.0, 0.0, ...\n",
       "3    [1.0, 0.0, 0.0, 0.0, 0.0, 0.0, 0.0, 0.0, 0.0, ...\n",
       "4    [1.0, 0.0, 0.0, 0.0, 0.0, 0.0, 0.0, 0.0, 0.0, ...\n",
       "..                                                 ...\n",
       "744  [1.0, 0.0, 0.0, 1.0, 0.0, 1.0, 1.0, 0.0, 0.0, ...\n",
       "745  [1.0, 0.0, 0.0, 1.0, 0.0, 0.0, 0.0, 0.0, 0.0, ...\n",
       "746  [1.0, 0.0, 0.0, 1.0, 0.0, 1.0, 0.0, 0.0, 0.0, ...\n",
       "747  [1.0, 0.0, 0.0, 0.0, 0.0, 0.0, 0.0, 0.0, 0.0, ...\n",
       "748  [1.0, 0.0, 0.0, 0.0, 0.0, 0.0, 0.0, 0.0, 0.0, ...\n",
       "\n",
       "[749 rows x 1 columns]"
      ]
     },
     "execution_count": 60,
     "metadata": {},
     "output_type": "execute_result"
    }
   ],
   "source": [
    "pred_pd= pd.DataFrame(predictions)\n",
    "pred_pd['new']=predictions.tolist()\n",
    "pred_pd=pred_pd.drop(pred_pd.columns[[0,1,2,3,4,5,6,7,8,9,10]],axis=1)\n",
    "pred_pd.to_csv('./pred.csv',index=False)\n",
    "pred_pd"
   ]
  }
 ],
 "metadata": {
  "kernelspec": {
   "display_name": "Python 3",
   "language": "python",
   "name": "python3"
  },
  "language_info": {
   "codemirror_mode": {
    "name": "ipython",
    "version": 3
   },
   "file_extension": ".py",
   "mimetype": "text/x-python",
   "name": "python",
   "nbconvert_exporter": "python",
   "pygments_lexer": "ipython3",
   "version": "3.7.4"
  }
 },
 "nbformat": 4,
 "nbformat_minor": 4
}
