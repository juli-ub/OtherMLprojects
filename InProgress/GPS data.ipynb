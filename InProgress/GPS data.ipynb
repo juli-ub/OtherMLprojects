{
 "cells": [
  {
   "cell_type": "code",
   "execution_count": 101,
   "metadata": {},
   "outputs": [],
   "source": [
    "import pandas as pd\n",
    "import numpy as np\n",
    "import matplotlib.pyplot as plt\n",
    "%matplotlib inline\n",
    "import warnings\n",
    "warnings.filterwarnings(\"ignore\")\n",
    "import seaborn as sns \n",
    "# from colorsetup import colors, pallete"
   ]
  },
  {
   "cell_type": "code",
   "execution_count": 77,
   "metadata": {},
   "outputs": [],
   "source": [
    "from sklearn.preprocessing import LabelEncoder,label_binarize\n",
    "from sklearn.model_selection import train_test_split\n",
    "from sklearn.model_selection import GridSearchCV\n",
    "from sklearn.ensemble import GradientBoostingClassifier\n",
    "from sklearn.ensemble import VotingClassifier\n",
    "from sklearn.linear_model import LogisticRegression\n",
    "from sklearn.model_selection import StratifiedShuffleSplit"
   ]
  },
  {
   "cell_type": "code",
   "execution_count": 75,
   "metadata": {},
   "outputs": [],
   "source": [
    "from sklearn.metrics import classification_report\n",
    "from sklearn.metrics import confusion_matrix, accuracy_score, roc_auc_score\n",
    "from sklearn.metrics import precision_recall_fscore_support as score"
   ]
  },
  {
   "cell_type": "code",
   "execution_count": 4,
   "metadata": {},
   "outputs": [],
   "source": [
    "data = pd.read_csv('gps data.csv')"
   ]
  },
  {
   "cell_type": "code",
   "execution_count": 5,
   "metadata": {},
   "outputs": [],
   "source": [
    "le=LabelEncoder()\n",
    "data['Activity']=le.fit_transform(data['Activity'])"
   ]
  },
  {
   "cell_type": "code",
   "execution_count": 6,
   "metadata": {},
   "outputs": [
    {
     "data": {
      "text/plain": [
       "array(['LAYING', 'SITTING', 'STANDING', 'WALKING', 'WALKING_DOWNSTAIRS',\n",
       "       'WALKING_UPSTAIRS'], dtype=object)"
      ]
     },
     "execution_count": 6,
     "metadata": {},
     "output_type": "execute_result"
    }
   ],
   "source": [
    "le.classes_"
   ]
  },
  {
   "cell_type": "code",
   "execution_count": 44,
   "metadata": {},
   "outputs": [
    {
     "data": {
      "text/plain": [
       "{'LAYING': 0,\n",
       " 'SITTING': 1,\n",
       " 'STANDING': 2,\n",
       " 'WALKING': 3,\n",
       " 'WALKING_DOWNSTAIRS': 4,\n",
       " 'WALKING_UPSTAIRS': 5}"
      ]
     },
     "execution_count": 44,
     "metadata": {},
     "output_type": "execute_result"
    }
   ],
   "source": [
    "res = {}\n",
    "for cl in le.classes_:\n",
    "    res.update({cl:le.transform([cl])[0]})\n",
    "res"
   ]
  },
  {
   "cell_type": "code",
   "execution_count": 7,
   "metadata": {},
   "outputs": [
    {
     "data": {
      "text/plain": [
       "3    0.202649\n",
       "2    0.188079\n",
       "0    0.169536\n",
       "1    0.161589\n",
       "5    0.148344\n",
       "4    0.129801\n",
       "Name: Activity, dtype: float64"
      ]
     },
     "execution_count": 7,
     "metadata": {},
     "output_type": "execute_result"
    }
   ],
   "source": [
    "data.Activity.value_counts(normalize=True)"
   ]
  },
  {
   "cell_type": "code",
   "execution_count": 8,
   "metadata": {},
   "outputs": [],
   "source": [
    "feature_columns=[x for x in data.columns if x != 'Activity']"
   ]
  },
  {
   "cell_type": "code",
   "execution_count": 9,
   "metadata": {},
   "outputs": [],
   "source": [
    "X_train, X_test, y_train, y_test = train_test_split(data[feature_columns], data['Activity'], random_state=42, test_size=0.3)"
   ]
  },
  {
   "cell_type": "code",
   "execution_count": 10,
   "metadata": {},
   "outputs": [],
   "source": [
    "param_grid={'learning_rate':[0.01,0.001],'subsample': [1.0,0.5],'max_features': [2,3]}\n",
    "\n",
    "GV_GBC=GridSearchCV(GradientBoostingClassifier(n_estimators=20, random_state=42),param_grid=param_grid, scoring='accuracy',n_jobs=-1)\n",
    "\n",
    "GV_GBC=GV_GBC.fit(X_train,y_train)"
   ]
  },
  {
   "cell_type": "code",
   "execution_count": 11,
   "metadata": {},
   "outputs": [
    {
     "data": {
      "text/plain": [
       "{'ccp_alpha': 0.0,\n",
       " 'criterion': 'friedman_mse',\n",
       " 'init': None,\n",
       " 'learning_rate': 0.01,\n",
       " 'loss': 'deviance',\n",
       " 'max_depth': 3,\n",
       " 'max_features': 3,\n",
       " 'max_leaf_nodes': None,\n",
       " 'min_impurity_decrease': 0.0,\n",
       " 'min_impurity_split': None,\n",
       " 'min_samples_leaf': 1,\n",
       " 'min_samples_split': 2,\n",
       " 'min_weight_fraction_leaf': 0.0,\n",
       " 'n_estimators': 20,\n",
       " 'n_iter_no_change': None,\n",
       " 'presort': 'deprecated',\n",
       " 'random_state': 42,\n",
       " 'subsample': 0.5,\n",
       " 'tol': 0.0001,\n",
       " 'validation_fraction': 0.1,\n",
       " 'verbose': 0,\n",
       " 'warm_start': False}"
      ]
     },
     "execution_count": 11,
     "metadata": {},
     "output_type": "execute_result"
    }
   ],
   "source": [
    "GV_GBC.best_estimator_.get_params()"
   ]
  },
  {
   "cell_type": "code",
   "execution_count": 32,
   "metadata": {},
   "outputs": [
    {
     "name": "stdout",
     "output_type": "stream",
     "text": [
      "              precision    recall  f1-score   support\n",
      "\n",
      "           0       1.00      0.38      0.55        42\n",
      "           1       0.71      0.75      0.73        40\n",
      "           2       0.67      1.00      0.80        47\n",
      "           3       0.89      1.00      0.94        51\n",
      "           4       1.00      0.82      0.90        33\n",
      "           5       0.97      1.00      0.99        37\n",
      "\n",
      "    accuracy                           0.83       250\n",
      "   macro avg       0.88      0.82      0.82       250\n",
      "weighted avg       0.87      0.83      0.82       250\n",
      "\n"
     ]
    }
   ],
   "source": [
    "y_pred=GV_GBC.predict(X_test)\n",
    "print(classification_report(y_test,y_pred))"
   ]
  },
  {
   "cell_type": "code",
   "execution_count": 34,
   "metadata": {},
   "outputs": [
    {
     "data": {
      "image/png": "[encoded data removed]",
      "text/plain": [
       "<Figure size 432x288 with 2 Axes>"
      ]
     },
     "metadata": {
      "needs_background": "light"
     },
     "output_type": "display_data"
    }
   ],
   "source": [
    "sns.set_context('talk')\n",
    "cm=confusion_matrix(y_test, y_pred)\n",
    "ax=sns.heatmap(cm,annot=True,fmt='d')"
   ]
  },
  {
   "cell_type": "code",
   "execution_count": 13,
   "metadata": {},
   "outputs": [],
   "source": [
    "LR_L2 = LogisticRegression(penalty='l2',solver='saga',max_iter=500).fit(X_train,y_train)"
   ]
  },
  {
   "cell_type": "code",
   "execution_count": 35,
   "metadata": {},
   "outputs": [],
   "source": [
    "GB=GradientBoostingClassifier(n_estimators=20, random_state=42,learning_rate=0.01,max_depth= 3,max_features= 3)"
   ]
  },
  {
   "cell_type": "code",
   "execution_count": 36,
   "metadata": {},
   "outputs": [],
   "source": [
    "estimators=[('LR',LR_L2),('GB',GB)]"
   ]
  },
  {
   "cell_type": "code",
   "execution_count": 37,
   "metadata": {},
   "outputs": [],
   "source": [
    "VC=VotingClassifier(estimators,voting='soft')"
   ]
  },
  {
   "cell_type": "code",
   "execution_count": 38,
   "metadata": {},
   "outputs": [],
   "source": [
    "VC=VC.fit(X_train,y_train)"
   ]
  },
  {
   "cell_type": "code",
   "execution_count": 39,
   "metadata": {},
   "outputs": [],
   "source": [
    "y_pred2=VC.predict(X_test)"
   ]
  },
  {
   "cell_type": "code",
   "execution_count": 40,
   "metadata": {},
   "outputs": [
    {
     "data": {
      "image/png": "[encoded data removed]",
      "text/plain": [
       "<Figure size 432x288 with 2 Axes>"
      ]
     },
     "metadata": {
      "needs_background": "light"
     },
     "output_type": "display_data"
    }
   ],
   "source": [
    "sns.set_context('talk')\n",
    "cm=confusion_matrix(y_test, y_pred2)\n",
    "ax=sns.heatmap(cm,annot=True,fmt='d')"
   ]
  },
  {
   "cell_type": "code",
   "execution_count": 41,
   "metadata": {},
   "outputs": [
    {
     "name": "stdout",
     "output_type": "stream",
     "text": [
      "              precision    recall  f1-score   support\n",
      "\n",
      "           0       1.00      1.00      1.00        42\n",
      "           1       1.00      0.97      0.99        40\n",
      "           2       1.00      1.00      1.00        47\n",
      "           3       1.00      1.00      1.00        51\n",
      "           4       1.00      1.00      1.00        33\n",
      "           5       0.97      1.00      0.99        37\n",
      "\n",
      "    accuracy                           1.00       250\n",
      "   macro avg       1.00      1.00      1.00       250\n",
      "weighted avg       1.00      1.00      1.00       250\n",
      "\n"
     ]
    }
   ],
   "source": [
    "print(classification_report(y_test,y_pred2))"
   ]
  },
  {
   "cell_type": "code",
   "execution_count": 19,
   "metadata": {},
   "outputs": [],
   "source": [
    "sss = StratifiedShuffleSplit(n_splits=1, test_size=0.33, random_state=42)"
   ]
  },
  {
   "cell_type": "code",
   "execution_count": 20,
   "metadata": {},
   "outputs": [],
   "source": [
    "train_idx, test_idx = next(sss.split(data[feature_columns], data['Activity']))"
   ]
  },
  {
   "cell_type": "code",
   "execution_count": 21,
   "metadata": {},
   "outputs": [],
   "source": [
    "X_train=X=data.loc[train_idx,feature_columns]\n",
    "y_train=data.loc[train_idx,'Activity']\n",
    "\n",
    "X_test=data.loc[test_idx,feature_columns]\n",
    "y_test=data.loc[test_idx,'Activity']"
   ]
  },
  {
   "cell_type": "code",
   "execution_count": 22,
   "metadata": {},
   "outputs": [
    {
     "data": {
      "text/plain": [
       "3    0.201980\n",
       "2    0.188119\n",
       "0    0.170297\n",
       "1    0.162376\n",
       "5    0.148515\n",
       "4    0.128713\n",
       "Name: Activity, dtype: float64"
      ]
     },
     "execution_count": 22,
     "metadata": {},
     "output_type": "execute_result"
    }
   ],
   "source": [
    "y_train.value_counts(normalize=True)"
   ]
  },
  {
   "cell_type": "code",
   "execution_count": 54,
   "metadata": {},
   "outputs": [],
   "source": [
    "lr = LogisticRegression()\n",
    "lr=lr.fit(X_train,y_train)"
   ]
  },
  {
   "cell_type": "code",
   "execution_count": 53,
   "metadata": {},
   "outputs": [
    {
     "ename": "AttributeError",
     "evalue": "'LogisticRegression' object has no attribute 'coef_'",
     "output_type": "error",
     "traceback": [
      "\u001b[1;31m---------------------------------------------------------------------------\u001b[0m",
      "\u001b[1;31mAttributeError\u001b[0m                            Traceback (most recent call last)",
      "\u001b[1;32m<ipython-input-53-4fecb702b9d5>\u001b[0m in \u001b[0;36m<module>\u001b[1;34m\u001b[0m\n\u001b[1;32m----> 1\u001b[1;33m \u001b[0mlr\u001b[0m\u001b[1;33m.\u001b[0m\u001b[0mcoef_\u001b[0m\u001b[1;33m\u001b[0m\u001b[1;33m\u001b[0m\u001b[0m\n\u001b[0m",
      "\u001b[1;31mAttributeError\u001b[0m: 'LogisticRegression' object has no attribute 'coef_'"
     ]
    }
   ],
   "source": [
    "lr.coef_"
   ]
  },
  {
   "cell_type": "code",
   "execution_count": 51,
   "metadata": {},
   "outputs": [],
   "source": [
    "lr2=LogisticRegression(penalty='l2',solver='saga',max_iter=500)"
   ]
  },
  {
   "cell_type": "code",
   "execution_count": 64,
   "metadata": {},
   "outputs": [
    {
     "data": {
      "text/html": [
       "<div>\n",
       "<style scoped>\n",
       "    .dataframe tbody tr th:only-of-type {\n",
       "        vertical-align: middle;\n",
       "    }\n",
       "\n",
       "    .dataframe tbody tr th {\n",
       "        vertical-align: top;\n",
       "    }\n",
       "\n",
       "    .dataframe thead tr th {\n",
       "        text-align: left;\n",
       "    }\n",
       "</style>\n",
       "<table border=\"1\" class=\"dataframe\">\n",
       "  <thead>\n",
       "    <tr>\n",
       "      <th></th>\n",
       "      <th colspan=\"6\" halign=\"left\">lr</th>\n",
       "      <th colspan=\"6\" halign=\"left\">l2</th>\n",
       "    </tr>\n",
       "    <tr>\n",
       "      <th></th>\n",
       "      <th>0</th>\n",
       "      <th>1</th>\n",
       "      <th>2</th>\n",
       "      <th>3</th>\n",
       "      <th>4</th>\n",
       "      <th>5</th>\n",
       "      <th>0</th>\n",
       "      <th>1</th>\n",
       "      <th>2</th>\n",
       "      <th>3</th>\n",
       "      <th>4</th>\n",
       "      <th>5</th>\n",
       "    </tr>\n",
       "  </thead>\n",
       "  <tbody>\n",
       "    <tr>\n",
       "      <th>299</th>\n",
       "      <td>-0.038009</td>\n",
       "      <td>0.145845</td>\n",
       "      <td>-0.041499</td>\n",
       "      <td>-0.066864</td>\n",
       "      <td>-0.212997</td>\n",
       "      <td>0.213524</td>\n",
       "      <td>0.006480</td>\n",
       "      <td>0.197881</td>\n",
       "      <td>-0.115397</td>\n",
       "      <td>-0.080611</td>\n",
       "      <td>-0.220544</td>\n",
       "      <td>0.212191</td>\n",
       "    </tr>\n",
       "    <tr>\n",
       "      <th>348</th>\n",
       "      <td>-0.025763</td>\n",
       "      <td>-0.026534</td>\n",
       "      <td>-0.129549</td>\n",
       "      <td>0.257322</td>\n",
       "      <td>-0.080456</td>\n",
       "      <td>0.004979</td>\n",
       "      <td>-0.027699</td>\n",
       "      <td>-0.039666</td>\n",
       "      <td>-0.115451</td>\n",
       "      <td>0.263472</td>\n",
       "      <td>-0.098227</td>\n",
       "      <td>0.017572</td>\n",
       "    </tr>\n",
       "    <tr>\n",
       "      <th>154</th>\n",
       "      <td>-0.078108</td>\n",
       "      <td>0.046780</td>\n",
       "      <td>-0.012723</td>\n",
       "      <td>0.001217</td>\n",
       "      <td>-0.037389</td>\n",
       "      <td>0.080222</td>\n",
       "      <td>-0.087357</td>\n",
       "      <td>0.087623</td>\n",
       "      <td>-0.035060</td>\n",
       "      <td>0.031718</td>\n",
       "      <td>-0.059223</td>\n",
       "      <td>0.062299</td>\n",
       "    </tr>\n",
       "    <tr>\n",
       "      <th>392</th>\n",
       "      <td>-0.016389</td>\n",
       "      <td>0.015352</td>\n",
       "      <td>0.038982</td>\n",
       "      <td>-0.024473</td>\n",
       "      <td>0.010887</td>\n",
       "      <td>-0.024360</td>\n",
       "      <td>-0.013672</td>\n",
       "      <td>0.005897</td>\n",
       "      <td>0.040982</td>\n",
       "      <td>-0.029509</td>\n",
       "      <td>0.018304</td>\n",
       "      <td>-0.022002</td>\n",
       "    </tr>\n",
       "    <tr>\n",
       "      <th>9</th>\n",
       "      <td>-0.042749</td>\n",
       "      <td>-0.078212</td>\n",
       "      <td>-0.118331</td>\n",
       "      <td>-0.218605</td>\n",
       "      <td>0.506116</td>\n",
       "      <td>-0.048219</td>\n",
       "      <td>-0.040210</td>\n",
       "      <td>-0.092110</td>\n",
       "      <td>-0.132672</td>\n",
       "      <td>-0.207659</td>\n",
       "      <td>0.501333</td>\n",
       "      <td>-0.028682</td>\n",
       "    </tr>\n",
       "  </tbody>\n",
       "</table>\n",
       "</div>"
      ],
      "text/plain": [
       "           lr                                                          l2  \\\n",
       "            0         1         2         3         4         5         0   \n",
       "299 -0.038009  0.145845 -0.041499 -0.066864 -0.212997  0.213524  0.006480   \n",
       "348 -0.025763 -0.026534 -0.129549  0.257322 -0.080456  0.004979 -0.027699   \n",
       "154 -0.078108  0.046780 -0.012723  0.001217 -0.037389  0.080222 -0.087357   \n",
       "392 -0.016389  0.015352  0.038982 -0.024473  0.010887 -0.024360 -0.013672   \n",
       "9   -0.042749 -0.078212 -0.118331 -0.218605  0.506116 -0.048219 -0.040210   \n",
       "\n",
       "                                                       \n",
       "            1         2         3         4         5  \n",
       "299  0.197881 -0.115397 -0.080611 -0.220544  0.212191  \n",
       "348 -0.039666 -0.115451  0.263472 -0.098227  0.017572  \n",
       "154  0.087623 -0.035060  0.031718 -0.059223  0.062299  \n",
       "392  0.005897  0.040982 -0.029509  0.018304 -0.022002  \n",
       "9   -0.092110 -0.132672 -0.207659  0.501333 -0.028682  "
      ]
     },
     "execution_count": 64,
     "metadata": {},
     "output_type": "execute_result"
    }
   ],
   "source": [
    "coefficients=list()\n",
    "\n",
    "coeff_labels=['lr','l2']\n",
    "coeff_models=[lr,LR_L2]\n",
    "\n",
    "for lab, mod in zip(coeff_labels,coeff_models):\n",
    "#       print('lab:',lab)\n",
    "#       print('mod:',mod)\n",
    "    coeffs = mod.coef_\n",
    "    coeff_label=pd.MultiIndex(levels=[[lab],[0,1,2,3,4,5]],codes=[[0,0,0,0,0,0],[0,1,2,3,4,5]])\n",
    "#     print(coeff_label)\n",
    "    coefficients.append(pd.DataFrame(coeffs.T,columns=coeff_label))\n",
    "\n",
    "coefficients=pd.concat(coefficients,axis=1)\n",
    "    \n",
    "coefficients.sample(5)"
   ]
  },
  {
   "cell_type": "code",
   "execution_count": null,
   "metadata": {},
   "outputs": [],
   "source": []
  },
  {
   "cell_type": "code",
   "execution_count": 67,
   "metadata": {},
   "outputs": [
    {
     "data": {
      "text/plain": [
       "(561, 12)"
      ]
     },
     "execution_count": 67,
     "metadata": {},
     "output_type": "execute_result"
    }
   ],
   "source": [
    "coefficients.shape"
   ]
  },
  {
   "cell_type": "code",
   "execution_count": 65,
   "metadata": {},
   "outputs": [
    {
     "data": {
      "text/plain": [
       "(6, 561)"
      ]
     },
     "execution_count": 65,
     "metadata": {},
     "output_type": "execute_result"
    }
   ],
   "source": [
    "LR_L2.coef_.shape"
   ]
  },
  {
   "cell_type": "markdown",
   "metadata": {},
   "source": [
    "coef_ndarray of shape (1, n_features) or (n_classes, n_features)"
   ]
  },
  {
   "cell_type": "code",
   "execution_count": 66,
   "metadata": {},
   "outputs": [
    {
     "data": {
      "text/plain": [
       "(755, 562)"
      ]
     },
     "execution_count": 66,
     "metadata": {},
     "output_type": "execute_result"
    }
   ],
   "source": [
    "data.shape"
   ]
  },
  {
   "cell_type": "code",
   "execution_count": 45,
   "metadata": {},
   "outputs": [
    {
     "data": {
      "text/plain": [
       "25.6"
      ]
     },
     "execution_count": 45,
     "metadata": {},
     "output_type": "execute_result"
    }
   ],
   "source": [
    "0.4*64"
   ]
  },
  {
   "cell_type": "code",
   "execution_count": 68,
   "metadata": {},
   "outputs": [
    {
     "data": {
      "image/png": "[encoded data removed]",
      "text/plain": [
       "<Figure size 720x720 with 6 Axes>"
      ]
     },
     "metadata": {
      "needs_background": "light"
     },
     "output_type": "display_data"
    }
   ],
   "source": [
    "fig, axList = plt.subplots(nrows=3,ncols=2)\n",
    "axList=axList.flatten()\n",
    "fig.set_size_inches(10,10)\n",
    "\n",
    "for loc, ax in enumerate(axList):\n",
    "    data = coefficients.xs(loc,level=1,axis=1)\n",
    "    data.plot(marker='o',ls='',ms=2.0,ax=ax,legend=False)\n",
    "    \n",
    "    if ax is axList[0]:\n",
    "        ax.legend(loc=4)\n",
    "        \n",
    "    ax.set(title='Coefficient Set'+str(loc))\n",
    "    \n",
    "plt.tight_layout()"
   ]
  },
  {
   "cell_type": "code",
   "execution_count": 82,
   "metadata": {},
   "outputs": [
    {
     "data": {
      "text/plain": [
       "array([<AxesSubplot:title={'center':'Coefficient Set0'}>,\n",
       "       <AxesSubplot:title={'center':'Coefficient Set1'}>,\n",
       "       <AxesSubplot:title={'center':'Coefficient Set2'}>,\n",
       "       <AxesSubplot:title={'center':'Coefficient Set3'}>,\n",
       "       <AxesSubplot:title={'center':'Coefficient Set4'}>,\n",
       "       <AxesSubplot:title={'center':'Coefficient Set5'}>], dtype=object)"
      ]
     },
     "execution_count": 82,
     "metadata": {},
     "output_type": "execute_result"
    }
   ],
   "source": [
    "axList"
   ]
  },
  {
   "cell_type": "code",
   "execution_count": 83,
   "metadata": {},
   "outputs": [
    {
     "data": {
      "text/plain": [
       "6"
      ]
     },
     "execution_count": 83,
     "metadata": {},
     "output_type": "execute_result"
    }
   ],
   "source": [
    "len(axList)"
   ]
  },
  {
   "cell_type": "code",
   "execution_count": 84,
   "metadata": {},
   "outputs": [
    {
     "data": {
      "text/plain": [
       "array([<AxesSubplot:title={'center':'Coefficient Set0'}>,\n",
       "       <AxesSubplot:title={'center':'Coefficient Set1'}>,\n",
       "       <AxesSubplot:title={'center':'Coefficient Set2'}>,\n",
       "       <AxesSubplot:title={'center':'Coefficient Set3'}>,\n",
       "       <AxesSubplot:title={'center':'Coefficient Set4'}>], dtype=object)"
      ]
     },
     "execution_count": 84,
     "metadata": {},
     "output_type": "execute_result"
    }
   ],
   "source": [
    "axList[:-1]"
   ]
  },
  {
   "cell_type": "code",
   "execution_count": 71,
   "metadata": {},
   "outputs": [
    {
     "data": {
      "text/html": [
       "<div>\n",
       "<style scoped>\n",
       "    .dataframe tbody tr th:only-of-type {\n",
       "        vertical-align: middle;\n",
       "    }\n",
       "\n",
       "    .dataframe tbody tr th {\n",
       "        vertical-align: top;\n",
       "    }\n",
       "\n",
       "    .dataframe thead th {\n",
       "        text-align: right;\n",
       "    }\n",
       "</style>\n",
       "<table border=\"1\" class=\"dataframe\">\n",
       "  <thead>\n",
       "    <tr style=\"text-align: right;\">\n",
       "      <th></th>\n",
       "      <th>lr</th>\n",
       "      <th>l2</th>\n",
       "    </tr>\n",
       "  </thead>\n",
       "  <tbody>\n",
       "    <tr>\n",
       "      <th>0</th>\n",
       "      <td>3</td>\n",
       "      <td>3</td>\n",
       "    </tr>\n",
       "    <tr>\n",
       "      <th>1</th>\n",
       "      <td>2</td>\n",
       "      <td>2</td>\n",
       "    </tr>\n",
       "    <tr>\n",
       "      <th>2</th>\n",
       "      <td>3</td>\n",
       "      <td>3</td>\n",
       "    </tr>\n",
       "    <tr>\n",
       "      <th>3</th>\n",
       "      <td>2</td>\n",
       "      <td>2</td>\n",
       "    </tr>\n",
       "    <tr>\n",
       "      <th>4</th>\n",
       "      <td>5</td>\n",
       "      <td>5</td>\n",
       "    </tr>\n",
       "  </tbody>\n",
       "</table>\n",
       "</div>"
      ],
      "text/plain": [
       "   lr  l2\n",
       "0   3   3\n",
       "1   2   2\n",
       "2   3   3\n",
       "3   2   2\n",
       "4   5   5"
      ]
     },
     "execution_count": 71,
     "metadata": {},
     "output_type": "execute_result"
    }
   ],
   "source": [
    "y_pred=list()\n",
    "y_prob=list()\n",
    "\n",
    "coeff_labels=['lr','l2']\n",
    "coeff_models=[lr,LR_L2]\n",
    "\n",
    "for lab, mod in zip(coeff_labels,coeff_models):\n",
    "#       print('lab:',lab)\n",
    "#       print('mod:',mod)\n",
    "    y_pred.append(pd.Series(mod.predict(X_test),name=lab))\n",
    "    coeff_label=pd.MultiIndex(levels=[[lab],[0,1,2,3,4,5]],codes=[[0,0,0,0,0,0],[0,1,2,3,4,5]])\n",
    "#     print(coeff_label)\n",
    "    y_prob.append(pd.DataFrame(mod.predict_proba(X_test),columns=coeff_label))\n",
    "\n",
    "y_pred=pd.concat(y_pred,axis=1)\n",
    "y_prob=pd.concat(y_prob,axis=1)\n",
    "    \n",
    "y_pred.head(5)"
   ]
  },
  {
   "cell_type": "code",
   "execution_count": 72,
   "metadata": {},
   "outputs": [
    {
     "data": {
      "text/html": [
       "<div>\n",
       "<style scoped>\n",
       "    .dataframe tbody tr th:only-of-type {\n",
       "        vertical-align: middle;\n",
       "    }\n",
       "\n",
       "    .dataframe tbody tr th {\n",
       "        vertical-align: top;\n",
       "    }\n",
       "\n",
       "    .dataframe thead tr th {\n",
       "        text-align: left;\n",
       "    }\n",
       "</style>\n",
       "<table border=\"1\" class=\"dataframe\">\n",
       "  <thead>\n",
       "    <tr>\n",
       "      <th></th>\n",
       "      <th colspan=\"6\" halign=\"left\">lr</th>\n",
       "      <th colspan=\"6\" halign=\"left\">l2</th>\n",
       "    </tr>\n",
       "    <tr>\n",
       "      <th></th>\n",
       "      <th>0</th>\n",
       "      <th>1</th>\n",
       "      <th>2</th>\n",
       "      <th>3</th>\n",
       "      <th>4</th>\n",
       "      <th>5</th>\n",
       "      <th>0</th>\n",
       "      <th>1</th>\n",
       "      <th>2</th>\n",
       "      <th>3</th>\n",
       "      <th>4</th>\n",
       "      <th>5</th>\n",
       "    </tr>\n",
       "  </thead>\n",
       "  <tbody>\n",
       "    <tr>\n",
       "      <th>0</th>\n",
       "      <td>0.000002</td>\n",
       "      <td>0.000003</td>\n",
       "      <td>0.000021</td>\n",
       "      <td>0.995362</td>\n",
       "      <td>4.496504e-03</td>\n",
       "      <td>0.000115</td>\n",
       "      <td>0.000001</td>\n",
       "      <td>0.000005</td>\n",
       "      <td>0.000019</td>\n",
       "      <td>0.995769</td>\n",
       "      <td>4.095014e-03</td>\n",
       "      <td>0.000110</td>\n",
       "    </tr>\n",
       "    <tr>\n",
       "      <th>1</th>\n",
       "      <td>0.000443</td>\n",
       "      <td>0.005691</td>\n",
       "      <td>0.993812</td>\n",
       "      <td>0.000045</td>\n",
       "      <td>1.291441e-07</td>\n",
       "      <td>0.000009</td>\n",
       "      <td>0.000255</td>\n",
       "      <td>0.003586</td>\n",
       "      <td>0.996108</td>\n",
       "      <td>0.000041</td>\n",
       "      <td>1.214614e-07</td>\n",
       "      <td>0.000009</td>\n",
       "    </tr>\n",
       "    <tr>\n",
       "      <th>2</th>\n",
       "      <td>0.000011</td>\n",
       "      <td>0.000076</td>\n",
       "      <td>0.000026</td>\n",
       "      <td>0.991296</td>\n",
       "      <td>8.157701e-03</td>\n",
       "      <td>0.000434</td>\n",
       "      <td>0.000009</td>\n",
       "      <td>0.000112</td>\n",
       "      <td>0.000025</td>\n",
       "      <td>0.989370</td>\n",
       "      <td>1.005634e-02</td>\n",
       "      <td>0.000427</td>\n",
       "    </tr>\n",
       "    <tr>\n",
       "      <th>3</th>\n",
       "      <td>0.001646</td>\n",
       "      <td>0.023988</td>\n",
       "      <td>0.974251</td>\n",
       "      <td>0.000102</td>\n",
       "      <td>4.408879e-07</td>\n",
       "      <td>0.000012</td>\n",
       "      <td>0.001141</td>\n",
       "      <td>0.018910</td>\n",
       "      <td>0.979802</td>\n",
       "      <td>0.000135</td>\n",
       "      <td>4.952109e-07</td>\n",
       "      <td>0.000012</td>\n",
       "    </tr>\n",
       "    <tr>\n",
       "      <th>4</th>\n",
       "      <td>0.001004</td>\n",
       "      <td>0.001067</td>\n",
       "      <td>0.007719</td>\n",
       "      <td>0.001001</td>\n",
       "      <td>7.068138e-04</td>\n",
       "      <td>0.988503</td>\n",
       "      <td>0.000516</td>\n",
       "      <td>0.001039</td>\n",
       "      <td>0.003401</td>\n",
       "      <td>0.000733</td>\n",
       "      <td>4.320451e-04</td>\n",
       "      <td>0.993880</td>\n",
       "    </tr>\n",
       "  </tbody>\n",
       "</table>\n",
       "</div>"
      ],
      "text/plain": [
       "         lr                                                              l2  \\\n",
       "          0         1         2         3             4         5         0   \n",
       "0  0.000002  0.000003  0.000021  0.995362  4.496504e-03  0.000115  0.000001   \n",
       "1  0.000443  0.005691  0.993812  0.000045  1.291441e-07  0.000009  0.000255   \n",
       "2  0.000011  0.000076  0.000026  0.991296  8.157701e-03  0.000434  0.000009   \n",
       "3  0.001646  0.023988  0.974251  0.000102  4.408879e-07  0.000012  0.001141   \n",
       "4  0.001004  0.001067  0.007719  0.001001  7.068138e-04  0.988503  0.000516   \n",
       "\n",
       "                                                         \n",
       "          1         2         3             4         5  \n",
       "0  0.000005  0.000019  0.995769  4.095014e-03  0.000110  \n",
       "1  0.003586  0.996108  0.000041  1.214614e-07  0.000009  \n",
       "2  0.000112  0.000025  0.989370  1.005634e-02  0.000427  \n",
       "3  0.018910  0.979802  0.000135  4.952109e-07  0.000012  \n",
       "4  0.001039  0.003401  0.000733  4.320451e-04  0.993880  "
      ]
     },
     "execution_count": 72,
     "metadata": {},
     "output_type": "execute_result"
    }
   ],
   "source": [
    "y_prob.head(5)"
   ]
  },
  {
   "cell_type": "code",
   "execution_count": 73,
   "metadata": {},
   "outputs": [
    {
     "data": {
      "text/plain": [
       "(250, 2)"
      ]
     },
     "execution_count": 73,
     "metadata": {},
     "output_type": "execute_result"
    }
   ],
   "source": [
    "y_pred.shape"
   ]
  },
  {
   "cell_type": "code",
   "execution_count": 74,
   "metadata": {},
   "outputs": [
    {
     "data": {
      "text/plain": [
       "(250, 12)"
      ]
     },
     "execution_count": 74,
     "metadata": {},
     "output_type": "execute_result"
    }
   ],
   "source": [
    "y_prob.shape"
   ]
  },
  {
   "cell_type": "code",
   "execution_count": 79,
   "metadata": {},
   "outputs": [],
   "source": [
    "metrics = list()\n",
    "cm=dict()\n",
    "\n",
    "for lab in coeff_labels:\n",
    "    \n",
    "    precision, recall, fscore, _ = score (y_test, y_pred[lab], average='weighted')\n",
    "    \n",
    "    accuracy = accuracy_score(y_test, y_pred[lab])\n",
    "    \n",
    "    auc = roc_auc_score(label_binarize(y_test, classes=[0,1,2,3,4,5]), y_prob[lab],average='weighted')\n",
    "    \n",
    "    cm[lab]=confusion_matrix(y_test, y_pred[lab])\n",
    "    \n",
    "    metrics.append(pd.Series({'precision':precision, 'recall': recall, 'fscore':fscore, 'accuracy':accuracy, 'auc':auc},name=lab))\n",
    "\n",
    "metrics=pd.concat(metrics, axis=1)"
   ]
  },
  {
   "cell_type": "code",
   "execution_count": 80,
   "metadata": {},
   "outputs": [
    {
     "data": {
      "text/html": [
       "<div>\n",
       "<style scoped>\n",
       "    .dataframe tbody tr th:only-of-type {\n",
       "        vertical-align: middle;\n",
       "    }\n",
       "\n",
       "    .dataframe tbody tr th {\n",
       "        vertical-align: top;\n",
       "    }\n",
       "\n",
       "    .dataframe thead th {\n",
       "        text-align: right;\n",
       "    }\n",
       "</style>\n",
       "<table border=\"1\" class=\"dataframe\">\n",
       "  <thead>\n",
       "    <tr style=\"text-align: right;\">\n",
       "      <th></th>\n",
       "      <th>lr</th>\n",
       "      <th>l2</th>\n",
       "    </tr>\n",
       "  </thead>\n",
       "  <tbody>\n",
       "    <tr>\n",
       "      <th>precision</th>\n",
       "      <td>0.996105</td>\n",
       "      <td>1.0</td>\n",
       "    </tr>\n",
       "    <tr>\n",
       "      <th>recall</th>\n",
       "      <td>0.996000</td>\n",
       "      <td>1.0</td>\n",
       "    </tr>\n",
       "    <tr>\n",
       "      <th>fscore</th>\n",
       "      <td>0.996001</td>\n",
       "      <td>1.0</td>\n",
       "    </tr>\n",
       "    <tr>\n",
       "      <th>accuracy</th>\n",
       "      <td>0.996000</td>\n",
       "      <td>1.0</td>\n",
       "    </tr>\n",
       "    <tr>\n",
       "      <th>auc</th>\n",
       "      <td>0.999848</td>\n",
       "      <td>1.0</td>\n",
       "    </tr>\n",
       "  </tbody>\n",
       "</table>\n",
       "</div>"
      ],
      "text/plain": [
       "                 lr   l2\n",
       "precision  0.996105  1.0\n",
       "recall     0.996000  1.0\n",
       "fscore     0.996001  1.0\n",
       "accuracy   0.996000  1.0\n",
       "auc        0.999848  1.0"
      ]
     },
     "execution_count": 80,
     "metadata": {},
     "output_type": "execute_result"
    }
   ],
   "source": [
    "metrics"
   ]
  },
  {
   "cell_type": "code",
   "execution_count": 81,
   "metadata": {},
   "outputs": [
    {
     "data": {
      "text/plain": [
       "array([[0, 0, 0, 1, 0, 0],\n",
       "       [0, 0, 1, 0, 0, 0],\n",
       "       [0, 0, 0, 1, 0, 0],\n",
       "       ...,\n",
       "       [0, 0, 0, 0, 0, 1],\n",
       "       [0, 0, 1, 0, 0, 0],\n",
       "       [0, 0, 0, 1, 0, 0]])"
      ]
     },
     "execution_count": 81,
     "metadata": {},
     "output_type": "execute_result"
    }
   ],
   "source": [
    "label_binarize(y_test, classes=[0,1,2,3,4,5])"
   ]
  },
  {
   "cell_type": "code",
   "execution_count": 85,
   "metadata": {},
   "outputs": [
    {
     "name": "stdout",
     "output_type": "stream",
     "text": [
      "AxesSubplot(0.125,0.536818;0.352273x0.343182) lr\n",
      "AxesSubplot(0.547727,0.536818;0.352273x0.343182) l2\n"
     ]
    },
    {
     "data": {
      "image/png": "[encoded data removed]",
      "text/plain": [
       "<Figure size 864x720 with 4 Axes>"
      ]
     },
     "metadata": {
      "needs_background": "light"
     },
     "output_type": "display_data"
    }
   ],
   "source": [
    "fig, axList=plt.subplots(nrows=2, ncols=2)\n",
    "axList = axList.flatten()\n",
    "fig.set_size_inches(12,10)\n",
    "\n",
    "axList[-1].axis('off')\n",
    "for ax, lab in zip(axList[:-1],coeff_labels):\n",
    "    print (ax, lab)"
   ]
  },
  {
   "cell_type": "code",
   "execution_count": 88,
   "metadata": {},
   "outputs": [
    {
     "name": "stdout",
     "output_type": "stream",
     "text": [
      "AxesSubplot(0.125,0.536818;0.352273x0.343182) var3\n",
      "AxesSubplot(0.547727,0.536818;0.352273x0.343182) var4\n"
     ]
    },
    {
     "data": {
      "image/png": "[encoded data removed]",
      "text/plain": [
       "<Figure size 864x720 with 4 Axes>"
      ]
     },
     "metadata": {
      "needs_background": "light"
     },
     "output_type": "display_data"
    }
   ],
   "source": [
    "#create some data\n",
    "var1 = [1, 2, 3, 4, 5, 6]\n",
    "var2 = [7, 13, 16, 18, 25, 19]\n",
    "var3 = [29, 25, 20, 25, 20, 18]\n",
    "var4 = [4, 4, 6, 4, 7, 11]\n",
    "\n",
    "var_lab=['var3','var4']\n",
    "#define grid of plots\n",
    "fig, axs = plt.subplots(nrows=2, ncols=2)\n",
    "axs = axs.flatten()\n",
    "fig.set_size_inches(12,10)\n",
    "\n",
    "axs[-1].axis('off')\n",
    "#add title\n",
    "fig.suptitle('Grid of Plots')\n",
    "\n",
    "for ax, lab in zip(axs[:-1],var_lab):\n",
    "    print (ax, lab)\n",
    "    \n",
    "# #add data to plots\n",
    "# axs[0, 0].plot(var1, var2)\n",
    "# axs[0, 1].plot(var1, var3)\n",
    "# axs[1, 0].plot(var1, var4)\n",
    "# axs[1, 1].plot(var3, var1)"
   ]
  },
  {
   "cell_type": "code",
   "execution_count": 90,
   "metadata": {},
   "outputs": [
    {
     "data": {
      "image/png": "[encoded data removed]",
      "text/plain": [
       "<Figure size 864x720 with 6 Axes>"
      ]
     },
     "metadata": {
      "needs_background": "light"
     },
     "output_type": "display_data"
    }
   ],
   "source": [
    "fig, axList=plt.subplots(nrows=2, ncols=2)\n",
    "axList = axList.flatten()\n",
    "fig.set_size_inches(12,10)\n",
    "\n",
    "axList[-1].axis('off')\n",
    "for ax, lab in zip(axList[:-1],coeff_labels):\n",
    "    sns.heatmap(cm[lab],ax=ax,annot=True,fmt='d')\n",
    "    ax.set(title=lab);\n",
    "plt.tight_layout()"
   ]
  },
  {
   "cell_type": "markdown",
   "metadata": {},
   "source": [
    "# Clustering"
   ]
  },
  {
   "cell_type": "code",
   "execution_count": 158,
   "metadata": {},
   "outputs": [],
   "source": [
    "from sklearn.datasets import make_classification\n",
    "from sklearn.tree import DecisionTreeClassifier\n",
    "from sklearn.preprocessing import StandardScaler\n",
    "from sklearn.ensemble import RandomForestClassifier"
   ]
  },
  {
   "cell_type": "code",
   "execution_count": 145,
   "metadata": {},
   "outputs": [],
   "source": [
    "from sklearn.cluster import KMeans\n",
    "from sklearn.cluster import AgglomerativeClustering\n",
    "from scipy.cluster import hierarchy"
   ]
  },
  {
   "cell_type": "code",
   "execution_count": 98,
   "metadata": {},
   "outputs": [],
   "source": [
    "scores = []\n",
    "increment, max_features = 50, 150\n",
    "\n",
    "for num in np.linspace(increment, max_features, increment, dtype='int'):\n",
    "    X,y = make_classification(n_features=num, n_redundant=0, random_state=1, n_clusters_per_class=1, n_classes=3)\n",
    "    rng=np.random.RandomState(2)\n",
    "    X += 2 * rng.uniform(size=X.shape)\n",
    "    \n",
    "    X=StandardScaler().fit_transform(X)\n",
    "    X_train, X_test, y_train, y_test = train_test_split(X,y, random_state=42, test_size=0.4)\n",
    "    \n",
    "    DT = DecisionTreeClassifier()\n",
    "    DT.fit(X_train, y_train)\n",
    "    scores.append(DT.score(X_test,y_test))"
   ]
  },
  {
   "cell_type": "code",
   "execution_count": 99,
   "metadata": {},
   "outputs": [
    {
     "data": {
      "text/plain": [
       "Text(0.5, 0, 'Number of feat')"
      ]
     },
     "execution_count": 99,
     "metadata": {},
     "output_type": "execute_result"
    },
    {
     "data": {
      "image/png": "[encoded data removed]",
      "text/plain": [
       "<Figure size 432x288 with 1 Axes>"
      ]
     },
     "metadata": {
      "needs_background": "light"
     },
     "output_type": "display_data"
    }
   ],
   "source": [
    "plt.plot(np.linspace(increment, max_features, increment, dtype='int'),scores)\n",
    "plt.title('Accuracy increasing features')\n",
    "plt.xlabel('Number of feat')"
   ]
  },
  {
   "cell_type": "code",
   "execution_count": 102,
   "metadata": {},
   "outputs": [],
   "source": [
    "wine=pd.read_csv('Wine_Quality_Data.csv')"
   ]
  },
  {
   "cell_type": "code",
   "execution_count": 103,
   "metadata": {},
   "outputs": [
    {
     "data": {
      "text/plain": [
       "3      30\n",
       "4     216\n",
       "5    2138\n",
       "6    2836\n",
       "7    1079\n",
       "8     193\n",
       "9       5\n",
       "Name: quality, dtype: int64"
      ]
     },
     "execution_count": 103,
     "metadata": {},
     "output_type": "execute_result"
    }
   ],
   "source": [
    "wine.quality.value_counts().sort_index()"
   ]
  },
  {
   "cell_type": "code",
   "execution_count": 115,
   "metadata": {},
   "outputs": [],
   "source": [
    "red = sns.color_palette()[2]\n",
    "white = sns.color_palette()[4]\n",
    "\n",
    "# bin_range=np.array([3,4,5,6,7,8,9])  # me: could also be class labels\n",
    "\n",
    "# ax==plt.axes()\n",
    "# for , plot_color in zip(['red','white'],[])"
   ]
  },
  {
   "cell_type": "code",
   "execution_count": 106,
   "metadata": {},
   "outputs": [
    {
     "data": {
      "text/html": [
       "<div>\n",
       "<style scoped>\n",
       "    .dataframe tbody tr th:only-of-type {\n",
       "        vertical-align: middle;\n",
       "    }\n",
       "\n",
       "    .dataframe tbody tr th {\n",
       "        vertical-align: top;\n",
       "    }\n",
       "\n",
       "    .dataframe thead th {\n",
       "        text-align: right;\n",
       "    }\n",
       "</style>\n",
       "<table border=\"1\" class=\"dataframe\">\n",
       "  <thead>\n",
       "    <tr style=\"text-align: right;\">\n",
       "      <th></th>\n",
       "      <th>fixed_acidity</th>\n",
       "      <th>volatile_acidity</th>\n",
       "      <th>citric_acid</th>\n",
       "      <th>residual_sugar</th>\n",
       "      <th>chlorides</th>\n",
       "      <th>free_sulfur_dioxide</th>\n",
       "      <th>total_sulfur_dioxide</th>\n",
       "      <th>density</th>\n",
       "      <th>pH</th>\n",
       "      <th>sulphates</th>\n",
       "      <th>alcohol</th>\n",
       "    </tr>\n",
       "  </thead>\n",
       "  <tbody>\n",
       "    <tr>\n",
       "      <th>fixed_acidity</th>\n",
       "      <td>0.000000</td>\n",
       "      <td>0.219008</td>\n",
       "      <td>0.324436</td>\n",
       "      <td>-0.111981</td>\n",
       "      <td>0.298195</td>\n",
       "      <td>-0.282735</td>\n",
       "      <td>-0.329054</td>\n",
       "      <td>0.458910</td>\n",
       "      <td>-0.252700</td>\n",
       "      <td>0.299568</td>\n",
       "      <td>-0.095452</td>\n",
       "    </tr>\n",
       "    <tr>\n",
       "      <th>volatile_acidity</th>\n",
       "      <td>0.219008</td>\n",
       "      <td>0.000000</td>\n",
       "      <td>-0.377981</td>\n",
       "      <td>-0.196011</td>\n",
       "      <td>0.377124</td>\n",
       "      <td>-0.352557</td>\n",
       "      <td>-0.414476</td>\n",
       "      <td>0.271296</td>\n",
       "      <td>0.261454</td>\n",
       "      <td>0.225984</td>\n",
       "      <td>-0.037640</td>\n",
       "    </tr>\n",
       "    <tr>\n",
       "      <th>citric_acid</th>\n",
       "      <td>0.324436</td>\n",
       "      <td>-0.377981</td>\n",
       "      <td>0.000000</td>\n",
       "      <td>0.142451</td>\n",
       "      <td>0.038998</td>\n",
       "      <td>0.133126</td>\n",
       "      <td>0.195242</td>\n",
       "      <td>0.096154</td>\n",
       "      <td>-0.329808</td>\n",
       "      <td>0.056197</td>\n",
       "      <td>-0.010493</td>\n",
       "    </tr>\n",
       "    <tr>\n",
       "      <th>residual_sugar</th>\n",
       "      <td>-0.111981</td>\n",
       "      <td>-0.196011</td>\n",
       "      <td>0.142451</td>\n",
       "      <td>0.000000</td>\n",
       "      <td>-0.128940</td>\n",
       "      <td>0.402871</td>\n",
       "      <td>0.495482</td>\n",
       "      <td>0.552517</td>\n",
       "      <td>-0.267320</td>\n",
       "      <td>-0.185927</td>\n",
       "      <td>-0.359415</td>\n",
       "    </tr>\n",
       "    <tr>\n",
       "      <th>chlorides</th>\n",
       "      <td>0.298195</td>\n",
       "      <td>0.377124</td>\n",
       "      <td>0.038998</td>\n",
       "      <td>-0.128940</td>\n",
       "      <td>0.000000</td>\n",
       "      <td>-0.195045</td>\n",
       "      <td>-0.279630</td>\n",
       "      <td>0.362615</td>\n",
       "      <td>0.044708</td>\n",
       "      <td>0.395593</td>\n",
       "      <td>-0.256916</td>\n",
       "    </tr>\n",
       "    <tr>\n",
       "      <th>free_sulfur_dioxide</th>\n",
       "      <td>-0.282735</td>\n",
       "      <td>-0.352557</td>\n",
       "      <td>0.133126</td>\n",
       "      <td>0.402871</td>\n",
       "      <td>-0.195045</td>\n",
       "      <td>0.000000</td>\n",
       "      <td>0.720934</td>\n",
       "      <td>0.025717</td>\n",
       "      <td>-0.145854</td>\n",
       "      <td>-0.188457</td>\n",
       "      <td>-0.179838</td>\n",
       "    </tr>\n",
       "    <tr>\n",
       "      <th>total_sulfur_dioxide</th>\n",
       "      <td>-0.329054</td>\n",
       "      <td>-0.414476</td>\n",
       "      <td>0.195242</td>\n",
       "      <td>0.495482</td>\n",
       "      <td>-0.279630</td>\n",
       "      <td>0.720934</td>\n",
       "      <td>0.000000</td>\n",
       "      <td>0.032395</td>\n",
       "      <td>-0.238413</td>\n",
       "      <td>-0.275727</td>\n",
       "      <td>-0.265740</td>\n",
       "    </tr>\n",
       "    <tr>\n",
       "      <th>density</th>\n",
       "      <td>0.458910</td>\n",
       "      <td>0.271296</td>\n",
       "      <td>0.096154</td>\n",
       "      <td>0.552517</td>\n",
       "      <td>0.362615</td>\n",
       "      <td>0.025717</td>\n",
       "      <td>0.032395</td>\n",
       "      <td>0.000000</td>\n",
       "      <td>0.011686</td>\n",
       "      <td>0.259478</td>\n",
       "      <td>-0.686745</td>\n",
       "    </tr>\n",
       "    <tr>\n",
       "      <th>pH</th>\n",
       "      <td>-0.252700</td>\n",
       "      <td>0.261454</td>\n",
       "      <td>-0.329808</td>\n",
       "      <td>-0.267320</td>\n",
       "      <td>0.044708</td>\n",
       "      <td>-0.145854</td>\n",
       "      <td>-0.238413</td>\n",
       "      <td>0.011686</td>\n",
       "      <td>0.000000</td>\n",
       "      <td>0.192123</td>\n",
       "      <td>0.121248</td>\n",
       "    </tr>\n",
       "    <tr>\n",
       "      <th>sulphates</th>\n",
       "      <td>0.299568</td>\n",
       "      <td>0.225984</td>\n",
       "      <td>0.056197</td>\n",
       "      <td>-0.185927</td>\n",
       "      <td>0.395593</td>\n",
       "      <td>-0.188457</td>\n",
       "      <td>-0.275727</td>\n",
       "      <td>0.259478</td>\n",
       "      <td>0.192123</td>\n",
       "      <td>0.000000</td>\n",
       "      <td>-0.003029</td>\n",
       "    </tr>\n",
       "    <tr>\n",
       "      <th>alcohol</th>\n",
       "      <td>-0.095452</td>\n",
       "      <td>-0.037640</td>\n",
       "      <td>-0.010493</td>\n",
       "      <td>-0.359415</td>\n",
       "      <td>-0.256916</td>\n",
       "      <td>-0.179838</td>\n",
       "      <td>-0.265740</td>\n",
       "      <td>-0.686745</td>\n",
       "      <td>0.121248</td>\n",
       "      <td>-0.003029</td>\n",
       "      <td>0.000000</td>\n",
       "    </tr>\n",
       "  </tbody>\n",
       "</table>\n",
       "</div>"
      ],
      "text/plain": [
       "                      fixed_acidity  volatile_acidity  citric_acid  \\\n",
       "fixed_acidity              0.000000          0.219008     0.324436   \n",
       "volatile_acidity           0.219008          0.000000    -0.377981   \n",
       "citric_acid                0.324436         -0.377981     0.000000   \n",
       "residual_sugar            -0.111981         -0.196011     0.142451   \n",
       "chlorides                  0.298195          0.377124     0.038998   \n",
       "free_sulfur_dioxide       -0.282735         -0.352557     0.133126   \n",
       "total_sulfur_dioxide      -0.329054         -0.414476     0.195242   \n",
       "density                    0.458910          0.271296     0.096154   \n",
       "pH                        -0.252700          0.261454    -0.329808   \n",
       "sulphates                  0.299568          0.225984     0.056197   \n",
       "alcohol                   -0.095452         -0.037640    -0.010493   \n",
       "\n",
       "                      residual_sugar  chlorides  free_sulfur_dioxide  \\\n",
       "fixed_acidity              -0.111981   0.298195            -0.282735   \n",
       "volatile_acidity           -0.196011   0.377124            -0.352557   \n",
       "citric_acid                 0.142451   0.038998             0.133126   \n",
       "residual_sugar              0.000000  -0.128940             0.402871   \n",
       "chlorides                  -0.128940   0.000000            -0.195045   \n",
       "free_sulfur_dioxide         0.402871  -0.195045             0.000000   \n",
       "total_sulfur_dioxide        0.495482  -0.279630             0.720934   \n",
       "density                     0.552517   0.362615             0.025717   \n",
       "pH                         -0.267320   0.044708            -0.145854   \n",
       "sulphates                  -0.185927   0.395593            -0.188457   \n",
       "alcohol                    -0.359415  -0.256916            -0.179838   \n",
       "\n",
       "                      total_sulfur_dioxide   density        pH  sulphates  \\\n",
       "fixed_acidity                    -0.329054  0.458910 -0.252700   0.299568   \n",
       "volatile_acidity                 -0.414476  0.271296  0.261454   0.225984   \n",
       "citric_acid                       0.195242  0.096154 -0.329808   0.056197   \n",
       "residual_sugar                    0.495482  0.552517 -0.267320  -0.185927   \n",
       "chlorides                        -0.279630  0.362615  0.044708   0.395593   \n",
       "free_sulfur_dioxide               0.720934  0.025717 -0.145854  -0.188457   \n",
       "total_sulfur_dioxide              0.000000  0.032395 -0.238413  -0.275727   \n",
       "density                           0.032395  0.000000  0.011686   0.259478   \n",
       "pH                               -0.238413  0.011686  0.000000   0.192123   \n",
       "sulphates                        -0.275727  0.259478  0.192123   0.000000   \n",
       "alcohol                          -0.265740 -0.686745  0.121248  -0.003029   \n",
       "\n",
       "                       alcohol  \n",
       "fixed_acidity        -0.095452  \n",
       "volatile_acidity     -0.037640  \n",
       "citric_acid          -0.010493  \n",
       "residual_sugar       -0.359415  \n",
       "chlorides            -0.256916  \n",
       "free_sulfur_dioxide  -0.179838  \n",
       "total_sulfur_dioxide -0.265740  \n",
       "density              -0.686745  \n",
       "pH                    0.121248  \n",
       "sulphates            -0.003029  \n",
       "alcohol               0.000000  "
      ]
     },
     "execution_count": 106,
     "metadata": {},
     "output_type": "execute_result"
    }
   ],
   "source": [
    "float_columns = [x for x in wine.columns if x not in ['color', 'quality']]\n",
    "\n",
    "corr_mat = wine[float_columns].corr()\n",
    "\n",
    "for x in range(len(float_columns)):\n",
    "    corr_mat.iloc[x,x] = 0.0\n",
    "    \n",
    "corr_mat"
   ]
  },
  {
   "cell_type": "code",
   "execution_count": 107,
   "metadata": {},
   "outputs": [
    {
     "data": {
      "text/plain": [
       "fixed_acidity                        density\n",
       "volatile_acidity        total_sulfur_dioxide\n",
       "citric_acid                 volatile_acidity\n",
       "residual_sugar                       density\n",
       "chlorides                          sulphates\n",
       "free_sulfur_dioxide     total_sulfur_dioxide\n",
       "total_sulfur_dioxide     free_sulfur_dioxide\n",
       "density                              alcohol\n",
       "pH                               citric_acid\n",
       "sulphates                          chlorides\n",
       "alcohol                              density\n",
       "dtype: object"
      ]
     },
     "execution_count": 107,
     "metadata": {},
     "output_type": "execute_result"
    }
   ],
   "source": [
    "corr_mat.abs().idxmax()"
   ]
  },
  {
   "cell_type": "code",
   "execution_count": 108,
   "metadata": {},
   "outputs": [
    {
     "data": {
      "text/plain": [
       "chlorides              5.399828\n",
       "sulphates              1.797270\n",
       "fixed_acidity          1.723290\n",
       "volatile_acidity       1.495097\n",
       "residual_sugar         1.435404\n",
       "free_sulfur_dioxide    1.220066\n",
       "dtype: float64"
      ]
     },
     "execution_count": 108,
     "metadata": {},
     "output_type": "execute_result"
    }
   ],
   "source": [
    "skew_columns=(wine[float_columns].skew().sort_values(ascending=False))\n",
    "\n",
    "skew_columns=skew_columns.loc[skew_columns>0.75]\n",
    "\n",
    "skew_columns"
   ]
  },
  {
   "cell_type": "code",
   "execution_count": 111,
   "metadata": {},
   "outputs": [],
   "source": [
    "for col in skew_columns.index.tolist():\n",
    "    wine[col]=np.log1p(wine[col])"
   ]
  },
  {
   "cell_type": "code",
   "execution_count": 112,
   "metadata": {},
   "outputs": [
    {
     "data": {
      "text/html": [
       "<div>\n",
       "<style scoped>\n",
       "    .dataframe tbody tr th:only-of-type {\n",
       "        vertical-align: middle;\n",
       "    }\n",
       "\n",
       "    .dataframe tbody tr th {\n",
       "        vertical-align: top;\n",
       "    }\n",
       "\n",
       "    .dataframe thead th {\n",
       "        text-align: right;\n",
       "    }\n",
       "</style>\n",
       "<table border=\"1\" class=\"dataframe\">\n",
       "  <thead>\n",
       "    <tr style=\"text-align: right;\">\n",
       "      <th></th>\n",
       "      <th>fixed_acidity</th>\n",
       "      <th>volatile_acidity</th>\n",
       "      <th>citric_acid</th>\n",
       "      <th>residual_sugar</th>\n",
       "      <th>chlorides</th>\n",
       "      <th>free_sulfur_dioxide</th>\n",
       "      <th>total_sulfur_dioxide</th>\n",
       "      <th>density</th>\n",
       "      <th>pH</th>\n",
       "      <th>sulphates</th>\n",
       "      <th>alcohol</th>\n",
       "      <th>quality</th>\n",
       "      <th>color</th>\n",
       "    </tr>\n",
       "  </thead>\n",
       "  <tbody>\n",
       "    <tr>\n",
       "      <th>0</th>\n",
       "      <td>0.229509</td>\n",
       "      <td>2.135767</td>\n",
       "      <td>-2.192833</td>\n",
       "      <td>-0.815173</td>\n",
       "      <td>0.624554</td>\n",
       "      <td>-1.193601</td>\n",
       "      <td>-1.446359</td>\n",
       "      <td>1.034993</td>\n",
       "      <td>1.813090</td>\n",
       "      <td>0.250355</td>\n",
       "      <td>-0.915464</td>\n",
       "      <td>5</td>\n",
       "      <td>red</td>\n",
       "    </tr>\n",
       "    <tr>\n",
       "      <th>1</th>\n",
       "      <td>0.550261</td>\n",
       "      <td>3.012817</td>\n",
       "      <td>-2.192833</td>\n",
       "      <td>-0.498175</td>\n",
       "      <td>1.281999</td>\n",
       "      <td>-0.013944</td>\n",
       "      <td>-0.862469</td>\n",
       "      <td>0.701486</td>\n",
       "      <td>-0.115073</td>\n",
       "      <td>1.059213</td>\n",
       "      <td>-0.580068</td>\n",
       "      <td>5</td>\n",
       "      <td>red</td>\n",
       "    </tr>\n",
       "    <tr>\n",
       "      <th>2</th>\n",
       "      <td>0.550261</td>\n",
       "      <td>2.438032</td>\n",
       "      <td>-1.917553</td>\n",
       "      <td>-0.625740</td>\n",
       "      <td>1.104012</td>\n",
       "      <td>-0.754684</td>\n",
       "      <td>-1.092486</td>\n",
       "      <td>0.768188</td>\n",
       "      <td>0.258120</td>\n",
       "      <td>0.862549</td>\n",
       "      <td>-0.580068</td>\n",
       "      <td>5</td>\n",
       "      <td>red</td>\n",
       "    </tr>\n",
       "    <tr>\n",
       "      <th>3</th>\n",
       "      <td>2.802728</td>\n",
       "      <td>-0.337109</td>\n",
       "      <td>1.661085</td>\n",
       "      <td>-0.815173</td>\n",
       "      <td>0.594352</td>\n",
       "      <td>-0.574982</td>\n",
       "      <td>-0.986324</td>\n",
       "      <td>1.101694</td>\n",
       "      <td>-0.363868</td>\n",
       "      <td>0.389396</td>\n",
       "      <td>-0.580068</td>\n",
       "      <td>6</td>\n",
       "      <td>red</td>\n",
       "    </tr>\n",
       "  </tbody>\n",
       "</table>\n",
       "</div>"
      ],
      "text/plain": [
       "   fixed_acidity  volatile_acidity  citric_acid  residual_sugar  chlorides  \\\n",
       "0       0.229509          2.135767    -2.192833       -0.815173   0.624554   \n",
       "1       0.550261          3.012817    -2.192833       -0.498175   1.281999   \n",
       "2       0.550261          2.438032    -1.917553       -0.625740   1.104012   \n",
       "3       2.802728         -0.337109     1.661085       -0.815173   0.594352   \n",
       "\n",
       "   free_sulfur_dioxide  total_sulfur_dioxide   density        pH  sulphates  \\\n",
       "0            -1.193601             -1.446359  1.034993  1.813090   0.250355   \n",
       "1            -0.013944             -0.862469  0.701486 -0.115073   1.059213   \n",
       "2            -0.754684             -1.092486  0.768188  0.258120   0.862549   \n",
       "3            -0.574982             -0.986324  1.101694 -0.363868   0.389396   \n",
       "\n",
       "    alcohol  quality color  \n",
       "0 -0.915464        5   red  \n",
       "1 -0.580068        5   red  \n",
       "2 -0.580068        5   red  \n",
       "3 -0.580068        6   red  "
      ]
     },
     "execution_count": 112,
     "metadata": {},
     "output_type": "execute_result"
    }
   ],
   "source": [
    "sc=StandardScaler()\n",
    "wine[float_columns]=sc.fit_transform(wine[float_columns])\n",
    "\n",
    "wine.head(4)"
   ]
  },
  {
   "cell_type": "code",
   "execution_count": 122,
   "metadata": {},
   "outputs": [
    {
     "data": {
      "text/plain": [
       "Index(['fixed_acidity', 'volatile_acidity', 'citric_acid', 'residual_sugar',\n",
       "       'chlorides', 'free_sulfur_dioxide', 'total_sulfur_dioxide', 'density',\n",
       "       'pH', 'sulphates', 'alcohol', 'quality', 'color'],\n",
       "      dtype='object')"
      ]
     },
     "execution_count": 122,
     "metadata": {},
     "output_type": "execute_result"
    }
   ],
   "source": [
    "wine.columns"
   ]
  },
  {
   "cell_type": "code",
   "execution_count": 138,
   "metadata": {},
   "outputs": [
    {
     "data": {
      "text/plain": [
       "<seaborn.axisgrid.PairGrid at 0x1c25dfbd888>"
      ]
     },
     "execution_count": 138,
     "metadata": {},
     "output_type": "execute_result"
    },
    {
     "data": {
      "image/png": "[encoded data removed]",
      "text/plain": [
       "<Figure size 609.975x540 with 12 Axes>"
      ]
     },
     "metadata": {
      "needs_background": "light"
     },
     "output_type": "display_data"
    }
   ],
   "source": [
    "sns.set_context('notebook')\n",
    "sns.color_palette(\"mako\")\n",
    "# sns.pairplot(wine[float_columns]) # how to get second color hue='color'\n",
    "wine_s=wine.iloc[:,[1,2,3,12]] #filter columsn before including hue -columns!!!!!\n",
    "wine_s.columns\n",
    "sns.pairplot(wine_s,hue='color')"
   ]
  },
  {
   "cell_type": "code",
   "execution_count": 125,
   "metadata": {},
   "outputs": [],
   "source": [
    "km=KMeans(n_clusters=2,random_state=42)\n",
    "km.fit(wine[float_columns])\n",
    "\n",
    "wine['kmeans']=km.predict(wine[float_columns])"
   ]
  },
  {
   "cell_type": "code",
   "execution_count": 126,
   "metadata": {},
   "outputs": [
    {
     "data": {
      "text/html": [
       "<div>\n",
       "<style scoped>\n",
       "    .dataframe tbody tr th:only-of-type {\n",
       "        vertical-align: middle;\n",
       "    }\n",
       "\n",
       "    .dataframe tbody tr th {\n",
       "        vertical-align: top;\n",
       "    }\n",
       "\n",
       "    .dataframe thead th {\n",
       "        text-align: right;\n",
       "    }\n",
       "</style>\n",
       "<table border=\"1\" class=\"dataframe\">\n",
       "  <thead>\n",
       "    <tr style=\"text-align: right;\">\n",
       "      <th></th>\n",
       "      <th></th>\n",
       "      <th>number</th>\n",
       "    </tr>\n",
       "    <tr>\n",
       "      <th>kmeans</th>\n",
       "      <th>color</th>\n",
       "      <th></th>\n",
       "    </tr>\n",
       "  </thead>\n",
       "  <tbody>\n",
       "    <tr>\n",
       "      <th rowspan=\"2\" valign=\"top\">0</th>\n",
       "      <th>red</th>\n",
       "      <td>23</td>\n",
       "    </tr>\n",
       "    <tr>\n",
       "      <th>white</th>\n",
       "      <td>4810</td>\n",
       "    </tr>\n",
       "    <tr>\n",
       "      <th rowspan=\"2\" valign=\"top\">1</th>\n",
       "      <th>red</th>\n",
       "      <td>1576</td>\n",
       "    </tr>\n",
       "    <tr>\n",
       "      <th>white</th>\n",
       "      <td>88</td>\n",
       "    </tr>\n",
       "  </tbody>\n",
       "</table>\n",
       "</div>"
      ],
      "text/plain": [
       "              number\n",
       "kmeans color        \n",
       "0      red        23\n",
       "       white    4810\n",
       "1      red      1576\n",
       "       white      88"
      ]
     },
     "execution_count": 126,
     "metadata": {},
     "output_type": "execute_result"
    }
   ],
   "source": [
    "(wine[['color','kmeans']].groupby(['kmeans','color']).size().to_frame().rename(columns={0:'number'}))"
   ]
  },
  {
   "cell_type": "code",
   "execution_count": 127,
   "metadata": {},
   "outputs": [],
   "source": [
    "# unique_elements, counts_elements = np.unique(a, return_counts=True)"
   ]
  },
  {
   "cell_type": "code",
   "execution_count": 139,
   "metadata": {},
   "outputs": [],
   "source": [
    "km_list=list()\n",
    "\n",
    "for clust in range(1,5):\n",
    "    km=KMeans(n_clusters=clust,random_state=42)\n",
    "    km.fit(wine[float_columns])\n",
    "    \n",
    "    km_list.append(pd.Series({'clusters':clust,'inertia':km.inertia_,'model':km}))"
   ]
  },
  {
   "cell_type": "code",
   "execution_count": 141,
   "metadata": {},
   "outputs": [
    {
     "data": {
      "text/plain": [
       "[Text(0.5, 0, 'Cluster'), Text(0, 0.5, 'Inertia')]"
      ]
     },
     "execution_count": 141,
     "metadata": {},
     "output_type": "execute_result"
    },
    {
     "data": {
      "image/png": "[encoded data removed]",
      "text/plain": [
       "<Figure size 432x288 with 1 Axes>"
      ]
     },
     "metadata": {
      "needs_background": "light"
     },
     "output_type": "display_data"
    }
   ],
   "source": [
    "plot_data=(pd.concat(km_list,axis=1)).T[['clusters','inertia']].set_index('clusters')\n",
    "\n",
    "ax = plot_data.plot(marker='o',ls='-')\n",
    "ax.set_xticks(range(0,21,2))\n",
    "ax.set_xlim(0,6)\n",
    "ax.set(xlabel='Cluster',ylabel='Inertia')"
   ]
  },
  {
   "cell_type": "code",
   "execution_count": 143,
   "metadata": {},
   "outputs": [],
   "source": [
    "\n",
    "ag = AgglomerativeClustering(n_clusters=2,linkage='ward',compute_full_tree=True)\n",
    "# ag = ag.fit(wine[float_columns])\n",
    "wine['agglom']=ag.fit_predict(wine[float_columns])"
   ]
  },
  {
   "cell_type": "code",
   "execution_count": 144,
   "metadata": {},
   "outputs": [
    {
     "data": {
      "text/html": [
       "<div>\n",
       "<style scoped>\n",
       "    .dataframe tbody tr th:only-of-type {\n",
       "        vertical-align: middle;\n",
       "    }\n",
       "\n",
       "    .dataframe tbody tr th {\n",
       "        vertical-align: top;\n",
       "    }\n",
       "\n",
       "    .dataframe thead th {\n",
       "        text-align: right;\n",
       "    }\n",
       "</style>\n",
       "<table border=\"1\" class=\"dataframe\">\n",
       "  <thead>\n",
       "    <tr style=\"text-align: right;\">\n",
       "      <th></th>\n",
       "      <th></th>\n",
       "      <th>number</th>\n",
       "    </tr>\n",
       "    <tr>\n",
       "      <th>color</th>\n",
       "      <th>agglom</th>\n",
       "      <th></th>\n",
       "    </tr>\n",
       "  </thead>\n",
       "  <tbody>\n",
       "    <tr>\n",
       "      <th rowspan=\"2\" valign=\"top\">red</th>\n",
       "      <th>0</th>\n",
       "      <td>31</td>\n",
       "    </tr>\n",
       "    <tr>\n",
       "      <th>1</th>\n",
       "      <td>1568</td>\n",
       "    </tr>\n",
       "    <tr>\n",
       "      <th rowspan=\"2\" valign=\"top\">white</th>\n",
       "      <th>0</th>\n",
       "      <td>4755</td>\n",
       "    </tr>\n",
       "    <tr>\n",
       "      <th>1</th>\n",
       "      <td>143</td>\n",
       "    </tr>\n",
       "  </tbody>\n",
       "</table>\n",
       "</div>"
      ],
      "text/plain": [
       "              number\n",
       "color agglom        \n",
       "red   0           31\n",
       "      1         1568\n",
       "white 0         4755\n",
       "      1          143"
      ]
     },
     "execution_count": 144,
     "metadata": {},
     "output_type": "execute_result"
    }
   ],
   "source": [
    "(wine[['color','agglom','kmeans']].groupby(['color','agglom']).size().to_frame().rename(columns={0:'number'}))"
   ]
  },
  {
   "cell_type": "code",
   "execution_count": 147,
   "metadata": {},
   "outputs": [
    {
     "data": {
      "image/png": "[encoded data removed]",
      "text/plain": [
       "<Figure size 1080x360 with 1 Axes>"
      ]
     },
     "metadata": {
      "needs_background": "light"
     },
     "output_type": "display_data"
    }
   ],
   "source": [
    "Z = hierarchy.linkage(ag.children_,method='ward')\n",
    "\n",
    "fig, ax = plt.subplots(figsize=(15,5))\n",
    "\n",
    "den = hierarchy.dendrogram(Z,orientation='top',p=30, truncate_mode='lastp',show_leaf_counts=True,ax=ax )"
   ]
  },
  {
   "cell_type": "code",
   "execution_count": 148,
   "metadata": {},
   "outputs": [
    {
     "data": {
      "text/plain": [
       "(6497, 15)"
      ]
     },
     "execution_count": 148,
     "metadata": {},
     "output_type": "execute_result"
    }
   ],
   "source": [
    "wine.shape"
   ]
  },
  {
   "cell_type": "code",
   "execution_count": 157,
   "metadata": {},
   "outputs": [
    {
     "name": "stdout",
     "output_type": "stream",
     "text": [
      "0.7996671597633137\n",
      "0.7985502958579883\n"
     ]
    }
   ],
   "source": [
    "y=(wine['quality']>7).astype(int)\n",
    "X_with_kmeans=wine.drop(['agglom','color','quality'],axis=1)\n",
    "X_wo_kmeans=X_with_kmeans.drop('kmeans',axis=1)\n",
    "sss = StratifiedShuffleSplit(n_splits=3, test_size=0.33, random_state=42)\n",
    "\n",
    "def get_avg_roc_3splits(estimator,X,y):\n",
    "    roc_auc_list=[]\n",
    "    for train_index, test_index in sss.split(X,y):\n",
    "        X_train, X_test=X.iloc[train_index], X.iloc[test_index]\n",
    "        y_train, y_test=y.iloc[train_index], y.iloc[test_index]\n",
    "        estimator.fit(X_train, y_train)\n",
    "        y_predicted=estimator.predict(X_test)\n",
    "        y_scored=estimator.predict_proba(X_test)[:,1]\n",
    "        roc_auc_list.append(roc_auc_score(y_test,y_scored))\n",
    "    return np.mean(roc_auc_list)\n",
    "\n",
    "estimator=RandomForestClassifier(max_depth=2)\n",
    "roc_with_kmeans=get_avg_roc_3splits(estimator,X_with_kmeans,y)\n",
    "roc_wo_kmeans=get_avg_roc_3splits(estimator,X_wo_kmeans,y)\n",
    "print(roc_with_kmeans)\n",
    "print(roc_wo_kmeans)"
   ]
  },
  {
   "cell_type": "code",
   "execution_count": 165,
   "metadata": {},
   "outputs": [
    {
     "data": {
      "image/png": "[encoded data removed]",
      "text/plain": [
       "<Figure size 432x288 with 1 Axes>"
      ]
     },
     "metadata": {
      "needs_background": "light"
     },
     "output_type": "display_data"
    }
   ],
   "source": [
    "X_basics=wine[float_columns]\n",
    "sss = StratifiedShuffleSplit(n_splits=3, test_size=0.33, random_state=42)\n",
    "\n",
    "def create_kmeans_columns(n):\n",
    "    km=KMeans(n_clusters=n)\n",
    "    km.fit(X_basics)\n",
    "    km_col=pd.Series(km.predict(X_basics))\n",
    "    km_cols=pd.get_dummies(km_col,prefix='kmeans_cluster')\n",
    "    return pd.concat([X_basics,km_cols],axis=1)\n",
    "\n",
    "estimator=LogisticRegression()\n",
    "ns=range(1,3)\n",
    "roc_auc_list=[get_avg_roc_3splits(estimator,create_kmeans_columns(n),y) for n in ns]\n",
    "\n",
    "ax=plt.axes()\n",
    "ax.plot(ns,roc_auc_list)\n",
    "ax.set(xticklabels=ns,xlabel='No of clusters as features',ylabel='Av ROC=AUC over 10 iterations',title='kmeans+logistic regression')\n",
    "\n",
    "ax.grid(True)"
   ]
  },
  {
   "cell_type": "markdown",
   "metadata": {},
   "source": [
    "???"
   ]
  },
  {
   "cell_type": "code",
   "execution_count": 166,
   "metadata": {},
   "outputs": [
    {
     "data": {
      "text/html": [
       "<div>\n",
       "<style scoped>\n",
       "    .dataframe tbody tr th:only-of-type {\n",
       "        vertical-align: middle;\n",
       "    }\n",
       "\n",
       "    .dataframe tbody tr th {\n",
       "        vertical-align: top;\n",
       "    }\n",
       "\n",
       "    .dataframe thead th {\n",
       "        text-align: right;\n",
       "    }\n",
       "</style>\n",
       "<table border=\"1\" class=\"dataframe\">\n",
       "  <thead>\n",
       "    <tr style=\"text-align: right;\">\n",
       "      <th></th>\n",
       "      <th>kmeans_clsuter_0</th>\n",
       "      <th>kmeans_clsuter_1</th>\n",
       "    </tr>\n",
       "  </thead>\n",
       "  <tbody>\n",
       "    <tr>\n",
       "      <th>0</th>\n",
       "      <td>0</td>\n",
       "      <td>1</td>\n",
       "    </tr>\n",
       "    <tr>\n",
       "      <th>1</th>\n",
       "      <td>0</td>\n",
       "      <td>1</td>\n",
       "    </tr>\n",
       "    <tr>\n",
       "      <th>2</th>\n",
       "      <td>0</td>\n",
       "      <td>1</td>\n",
       "    </tr>\n",
       "    <tr>\n",
       "      <th>3</th>\n",
       "      <td>0</td>\n",
       "      <td>1</td>\n",
       "    </tr>\n",
       "    <tr>\n",
       "      <th>4</th>\n",
       "      <td>0</td>\n",
       "      <td>1</td>\n",
       "    </tr>\n",
       "    <tr>\n",
       "      <th>...</th>\n",
       "      <td>...</td>\n",
       "      <td>...</td>\n",
       "    </tr>\n",
       "    <tr>\n",
       "      <th>6492</th>\n",
       "      <td>1</td>\n",
       "      <td>0</td>\n",
       "    </tr>\n",
       "    <tr>\n",
       "      <th>6493</th>\n",
       "      <td>1</td>\n",
       "      <td>0</td>\n",
       "    </tr>\n",
       "    <tr>\n",
       "      <th>6494</th>\n",
       "      <td>1</td>\n",
       "      <td>0</td>\n",
       "    </tr>\n",
       "    <tr>\n",
       "      <th>6495</th>\n",
       "      <td>1</td>\n",
       "      <td>0</td>\n",
       "    </tr>\n",
       "    <tr>\n",
       "      <th>6496</th>\n",
       "      <td>1</td>\n",
       "      <td>0</td>\n",
       "    </tr>\n",
       "  </tbody>\n",
       "</table>\n",
       "<p>6497 rows × 2 columns</p>\n",
       "</div>"
      ],
      "text/plain": [
       "      kmeans_clsuter_0  kmeans_clsuter_1\n",
       "0                    0                 1\n",
       "1                    0                 1\n",
       "2                    0                 1\n",
       "3                    0                 1\n",
       "4                    0                 1\n",
       "...                ...               ...\n",
       "6492                 1                 0\n",
       "6493                 1                 0\n",
       "6494                 1                 0\n",
       "6495                 1                 0\n",
       "6496                 1                 0\n",
       "\n",
       "[6497 rows x 2 columns]"
      ]
     },
     "execution_count": 166,
     "metadata": {},
     "output_type": "execute_result"
    }
   ],
   "source": [
    "km_cols"
   ]
  },
  {
   "cell_type": "code",
   "execution_count": 167,
   "metadata": {},
   "outputs": [
    {
     "data": {
      "text/html": [
       "<div>\n",
       "<style scoped>\n",
       "    .dataframe tbody tr th:only-of-type {\n",
       "        vertical-align: middle;\n",
       "    }\n",
       "\n",
       "    .dataframe tbody tr th {\n",
       "        vertical-align: top;\n",
       "    }\n",
       "\n",
       "    .dataframe thead th {\n",
       "        text-align: right;\n",
       "    }\n",
       "</style>\n",
       "<table border=\"1\" class=\"dataframe\">\n",
       "  <thead>\n",
       "    <tr style=\"text-align: right;\">\n",
       "      <th></th>\n",
       "      <th>count</th>\n",
       "      <th>mean</th>\n",
       "      <th>std</th>\n",
       "      <th>min</th>\n",
       "      <th>25%</th>\n",
       "      <th>50%</th>\n",
       "      <th>75%</th>\n",
       "      <th>max</th>\n",
       "    </tr>\n",
       "  </thead>\n",
       "  <tbody>\n",
       "    <tr>\n",
       "      <th>fixed_acidity</th>\n",
       "      <td>6497.0</td>\n",
       "      <td>-9.449114e-16</td>\n",
       "      <td>1.000077</td>\n",
       "      <td>-3.629006</td>\n",
       "      <td>-0.644436</td>\n",
       "      <td>-0.106896</td>\n",
       "      <td>0.471461</td>\n",
       "      <td>5.049633</td>\n",
       "    </tr>\n",
       "    <tr>\n",
       "      <th>volatile_acidity</th>\n",
       "      <td>6497.0</td>\n",
       "      <td>1.749836e-16</td>\n",
       "      <td>1.000077</td>\n",
       "      <td>-1.817681</td>\n",
       "      <td>-0.684343</td>\n",
       "      <td>-0.269292</td>\n",
       "      <td>0.443810</td>\n",
       "      <td>5.771086</td>\n",
       "    </tr>\n",
       "    <tr>\n",
       "      <th>citric_acid</th>\n",
       "      <td>6497.0</td>\n",
       "      <td>2.187295e-17</td>\n",
       "      <td>1.000077</td>\n",
       "      <td>-2.192833</td>\n",
       "      <td>-0.472334</td>\n",
       "      <td>-0.059414</td>\n",
       "      <td>0.491146</td>\n",
       "      <td>9.231281</td>\n",
       "    </tr>\n",
       "    <tr>\n",
       "      <th>residual_sugar</th>\n",
       "      <td>6497.0</td>\n",
       "      <td>1.749836e-17</td>\n",
       "      <td>1.000077</td>\n",
       "      <td>-1.687053</td>\n",
       "      <td>-0.866619</td>\n",
       "      <td>-0.343710</td>\n",
       "      <td>0.861368</td>\n",
       "      <td>3.783867</td>\n",
       "    </tr>\n",
       "    <tr>\n",
       "      <th>chlorides</th>\n",
       "      <td>6497.0</td>\n",
       "      <td>6.999344e-17</td>\n",
       "      <td>1.000077</td>\n",
       "      <td>-1.463780</td>\n",
       "      <td>-0.543350</td>\n",
       "      <td>-0.262922</td>\n",
       "      <td>0.290773</td>\n",
       "      <td>13.734706</td>\n",
       "    </tr>\n",
       "    <tr>\n",
       "      <th>free_sulfur_dioxide</th>\n",
       "      <td>6497.0</td>\n",
       "      <td>-1.749836e-16</td>\n",
       "      <td>1.000077</td>\n",
       "      <td>-3.927293</td>\n",
       "      <td>-0.574982</td>\n",
       "      <td>0.204386</td>\n",
       "      <td>0.717742</td>\n",
       "      <td>3.665722</td>\n",
       "    </tr>\n",
       "    <tr>\n",
       "      <th>total_sulfur_dioxide</th>\n",
       "      <td>6497.0</td>\n",
       "      <td>-6.999344e-17</td>\n",
       "      <td>1.000077</td>\n",
       "      <td>-1.941780</td>\n",
       "      <td>-0.685532</td>\n",
       "      <td>0.039907</td>\n",
       "      <td>0.712265</td>\n",
       "      <td>5.737257</td>\n",
       "    </tr>\n",
       "    <tr>\n",
       "      <th>density</th>\n",
       "      <td>6497.0</td>\n",
       "      <td>-3.552167e-15</td>\n",
       "      <td>1.000077</td>\n",
       "      <td>-2.530192</td>\n",
       "      <td>-0.785953</td>\n",
       "      <td>0.064489</td>\n",
       "      <td>0.764853</td>\n",
       "      <td>14.768791</td>\n",
       "    </tr>\n",
       "    <tr>\n",
       "      <th>pH</th>\n",
       "      <td>6497.0</td>\n",
       "      <td>2.729744e-15</td>\n",
       "      <td>1.000077</td>\n",
       "      <td>-3.100615</td>\n",
       "      <td>-0.674862</td>\n",
       "      <td>-0.052874</td>\n",
       "      <td>0.631312</td>\n",
       "      <td>4.923029</td>\n",
       "    </tr>\n",
       "    <tr>\n",
       "      <th>sulphates</th>\n",
       "      <td>6497.0</td>\n",
       "      <td>-1.749836e-16</td>\n",
       "      <td>1.000077</td>\n",
       "      <td>-2.432834</td>\n",
       "      <td>-0.699339</td>\n",
       "      <td>-0.105201</td>\n",
       "      <td>0.526688</td>\n",
       "      <td>7.387697</td>\n",
       "    </tr>\n",
       "    <tr>\n",
       "      <th>alcohol</th>\n",
       "      <td>6497.0</td>\n",
       "      <td>9.974065e-16</td>\n",
       "      <td>1.000077</td>\n",
       "      <td>-2.089350</td>\n",
       "      <td>-0.831615</td>\n",
       "      <td>-0.160823</td>\n",
       "      <td>0.677667</td>\n",
       "      <td>3.696231</td>\n",
       "    </tr>\n",
       "    <tr>\n",
       "      <th>quality</th>\n",
       "      <td>6497.0</td>\n",
       "      <td>5.818378e+00</td>\n",
       "      <td>0.873255</td>\n",
       "      <td>3.000000</td>\n",
       "      <td>5.000000</td>\n",
       "      <td>6.000000</td>\n",
       "      <td>6.000000</td>\n",
       "      <td>9.000000</td>\n",
       "    </tr>\n",
       "    <tr>\n",
       "      <th>kmeans</th>\n",
       "      <td>6497.0</td>\n",
       "      <td>2.561182e-01</td>\n",
       "      <td>0.436521</td>\n",
       "      <td>0.000000</td>\n",
       "      <td>0.000000</td>\n",
       "      <td>0.000000</td>\n",
       "      <td>1.000000</td>\n",
       "      <td>1.000000</td>\n",
       "    </tr>\n",
       "    <tr>\n",
       "      <th>agglom</th>\n",
       "      <td>6497.0</td>\n",
       "      <td>2.633523e-01</td>\n",
       "      <td>0.440486</td>\n",
       "      <td>0.000000</td>\n",
       "      <td>0.000000</td>\n",
       "      <td>0.000000</td>\n",
       "      <td>1.000000</td>\n",
       "      <td>1.000000</td>\n",
       "    </tr>\n",
       "  </tbody>\n",
       "</table>\n",
       "</div>"
      ],
      "text/plain": [
       "                       count          mean       std       min       25%  \\\n",
       "fixed_acidity         6497.0 -9.449114e-16  1.000077 -3.629006 -0.644436   \n",
       "volatile_acidity      6497.0  1.749836e-16  1.000077 -1.817681 -0.684343   \n",
       "citric_acid           6497.0  2.187295e-17  1.000077 -2.192833 -0.472334   \n",
       "residual_sugar        6497.0  1.749836e-17  1.000077 -1.687053 -0.866619   \n",
       "chlorides             6497.0  6.999344e-17  1.000077 -1.463780 -0.543350   \n",
       "free_sulfur_dioxide   6497.0 -1.749836e-16  1.000077 -3.927293 -0.574982   \n",
       "total_sulfur_dioxide  6497.0 -6.999344e-17  1.000077 -1.941780 -0.685532   \n",
       "density               6497.0 -3.552167e-15  1.000077 -2.530192 -0.785953   \n",
       "pH                    6497.0  2.729744e-15  1.000077 -3.100615 -0.674862   \n",
       "sulphates             6497.0 -1.749836e-16  1.000077 -2.432834 -0.699339   \n",
       "alcohol               6497.0  9.974065e-16  1.000077 -2.089350 -0.831615   \n",
       "quality               6497.0  5.818378e+00  0.873255  3.000000  5.000000   \n",
       "kmeans                6497.0  2.561182e-01  0.436521  0.000000  0.000000   \n",
       "agglom                6497.0  2.633523e-01  0.440486  0.000000  0.000000   \n",
       "\n",
       "                           50%       75%        max  \n",
       "fixed_acidity        -0.106896  0.471461   5.049633  \n",
       "volatile_acidity     -0.269292  0.443810   5.771086  \n",
       "citric_acid          -0.059414  0.491146   9.231281  \n",
       "residual_sugar       -0.343710  0.861368   3.783867  \n",
       "chlorides            -0.262922  0.290773  13.734706  \n",
       "free_sulfur_dioxide   0.204386  0.717742   3.665722  \n",
       "total_sulfur_dioxide  0.039907  0.712265   5.737257  \n",
       "density               0.064489  0.764853  14.768791  \n",
       "pH                   -0.052874  0.631312   4.923029  \n",
       "sulphates            -0.105201  0.526688   7.387697  \n",
       "alcohol              -0.160823  0.677667   3.696231  \n",
       "quality               6.000000  6.000000   9.000000  \n",
       "kmeans                0.000000  1.000000   1.000000  \n",
       "agglom                0.000000  1.000000   1.000000  "
      ]
     },
     "execution_count": 167,
     "metadata": {},
     "output_type": "execute_result"
    }
   ],
   "source": [
    "wine.describe().T"
   ]
  },
  {
   "cell_type": "code",
   "execution_count": null,
   "metadata": {},
   "outputs": [],
   "source": []
  }
 ],
 "metadata": {
  "kernelspec": {
   "display_name": "Python 3",
   "language": "python",
   "name": "python3"
  },
  "language_info": {
   "codemirror_mode": {
    "name": "ipython",
    "version": 3
   },
   "file_extension": ".py",
   "mimetype": "text/x-python",
   "name": "python",
   "nbconvert_exporter": "python",
   "pygments_lexer": "ipython3",
   "version": "3.7.4"
  }
 },
 "nbformat": 4,
 "nbformat_minor": 4
}
