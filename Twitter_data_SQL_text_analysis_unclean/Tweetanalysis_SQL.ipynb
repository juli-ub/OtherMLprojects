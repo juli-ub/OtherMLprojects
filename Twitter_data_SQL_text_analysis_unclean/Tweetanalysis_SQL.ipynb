{
 "cells": [
  {
   "cell_type": "code",
   "execution_count": 1,
   "metadata": {},
   "outputs": [],
   "source": [
    "import pandas as pd\n",
    "import numpy as np\n",
    "import os\n",
    "import matplotlib.pyplot as plt\n",
    "%matplotlib inline\n",
    "import seaborn as sns"
   ]
  },
  {
   "cell_type": "code",
   "execution_count": 2,
   "metadata": {},
   "outputs": [],
   "source": [
    "from scipy.stats import pearsonr"
   ]
  },
  {
   "cell_type": "code",
   "execution_count": 3,
   "metadata": {},
   "outputs": [],
   "source": [
    "# df=pd.read_csv('athlete_events.csv')"
   ]
  },
  {
   "cell_type": "code",
   "execution_count": 4,
   "metadata": {},
   "outputs": [],
   "source": [
    "# %%time\n",
    "# dj_1=pd.read_json('tweets_-20.json',lines=True)#,orient='columns')"
   ]
  },
  {
   "cell_type": "code",
   "execution_count": 5,
   "metadata": {},
   "outputs": [],
   "source": [
    "# dj_1.to_csv('dj_-20.csv')"
   ]
  },
  {
   "cell_type": "code",
   "execution_count": 6,
   "metadata": {},
   "outputs": [
    {
     "name": "stderr",
     "output_type": "stream",
     "text": [
      "<string>:2: DtypeWarning: Columns (2,8,27,31,32) have mixed types. Specify dtype option on import or set low_memory=False.\n"
     ]
    },
    {
     "name": "stdout",
     "output_type": "stream",
     "text": [
      "Wall time: 11.9 s\n"
     ]
    }
   ],
   "source": [
    "%%time\n",
    "dj_1=pd.read_csv('dj_-20.csv')"
   ]
  },
  {
   "cell_type": "code",
   "execution_count": 7,
   "metadata": {},
   "outputs": [
    {
     "data": {
      "text/plain": [
       "Series([], Name: contributors, dtype: int64)"
      ]
     },
     "execution_count": 7,
     "metadata": {},
     "output_type": "execute_result"
    }
   ],
   "source": [
    "dj_1['contributors'].value_counts()"
   ]
  },
  {
   "cell_type": "code",
   "execution_count": 8,
   "metadata": {},
   "outputs": [
    {
     "data": {
      "text/plain": [
       "<bound method IndexOpsMixin.nunique of 0         NaN\n",
       "1         NaN\n",
       "2         NaN\n",
       "3         NaN\n",
       "4         NaN\n",
       "           ..\n",
       "1243345   NaN\n",
       "1243346   NaN\n",
       "1243347   NaN\n",
       "1243348   NaN\n",
       "1243349   NaN\n",
       "Name: contributors, Length: 1243350, dtype: float64>"
      ]
     },
     "execution_count": 8,
     "metadata": {},
     "output_type": "execute_result"
    }
   ],
   "source": [
    "dj_1['contributors'].nunique"
   ]
  },
  {
   "cell_type": "code",
   "execution_count": 9,
   "metadata": {},
   "outputs": [
    {
     "data": {
      "text/plain": [
       "True"
      ]
     },
     "execution_count": 9,
     "metadata": {},
     "output_type": "execute_result"
    }
   ],
   "source": [
    "dj_1['contributors'].isnull().all()"
   ]
  },
  {
   "cell_type": "code",
   "execution_count": 10,
   "metadata": {},
   "outputs": [
    {
     "data": {
      "text/plain": [
       "Unnamed: 0                   False\n",
       "contributors                  True\n",
       "coordinates                  False\n",
       "created_at                   False\n",
       "display_text_range           False\n",
       "entities                     False\n",
       "favorite_count               False\n",
       "favorited                    False\n",
       "geo                          False\n",
       "id                           False\n",
       "id_str                       False\n",
       "in_reply_to_screen_name      False\n",
       "in_reply_to_status_id        False\n",
       "in_reply_to_status_id_str    False\n",
       "in_reply_to_user_id          False\n",
       "in_reply_to_user_id_str      False\n",
       "is_quote_status              False\n",
       "lang                         False\n",
       "place                        False\n",
       "retweet_count                False\n",
       "retweeted                    False\n",
       "screen_name                  False\n",
       "source                       False\n",
       "text                         False\n",
       "truncated                    False\n",
       "user_id                      False\n",
       "possibly_sensitive           False\n",
       "extended_entities            False\n",
       "quoted_status_id             False\n",
       "quoted_status_id_str         False\n",
       "withheld_copyright           False\n",
       "withheld_in_countries        False\n",
       "withheld_scope               False\n",
       "dtype: bool"
      ]
     },
     "execution_count": 10,
     "metadata": {},
     "output_type": "execute_result"
    }
   ],
   "source": [
    "dj_1.isnull().all()"
   ]
  },
  {
   "cell_type": "code",
   "execution_count": 11,
   "metadata": {},
   "outputs": [
    {
     "data": {
      "text/plain": [
       "{'coordinates': [-77.00710168, 38.88976393], 'type': 'Point'}    43\n",
       "{'coordinates': [-77.00703621, 38.88973011], 'type': 'Point'}    33\n",
       "{'coordinates': [-77.0105, 38.8868], 'type': 'Point'}            20\n",
       "{'coordinates': [-77.00692892, 38.88675714], 'type': 'Point'}    16\n",
       "{'coordinates': [-77.00694444, 38.88694444], 'type': 'Point'}    15\n",
       "                                                                 ..\n",
       "{'coordinates': [-78.46599709, 38.09929342], 'type': 'Point'}     1\n",
       "{'coordinates': [-82.49281053, 27.90200764], 'type': 'Point'}     1\n",
       "{'coordinates': [-100.970551, 29.459003], 'type': 'Point'}        1\n",
       "{'coordinates': [-77.53103374, 41.02954343], 'type': 'Point'}     1\n",
       "{'coordinates': [-77.01190141, 38.88601897], 'type': 'Point'}     1\n",
       "Name: coordinates, Length: 2436, dtype: int64"
      ]
     },
     "execution_count": 11,
     "metadata": {},
     "output_type": "execute_result"
    }
   ],
   "source": [
    "dj_1['coordinates'].value_counts()"
   ]
  },
  {
   "cell_type": "code",
   "execution_count": 12,
   "metadata": {},
   "outputs": [],
   "source": [
    "#min() not working because not integers..yet\n",
    "#how to you cluster according to coordinates?"
   ]
  },
  {
   "cell_type": "code",
   "execution_count": 13,
   "metadata": {},
   "outputs": [
    {
     "data": {
      "text/plain": [
       "2015-02-06 15:42:07    34\n",
       "2015-02-06 15:49:06    19\n",
       "2014-03-12 18:00:52     9\n",
       "2015-05-28 21:55:48     8\n",
       "2014-01-24 18:06:42     6\n",
       "                       ..\n",
       "2014-06-06 17:48:19     1\n",
       "2014-09-17 21:47:10     1\n",
       "2016-10-16 20:13:01     1\n",
       "2017-02-14 19:08:53     1\n",
       "2016-11-03 15:48:39     1\n",
       "Name: created_at, Length: 1225753, dtype: int64"
      ]
     },
     "execution_count": 13,
     "metadata": {},
     "output_type": "execute_result"
    }
   ],
   "source": [
    "dj_1['created_at'].value_counts()"
   ]
  },
  {
   "cell_type": "code",
   "execution_count": 14,
   "metadata": {},
   "outputs": [],
   "source": [
    "# from pandasql import sqldf"
   ]
  },
  {
   "cell_type": "code",
   "execution_count": 15,
   "metadata": {},
   "outputs": [],
   "source": [
    "# pysqldf = lambda q: sqldf(q, globals())"
   ]
  },
  {
   "cell_type": "code",
   "execution_count": 16,
   "metadata": {},
   "outputs": [],
   "source": [
    "# %%time\n",
    "# pysqldf(\"Select created_at from dj_1\")"
   ]
  },
  {
   "cell_type": "code",
   "execution_count": 17,
   "metadata": {},
   "outputs": [],
   "source": [
    "# datetime=dj_1['created_at']"
   ]
  },
  {
   "cell_type": "code",
   "execution_count": 18,
   "metadata": {},
   "outputs": [],
   "source": [
    "# datetime"
   ]
  },
  {
   "cell_type": "code",
   "execution_count": 19,
   "metadata": {},
   "outputs": [],
   "source": [
    "dj_1['year'] = pd.DatetimeIndex(dj_1['created_at']).year"
   ]
  },
  {
   "cell_type": "code",
   "execution_count": 20,
   "metadata": {},
   "outputs": [
    {
     "data": {
      "text/html": [
       "<div>\n",
       "<style scoped>\n",
       "    .dataframe tbody tr th:only-of-type {\n",
       "        vertical-align: middle;\n",
       "    }\n",
       "\n",
       "    .dataframe tbody tr th {\n",
       "        vertical-align: top;\n",
       "    }\n",
       "\n",
       "    .dataframe thead th {\n",
       "        text-align: right;\n",
       "    }\n",
       "</style>\n",
       "<table border=\"1\" class=\"dataframe\">\n",
       "  <thead>\n",
       "    <tr style=\"text-align: right;\">\n",
       "      <th></th>\n",
       "      <th>Unnamed: 0</th>\n",
       "      <th>contributors</th>\n",
       "      <th>coordinates</th>\n",
       "      <th>created_at</th>\n",
       "      <th>display_text_range</th>\n",
       "      <th>entities</th>\n",
       "      <th>favorite_count</th>\n",
       "      <th>favorited</th>\n",
       "      <th>geo</th>\n",
       "      <th>id</th>\n",
       "      <th>...</th>\n",
       "      <th>truncated</th>\n",
       "      <th>user_id</th>\n",
       "      <th>possibly_sensitive</th>\n",
       "      <th>extended_entities</th>\n",
       "      <th>quoted_status_id</th>\n",
       "      <th>quoted_status_id_str</th>\n",
       "      <th>withheld_copyright</th>\n",
       "      <th>withheld_in_countries</th>\n",
       "      <th>withheld_scope</th>\n",
       "      <th>year</th>\n",
       "    </tr>\n",
       "  </thead>\n",
       "  <tbody>\n",
       "    <tr>\n",
       "      <th>1243345</th>\n",
       "      <td>1243345</td>\n",
       "      <td>NaN</td>\n",
       "      <td>NaN</td>\n",
       "      <td>2017-06-06 17:15:01</td>\n",
       "      <td>[0, 128]</td>\n",
       "      <td>{'hashtags': [{'indices': [12, 22], 'text': 'D...</td>\n",
       "      <td>5</td>\n",
       "      <td>False</td>\n",
       "      <td>NaN</td>\n",
       "      <td>872139777444917249</td>\n",
       "      <td>...</td>\n",
       "      <td>False</td>\n",
       "      <td>193441812</td>\n",
       "      <td>NaN</td>\n",
       "      <td>NaN</td>\n",
       "      <td>NaN</td>\n",
       "      <td>NaN</td>\n",
       "      <td>NaN</td>\n",
       "      <td>NaN</td>\n",
       "      <td>NaN</td>\n",
       "      <td>2017</td>\n",
       "    </tr>\n",
       "    <tr>\n",
       "      <th>1243346</th>\n",
       "      <td>1243346</td>\n",
       "      <td>NaN</td>\n",
       "      <td>NaN</td>\n",
       "      <td>2017-06-06 17:15:03</td>\n",
       "      <td>[0, 140]</td>\n",
       "      <td>{'hashtags': [{'indices': [22, 35], 'text': 'C...</td>\n",
       "      <td>0</td>\n",
       "      <td>False</td>\n",
       "      <td>NaN</td>\n",
       "      <td>872139786378780677</td>\n",
       "      <td>...</td>\n",
       "      <td>False</td>\n",
       "      <td>364415553</td>\n",
       "      <td>0.0</td>\n",
       "      <td>NaN</td>\n",
       "      <td>8.720923e+17</td>\n",
       "      <td>8.720923e+17</td>\n",
       "      <td>NaN</td>\n",
       "      <td>NaN</td>\n",
       "      <td>NaN</td>\n",
       "      <td>2017</td>\n",
       "    </tr>\n",
       "    <tr>\n",
       "      <th>1243347</th>\n",
       "      <td>1243347</td>\n",
       "      <td>NaN</td>\n",
       "      <td>NaN</td>\n",
       "      <td>2017-06-06 17:15:17</td>\n",
       "      <td>[14, 153]</td>\n",
       "      <td>{'hashtags': [{'indices': [124, 140], 'text': ...</td>\n",
       "      <td>0</td>\n",
       "      <td>False</td>\n",
       "      <td>NaN</td>\n",
       "      <td>872139844717338624</td>\n",
       "      <td>...</td>\n",
       "      <td>False</td>\n",
       "      <td>21406834</td>\n",
       "      <td>NaN</td>\n",
       "      <td>NaN</td>\n",
       "      <td>NaN</td>\n",
       "      <td>NaN</td>\n",
       "      <td>NaN</td>\n",
       "      <td>NaN</td>\n",
       "      <td>NaN</td>\n",
       "      <td>2017</td>\n",
       "    </tr>\n",
       "    <tr>\n",
       "      <th>1243348</th>\n",
       "      <td>1243348</td>\n",
       "      <td>NaN</td>\n",
       "      <td>NaN</td>\n",
       "      <td>2017-06-06 17:15:57</td>\n",
       "      <td>[0, 135]</td>\n",
       "      <td>{'hashtags': [{'indices': [55, 58], 'text': 'V...</td>\n",
       "      <td>0</td>\n",
       "      <td>False</td>\n",
       "      <td>NaN</td>\n",
       "      <td>872140013416443906</td>\n",
       "      <td>...</td>\n",
       "      <td>False</td>\n",
       "      <td>37094727</td>\n",
       "      <td>0.0</td>\n",
       "      <td>NaN</td>\n",
       "      <td>NaN</td>\n",
       "      <td>NaN</td>\n",
       "      <td>NaN</td>\n",
       "      <td>NaN</td>\n",
       "      <td>NaN</td>\n",
       "      <td>2017</td>\n",
       "    </tr>\n",
       "    <tr>\n",
       "      <th>1243349</th>\n",
       "      <td>1243349</td>\n",
       "      <td>NaN</td>\n",
       "      <td>NaN</td>\n",
       "      <td>2017-06-06 17:16:00</td>\n",
       "      <td>[0, 119]</td>\n",
       "      <td>{'hashtags': [{'indices': [0, 15], 'text': 'Wr...</td>\n",
       "      <td>0</td>\n",
       "      <td>False</td>\n",
       "      <td>NaN</td>\n",
       "      <td>872140026737336320</td>\n",
       "      <td>...</td>\n",
       "      <td>False</td>\n",
       "      <td>193441812</td>\n",
       "      <td>NaN</td>\n",
       "      <td>NaN</td>\n",
       "      <td>NaN</td>\n",
       "      <td>NaN</td>\n",
       "      <td>NaN</td>\n",
       "      <td>NaN</td>\n",
       "      <td>NaN</td>\n",
       "      <td>2017</td>\n",
       "    </tr>\n",
       "  </tbody>\n",
       "</table>\n",
       "<p>5 rows × 34 columns</p>\n",
       "</div>"
      ],
      "text/plain": [
       "         Unnamed: 0  contributors coordinates           created_at  \\\n",
       "1243345     1243345           NaN         NaN  2017-06-06 17:15:01   \n",
       "1243346     1243346           NaN         NaN  2017-06-06 17:15:03   \n",
       "1243347     1243347           NaN         NaN  2017-06-06 17:15:17   \n",
       "1243348     1243348           NaN         NaN  2017-06-06 17:15:57   \n",
       "1243349     1243349           NaN         NaN  2017-06-06 17:16:00   \n",
       "\n",
       "        display_text_range                                           entities  \\\n",
       "1243345           [0, 128]  {'hashtags': [{'indices': [12, 22], 'text': 'D...   \n",
       "1243346           [0, 140]  {'hashtags': [{'indices': [22, 35], 'text': 'C...   \n",
       "1243347          [14, 153]  {'hashtags': [{'indices': [124, 140], 'text': ...   \n",
       "1243348           [0, 135]  {'hashtags': [{'indices': [55, 58], 'text': 'V...   \n",
       "1243349           [0, 119]  {'hashtags': [{'indices': [0, 15], 'text': 'Wr...   \n",
       "\n",
       "         favorite_count  favorited  geo                  id  ...  truncated  \\\n",
       "1243345               5      False  NaN  872139777444917249  ...      False   \n",
       "1243346               0      False  NaN  872139786378780677  ...      False   \n",
       "1243347               0      False  NaN  872139844717338624  ...      False   \n",
       "1243348               0      False  NaN  872140013416443906  ...      False   \n",
       "1243349               0      False  NaN  872140026737336320  ...      False   \n",
       "\n",
       "           user_id  possibly_sensitive  extended_entities  quoted_status_id  \\\n",
       "1243345  193441812                 NaN                NaN               NaN   \n",
       "1243346  364415553                 0.0                NaN      8.720923e+17   \n",
       "1243347   21406834                 NaN                NaN               NaN   \n",
       "1243348   37094727                 0.0                NaN               NaN   \n",
       "1243349  193441812                 NaN                NaN               NaN   \n",
       "\n",
       "         quoted_status_id_str  withheld_copyright withheld_in_countries  \\\n",
       "1243345                   NaN                 NaN                   NaN   \n",
       "1243346          8.720923e+17                 NaN                   NaN   \n",
       "1243347                   NaN                 NaN                   NaN   \n",
       "1243348                   NaN                 NaN                   NaN   \n",
       "1243349                   NaN                 NaN                   NaN   \n",
       "\n",
       "        withheld_scope  year  \n",
       "1243345            NaN  2017  \n",
       "1243346            NaN  2017  \n",
       "1243347            NaN  2017  \n",
       "1243348            NaN  2017  \n",
       "1243349            NaN  2017  \n",
       "\n",
       "[5 rows x 34 columns]"
      ]
     },
     "execution_count": 20,
     "metadata": {},
     "output_type": "execute_result"
    }
   ],
   "source": [
    "dj_1.tail()"
   ]
  },
  {
   "cell_type": "code",
   "execution_count": 151,
   "metadata": {},
   "outputs": [
    {
     "data": {
      "text/plain": [
       "Text(0, 0.5, 'Number of Tweets')"
      ]
     },
     "execution_count": 151,
     "metadata": {},
     "output_type": "execute_result"
    },
    {
     "data": {
      "image/png": "[encoded data removed]",
      "text/plain": [
       "<Figure size 432x288 with 1 Axes>"
      ]
     },
     "metadata": {
      "needs_background": "light"
     },
     "output_type": "display_data"
    }
   ],
   "source": [
    "dj_1['year'].hist()\n",
    "plt.title('Tweets by Year',fontsize=17,pad=5)\n",
    "plt.xlabel(\"Year\",fontsize=12,labelpad=5)\n",
    "plt.ylabel(\"Number of Tweets\",fontsize=12,labelpad=5)"
   ]
  },
  {
   "cell_type": "code",
   "execution_count": 22,
   "metadata": {},
   "outputs": [
    {
     "data": {
      "text/plain": [
       "[0, 140]     199704\n",
       "[0, 139]      65081\n",
       "[0, 144]      56314\n",
       "[0, 138]      51636\n",
       "[0, 137]      43808\n",
       "              ...  \n",
       "[30, 30]          1\n",
       "[20, 72]          1\n",
       "[25, 117]         1\n",
       "[70, 80]          1\n",
       "[32, 100]         1\n",
       "Name: display_text_range, Length: 3784, dtype: int64"
      ]
     },
     "execution_count": 22,
     "metadata": {},
     "output_type": "execute_result"
    }
   ],
   "source": [
    "dj_1['display_text_range'].value_counts()"
   ]
  },
  {
   "cell_type": "code",
   "execution_count": 23,
   "metadata": {},
   "outputs": [
    {
     "data": {
      "text/plain": [
       "<AxesSubplot:>"
      ]
     },
     "execution_count": 23,
     "metadata": {},
     "output_type": "execute_result"
    },
    {
     "data": {
      "image/png": "[encoded data removed]",
      "text/plain": [
       "<Figure size 432x288 with 1 Axes>"
      ]
     },
     "metadata": {
      "needs_background": "light"
     },
     "output_type": "display_data"
    }
   ],
   "source": [
    "dj_1['display_text_range'].hist()"
   ]
  },
  {
   "cell_type": "code",
   "execution_count": 24,
   "metadata": {},
   "outputs": [],
   "source": [
    "# dj_1['display_text_range'] = pd.to_numeric(dj_1['display_text_range'], errors='coerce')"
   ]
  },
  {
   "cell_type": "code",
   "execution_count": 25,
   "metadata": {},
   "outputs": [],
   "source": [
    "# pd.qcut(dj_1['display_text_range'],q=10,duplicates='drop')\n",
    "# pd.to_numeric(dj_1['display_text_range'][0])\n",
    "# dj_1['display_text_range'][0]=dj_1['display_text_range'][0].replace(\"'\", \"\")\n",
    "# dj_1['display_text_range2']=dj_1['display_text_range'].str.replace(\"'\", \"\")\n",
    "# dj_1['display_text_range']"
   ]
  },
  {
   "cell_type": "code",
   "execution_count": 26,
   "metadata": {},
   "outputs": [],
   "source": [
    "num2=dj_1['display_text_range'].apply(lambda st: st[st.find(\" \")+1:st.find(\"]\")])"
   ]
  },
  {
   "cell_type": "code",
   "execution_count": 27,
   "metadata": {},
   "outputs": [],
   "source": [
    "num2=num2.astype(int)"
   ]
  },
  {
   "cell_type": "code",
   "execution_count": 28,
   "metadata": {},
   "outputs": [],
   "source": [
    "num1=dj_1['display_text_range'].apply(lambda st: st[st.find(\"[\")+1:st.find(\",\")])"
   ]
  },
  {
   "cell_type": "code",
   "execution_count": 29,
   "metadata": {},
   "outputs": [],
   "source": [
    "num1=num1.astype(int)"
   ]
  },
  {
   "cell_type": "code",
   "execution_count": 30,
   "metadata": {},
   "outputs": [
    {
     "data": {
      "text/plain": [
       "0          140\n",
       "1          119\n",
       "2          115\n",
       "3          120\n",
       "4           29\n",
       "          ... \n",
       "1243345    128\n",
       "1243346    140\n",
       "1243347    139\n",
       "1243348    135\n",
       "1243349    119\n",
       "Name: twlength, Length: 1243350, dtype: int32"
      ]
     },
     "execution_count": 30,
     "metadata": {},
     "output_type": "execute_result"
    }
   ],
   "source": [
    "dj_1['twlength']=num2-num1\n",
    "dj_1['twlength']"
   ]
  },
  {
   "cell_type": "code",
   "execution_count": 153,
   "metadata": {},
   "outputs": [
    {
     "data": {
      "text/plain": [
       "Text(0, 0.5, 'Number of Tweets')"
      ]
     },
     "execution_count": 153,
     "metadata": {},
     "output_type": "execute_result"
    },
    {
     "data": {
      "image/png": "[encoded data removed]",
      "text/plain": [
       "<Figure size 432x288 with 1 Axes>"
      ]
     },
     "metadata": {
      "needs_background": "light"
     },
     "output_type": "display_data"
    }
   ],
   "source": [
    "dj_1['twlength'].hist()\n",
    "plt.title('Number of Tweets by length',fontsize=17,pad=5)\n",
    "plt.xlabel(\"Length of Tweet\",fontsize=12,labelpad=5)\n",
    "plt.ylabel(\"Number of Tweets\",fontsize=12,labelpad=5)"
   ]
  },
  {
   "cell_type": "code",
   "execution_count": 32,
   "metadata": {},
   "outputs": [
    {
     "data": {
      "text/plain": [
       "{'hashtags': [], 'symbols': [], 'urls': [], 'user_mentions': []}                                                                                                                                                                                                                                                                                                                                                                                                                                                                                                                                                                                                                                         95804\n",
       "{'hashtags': [], 'symbols': [], 'urls': [], 'user_mentions': [{'id': 301549400, 'id_str': '301549400', 'indices': [3, 19], 'name': 'House Appropriations', 'screen_name': 'HouseAppropsGOP'}, {'id': 550401754, 'id_str': '550401754', 'indices': [22, 35], 'name': 'Hal Rogers', 'screen_name': 'RepHalRogers'}]}                                                                                                                                                                                                                                                                                                                                                                                         458\n",
       "{'hashtags': [], 'symbols': [], 'urls': [], 'user_mentions': [{'id': 31122582, 'id_str': '31122582', 'indices': [3, 17], 'name': 'House OversightDems', 'screen_name': 'OversightDems'}, {'id': 787373558, 'id_str': '787373558', 'indices': [20, 32], 'name': 'Elijah E. Cummings', 'screen_name': 'RepCummings'}]}                                                                                                                                                                                                                                                                                                                                                                                       435\n",
       "{'hashtags': [], 'symbols': [], 'urls': [], 'user_mentions': [{'id': 18916432, 'id_str': '18916432', 'indices': [3, 15], 'name': 'Paul Ryan', 'screen_name': 'SpeakerRyan'}]}                                                                                                                                                                                                                                                                                                                                                                                                                                                                                                                              387\n",
       "{'hashtags': [], 'symbols': [], 'urls': [], 'user_mentions': [{'id': 29450962, 'id_str': '29450962', 'indices': [3, 16], 'name': 'John Lewis', 'screen_name': 'repjohnlewis'}]}                                                                                                                                                                                                                                                                                                                                                                                                                                                                                                                            355\n",
       "                                                                                                                                                                                                                                                                                                                                                                                                                                                                                                                                                                                                                                                                                                         ...  \n",
       "{'hashtags': [{'indices': [35, 52], 'text': 'BudgetControlAct'}, {'indices': [91, 107], 'text': 'smallbusinesses'}], 'symbols': [], 'urls': [], 'user_mentions': [{'id': 2285522652, 'id_str': '2285522652', 'indices': [3, 17], 'name': 'House GOP', 'screen_name': 'GOPConference'}, {'id': 3120778402, 'id_str': '3120778402', 'indices': [22, 34], 'name': 'Small Business News', 'screen_name': 'SmallBizGOP'}]}                                                                                                                                                                                                                                                                                        1\n",
       "{'hashtags': [{'indices': [106, 112], 'text': 'GigEm'}, {'indices': [113, 119], 'text': 'Whoop'}, {'indices': [120, 131], 'text': 'BeFearless'}], 'symbols': [], 'urls': [], 'user_mentions': [{'id': 2168694192, 'id_str': '2168694192', 'indices': [3, 12], 'name': 'TexasA&MGovRelations', 'screen_name': 'Aggie_GR'}, {'id': 237312687, 'id_str': '237312687', 'indices': [24, 38], 'name': 'Rep. Bill Flores', 'screen_name': 'RepBillFlores'}, {'id': 18194178, 'id_str': '18194178', 'indices': [69, 77], 'name': 'Randy Kluver', 'screen_name': 'rkluver'}, {'id': 17237540, 'id_str': '17237540', 'indices': [86, 91], 'name': 'Texas A&M University', 'screen_name': 'TAMU'}]}                     1\n",
       "{'hashtags': [], 'symbols': [], 'urls': [{'display_url': 'twitter.com/foxnews/status…', 'expanded_url': 'https://twitter.com/foxnews/status/869970086248853504', 'indices': [17, 40], 'url': 'https://t.co/RCuVXDurW1'}], 'user_mentions': []}                                                                                                                                                                                                                                                                                                                                                                                                                                                               1\n",
       "{'hashtags': [], 'media': [{'display_url': 'pic.twitter.com/V6nPaqbBnp', 'expanded_url': 'https://twitter.com/MarkWarner/status/779757873157005312/photo/1', 'id': 779757859051405312, 'id_str': '779757859051405312', 'indices': [46, 69], 'media_url': 'http://pbs.twimg.com/media/CtJBpDeUAAAyAB5.jpg', 'media_url_https': 'https://pbs.twimg.com/media/CtJBpDeUAAAyAB5.jpg', 'sizes': {'large': {'h': 1536, 'resize': 'fit', 'w': 2048}, 'medium': {'h': 900, 'resize': 'fit', 'w': 1200}, 'small': {'h': 510, 'resize': 'fit', 'w': 680}, 'thumb': {'h': 150, 'resize': 'crop', 'w': 150}}, 'type': 'photo', 'url': 'https://t.co/V6nPaqbBnp'}], 'symbols': [], 'urls': [], 'user_mentions': []}        1\n",
       "{'hashtags': [{'indices': [40, 45], 'text': 'hoco'}, {'indices': [74, 91], 'text': 'PayCheckFairness'}], 'symbols': [], 'urls': [], 'user_mentions': [{'id': 17316879, 'id_str': '17316879', 'indices': [3, 12], 'name': 'Ken Ulman', 'screen_name': 'kenulman'}, {'id': 305620929, 'id_str': '305620929', 'indices': [19, 33], 'name': 'Dutch Ruppersberger', 'screen_name': 'Call_Me_Dutch'}]}                                                                                                                                                                                                                                                                                                             1\n",
       "Name: entities, Length: 1068369, dtype: int64"
      ]
     },
     "execution_count": 32,
     "metadata": {},
     "output_type": "execute_result"
    }
   ],
   "source": [
    "dj_1['entities'].value_counts() #metadata https://developer.twitter.com/en/docs/twitter-api/v1/data-dictionary/object-model/entities\n",
    "#difficult"
   ]
  },
  {
   "cell_type": "code",
   "execution_count": 33,
   "metadata": {},
   "outputs": [
    {
     "data": {
      "text/plain": [
       "0        476815\n",
       "1        131063\n",
       "2         89377\n",
       "3         66397\n",
       "4         50089\n",
       "          ...  \n",
       "12848         1\n",
       "10803         1\n",
       "15311         1\n",
       "19007         1\n",
       "6092          1\n",
       "Name: favorite_count, Length: 10629, dtype: int64"
      ]
     },
     "execution_count": 33,
     "metadata": {},
     "output_type": "execute_result"
    }
   ],
   "source": [
    "dj_1['favorite_count'].value_counts()"
   ]
  },
  {
   "cell_type": "code",
   "execution_count": 34,
   "metadata": {},
   "outputs": [
    {
     "data": {
      "text/plain": [
       "<AxesSubplot:>"
      ]
     },
     "execution_count": 34,
     "metadata": {},
     "output_type": "execute_result"
    },
    {
     "data": {
      "image/png": "[encoded data removed]",
      "text/plain": [
       "<Figure size 432x288 with 1 Axes>"
      ]
     },
     "metadata": {
      "needs_background": "light"
     },
     "output_type": "display_data"
    }
   ],
   "source": [
    "dj_1['favorite_count'].hist()"
   ]
  },
  {
   "cell_type": "code",
   "execution_count": 35,
   "metadata": {},
   "outputs": [
    {
     "data": {
      "text/plain": [
       "<AxesSubplot:>"
      ]
     },
     "execution_count": 35,
     "metadata": {},
     "output_type": "execute_result"
    },
    {
     "data": {
      "image/png": "[encoded data removed]",
      "text/plain": [
       "<Figure size 360x432 with 1 Axes>"
      ]
     },
     "metadata": {
      "needs_background": "light"
     },
     "output_type": "display_data"
    }
   ],
   "source": [
    "dj_1[dj_1['favorite_count']<100].boxplot(column='favorite_count',figsize=(5, 6))"
   ]
  },
  {
   "cell_type": "code",
   "execution_count": 155,
   "metadata": {},
   "outputs": [
    {
     "data": {
      "image/png": "[encoded data removed]",
      "text/plain": [
       "<Figure size 360x432 with 1 Axes>"
      ]
     },
     "metadata": {
      "needs_background": "light"
     },
     "output_type": "display_data"
    }
   ],
   "source": [
    "bplot=dj_1[dj_1['favorite_count']>30000].boxplot(column='favorite_count',figsize=(5, 6))\n",
    "bplot.set_title('Boxplot of Favorite Counts / Likes',fontsize=20,pad=10)\n",
    "bplot.set_ylabel('Number of likes',fontsize=15)\n",
    "bplot.set_xlabel('Tweets with Favorite Count greater than 30 000',fontsize=15,labelpad=10)\n",
    "bplot.tick_params(\n",
    "    axis='x',          # changes apply to the x-axis\n",
    "    which='both',      # both major and minor ticks are affected\n",
    "    bottom=False,      # ticks along the bottom edge are off\n",
    "    top=False,         # ticks along the top edge are off\n",
    "    labelbottom=False)"
   ]
  },
  {
   "cell_type": "code",
   "execution_count": 37,
   "metadata": {},
   "outputs": [
    {
     "data": {
      "text/plain": [
       "1955"
      ]
     },
     "execution_count": 37,
     "metadata": {},
     "output_type": "execute_result"
    }
   ],
   "source": [
    "dj_1['favorite_count'][dj_1['favorite_count']>30000].count()"
   ]
  },
  {
   "cell_type": "code",
   "execution_count": 38,
   "metadata": {},
   "outputs": [
    {
     "data": {
      "text/plain": [
       "1241394"
      ]
     },
     "execution_count": 38,
     "metadata": {},
     "output_type": "execute_result"
    }
   ],
   "source": [
    "dj_1['favorite_count'][dj_1['favorite_count']<30000].count()"
   ]
  },
  {
   "cell_type": "code",
   "execution_count": 39,
   "metadata": {},
   "outputs": [
    {
     "data": {
      "text/plain": [
       "951809"
      ]
     },
     "execution_count": 39,
     "metadata": {},
     "output_type": "execute_result"
    }
   ],
   "source": [
    "dj_1['favorite_count'][dj_1['favorite_count']<10].count()"
   ]
  },
  {
   "cell_type": "code",
   "execution_count": 40,
   "metadata": {},
   "outputs": [],
   "source": [
    "dj_1['decile']=pd.qcut(dj_1['favorite_count'],q=18,duplicates='drop')"
   ]
  },
  {
   "cell_type": "code",
   "execution_count": 41,
   "metadata": {},
   "outputs": [
    {
     "data": {
      "text/html": [
       "<div>\n",
       "<style scoped>\n",
       "    .dataframe tbody tr th:only-of-type {\n",
       "        vertical-align: middle;\n",
       "    }\n",
       "\n",
       "    .dataframe tbody tr th {\n",
       "        vertical-align: top;\n",
       "    }\n",
       "\n",
       "    .dataframe thead th {\n",
       "        text-align: right;\n",
       "    }\n",
       "</style>\n",
       "<table border=\"1\" class=\"dataframe\">\n",
       "  <thead>\n",
       "    <tr style=\"text-align: right;\">\n",
       "      <th></th>\n",
       "      <th>decile</th>\n",
       "      <th>favorite_count</th>\n",
       "    </tr>\n",
       "  </thead>\n",
       "  <tbody>\n",
       "    <tr>\n",
       "      <th>0</th>\n",
       "      <td>(-0.001, 1.0]</td>\n",
       "      <td>0</td>\n",
       "    </tr>\n",
       "    <tr>\n",
       "      <th>1</th>\n",
       "      <td>(-0.001, 1.0]</td>\n",
       "      <td>0</td>\n",
       "    </tr>\n",
       "    <tr>\n",
       "      <th>2</th>\n",
       "      <td>(-0.001, 1.0]</td>\n",
       "      <td>0</td>\n",
       "    </tr>\n",
       "    <tr>\n",
       "      <th>3</th>\n",
       "      <td>(-0.001, 1.0]</td>\n",
       "      <td>0</td>\n",
       "    </tr>\n",
       "    <tr>\n",
       "      <th>4</th>\n",
       "      <td>(-0.001, 1.0]</td>\n",
       "      <td>0</td>\n",
       "    </tr>\n",
       "    <tr>\n",
       "      <th>...</th>\n",
       "      <td>...</td>\n",
       "      <td>...</td>\n",
       "    </tr>\n",
       "    <tr>\n",
       "      <th>1243345</th>\n",
       "      <td>(3.0, 5.0]</td>\n",
       "      <td>5</td>\n",
       "    </tr>\n",
       "    <tr>\n",
       "      <th>1243346</th>\n",
       "      <td>(-0.001, 1.0]</td>\n",
       "      <td>0</td>\n",
       "    </tr>\n",
       "    <tr>\n",
       "      <th>1243347</th>\n",
       "      <td>(-0.001, 1.0]</td>\n",
       "      <td>0</td>\n",
       "    </tr>\n",
       "    <tr>\n",
       "      <th>1243348</th>\n",
       "      <td>(-0.001, 1.0]</td>\n",
       "      <td>0</td>\n",
       "    </tr>\n",
       "    <tr>\n",
       "      <th>1243349</th>\n",
       "      <td>(-0.001, 1.0]</td>\n",
       "      <td>0</td>\n",
       "    </tr>\n",
       "  </tbody>\n",
       "</table>\n",
       "<p>1243350 rows × 2 columns</p>\n",
       "</div>"
      ],
      "text/plain": [
       "                decile  favorite_count\n",
       "0        (-0.001, 1.0]               0\n",
       "1        (-0.001, 1.0]               0\n",
       "2        (-0.001, 1.0]               0\n",
       "3        (-0.001, 1.0]               0\n",
       "4        (-0.001, 1.0]               0\n",
       "...                ...             ...\n",
       "1243345     (3.0, 5.0]               5\n",
       "1243346  (-0.001, 1.0]               0\n",
       "1243347  (-0.001, 1.0]               0\n",
       "1243348  (-0.001, 1.0]               0\n",
       "1243349  (-0.001, 1.0]               0\n",
       "\n",
       "[1243350 rows x 2 columns]"
      ]
     },
     "execution_count": 41,
     "metadata": {},
     "output_type": "execute_result"
    }
   ],
   "source": [
    "favco=dj_1[['decile','favorite_count']]\n",
    "favco"
   ]
  },
  {
   "cell_type": "code",
   "execution_count": 42,
   "metadata": {},
   "outputs": [
    {
     "data": {
      "text/html": [
       "<div>\n",
       "<style scoped>\n",
       "    .dataframe tbody tr th:only-of-type {\n",
       "        vertical-align: middle;\n",
       "    }\n",
       "\n",
       "    .dataframe tbody tr th {\n",
       "        vertical-align: top;\n",
       "    }\n",
       "\n",
       "    .dataframe thead th {\n",
       "        text-align: right;\n",
       "    }\n",
       "</style>\n",
       "<table border=\"1\" class=\"dataframe\">\n",
       "  <thead>\n",
       "    <tr style=\"text-align: right;\">\n",
       "      <th></th>\n",
       "      <th>favorite_count</th>\n",
       "    </tr>\n",
       "    <tr>\n",
       "      <th>decile</th>\n",
       "      <th></th>\n",
       "    </tr>\n",
       "  </thead>\n",
       "  <tbody>\n",
       "    <tr>\n",
       "      <th>(-0.001, 1.0]</th>\n",
       "      <td>607878</td>\n",
       "    </tr>\n",
       "    <tr>\n",
       "      <th>(1.0, 2.0]</th>\n",
       "      <td>89377</td>\n",
       "    </tr>\n",
       "    <tr>\n",
       "      <th>(2.0, 3.0]</th>\n",
       "      <td>66397</td>\n",
       "    </tr>\n",
       "    <tr>\n",
       "      <th>(3.0, 5.0]</th>\n",
       "      <td>89317</td>\n",
       "    </tr>\n",
       "    <tr>\n",
       "      <th>(5.0, 7.0]</th>\n",
       "      <td>57800</td>\n",
       "    </tr>\n",
       "    <tr>\n",
       "      <th>(7.0, 10.0]</th>\n",
       "      <td>57131</td>\n",
       "    </tr>\n",
       "    <tr>\n",
       "      <th>(10.0, 17.0]</th>\n",
       "      <td>72644</td>\n",
       "    </tr>\n",
       "    <tr>\n",
       "      <th>(17.0, 32.0]</th>\n",
       "      <td>65799</td>\n",
       "    </tr>\n",
       "    <tr>\n",
       "      <th>(32.0, 97.0]</th>\n",
       "      <td>68321</td>\n",
       "    </tr>\n",
       "    <tr>\n",
       "      <th>(97.0, 984832.0]</th>\n",
       "      <td>68686</td>\n",
       "    </tr>\n",
       "  </tbody>\n",
       "</table>\n",
       "</div>"
      ],
      "text/plain": [
       "                  favorite_count\n",
       "decile                          \n",
       "(-0.001, 1.0]             607878\n",
       "(1.0, 2.0]                 89377\n",
       "(2.0, 3.0]                 66397\n",
       "(3.0, 5.0]                 89317\n",
       "(5.0, 7.0]                 57800\n",
       "(7.0, 10.0]                57131\n",
       "(10.0, 17.0]               72644\n",
       "(17.0, 32.0]               65799\n",
       "(32.0, 97.0]               68321\n",
       "(97.0, 984832.0]           68686"
      ]
     },
     "execution_count": 42,
     "metadata": {},
     "output_type": "execute_result"
    }
   ],
   "source": [
    "favco2=favco.groupby(by='decile').count()\n",
    "favco2"
   ]
  },
  {
   "cell_type": "code",
   "execution_count": 163,
   "metadata": {},
   "outputs": [
    {
     "data": {
      "text/plain": [
       "Text(0, 0.5, 'Decile')"
      ]
     },
     "execution_count": 163,
     "metadata": {},
     "output_type": "execute_result"
    },
    {
     "data": {
      "image/png": "[encoded data removed]",
      "text/plain": [
       "<Figure size 720x360 with 1 Axes>"
      ]
     },
     "metadata": {
      "needs_background": "light"
     },
     "output_type": "display_data"
    }
   ],
   "source": [
    "favco2.plot(kind='barh',figsize=(10,5),legend=None)\n",
    "plt.title('Favorite Count Deciles',fontsize=17,pad=20)\n",
    "plt.xlabel(\"Favorite Count\",fontsize=12,labelpad=5)\n",
    "plt.ylabel(\"Decile\",fontsize=12,labelpad=5)"
   ]
  },
  {
   "cell_type": "code",
   "execution_count": 44,
   "metadata": {},
   "outputs": [
    {
     "data": {
      "text/plain": [
       "False    1243332\n",
       "True          18\n",
       "Name: favorited, dtype: int64"
      ]
     },
     "execution_count": 44,
     "metadata": {},
     "output_type": "execute_result"
    }
   ],
   "source": [
    "dj_1['favorited'].value_counts() #not quite (?)"
   ]
  },
  {
   "cell_type": "code",
   "execution_count": 45,
   "metadata": {},
   "outputs": [
    {
     "data": {
      "text/plain": [
       "{'coordinates': [38.88976393, -77.00710168], 'type': 'Point'}    43\n",
       "{'coordinates': [38.88973011, -77.00703621], 'type': 'Point'}    33\n",
       "{'coordinates': [38.8868, -77.0105], 'type': 'Point'}            20\n",
       "{'coordinates': [38.88675714, -77.00692892], 'type': 'Point'}    16\n",
       "{'coordinates': [38.88694444, -77.00694444], 'type': 'Point'}    15\n",
       "                                                                 ..\n",
       "{'coordinates': [44.78850378, -68.77874768], 'type': 'Point'}     1\n",
       "{'coordinates': [38.88549607, -77.00543095], 'type': 'Point'}     1\n",
       "{'coordinates': [38.88850201, -77.00882346], 'type': 'Point'}     1\n",
       "{'coordinates': [42.052588, -80.121157], 'type': 'Point'}         1\n",
       "{'coordinates': [35.3655728, -80.7078083], 'type': 'Point'}       1\n",
       "Name: geo, Length: 2436, dtype: int64"
      ]
     },
     "execution_count": 45,
     "metadata": {},
     "output_type": "execute_result"
    }
   ],
   "source": [
    "dj_1['geo'].value_counts()  #again?"
   ]
  },
  {
   "cell_type": "code",
   "execution_count": 46,
   "metadata": {},
   "outputs": [
    {
     "data": {
      "text/plain": [
       "481849974133886976    1\n",
       "809447587447263237    1\n",
       "756336766865448960    1\n",
       "593081304549367808    1\n",
       "166928195461980160    1\n",
       "                     ..\n",
       "757956848993574913    1\n",
       "722471538583277568    1\n",
       "175249009743626240    1\n",
       "666704329491939328    1\n",
       "527167454553075712    1\n",
       "Name: id, Length: 1243350, dtype: int64"
      ]
     },
     "execution_count": 46,
     "metadata": {},
     "output_type": "execute_result"
    }
   ],
   "source": [
    "dj_1['id'].value_counts() "
   ]
  },
  {
   "cell_type": "code",
   "execution_count": 47,
   "metadata": {},
   "outputs": [
    {
     "data": {
      "text/plain": [
       "1243340"
      ]
     },
     "execution_count": 47,
     "metadata": {},
     "output_type": "execute_result"
    }
   ],
   "source": [
    "dj_1['id_str'].value_counts().count()"
   ]
  },
  {
   "cell_type": "code",
   "execution_count": 48,
   "metadata": {},
   "outputs": [
    {
     "data": {
      "text/plain": [
       "1243350"
      ]
     },
     "execution_count": 48,
     "metadata": {},
     "output_type": "execute_result"
    }
   ],
   "source": [
    "dj_1['id_str'].count()"
   ]
  },
  {
   "cell_type": "code",
   "execution_count": 49,
   "metadata": {},
   "outputs": [
    {
     "data": {
      "text/plain": [
       "SenatorDurbin    1309\n",
       "SenGillibrand    1011\n",
       "SenFeinstein      798\n",
       "RepMcGovern       753\n",
       "SenBobCasey       736\n",
       "                 ... \n",
       "resisthim           1\n",
       "dantbarry           1\n",
       "laurenscorza        1\n",
       "mhuot_esq           1\n",
       "GreerChamber        1\n",
       "Name: in_reply_to_screen_name, Length: 26366, dtype: int64"
      ]
     },
     "execution_count": 49,
     "metadata": {},
     "output_type": "execute_result"
    }
   ],
   "source": [
    "dj_1['in_reply_to_screen_name'].value_counts() "
   ]
  },
  {
   "cell_type": "code",
   "execution_count": 50,
   "metadata": {},
   "outputs": [
    {
     "data": {
      "text/plain": [
       "5.909839e+17    150\n",
       "8.575675e+17    100\n",
       "8.413845e+17     52\n",
       "8.468352e+17     12\n",
       "4.412580e+17     11\n",
       "               ... \n",
       "4.826271e+17      1\n",
       "7.866801e+17      1\n",
       "4.793733e+17      1\n",
       "2.993271e+17      1\n",
       "6.960542e+17      1\n",
       "Name: in_reply_to_status_id, Length: 52132, dtype: int64"
      ]
     },
     "execution_count": 50,
     "metadata": {},
     "output_type": "execute_result"
    }
   ],
   "source": [
    "dj_1['in_reply_to_status_id'].value_counts() "
   ]
  },
  {
   "cell_type": "code",
   "execution_count": 51,
   "metadata": {},
   "outputs": [
    {
     "data": {
      "text/plain": [
       "1061267982.0"
      ]
     },
     "execution_count": 51,
     "metadata": {},
     "output_type": "execute_result"
    }
   ],
   "source": [
    "dj_1['in_reply_to_status_id'].iloc[60]"
   ]
  },
  {
   "cell_type": "code",
   "execution_count": 52,
   "metadata": {},
   "outputs": [
    {
     "data": {
      "text/plain": [
       "1243350"
      ]
     },
     "execution_count": 52,
     "metadata": {},
     "output_type": "execute_result"
    }
   ],
   "source": [
    "(dj_1['in_reply_to_status_id']!= 0). sum()"
   ]
  },
  {
   "cell_type": "code",
   "execution_count": 53,
   "metadata": {},
   "outputs": [
    {
     "data": {
      "text/plain": [
       "60         1.061268e+09\n",
       "61         1.061242e+09\n",
       "62         1.061462e+09\n",
       "66         1.065467e+09\n",
       "67         1.065393e+09\n",
       "               ...     \n",
       "1243340    8.721380e+17\n",
       "1243341    8.721387e+17\n",
       "1243343    8.721385e+17\n",
       "1243344    8.721388e+17\n",
       "1243347    8.721394e+17\n",
       "Name: in_reply_to_status_id, Length: 54146, dtype: float64"
      ]
     },
     "execution_count": 53,
     "metadata": {},
     "output_type": "execute_result"
    }
   ],
   "source": [
    "dj_1['in_reply_to_status_id'][dj_1['in_reply_to_status_id'].notnull()]\n",
    "#https://developer.twitter.com/en/docs/twitter-api/v1/data-dictionary/object-model/tweet\n",
    "#Nullable. If the represented Tweet is a reply, this field will contain the integer representation of the original Tweet’s ID. Example:"
   ]
  },
  {
   "cell_type": "code",
   "execution_count": 54,
   "metadata": {},
   "outputs": [],
   "source": [
    "#most tweets have a reply"
   ]
  },
  {
   "cell_type": "code",
   "execution_count": 55,
   "metadata": {},
   "outputs": [
    {
     "data": {
      "text/plain": [
       "5.909839e+17    150\n",
       "8.575675e+17    100\n",
       "8.413845e+17     52\n",
       "8.468352e+17     12\n",
       "4.412580e+17     11\n",
       "               ... \n",
       "4.826271e+17      1\n",
       "7.866801e+17      1\n",
       "4.793733e+17      1\n",
       "2.993271e+17      1\n",
       "6.960542e+17      1\n",
       "Name: in_reply_to_status_id_str, Length: 52132, dtype: int64"
      ]
     },
     "execution_count": 55,
     "metadata": {},
     "output_type": "execute_result"
    }
   ],
   "source": [
    "dj_1['in_reply_to_status_id_str'].value_counts()  #id again"
   ]
  },
  {
   "cell_type": "code",
   "execution_count": 56,
   "metadata": {},
   "outputs": [
    {
     "data": {
      "text/plain": [
       "2.473346e+08    1309\n",
       "7.219881e+07    1011\n",
       "4.762569e+08     798\n",
       "2.424261e+08     753\n",
       "1.715987e+08     736\n",
       "                ... \n",
       "1.564655e+07       1\n",
       "1.564784e+07       1\n",
       "2.503760e+08       1\n",
       "4.006069e+09       1\n",
       "5.368844e+08       1\n",
       "Name: in_reply_to_user_id, Length: 26364, dtype: int64"
      ]
     },
     "execution_count": 56,
     "metadata": {},
     "output_type": "execute_result"
    }
   ],
   "source": [
    "dj_1['in_reply_to_user_id'].value_counts() #id again"
   ]
  },
  {
   "cell_type": "code",
   "execution_count": 57,
   "metadata": {},
   "outputs": [
    {
     "data": {
      "text/plain": [
       "2.473346e+08    1309\n",
       "7.219881e+07    1011\n",
       "4.762569e+08     798\n",
       "2.424261e+08     753\n",
       "1.715987e+08     736\n",
       "                ... \n",
       "1.564655e+07       1\n",
       "1.564784e+07       1\n",
       "2.503760e+08       1\n",
       "4.006069e+09       1\n",
       "5.368844e+08       1\n",
       "Name: in_reply_to_user_id_str, Length: 26364, dtype: int64"
      ]
     },
     "execution_count": 57,
     "metadata": {},
     "output_type": "execute_result"
    }
   ],
   "source": [
    "dj_1['in_reply_to_user_id_str'].value_counts()  #id again"
   ]
  },
  {
   "cell_type": "code",
   "execution_count": 58,
   "metadata": {},
   "outputs": [
    {
     "data": {
      "text/plain": [
       "False    1186039\n",
       "True       57311\n",
       "Name: is_quote_status, dtype: int64"
      ]
     },
     "execution_count": 58,
     "metadata": {},
     "output_type": "execute_result"
    }
   ],
   "source": [
    "dj_1['is_quote_status'].value_counts() #whether tweet is quote"
   ]
  },
  {
   "cell_type": "code",
   "execution_count": 59,
   "metadata": {},
   "outputs": [
    {
     "data": {
      "text/plain": [
       "en     1226930\n",
       "und       8137\n",
       "es        5108\n",
       "fr         674\n",
       "in         346\n",
       "ro         261\n",
       "tl         245\n",
       "de         223\n",
       "et         205\n",
       "pl         183\n",
       "Name: lang, dtype: int64"
      ]
     },
     "execution_count": 59,
     "metadata": {},
     "output_type": "execute_result"
    }
   ],
   "source": [
    "dj_1['lang'].value_counts()[:10]"
   ]
  },
  {
   "cell_type": "code",
   "execution_count": 60,
   "metadata": {},
   "outputs": [
    {
     "data": {
      "text/plain": [
       "{'attributes': {}, 'bounding_box': {'coordinates': [[[-77.119401, 38.801826], [-76.909396, 38.801826], [-76.909396, 38.9953797], [-77.119401, 38.9953797]]], 'type': 'Polygon'}, 'contained_within': [], 'country': 'United States', 'country_code': 'US', 'full_name': 'Washington, DC', 'id': '01fbe706f872cb32', 'name': 'Washington', 'place_type': 'city', 'url': 'https://api.twitter.com/1.1/geo/id/01fbe706f872cb32.json'}    9820\n",
       "{'attributes': {}, 'bounding_box': {'coordinates': [[[-102.051769, 36.9931101], [-94.588081, 36.9931101], [-94.588081, 40.003282], [-102.051769, 40.003282]]], 'type': 'Polygon'}, 'contained_within': [], 'country': 'United States', 'country_code': 'US', 'full_name': 'Kansas, USA', 'id': '27c45d804c777999', 'name': 'Kansas', 'place_type': 'admin', 'url': 'https://api.twitter.com/1.1/geo/id/27c45d804c777999.json'}         412\n",
       "{'attributes': {}, 'bounding_box': {'coordinates': [[[-83.67529, 36.540739], [-75.16644, 36.540739], [-75.16644, 39.466012], [-83.67529, 39.466012]]], 'type': 'Polygon'}, 'contained_within': [], 'country': 'United States', 'country_code': 'US', 'full_name': 'Virginia, USA', 'id': '5635c19c2b5078d1', 'name': 'Virginia', 'place_type': 'admin', 'url': 'https://api.twitter.com/1.1/geo/id/5635c19c2b5078d1.json'}             409\n",
       "Name: place, dtype: int64"
      ]
     },
     "execution_count": 60,
     "metadata": {},
     "output_type": "execute_result"
    }
   ],
   "source": [
    "dj_1['place'].value_counts()[:3] #good , city and such"
   ]
  },
  {
   "cell_type": "code",
   "execution_count": 61,
   "metadata": {},
   "outputs": [
    {
     "data": {
      "text/plain": [
       "1        182803\n",
       "0        170796\n",
       "2        150120\n",
       "3        114079\n",
       "4         85205\n",
       "          ...  \n",
       "20944         1\n",
       "9088          1\n",
       "2523          1\n",
       "8670          1\n",
       "9719          1\n",
       "Name: retweet_count, Length: 9308, dtype: int64"
      ]
     },
     "execution_count": 61,
     "metadata": {},
     "output_type": "execute_result"
    }
   ],
   "source": [
    "dj_1['retweet_count'].value_counts() #how often retweeted"
   ]
  },
  {
   "cell_type": "code",
   "execution_count": 62,
   "metadata": {},
   "outputs": [
    {
     "data": {
      "text/plain": [
       "<AxesSubplot:>"
      ]
     },
     "execution_count": 62,
     "metadata": {},
     "output_type": "execute_result"
    },
    {
     "data": {
      "image/png": "[encoded data removed]",
      "text/plain": [
       "<Figure size 432x288 with 1 Axes>"
      ]
     },
     "metadata": {
      "needs_background": "light"
     },
     "output_type": "display_data"
    }
   ],
   "source": [
    "dj_1['retweet_count'].hist()"
   ]
  },
  {
   "cell_type": "code",
   "execution_count": 63,
   "metadata": {},
   "outputs": [],
   "source": [
    "dj_1['decile2']=pd.qcut(dj_1['retweet_count'],q=18,duplicates='drop')"
   ]
  },
  {
   "cell_type": "code",
   "execution_count": 64,
   "metadata": {},
   "outputs": [
    {
     "data": {
      "text/html": [
       "<div>\n",
       "<style scoped>\n",
       "    .dataframe tbody tr th:only-of-type {\n",
       "        vertical-align: middle;\n",
       "    }\n",
       "\n",
       "    .dataframe tbody tr th {\n",
       "        vertical-align: top;\n",
       "    }\n",
       "\n",
       "    .dataframe thead th {\n",
       "        text-align: right;\n",
       "    }\n",
       "</style>\n",
       "<table border=\"1\" class=\"dataframe\">\n",
       "  <thead>\n",
       "    <tr style=\"text-align: right;\">\n",
       "      <th></th>\n",
       "      <th>decile</th>\n",
       "      <th>retweet_count</th>\n",
       "    </tr>\n",
       "  </thead>\n",
       "  <tbody>\n",
       "    <tr>\n",
       "      <th>0</th>\n",
       "      <td>(-0.001, 1.0]</td>\n",
       "      <td>0</td>\n",
       "    </tr>\n",
       "    <tr>\n",
       "      <th>1</th>\n",
       "      <td>(-0.001, 1.0]</td>\n",
       "      <td>0</td>\n",
       "    </tr>\n",
       "    <tr>\n",
       "      <th>2</th>\n",
       "      <td>(-0.001, 1.0]</td>\n",
       "      <td>0</td>\n",
       "    </tr>\n",
       "    <tr>\n",
       "      <th>3</th>\n",
       "      <td>(-0.001, 1.0]</td>\n",
       "      <td>0</td>\n",
       "    </tr>\n",
       "    <tr>\n",
       "      <th>4</th>\n",
       "      <td>(-0.001, 1.0]</td>\n",
       "      <td>0</td>\n",
       "    </tr>\n",
       "    <tr>\n",
       "      <th>...</th>\n",
       "      <td>...</td>\n",
       "      <td>...</td>\n",
       "    </tr>\n",
       "    <tr>\n",
       "      <th>1243345</th>\n",
       "      <td>(3.0, 5.0]</td>\n",
       "      <td>2</td>\n",
       "    </tr>\n",
       "    <tr>\n",
       "      <th>1243346</th>\n",
       "      <td>(-0.001, 1.0]</td>\n",
       "      <td>1</td>\n",
       "    </tr>\n",
       "    <tr>\n",
       "      <th>1243347</th>\n",
       "      <td>(-0.001, 1.0]</td>\n",
       "      <td>1</td>\n",
       "    </tr>\n",
       "    <tr>\n",
       "      <th>1243348</th>\n",
       "      <td>(-0.001, 1.0]</td>\n",
       "      <td>0</td>\n",
       "    </tr>\n",
       "    <tr>\n",
       "      <th>1243349</th>\n",
       "      <td>(-0.001, 1.0]</td>\n",
       "      <td>0</td>\n",
       "    </tr>\n",
       "  </tbody>\n",
       "</table>\n",
       "<p>1243350 rows × 2 columns</p>\n",
       "</div>"
      ],
      "text/plain": [
       "                decile  retweet_count\n",
       "0        (-0.001, 1.0]              0\n",
       "1        (-0.001, 1.0]              0\n",
       "2        (-0.001, 1.0]              0\n",
       "3        (-0.001, 1.0]              0\n",
       "4        (-0.001, 1.0]              0\n",
       "...                ...            ...\n",
       "1243345     (3.0, 5.0]              2\n",
       "1243346  (-0.001, 1.0]              1\n",
       "1243347  (-0.001, 1.0]              1\n",
       "1243348  (-0.001, 1.0]              0\n",
       "1243349  (-0.001, 1.0]              0\n",
       "\n",
       "[1243350 rows x 2 columns]"
      ]
     },
     "execution_count": 64,
     "metadata": {},
     "output_type": "execute_result"
    }
   ],
   "source": [
    "retco=dj_1[['decile','retweet_count']]\n",
    "retco"
   ]
  },
  {
   "cell_type": "code",
   "execution_count": 65,
   "metadata": {},
   "outputs": [
    {
     "data": {
      "text/html": [
       "<div>\n",
       "<style scoped>\n",
       "    .dataframe tbody tr th:only-of-type {\n",
       "        vertical-align: middle;\n",
       "    }\n",
       "\n",
       "    .dataframe tbody tr th {\n",
       "        vertical-align: top;\n",
       "    }\n",
       "\n",
       "    .dataframe thead th {\n",
       "        text-align: right;\n",
       "    }\n",
       "</style>\n",
       "<table border=\"1\" class=\"dataframe\">\n",
       "  <thead>\n",
       "    <tr style=\"text-align: right;\">\n",
       "      <th></th>\n",
       "      <th>retweet_count</th>\n",
       "    </tr>\n",
       "    <tr>\n",
       "      <th>decile</th>\n",
       "      <th></th>\n",
       "    </tr>\n",
       "  </thead>\n",
       "  <tbody>\n",
       "    <tr>\n",
       "      <th>(-0.001, 1.0]</th>\n",
       "      <td>607878</td>\n",
       "    </tr>\n",
       "    <tr>\n",
       "      <th>(1.0, 2.0]</th>\n",
       "      <td>89377</td>\n",
       "    </tr>\n",
       "    <tr>\n",
       "      <th>(2.0, 3.0]</th>\n",
       "      <td>66397</td>\n",
       "    </tr>\n",
       "    <tr>\n",
       "      <th>(3.0, 5.0]</th>\n",
       "      <td>89317</td>\n",
       "    </tr>\n",
       "    <tr>\n",
       "      <th>(5.0, 7.0]</th>\n",
       "      <td>57800</td>\n",
       "    </tr>\n",
       "    <tr>\n",
       "      <th>(7.0, 10.0]</th>\n",
       "      <td>57131</td>\n",
       "    </tr>\n",
       "    <tr>\n",
       "      <th>(10.0, 17.0]</th>\n",
       "      <td>72644</td>\n",
       "    </tr>\n",
       "    <tr>\n",
       "      <th>(17.0, 32.0]</th>\n",
       "      <td>65799</td>\n",
       "    </tr>\n",
       "    <tr>\n",
       "      <th>(32.0, 97.0]</th>\n",
       "      <td>68321</td>\n",
       "    </tr>\n",
       "    <tr>\n",
       "      <th>(97.0, 984832.0]</th>\n",
       "      <td>68686</td>\n",
       "    </tr>\n",
       "  </tbody>\n",
       "</table>\n",
       "</div>"
      ],
      "text/plain": [
       "                  retweet_count\n",
       "decile                         \n",
       "(-0.001, 1.0]            607878\n",
       "(1.0, 2.0]                89377\n",
       "(2.0, 3.0]                66397\n",
       "(3.0, 5.0]                89317\n",
       "(5.0, 7.0]                57800\n",
       "(7.0, 10.0]               57131\n",
       "(10.0, 17.0]              72644\n",
       "(17.0, 32.0]              65799\n",
       "(32.0, 97.0]              68321\n",
       "(97.0, 984832.0]          68686"
      ]
     },
     "execution_count": 65,
     "metadata": {},
     "output_type": "execute_result"
    }
   ],
   "source": [
    "retco2=retco.groupby(by='decile').count()\n",
    "retco2"
   ]
  },
  {
   "cell_type": "code",
   "execution_count": 66,
   "metadata": {},
   "outputs": [
    {
     "data": {
      "text/plain": [
       "<AxesSubplot:xlabel='decile'>"
      ]
     },
     "execution_count": 66,
     "metadata": {},
     "output_type": "execute_result"
    },
    {
     "data": {
      "image/png": "[encoded data removed]",
      "text/plain": [
       "<Figure size 720x360 with 1 Axes>"
      ]
     },
     "metadata": {
      "needs_background": "light"
     },
     "output_type": "display_data"
    }
   ],
   "source": [
    "retco2.plot(kind='bar',figsize=(10,5))"
   ]
  },
  {
   "cell_type": "code",
   "execution_count": 67,
   "metadata": {},
   "outputs": [
    {
     "data": {
      "text/plain": [
       "False    1243350\n",
       "Name: retweeted, dtype: int64"
      ]
     },
     "execution_count": 67,
     "metadata": {},
     "output_type": "execute_result"
    }
   ],
   "source": [
    "dj_1['retweeted'].value_counts() #none of it retweeted? really???"
   ]
  },
  {
   "cell_type": "code",
   "execution_count": 68,
   "metadata": {},
   "outputs": [
    {
     "data": {
      "text/plain": [
       "0    False\n",
       "1    False\n",
       "2    False\n",
       "3    False\n",
       "4    False\n",
       "5    False\n",
       "6    False\n",
       "7    False\n",
       "8    False\n",
       "9    False\n",
       "Name: retweeted, dtype: bool"
      ]
     },
     "execution_count": 68,
     "metadata": {},
     "output_type": "execute_result"
    }
   ],
   "source": [
    "dj_1['retweeted'][:10]"
   ]
  },
  {
   "cell_type": "code",
   "execution_count": 69,
   "metadata": {},
   "outputs": [
    {
     "data": {
      "text/plain": [
       "0      JeffFlake\n",
       "1      JeffFlake\n",
       "2      JeffFlake\n",
       "3      JeffFlake\n",
       "4    JohnBoozman\n",
       "5      JeffFlake\n",
       "6    JohnBoozman\n",
       "7      JeffFlake\n",
       "8      JeffFlake\n",
       "9      JeffFlake\n",
       "Name: screen_name, dtype: object"
      ]
     },
     "execution_count": 69,
     "metadata": {},
     "output_type": "execute_result"
    }
   ],
   "source": [
    "dj_1['screen_name'][:10] #who tweeets the most? are the tweets from the most tweeters...?"
   ]
  },
  {
   "cell_type": "code",
   "execution_count": 70,
   "metadata": {},
   "outputs": [
    {
     "data": {
      "text/plain": [
       "RepDonBeyer       3258\n",
       "SenatorDurbin     3252\n",
       "MassGovernor      3250\n",
       "GovMattBevin      3250\n",
       "SenTomCotton      3249\n",
       "                  ... \n",
       "collinpeterson      80\n",
       "Rep_Matt_Gaetz      37\n",
       "RepRonEstes         27\n",
       "RepGonzalez         16\n",
       "GregHarper           4\n",
       "Name: screen_name, Length: 545, dtype: int64"
      ]
     },
     "execution_count": 70,
     "metadata": {},
     "output_type": "execute_result"
    }
   ],
   "source": [
    "dj_1['screen_name'].value_counts()"
   ]
  },
  {
   "cell_type": "code",
   "execution_count": 71,
   "metadata": {},
   "outputs": [
    {
     "data": {
      "text/plain": [
       "<a href=\"http://twitter.com\" rel=\"nofollow\">Twitter Web Client</a>                                                   563405\n",
       "<a href=\"https://about.twitter.com/products/tweetdeck\" rel=\"nofollow\">TweetDeck</a>                                  255174\n",
       "<a href=\"http://twitter.com/download/iphone\" rel=\"nofollow\">Twitter for iPhone</a>                                   248476\n",
       "<a href=\"http://www.hootsuite.com\" rel=\"nofollow\">Hootsuite</a>                                                       47142\n",
       "<a href=\"http://www.facebook.com/twitter\" rel=\"nofollow\">Facebook</a>                                                 18275\n",
       "                                                                                                                      ...  \n",
       "<a href=\"https://itunes.apple.com/us/app/pilotonline/id537988905?mt=8&uo=4\" rel=\"nofollow\">PilotOnline on iOS</a>         1\n",
       "<a href=\"http://grijalva.house.gov/\" rel=\"nofollow\">RepresentativeRaulGrijalva</a>                                        1\n",
       "<a href=\"http://itunes.apple.com/us/app/pic-stitch/id454768104?mt=8&uo=4\" rel=\"nofollow\">Pic Stitch on iOS</a>            1\n",
       "<a href=\"http://talltweets.com/\" rel=\"nofollow\">Tall Tweets</a>                                                           1\n",
       "<a href=\"http://www.waze.com\" rel=\"nofollow\">Waze</a>                                                                     1\n",
       "Name: source, Length: 168, dtype: int64"
      ]
     },
     "execution_count": 71,
     "metadata": {},
     "output_type": "execute_result"
    }
   ],
   "source": [
    "dj_1['source'].value_counts() #??"
   ]
  },
  {
   "cell_type": "code",
   "execution_count": 72,
   "metadata": {},
   "outputs": [
    {
     "data": {
      "text/plain": [
       "0    I'd tell you to hide your wallet, but it's pro...\n",
       "1    Will be heading the the conservative bloggers ...\n",
       "2    I'm speaking on the floor shortly to in opposi...\n",
       "3    I'm speaking on the floor shortly to in opposi...\n",
       "4                        Attending a Whip Team meeting\n",
       "5    headed to floor right now to speak against def...\n",
       "6    Voting- Ordering the Previous Question on the ...\n",
       "7    For the first time, earmarks were a prominent ...\n",
       "8    For the first time, earmarks were a prominent ...\n",
       "9    I'm speaking on House floor soon opposing bail...\n",
       "Name: text, dtype: object"
      ]
     },
     "execution_count": 72,
     "metadata": {},
     "output_type": "execute_result"
    }
   ],
   "source": [
    "dj_1['text'][:10] #do text analysis with it! more liberal or not? critizing or promoting?"
   ]
  },
  {
   "cell_type": "code",
   "execution_count": 73,
   "metadata": {},
   "outputs": [
    {
     "data": {
      "text/plain": [
       "False    1243350\n",
       "Name: truncated, dtype: int64"
      ]
     },
     "execution_count": 73,
     "metadata": {},
     "output_type": "execute_result"
    }
   ],
   "source": [
    "dj_1['truncated'].value_counts() #none truncated ...just omit"
   ]
  },
  {
   "cell_type": "code",
   "execution_count": 74,
   "metadata": {},
   "outputs": [
    {
     "data": {
      "text/plain": [
       "0    16056306\n",
       "1    16056306\n",
       "2    16056306\n",
       "3    16056306\n",
       "4     5558312\n",
       "5    16056306\n",
       "6     5558312\n",
       "7    16056306\n",
       "8    16056306\n",
       "9    16056306\n",
       "Name: user_id, dtype: int64"
      ]
     },
     "execution_count": 74,
     "metadata": {},
     "output_type": "execute_result"
    }
   ],
   "source": [
    "dj_1['user_id'][:10] #good to track maybe"
   ]
  },
  {
   "cell_type": "code",
   "execution_count": 75,
   "metadata": {},
   "outputs": [
    {
     "data": {
      "text/plain": [
       "0.0    769236\n",
       "1.0       944\n",
       "Name: possibly_sensitive, dtype: int64"
      ]
     },
     "execution_count": 75,
     "metadata": {},
     "output_type": "execute_result"
    }
   ],
   "source": [
    "dj_1['possibly_sensitive'].value_counts() #wow there is something to examine"
   ]
  },
  {
   "cell_type": "code",
   "execution_count": 76,
   "metadata": {},
   "outputs": [
    {
     "data": {
      "text/plain": [
       "298040"
      ]
     },
     "execution_count": 76,
     "metadata": {},
     "output_type": "execute_result"
    }
   ],
   "source": [
    "dj_1['extended_entities'].count() #=non nan values #=if it has more media like pics ...can you display? \n",
    "#more retweets if it has extended media?"
   ]
  },
  {
   "cell_type": "code",
   "execution_count": 77,
   "metadata": {},
   "outputs": [],
   "source": [
    "dict_ext=dj_1['extended_entities'].value_counts()[:1]"
   ]
  },
  {
   "cell_type": "code",
   "execution_count": 78,
   "metadata": {},
   "outputs": [
    {
     "data": {
      "text/plain": [
       "dtype('int64')"
      ]
     },
     "execution_count": 78,
     "metadata": {},
     "output_type": "execute_result"
    }
   ],
   "source": [
    "dict_ext.dtype"
   ]
  },
  {
   "cell_type": "code",
   "execution_count": 79,
   "metadata": {},
   "outputs": [
    {
     "data": {
      "text/plain": [
       "56418"
      ]
     },
     "execution_count": 79,
     "metadata": {},
     "output_type": "execute_result"
    }
   ],
   "source": [
    "dj_1['quoted_status_id'].count() #=not many tweets quoted...veyr interesting to analyze these"
   ]
  },
  {
   "cell_type": "code",
   "execution_count": 80,
   "metadata": {},
   "outputs": [
    {
     "data": {
      "text/plain": [
       "8.592532e+17    47\n",
       "8.396258e+17    31\n",
       "7.511983e+17    31\n",
       "8.645923e+17    29\n",
       "8.642245e+17    29\n",
       "                ..\n",
       "6.746348e+17     1\n",
       "8.548851e+17     1\n",
       "6.394825e+17     1\n",
       "8.191880e+17     1\n",
       "6.243207e+17     1\n",
       "Name: quoted_status_id_str, Length: 50238, dtype: int64"
      ]
     },
     "execution_count": 80,
     "metadata": {},
     "output_type": "execute_result"
    }
   ],
   "source": [
    "dj_1['quoted_status_id_str'].value_counts() # ids again"
   ]
  },
  {
   "cell_type": "code",
   "execution_count": 81,
   "metadata": {},
   "outputs": [
    {
     "data": {
      "text/plain": [
       "1.0    1\n",
       "Name: withheld_copyright, dtype: int64"
      ]
     },
     "execution_count": 81,
     "metadata": {},
     "output_type": "execute_result"
    }
   ],
   "source": [
    "dj_1['withheld_copyright'].value_counts() #would omit"
   ]
  },
  {
   "cell_type": "code",
   "execution_count": 82,
   "metadata": {},
   "outputs": [
    {
     "data": {
      "text/plain": [
       "['XY']    1\n",
       "Name: withheld_in_countries, dtype: int64"
      ]
     },
     "execution_count": 82,
     "metadata": {},
     "output_type": "execute_result"
    }
   ],
   "source": [
    "dj_1['withheld_in_countries'].value_counts() #omit"
   ]
  },
  {
   "cell_type": "code",
   "execution_count": 83,
   "metadata": {},
   "outputs": [
    {
     "data": {
      "text/plain": [
       "status    1\n",
       "Name: withheld_scope, dtype: int64"
      ]
     },
     "execution_count": 83,
     "metadata": {},
     "output_type": "execute_result"
    }
   ],
   "source": [
    "dj_1['withheld_scope'].value_counts() #omit"
   ]
  },
  {
   "cell_type": "markdown",
   "metadata": {},
   "source": [
    "# week 2"
   ]
  },
  {
   "cell_type": "code",
   "execution_count": 84,
   "metadata": {},
   "outputs": [
    {
     "data": {
      "text/html": [
       "<div>\n",
       "<style scoped>\n",
       "    .dataframe tbody tr th:only-of-type {\n",
       "        vertical-align: middle;\n",
       "    }\n",
       "\n",
       "    .dataframe tbody tr th {\n",
       "        vertical-align: top;\n",
       "    }\n",
       "\n",
       "    .dataframe thead th {\n",
       "        text-align: right;\n",
       "    }\n",
       "</style>\n",
       "<table border=\"1\" class=\"dataframe\">\n",
       "  <thead>\n",
       "    <tr style=\"text-align: right;\">\n",
       "      <th></th>\n",
       "      <th></th>\n",
       "      <th>id</th>\n",
       "    </tr>\n",
       "    <tr>\n",
       "      <th>user_id</th>\n",
       "      <th>screen_name</th>\n",
       "      <th></th>\n",
       "    </tr>\n",
       "  </thead>\n",
       "  <tbody>\n",
       "    <tr>\n",
       "      <th>2962868158</th>\n",
       "      <th>RepDonBeyer</th>\n",
       "      <td>3258</td>\n",
       "    </tr>\n",
       "    <tr>\n",
       "      <th>247334603</th>\n",
       "      <th>SenatorDurbin</th>\n",
       "      <td>3252</td>\n",
       "    </tr>\n",
       "    <tr>\n",
       "      <th>3141213592</th>\n",
       "      <th>GovMattBevin</th>\n",
       "      <td>3250</td>\n",
       "    </tr>\n",
       "    <tr>\n",
       "      <th>18023868</th>\n",
       "      <th>MassGovernor</th>\n",
       "      <td>3250</td>\n",
       "    </tr>\n",
       "    <tr>\n",
       "      <th>968650362</th>\n",
       "      <th>SenTomCotton</th>\n",
       "      <td>3249</td>\n",
       "    </tr>\n",
       "    <tr>\n",
       "      <th>...</th>\n",
       "      <th>...</th>\n",
       "      <td>...</td>\n",
       "    </tr>\n",
       "    <tr>\n",
       "      <th>115676070</th>\n",
       "      <th>collinpeterson</th>\n",
       "      <td>80</td>\n",
       "    </tr>\n",
       "    <tr>\n",
       "      <th>510196665</th>\n",
       "      <th>Rep_Matt_Gaetz</th>\n",
       "      <td>37</td>\n",
       "    </tr>\n",
       "    <tr>\n",
       "      <th>854715071116849157</th>\n",
       "      <th>RepRonEstes</th>\n",
       "      <td>27</td>\n",
       "    </tr>\n",
       "    <tr>\n",
       "      <th>818536152588238849</th>\n",
       "      <th>RepGonzalez</th>\n",
       "      <td>16</td>\n",
       "    </tr>\n",
       "    <tr>\n",
       "      <th>20334348</th>\n",
       "      <th>GregHarper</th>\n",
       "      <td>4</td>\n",
       "    </tr>\n",
       "  </tbody>\n",
       "</table>\n",
       "<p>545 rows × 1 columns</p>\n",
       "</div>"
      ],
      "text/plain": [
       "                                     id\n",
       "user_id            screen_name         \n",
       "2962868158         RepDonBeyer     3258\n",
       "247334603          SenatorDurbin   3252\n",
       "3141213592         GovMattBevin    3250\n",
       "18023868           MassGovernor    3250\n",
       "968650362          SenTomCotton    3249\n",
       "...                                 ...\n",
       "115676070          collinpeterson    80\n",
       "510196665          Rep_Matt_Gaetz    37\n",
       "854715071116849157 RepRonEstes       27\n",
       "818536152588238849 RepGonzalez       16\n",
       "20334348           GregHarper         4\n",
       "\n",
       "[545 rows x 1 columns]"
      ]
     },
     "execution_count": 84,
     "metadata": {},
     "output_type": "execute_result"
    }
   ],
   "source": [
    "user_gp=dj_1[['screen_name','user_id','id']].groupby(['user_id', 'screen_name']).count()\n",
    "user_gp=user_gp.sort_values('id', ascending=False)\n",
    "user_gp"
   ]
  },
  {
   "cell_type": "code",
   "execution_count": 85,
   "metadata": {},
   "outputs": [],
   "source": [
    "# dj_1.loc[dj_1['user_id']==2962868158]"
   ]
  },
  {
   "cell_type": "code",
   "execution_count": 86,
   "metadata": {},
   "outputs": [
    {
     "data": {
      "text/html": [
       "<div>\n",
       "<style scoped>\n",
       "    .dataframe tbody tr th:only-of-type {\n",
       "        vertical-align: middle;\n",
       "    }\n",
       "\n",
       "    .dataframe tbody tr th {\n",
       "        vertical-align: top;\n",
       "    }\n",
       "\n",
       "    .dataframe thead tr th {\n",
       "        text-align: left;\n",
       "    }\n",
       "\n",
       "    .dataframe thead tr:last-of-type th {\n",
       "        text-align: right;\n",
       "    }\n",
       "</style>\n",
       "<table border=\"1\" class=\"dataframe\">\n",
       "  <thead>\n",
       "    <tr>\n",
       "      <th></th>\n",
       "      <th></th>\n",
       "      <th colspan=\"2\" halign=\"left\">id</th>\n",
       "      <th colspan=\"2\" halign=\"left\">twlength</th>\n",
       "    </tr>\n",
       "    <tr>\n",
       "      <th></th>\n",
       "      <th></th>\n",
       "      <th>mean</th>\n",
       "      <th>count</th>\n",
       "      <th>mean</th>\n",
       "      <th>count</th>\n",
       "    </tr>\n",
       "    <tr>\n",
       "      <th>user_id</th>\n",
       "      <th>screen_name</th>\n",
       "      <th></th>\n",
       "      <th></th>\n",
       "      <th></th>\n",
       "      <th></th>\n",
       "    </tr>\n",
       "  </thead>\n",
       "  <tbody>\n",
       "    <tr>\n",
       "      <th>5558312</th>\n",
       "      <th>JohnBoozman</th>\n",
       "      <td>502154708618452480</td>\n",
       "      <td>3123</td>\n",
       "      <td>120.089657</td>\n",
       "      <td>3123</td>\n",
       "    </tr>\n",
       "    <tr>\n",
       "      <th>7270292</th>\n",
       "      <th>JimInhofe</th>\n",
       "      <td>665574926659835136</td>\n",
       "      <td>1020</td>\n",
       "      <td>121.725490</td>\n",
       "      <td>1020</td>\n",
       "    </tr>\n",
       "    <tr>\n",
       "      <th>7429102</th>\n",
       "      <th>MarkWarner</th>\n",
       "      <td>574635008494959232</td>\n",
       "      <td>3204</td>\n",
       "      <td>121.390137</td>\n",
       "      <td>3204</td>\n",
       "    </tr>\n",
       "    <tr>\n",
       "      <th>10615232</th>\n",
       "      <th>ChuckGrassley</th>\n",
       "      <td>644170715045628672</td>\n",
       "      <td>3239</td>\n",
       "      <td>108.196048</td>\n",
       "      <td>3239</td>\n",
       "    </tr>\n",
       "    <tr>\n",
       "      <th>11651202</th>\n",
       "      <th>SteveDaines</th>\n",
       "      <td>722178621769094912</td>\n",
       "      <td>3233</td>\n",
       "      <td>110.574389</td>\n",
       "      <td>3233</td>\n",
       "    </tr>\n",
       "    <tr>\n",
       "      <th>...</th>\n",
       "      <th>...</th>\n",
       "      <td>...</td>\n",
       "      <td>...</td>\n",
       "      <td>...</td>\n",
       "      <td>...</td>\n",
       "    </tr>\n",
       "    <tr>\n",
       "      <th>818536152588238849</th>\n",
       "      <th>RepGonzalez</th>\n",
       "      <td>859735088471151616</td>\n",
       "      <td>16</td>\n",
       "      <td>111.312500</td>\n",
       "      <td>16</td>\n",
       "    </tr>\n",
       "    <tr>\n",
       "      <th>818975124460335106</th>\n",
       "      <th>RepDonBacon</th>\n",
       "      <td>851706376741872000</td>\n",
       "      <td>610</td>\n",
       "      <td>112.724590</td>\n",
       "      <td>610</td>\n",
       "    </tr>\n",
       "    <tr>\n",
       "      <th>822215679726100480</th>\n",
       "      <th>POTUS</th>\n",
       "      <td>844400524153100160</td>\n",
       "      <td>641</td>\n",
       "      <td>114.007800</td>\n",
       "      <td>641</td>\n",
       "    </tr>\n",
       "    <tr>\n",
       "      <th>827279765287559171</th>\n",
       "      <th>RepMikeJohnson</th>\n",
       "      <td>847848346929883008</td>\n",
       "      <td>189</td>\n",
       "      <td>123.063492</td>\n",
       "      <td>189</td>\n",
       "    </tr>\n",
       "    <tr>\n",
       "      <th>854715071116849157</th>\n",
       "      <th>RepRonEstes</th>\n",
       "      <td>863592013048001280</td>\n",
       "      <td>27</td>\n",
       "      <td>117.259259</td>\n",
       "      <td>27</td>\n",
       "    </tr>\n",
       "  </tbody>\n",
       "</table>\n",
       "<p>545 rows × 4 columns</p>\n",
       "</div>"
      ],
      "text/plain": [
       "                                                   id          twlength      \n",
       "                                                 mean count        mean count\n",
       "user_id            screen_name                                               \n",
       "5558312            JohnBoozman     502154708618452480  3123  120.089657  3123\n",
       "7270292            JimInhofe       665574926659835136  1020  121.725490  1020\n",
       "7429102            MarkWarner      574635008494959232  3204  121.390137  3204\n",
       "10615232           ChuckGrassley   644170715045628672  3239  108.196048  3239\n",
       "11651202           SteveDaines     722178621769094912  3233  110.574389  3233\n",
       "...                                               ...   ...         ...   ...\n",
       "818536152588238849 RepGonzalez     859735088471151616    16  111.312500    16\n",
       "818975124460335106 RepDonBacon     851706376741872000   610  112.724590   610\n",
       "822215679726100480 POTUS           844400524153100160   641  114.007800   641\n",
       "827279765287559171 RepMikeJohnson  847848346929883008   189  123.063492   189\n",
       "854715071116849157 RepRonEstes     863592013048001280    27  117.259259    27\n",
       "\n",
       "[545 rows x 4 columns]"
      ]
     },
     "execution_count": 86,
     "metadata": {},
     "output_type": "execute_result"
    }
   ],
   "source": [
    "u_gp_avg=dj_1[['screen_name','user_id','id','twlength']].groupby(['user_id', 'screen_name']).agg(['mean', 'count'])\n",
    "# u_gp_avg=u_gp_avg.sort_values('count', ascending=False)\n",
    "u_gp_avg"
   ]
  },
  {
   "cell_type": "code",
   "execution_count": 87,
   "metadata": {},
   "outputs": [],
   "source": [
    "from pandasql import sqldf, load_meat, load_births"
   ]
  },
  {
   "cell_type": "code",
   "execution_count": 88,
   "metadata": {},
   "outputs": [],
   "source": [
    "pysqldf=lambda q: sqldf(q,globals())"
   ]
  },
  {
   "cell_type": "code",
   "execution_count": 89,
   "metadata": {},
   "outputs": [
    {
     "data": {
      "text/html": [
       "<div>\n",
       "<style scoped>\n",
       "    .dataframe tbody tr th:only-of-type {\n",
       "        vertical-align: middle;\n",
       "    }\n",
       "\n",
       "    .dataframe tbody tr th {\n",
       "        vertical-align: top;\n",
       "    }\n",
       "\n",
       "    .dataframe thead th {\n",
       "        text-align: right;\n",
       "    }\n",
       "</style>\n",
       "<table border=\"1\" class=\"dataframe\">\n",
       "  <thead>\n",
       "    <tr style=\"text-align: right;\">\n",
       "      <th></th>\n",
       "      <th>year</th>\n",
       "      <th>twlength</th>\n",
       "    </tr>\n",
       "  </thead>\n",
       "  <tbody>\n",
       "    <tr>\n",
       "      <th>0</th>\n",
       "      <td>2008</td>\n",
       "      <td>140</td>\n",
       "    </tr>\n",
       "    <tr>\n",
       "      <th>1</th>\n",
       "      <td>2008</td>\n",
       "      <td>119</td>\n",
       "    </tr>\n",
       "  </tbody>\n",
       "</table>\n",
       "</div>"
      ],
      "text/plain": [
       "   year  twlength\n",
       "0  2008       140\n",
       "1  2008       119"
      ]
     },
     "execution_count": 89,
     "metadata": {},
     "output_type": "execute_result"
    }
   ],
   "source": [
    "dj_2=dj_1[:2]\n",
    "dj_2=dj_2[['year','twlength']]\n",
    "dj_2"
   ]
  },
  {
   "cell_type": "code",
   "execution_count": 90,
   "metadata": {},
   "outputs": [],
   "source": [
    "# pysqldf = lambda q: sqldf(q, globals())\n",
    "# meat = load_meat()\n",
    "# births = load_births()\n",
    "# print(pysqldf(\"SELECT * FROM meat LIMIT 10;\").head())"
   ]
  },
  {
   "cell_type": "code",
   "execution_count": 91,
   "metadata": {},
   "outputs": [
    {
     "name": "stdout",
     "output_type": "stream",
     "text": [
      "Wall time: 15.7 ms\n"
     ]
    },
    {
     "data": {
      "text/html": [
       "<div>\n",
       "<style scoped>\n",
       "    .dataframe tbody tr th:only-of-type {\n",
       "        vertical-align: middle;\n",
       "    }\n",
       "\n",
       "    .dataframe tbody tr th {\n",
       "        vertical-align: top;\n",
       "    }\n",
       "\n",
       "    .dataframe thead th {\n",
       "        text-align: right;\n",
       "    }\n",
       "</style>\n",
       "<table border=\"1\" class=\"dataframe\">\n",
       "  <thead>\n",
       "    <tr style=\"text-align: right;\">\n",
       "      <th></th>\n",
       "      <th>year</th>\n",
       "      <th>twlength</th>\n",
       "    </tr>\n",
       "  </thead>\n",
       "  <tbody>\n",
       "    <tr>\n",
       "      <th>0</th>\n",
       "      <td>2008</td>\n",
       "      <td>140</td>\n",
       "    </tr>\n",
       "    <tr>\n",
       "      <th>1</th>\n",
       "      <td>2008</td>\n",
       "      <td>119</td>\n",
       "    </tr>\n",
       "  </tbody>\n",
       "</table>\n",
       "</div>"
      ],
      "text/plain": [
       "   year  twlength\n",
       "0  2008       140\n",
       "1  2008       119"
      ]
     },
     "execution_count": 91,
     "metadata": {},
     "output_type": "execute_result"
    }
   ],
   "source": [
    "%%time\n",
    "# display(pysqldf(\"Select count(*) from dj_2;\",globals()))\n",
    "pysqldf(\"SELECT * FROM dj_2;\")#forgot the py in pysqldf.........!!!!!!!!!!!!"
   ]
  },
  {
   "cell_type": "code",
   "execution_count": 92,
   "metadata": {},
   "outputs": [],
   "source": [
    "dj_3=dj_1[['screen_name','user_id','id','twlength']]"
   ]
  },
  {
   "cell_type": "code",
   "execution_count": 93,
   "metadata": {},
   "outputs": [],
   "source": [
    "# %%time\n",
    "# pysqldf(\"SELECT 'user_id' FROM dj_3 Limit 10;\") #<--wrong, user_id withouth quotation!!"
   ]
  },
  {
   "cell_type": "code",
   "execution_count": 94,
   "metadata": {},
   "outputs": [
    {
     "name": "stdout",
     "output_type": "stream",
     "text": [
      "Wall time: 9.17 s\n"
     ]
    },
    {
     "data": {
      "text/html": [
       "<div>\n",
       "<style scoped>\n",
       "    .dataframe tbody tr th:only-of-type {\n",
       "        vertical-align: middle;\n",
       "    }\n",
       "\n",
       "    .dataframe tbody tr th {\n",
       "        vertical-align: top;\n",
       "    }\n",
       "\n",
       "    .dataframe thead th {\n",
       "        text-align: right;\n",
       "    }\n",
       "</style>\n",
       "<table border=\"1\" class=\"dataframe\">\n",
       "  <thead>\n",
       "    <tr style=\"text-align: right;\">\n",
       "      <th></th>\n",
       "      <th>user_id</th>\n",
       "      <th>screen_name</th>\n",
       "      <th>cnt</th>\n",
       "    </tr>\n",
       "  </thead>\n",
       "  <tbody>\n",
       "    <tr>\n",
       "      <th>0</th>\n",
       "      <td>2962868158</td>\n",
       "      <td>RepDonBeyer</td>\n",
       "      <td>3258</td>\n",
       "    </tr>\n",
       "    <tr>\n",
       "      <th>1</th>\n",
       "      <td>247334603</td>\n",
       "      <td>SenatorDurbin</td>\n",
       "      <td>3252</td>\n",
       "    </tr>\n",
       "    <tr>\n",
       "      <th>2</th>\n",
       "      <td>18023868</td>\n",
       "      <td>MassGovernor</td>\n",
       "      <td>3250</td>\n",
       "    </tr>\n",
       "    <tr>\n",
       "      <th>3</th>\n",
       "      <td>3141213592</td>\n",
       "      <td>GovMattBevin</td>\n",
       "      <td>3250</td>\n",
       "    </tr>\n",
       "    <tr>\n",
       "      <th>4</th>\n",
       "      <td>14845376</td>\n",
       "      <td>GrahamBlog</td>\n",
       "      <td>3249</td>\n",
       "    </tr>\n",
       "    <tr>\n",
       "      <th>...</th>\n",
       "      <td>...</td>\n",
       "      <td>...</td>\n",
       "      <td>...</td>\n",
       "    </tr>\n",
       "    <tr>\n",
       "      <th>540</th>\n",
       "      <td>115676070</td>\n",
       "      <td>collinpeterson</td>\n",
       "      <td>80</td>\n",
       "    </tr>\n",
       "    <tr>\n",
       "      <th>541</th>\n",
       "      <td>510196665</td>\n",
       "      <td>Rep_Matt_Gaetz</td>\n",
       "      <td>37</td>\n",
       "    </tr>\n",
       "    <tr>\n",
       "      <th>542</th>\n",
       "      <td>854715071116849157</td>\n",
       "      <td>RepRonEstes</td>\n",
       "      <td>27</td>\n",
       "    </tr>\n",
       "    <tr>\n",
       "      <th>543</th>\n",
       "      <td>818536152588238849</td>\n",
       "      <td>RepGonzalez</td>\n",
       "      <td>16</td>\n",
       "    </tr>\n",
       "    <tr>\n",
       "      <th>544</th>\n",
       "      <td>20334348</td>\n",
       "      <td>GregHarper</td>\n",
       "      <td>4</td>\n",
       "    </tr>\n",
       "  </tbody>\n",
       "</table>\n",
       "<p>545 rows × 3 columns</p>\n",
       "</div>"
      ],
      "text/plain": [
       "                user_id     screen_name   cnt\n",
       "0            2962868158     RepDonBeyer  3258\n",
       "1             247334603   SenatorDurbin  3252\n",
       "2              18023868    MassGovernor  3250\n",
       "3            3141213592    GovMattBevin  3250\n",
       "4              14845376      GrahamBlog  3249\n",
       "..                  ...             ...   ...\n",
       "540           115676070  collinpeterson    80\n",
       "541           510196665  Rep_Matt_Gaetz    37\n",
       "542  854715071116849157     RepRonEstes    27\n",
       "543  818536152588238849     RepGonzalez    16\n",
       "544            20334348      GregHarper     4\n",
       "\n",
       "[545 rows x 3 columns]"
      ]
     },
     "execution_count": 94,
     "metadata": {},
     "output_type": "execute_result"
    }
   ],
   "source": [
    "%%time\n",
    "sq_tcnt=pysqldf(\"\"\"SELECT user_id, screen_name, \n",
    "count(*) as cnt FROM dj_3  GROUP BY user_id, screen_name ORDER BY cnt desc ;\"\"\")\n",
    "sq_tcnt"
   ]
  },
  {
   "cell_type": "code",
   "execution_count": 95,
   "metadata": {},
   "outputs": [
    {
     "data": {
      "text/html": [
       "<div>\n",
       "<style scoped>\n",
       "    .dataframe tbody tr th:only-of-type {\n",
       "        vertical-align: middle;\n",
       "    }\n",
       "\n",
       "    .dataframe tbody tr th {\n",
       "        vertical-align: top;\n",
       "    }\n",
       "\n",
       "    .dataframe thead th {\n",
       "        text-align: right;\n",
       "    }\n",
       "</style>\n",
       "<table border=\"1\" class=\"dataframe\">\n",
       "  <thead>\n",
       "    <tr style=\"text-align: right;\">\n",
       "      <th></th>\n",
       "      <th>user_id2</th>\n",
       "      <th>avg</th>\n",
       "    </tr>\n",
       "  </thead>\n",
       "  <tbody>\n",
       "    <tr>\n",
       "      <th>0</th>\n",
       "      <td>5558312</td>\n",
       "      <td>120.089657</td>\n",
       "    </tr>\n",
       "    <tr>\n",
       "      <th>1</th>\n",
       "      <td>7270292</td>\n",
       "      <td>121.725490</td>\n",
       "    </tr>\n",
       "    <tr>\n",
       "      <th>2</th>\n",
       "      <td>7429102</td>\n",
       "      <td>121.390137</td>\n",
       "    </tr>\n",
       "    <tr>\n",
       "      <th>3</th>\n",
       "      <td>10615232</td>\n",
       "      <td>108.196048</td>\n",
       "    </tr>\n",
       "    <tr>\n",
       "      <th>4</th>\n",
       "      <td>11651202</td>\n",
       "      <td>110.574389</td>\n",
       "    </tr>\n",
       "    <tr>\n",
       "      <th>...</th>\n",
       "      <td>...</td>\n",
       "      <td>...</td>\n",
       "    </tr>\n",
       "    <tr>\n",
       "      <th>540</th>\n",
       "      <td>818536152588238849</td>\n",
       "      <td>111.312500</td>\n",
       "    </tr>\n",
       "    <tr>\n",
       "      <th>541</th>\n",
       "      <td>818975124460335106</td>\n",
       "      <td>112.724590</td>\n",
       "    </tr>\n",
       "    <tr>\n",
       "      <th>542</th>\n",
       "      <td>822215679726100480</td>\n",
       "      <td>114.007800</td>\n",
       "    </tr>\n",
       "    <tr>\n",
       "      <th>543</th>\n",
       "      <td>827279765287559171</td>\n",
       "      <td>123.063492</td>\n",
       "    </tr>\n",
       "    <tr>\n",
       "      <th>544</th>\n",
       "      <td>854715071116849157</td>\n",
       "      <td>117.259259</td>\n",
       "    </tr>\n",
       "  </tbody>\n",
       "</table>\n",
       "<p>545 rows × 2 columns</p>\n",
       "</div>"
      ],
      "text/plain": [
       "               user_id2         avg\n",
       "0               5558312  120.089657\n",
       "1               7270292  121.725490\n",
       "2               7429102  121.390137\n",
       "3              10615232  108.196048\n",
       "4              11651202  110.574389\n",
       "..                  ...         ...\n",
       "540  818536152588238849  111.312500\n",
       "541  818975124460335106  112.724590\n",
       "542  822215679726100480  114.007800\n",
       "543  827279765287559171  123.063492\n",
       "544  854715071116849157  117.259259\n",
       "\n",
       "[545 rows x 2 columns]"
      ]
     },
     "execution_count": 95,
     "metadata": {},
     "output_type": "execute_result"
    }
   ],
   "source": [
    "sq_avt=pysqldf(\"\"\"SELECT user_id, \n",
    "AVG(twlength) as avg FROM dj_3  GROUP BY user_id;\"\"\")\n",
    "sq_avt.rename({'user_id':'user_id2'},axis=1,inplace=True)\n",
    "sq_avt"
   ]
  },
  {
   "cell_type": "code",
   "execution_count": 96,
   "metadata": {},
   "outputs": [
    {
     "data": {
      "text/html": [
       "<div>\n",
       "<style scoped>\n",
       "    .dataframe tbody tr th:only-of-type {\n",
       "        vertical-align: middle;\n",
       "    }\n",
       "\n",
       "    .dataframe tbody tr th {\n",
       "        vertical-align: top;\n",
       "    }\n",
       "\n",
       "    .dataframe thead th {\n",
       "        text-align: right;\n",
       "    }\n",
       "</style>\n",
       "<table border=\"1\" class=\"dataframe\">\n",
       "  <thead>\n",
       "    <tr style=\"text-align: right;\">\n",
       "      <th></th>\n",
       "      <th>user_id</th>\n",
       "      <th>screen_name</th>\n",
       "      <th>cnt</th>\n",
       "      <th>user_id2</th>\n",
       "      <th>avg</th>\n",
       "    </tr>\n",
       "  </thead>\n",
       "  <tbody>\n",
       "    <tr>\n",
       "      <th>0</th>\n",
       "      <td>2962868158</td>\n",
       "      <td>RepDonBeyer</td>\n",
       "      <td>3258</td>\n",
       "      <td>2962868158</td>\n",
       "      <td>128.334254</td>\n",
       "    </tr>\n",
       "    <tr>\n",
       "      <th>1</th>\n",
       "      <td>247334603</td>\n",
       "      <td>SenatorDurbin</td>\n",
       "      <td>3252</td>\n",
       "      <td>247334603</td>\n",
       "      <td>128.024908</td>\n",
       "    </tr>\n",
       "    <tr>\n",
       "      <th>2</th>\n",
       "      <td>18023868</td>\n",
       "      <td>MassGovernor</td>\n",
       "      <td>3250</td>\n",
       "      <td>18023868</td>\n",
       "      <td>134.096308</td>\n",
       "    </tr>\n",
       "    <tr>\n",
       "      <th>3</th>\n",
       "      <td>3141213592</td>\n",
       "      <td>GovMattBevin</td>\n",
       "      <td>3250</td>\n",
       "      <td>3141213592</td>\n",
       "      <td>108.053846</td>\n",
       "    </tr>\n",
       "    <tr>\n",
       "      <th>4</th>\n",
       "      <td>14845376</td>\n",
       "      <td>GrahamBlog</td>\n",
       "      <td>3249</td>\n",
       "      <td>14845376</td>\n",
       "      <td>111.831025</td>\n",
       "    </tr>\n",
       "    <tr>\n",
       "      <th>...</th>\n",
       "      <td>...</td>\n",
       "      <td>...</td>\n",
       "      <td>...</td>\n",
       "      <td>...</td>\n",
       "      <td>...</td>\n",
       "    </tr>\n",
       "    <tr>\n",
       "      <th>540</th>\n",
       "      <td>115676070</td>\n",
       "      <td>collinpeterson</td>\n",
       "      <td>80</td>\n",
       "      <td>115676070</td>\n",
       "      <td>121.212500</td>\n",
       "    </tr>\n",
       "    <tr>\n",
       "      <th>541</th>\n",
       "      <td>510196665</td>\n",
       "      <td>Rep_Matt_Gaetz</td>\n",
       "      <td>37</td>\n",
       "      <td>510196665</td>\n",
       "      <td>100.972973</td>\n",
       "    </tr>\n",
       "    <tr>\n",
       "      <th>542</th>\n",
       "      <td>854715071116849157</td>\n",
       "      <td>RepRonEstes</td>\n",
       "      <td>27</td>\n",
       "      <td>854715071116849157</td>\n",
       "      <td>117.259259</td>\n",
       "    </tr>\n",
       "    <tr>\n",
       "      <th>543</th>\n",
       "      <td>818536152588238849</td>\n",
       "      <td>RepGonzalez</td>\n",
       "      <td>16</td>\n",
       "      <td>818536152588238849</td>\n",
       "      <td>111.312500</td>\n",
       "    </tr>\n",
       "    <tr>\n",
       "      <th>544</th>\n",
       "      <td>20334348</td>\n",
       "      <td>GregHarper</td>\n",
       "      <td>4</td>\n",
       "      <td>20334348</td>\n",
       "      <td>73.750000</td>\n",
       "    </tr>\n",
       "  </tbody>\n",
       "</table>\n",
       "<p>545 rows × 5 columns</p>\n",
       "</div>"
      ],
      "text/plain": [
       "                user_id     screen_name   cnt            user_id2         avg\n",
       "0            2962868158     RepDonBeyer  3258          2962868158  128.334254\n",
       "1             247334603   SenatorDurbin  3252           247334603  128.024908\n",
       "2              18023868    MassGovernor  3250            18023868  134.096308\n",
       "3            3141213592    GovMattBevin  3250          3141213592  108.053846\n",
       "4              14845376      GrahamBlog  3249            14845376  111.831025\n",
       "..                  ...             ...   ...                 ...         ...\n",
       "540           115676070  collinpeterson    80           115676070  121.212500\n",
       "541           510196665  Rep_Matt_Gaetz    37           510196665  100.972973\n",
       "542  854715071116849157     RepRonEstes    27  854715071116849157  117.259259\n",
       "543  818536152588238849     RepGonzalez    16  818536152588238849  111.312500\n",
       "544            20334348      GregHarper     4            20334348   73.750000\n",
       "\n",
       "[545 rows x 5 columns]"
      ]
     },
     "execution_count": 96,
     "metadata": {},
     "output_type": "execute_result"
    }
   ],
   "source": [
    "sq_c_a=pysqldf(\"\"\"SELECT * from sq_tcnt as c JOIN sq_avt as a on c.user_id=a.user_id2;\"\"\")\n",
    "sq_c_a"
   ]
  },
  {
   "cell_type": "code",
   "execution_count": 97,
   "metadata": {},
   "outputs": [
    {
     "data": {
      "text/html": [
       "<div>\n",
       "<style scoped>\n",
       "    .dataframe tbody tr th:only-of-type {\n",
       "        vertical-align: middle;\n",
       "    }\n",
       "\n",
       "    .dataframe tbody tr th {\n",
       "        vertical-align: top;\n",
       "    }\n",
       "\n",
       "    .dataframe thead th {\n",
       "        text-align: right;\n",
       "    }\n",
       "</style>\n",
       "<table border=\"1\" class=\"dataframe\">\n",
       "  <thead>\n",
       "    <tr style=\"text-align: right;\">\n",
       "      <th></th>\n",
       "      <th>user_id</th>\n",
       "      <th>screen_name</th>\n",
       "      <th>cnt</th>\n",
       "      <th>avg</th>\n",
       "    </tr>\n",
       "  </thead>\n",
       "  <tbody>\n",
       "    <tr>\n",
       "      <th>0</th>\n",
       "      <td>2962868158</td>\n",
       "      <td>RepDonBeyer</td>\n",
       "      <td>3258</td>\n",
       "      <td>128.334254</td>\n",
       "    </tr>\n",
       "    <tr>\n",
       "      <th>1</th>\n",
       "      <td>247334603</td>\n",
       "      <td>SenatorDurbin</td>\n",
       "      <td>3252</td>\n",
       "      <td>128.024908</td>\n",
       "    </tr>\n",
       "    <tr>\n",
       "      <th>2</th>\n",
       "      <td>18023868</td>\n",
       "      <td>MassGovernor</td>\n",
       "      <td>3250</td>\n",
       "      <td>134.096308</td>\n",
       "    </tr>\n",
       "    <tr>\n",
       "      <th>3</th>\n",
       "      <td>3141213592</td>\n",
       "      <td>GovMattBevin</td>\n",
       "      <td>3250</td>\n",
       "      <td>108.053846</td>\n",
       "    </tr>\n",
       "    <tr>\n",
       "      <th>4</th>\n",
       "      <td>14845376</td>\n",
       "      <td>GrahamBlog</td>\n",
       "      <td>3249</td>\n",
       "      <td>111.831025</td>\n",
       "    </tr>\n",
       "    <tr>\n",
       "      <th>...</th>\n",
       "      <td>...</td>\n",
       "      <td>...</td>\n",
       "      <td>...</td>\n",
       "      <td>...</td>\n",
       "    </tr>\n",
       "    <tr>\n",
       "      <th>540</th>\n",
       "      <td>115676070</td>\n",
       "      <td>collinpeterson</td>\n",
       "      <td>80</td>\n",
       "      <td>121.212500</td>\n",
       "    </tr>\n",
       "    <tr>\n",
       "      <th>541</th>\n",
       "      <td>510196665</td>\n",
       "      <td>Rep_Matt_Gaetz</td>\n",
       "      <td>37</td>\n",
       "      <td>100.972973</td>\n",
       "    </tr>\n",
       "    <tr>\n",
       "      <th>542</th>\n",
       "      <td>854715071116849157</td>\n",
       "      <td>RepRonEstes</td>\n",
       "      <td>27</td>\n",
       "      <td>117.259259</td>\n",
       "    </tr>\n",
       "    <tr>\n",
       "      <th>543</th>\n",
       "      <td>818536152588238849</td>\n",
       "      <td>RepGonzalez</td>\n",
       "      <td>16</td>\n",
       "      <td>111.312500</td>\n",
       "    </tr>\n",
       "    <tr>\n",
       "      <th>544</th>\n",
       "      <td>20334348</td>\n",
       "      <td>GregHarper</td>\n",
       "      <td>4</td>\n",
       "      <td>73.750000</td>\n",
       "    </tr>\n",
       "  </tbody>\n",
       "</table>\n",
       "<p>545 rows × 4 columns</p>\n",
       "</div>"
      ],
      "text/plain": [
       "                user_id     screen_name   cnt         avg\n",
       "0            2962868158     RepDonBeyer  3258  128.334254\n",
       "1             247334603   SenatorDurbin  3252  128.024908\n",
       "2              18023868    MassGovernor  3250  134.096308\n",
       "3            3141213592    GovMattBevin  3250  108.053846\n",
       "4              14845376      GrahamBlog  3249  111.831025\n",
       "..                  ...             ...   ...         ...\n",
       "540           115676070  collinpeterson    80  121.212500\n",
       "541           510196665  Rep_Matt_Gaetz    37  100.972973\n",
       "542  854715071116849157     RepRonEstes    27  117.259259\n",
       "543  818536152588238849     RepGonzalez    16  111.312500\n",
       "544            20334348      GregHarper     4   73.750000\n",
       "\n",
       "[545 rows x 4 columns]"
      ]
     },
     "execution_count": 97,
     "metadata": {},
     "output_type": "execute_result"
    }
   ],
   "source": [
    "sq_c_a.drop(sq_c_a.columns[3], axis=1, inplace=True)\n",
    "sq_c_a"
   ]
  },
  {
   "cell_type": "code",
   "execution_count": 98,
   "metadata": {},
   "outputs": [],
   "source": [
    "len1=sq_c_a[:20]"
   ]
  },
  {
   "cell_type": "code",
   "execution_count": 99,
   "metadata": {},
   "outputs": [
    {
     "name": "stdout",
     "output_type": "stream",
     "text": [
      "121.27182240614938\n",
      "3247.85\n"
     ]
    }
   ],
   "source": [
    "print(len1[\"avg\"].mean())\n",
    "print(len1[\"cnt\"].mean())"
   ]
  },
  {
   "cell_type": "code",
   "execution_count": 100,
   "metadata": {},
   "outputs": [
    {
     "name": "stdout",
     "output_type": "stream",
     "text": [
      "119.89348643657829\n",
      "2244.558095238095\n"
     ]
    }
   ],
   "source": [
    "len2=sq_c_a[20:]\n",
    "print(len2[\"avg\"].mean())\n",
    "print(len2[\"cnt\"].mean())"
   ]
  },
  {
   "cell_type": "code",
   "execution_count": 101,
   "metadata": {},
   "outputs": [
    {
     "name": "stdout",
     "output_type": "stream",
     "text": [
      "Pearson correlation: 0.156\n"
     ]
    }
   ],
   "source": [
    "corr, _ = pearsonr(sq_c_a['cnt'], sq_c_a['avg'])\n",
    "print('Pearson correlation: %.3f' % corr)"
   ]
  },
  {
   "cell_type": "code",
   "execution_count": 102,
   "metadata": {},
   "outputs": [
    {
     "data": {
      "text/html": [
       "<div>\n",
       "<style scoped>\n",
       "    .dataframe tbody tr th:only-of-type {\n",
       "        vertical-align: middle;\n",
       "    }\n",
       "\n",
       "    .dataframe tbody tr th {\n",
       "        vertical-align: top;\n",
       "    }\n",
       "\n",
       "    .dataframe thead th {\n",
       "        text-align: right;\n",
       "    }\n",
       "</style>\n",
       "<table border=\"1\" class=\"dataframe\">\n",
       "  <thead>\n",
       "    <tr style=\"text-align: right;\">\n",
       "      <th></th>\n",
       "      <th>user_id</th>\n",
       "      <th>cnt</th>\n",
       "      <th>avg</th>\n",
       "    </tr>\n",
       "  </thead>\n",
       "  <tbody>\n",
       "    <tr>\n",
       "      <th>count</th>\n",
       "      <td>5.450000e+02</td>\n",
       "      <td>545.000000</td>\n",
       "      <td>545.000000</td>\n",
       "    </tr>\n",
       "    <tr>\n",
       "      <th>mean</th>\n",
       "      <td>7.131135e+16</td>\n",
       "      <td>2281.376147</td>\n",
       "      <td>119.944068</td>\n",
       "    </tr>\n",
       "    <tr>\n",
       "      <th>std</th>\n",
       "      <td>2.297616e+17</td>\n",
       "      <td>1057.006476</td>\n",
       "      <td>7.427978</td>\n",
       "    </tr>\n",
       "    <tr>\n",
       "      <th>min</th>\n",
       "      <td>5.558312e+06</td>\n",
       "      <td>4.000000</td>\n",
       "      <td>73.750000</td>\n",
       "    </tr>\n",
       "    <tr>\n",
       "      <th>25%</th>\n",
       "      <td>5.686409e+07</td>\n",
       "      <td>1398.000000</td>\n",
       "      <td>115.987928</td>\n",
       "    </tr>\n",
       "    <tr>\n",
       "      <th>50%</th>\n",
       "      <td>2.467691e+08</td>\n",
       "      <td>2691.000000</td>\n",
       "      <td>120.864738</td>\n",
       "    </tr>\n",
       "    <tr>\n",
       "      <th>75%</th>\n",
       "      <td>1.206227e+09</td>\n",
       "      <td>3222.000000</td>\n",
       "      <td>124.860706</td>\n",
       "    </tr>\n",
       "    <tr>\n",
       "      <th>max</th>\n",
       "      <td>8.547151e+17</td>\n",
       "      <td>3258.000000</td>\n",
       "      <td>136.171840</td>\n",
       "    </tr>\n",
       "  </tbody>\n",
       "</table>\n",
       "</div>"
      ],
      "text/plain": [
       "            user_id          cnt         avg\n",
       "count  5.450000e+02   545.000000  545.000000\n",
       "mean   7.131135e+16  2281.376147  119.944068\n",
       "std    2.297616e+17  1057.006476    7.427978\n",
       "min    5.558312e+06     4.000000   73.750000\n",
       "25%    5.686409e+07  1398.000000  115.987928\n",
       "50%    2.467691e+08  2691.000000  120.864738\n",
       "75%    1.206227e+09  3222.000000  124.860706\n",
       "max    8.547151e+17  3258.000000  136.171840"
      ]
     },
     "execution_count": 102,
     "metadata": {},
     "output_type": "execute_result"
    }
   ],
   "source": [
    "sq_c_a.describe()"
   ]
  },
  {
   "cell_type": "code",
   "execution_count": 103,
   "metadata": {},
   "outputs": [],
   "source": [
    "dj_4=dj_1[['screen_name','user_id','id','favorite_count']]"
   ]
  },
  {
   "cell_type": "code",
   "execution_count": 104,
   "metadata": {},
   "outputs": [
    {
     "name": "stdout",
     "output_type": "stream",
     "text": [
      "Wall time: 8.82 s\n"
     ]
    },
    {
     "data": {
      "text/html": [
       "<div>\n",
       "<style scoped>\n",
       "    .dataframe tbody tr th:only-of-type {\n",
       "        vertical-align: middle;\n",
       "    }\n",
       "\n",
       "    .dataframe tbody tr th {\n",
       "        vertical-align: top;\n",
       "    }\n",
       "\n",
       "    .dataframe thead th {\n",
       "        text-align: right;\n",
       "    }\n",
       "</style>\n",
       "<table border=\"1\" class=\"dataframe\">\n",
       "  <thead>\n",
       "    <tr style=\"text-align: right;\">\n",
       "      <th></th>\n",
       "      <th>user_id</th>\n",
       "      <th>screen_name</th>\n",
       "      <th>cnt</th>\n",
       "    </tr>\n",
       "  </thead>\n",
       "  <tbody>\n",
       "    <tr>\n",
       "      <th>0</th>\n",
       "      <td>2962868158</td>\n",
       "      <td>RepDonBeyer</td>\n",
       "      <td>3258</td>\n",
       "    </tr>\n",
       "    <tr>\n",
       "      <th>1</th>\n",
       "      <td>247334603</td>\n",
       "      <td>SenatorDurbin</td>\n",
       "      <td>3252</td>\n",
       "    </tr>\n",
       "    <tr>\n",
       "      <th>2</th>\n",
       "      <td>18023868</td>\n",
       "      <td>MassGovernor</td>\n",
       "      <td>3250</td>\n",
       "    </tr>\n",
       "    <tr>\n",
       "      <th>3</th>\n",
       "      <td>3141213592</td>\n",
       "      <td>GovMattBevin</td>\n",
       "      <td>3250</td>\n",
       "    </tr>\n",
       "    <tr>\n",
       "      <th>4</th>\n",
       "      <td>14845376</td>\n",
       "      <td>GrahamBlog</td>\n",
       "      <td>3249</td>\n",
       "    </tr>\n",
       "    <tr>\n",
       "      <th>...</th>\n",
       "      <td>...</td>\n",
       "      <td>...</td>\n",
       "      <td>...</td>\n",
       "    </tr>\n",
       "    <tr>\n",
       "      <th>540</th>\n",
       "      <td>115676070</td>\n",
       "      <td>collinpeterson</td>\n",
       "      <td>80</td>\n",
       "    </tr>\n",
       "    <tr>\n",
       "      <th>541</th>\n",
       "      <td>510196665</td>\n",
       "      <td>Rep_Matt_Gaetz</td>\n",
       "      <td>37</td>\n",
       "    </tr>\n",
       "    <tr>\n",
       "      <th>542</th>\n",
       "      <td>854715071116849157</td>\n",
       "      <td>RepRonEstes</td>\n",
       "      <td>27</td>\n",
       "    </tr>\n",
       "    <tr>\n",
       "      <th>543</th>\n",
       "      <td>818536152588238849</td>\n",
       "      <td>RepGonzalez</td>\n",
       "      <td>16</td>\n",
       "    </tr>\n",
       "    <tr>\n",
       "      <th>544</th>\n",
       "      <td>20334348</td>\n",
       "      <td>GregHarper</td>\n",
       "      <td>4</td>\n",
       "    </tr>\n",
       "  </tbody>\n",
       "</table>\n",
       "<p>545 rows × 3 columns</p>\n",
       "</div>"
      ],
      "text/plain": [
       "                user_id     screen_name   cnt\n",
       "0            2962868158     RepDonBeyer  3258\n",
       "1             247334603   SenatorDurbin  3252\n",
       "2              18023868    MassGovernor  3250\n",
       "3            3141213592    GovMattBevin  3250\n",
       "4              14845376      GrahamBlog  3249\n",
       "..                  ...             ...   ...\n",
       "540           115676070  collinpeterson    80\n",
       "541           510196665  Rep_Matt_Gaetz    37\n",
       "542  854715071116849157     RepRonEstes    27\n",
       "543  818536152588238849     RepGonzalez    16\n",
       "544            20334348      GregHarper     4\n",
       "\n",
       "[545 rows x 3 columns]"
      ]
     },
     "execution_count": 104,
     "metadata": {},
     "output_type": "execute_result"
    }
   ],
   "source": [
    "%%time\n",
    "\n",
    "sq_fcnt0=pysqldf(\"\"\"SELECT user_id, screen_name, count(*) as cnt\n",
    "                FROM dj_4 \n",
    "                Group by user_id,screen_name\n",
    "                ORDER BY cnt desc  \"\"\")\n",
    "sq_fcnt0\n",
    "               "
   ]
  },
  {
   "cell_type": "code",
   "execution_count": 105,
   "metadata": {},
   "outputs": [
    {
     "name": "stdout",
     "output_type": "stream",
     "text": [
      "Wall time: 8.18 s\n"
     ]
    },
    {
     "data": {
      "text/html": [
       "<div>\n",
       "<style scoped>\n",
       "    .dataframe tbody tr th:only-of-type {\n",
       "        vertical-align: middle;\n",
       "    }\n",
       "\n",
       "    .dataframe tbody tr th {\n",
       "        vertical-align: top;\n",
       "    }\n",
       "\n",
       "    .dataframe thead th {\n",
       "        text-align: right;\n",
       "    }\n",
       "</style>\n",
       "<table border=\"1\" class=\"dataframe\">\n",
       "  <thead>\n",
       "    <tr style=\"text-align: right;\">\n",
       "      <th></th>\n",
       "      <th>user_id3</th>\n",
       "      <th>fsum</th>\n",
       "    </tr>\n",
       "  </thead>\n",
       "  <tbody>\n",
       "    <tr>\n",
       "      <th>0</th>\n",
       "      <td>25073877</td>\n",
       "      <td>137775878</td>\n",
       "    </tr>\n",
       "    <tr>\n",
       "      <th>1</th>\n",
       "      <td>29442313</td>\n",
       "      <td>33039433</td>\n",
       "    </tr>\n",
       "    <tr>\n",
       "      <th>2</th>\n",
       "      <td>822215679726100480</td>\n",
       "      <td>9559858</td>\n",
       "    </tr>\n",
       "    <tr>\n",
       "      <th>3</th>\n",
       "      <td>970207298</td>\n",
       "      <td>8442047</td>\n",
       "    </tr>\n",
       "    <tr>\n",
       "      <th>4</th>\n",
       "      <td>29501253</td>\n",
       "      <td>3917791</td>\n",
       "    </tr>\n",
       "    <tr>\n",
       "      <th>...</th>\n",
       "      <td>...</td>\n",
       "      <td>...</td>\n",
       "    </tr>\n",
       "    <tr>\n",
       "      <th>540</th>\n",
       "      <td>854715071116849157</td>\n",
       "      <td>383</td>\n",
       "    </tr>\n",
       "    <tr>\n",
       "      <th>541</th>\n",
       "      <td>115676070</td>\n",
       "      <td>109</td>\n",
       "    </tr>\n",
       "    <tr>\n",
       "      <th>542</th>\n",
       "      <td>818536152588238849</td>\n",
       "      <td>47</td>\n",
       "    </tr>\n",
       "    <tr>\n",
       "      <th>543</th>\n",
       "      <td>510196665</td>\n",
       "      <td>0</td>\n",
       "    </tr>\n",
       "    <tr>\n",
       "      <th>544</th>\n",
       "      <td>20334348</td>\n",
       "      <td>0</td>\n",
       "    </tr>\n",
       "  </tbody>\n",
       "</table>\n",
       "<p>545 rows × 2 columns</p>\n",
       "</div>"
      ],
      "text/plain": [
       "               user_id3       fsum\n",
       "0              25073877  137775878\n",
       "1              29442313   33039433\n",
       "2    822215679726100480    9559858\n",
       "3             970207298    8442047\n",
       "4              29501253    3917791\n",
       "..                  ...        ...\n",
       "540  854715071116849157        383\n",
       "541           115676070        109\n",
       "542  818536152588238849         47\n",
       "543           510196665          0\n",
       "544            20334348          0\n",
       "\n",
       "[545 rows x 2 columns]"
      ]
     },
     "execution_count": 105,
     "metadata": {},
     "output_type": "execute_result"
    }
   ],
   "source": [
    "%%time\n",
    "\n",
    "# sq_fcnt=pysqldf(\"\"\"SELECT user_id, screen_name, favorite_count\n",
    "#                 FROM dj_4 \n",
    "#                 Group by user_id\n",
    "#                 ORDER BY favorite_count desc\"\"\")\n",
    "sq_fsum=pysqldf(\"\"\"SELECT user_id, sum(favorite_count) as fsum\n",
    "                FROM dj_4 \n",
    "                Group by user_id\n",
    "                ORDER BY fsum desc\"\"\")\n",
    "sq_fsum.rename({'user_id':'user_id3'},axis=1,inplace=True)\n",
    "sq_fsum"
   ]
  },
  {
   "cell_type": "code",
   "execution_count": 106,
   "metadata": {},
   "outputs": [
    {
     "data": {
      "text/plain": [
       "<AxesSubplot:>"
      ]
     },
     "execution_count": 106,
     "metadata": {},
     "output_type": "execute_result"
    },
    {
     "data": {
      "image/png": "[encoded data removed]",
      "text/plain": [
       "<Figure size 360x432 with 1 Axes>"
      ]
     },
     "metadata": {
      "needs_background": "light"
     },
     "output_type": "display_data"
    }
   ],
   "source": [
    "sq_fsum.boxplot(column='fsum',figsize=(5, 6))"
   ]
  },
  {
   "cell_type": "code",
   "execution_count": 107,
   "metadata": {},
   "outputs": [
    {
     "data": {
      "text/plain": [
       "<AxesSubplot:>"
      ]
     },
     "execution_count": 107,
     "metadata": {},
     "output_type": "execute_result"
    },
    {
     "data": {
      "image/png": "[encoded data removed]",
      "text/plain": [
       "<Figure size 360x432 with 1 Axes>"
      ]
     },
     "metadata": {
      "needs_background": "light"
     },
     "output_type": "display_data"
    }
   ],
   "source": [
    "sq_fsum[sq_fsum['fsum']>5000000].boxplot(column='fsum',figsize=(5, 6))"
   ]
  },
  {
   "cell_type": "code",
   "execution_count": 164,
   "metadata": {},
   "outputs": [
    {
     "data": {
      "image/png": "[encoded data removed]",
      "text/plain": [
       "<Figure size 360x432 with 1 Axes>"
      ]
     },
     "metadata": {
      "needs_background": "light"
     },
     "output_type": "display_data"
    }
   ],
   "source": [
    "bplot=sq_fsum[sq_fsum['fsum']<500000].boxplot(column='fsum',figsize=(5, 6))\n",
    "bplot.set_title('Favorite Counts per Politician',fontsize=20,pad=10)\n",
    "bplot.set_ylabel('Number of likes',fontsize=15)\n",
    "bplot.set_xlabel('Tweets / Politician with Favorite Count smaller than 50 000',fontsize=15,labelpad=10)\n",
    "bplot.tick_params(\n",
    "    axis='x',          # changes apply to the x-axis\n",
    "    which='both',      # both major and minor ticks are affected\n",
    "    bottom=False,      # ticks along the bottom edge are off\n",
    "    top=False,         # ticks along the top edge are off\n",
    "    labelbottom=False)"
   ]
  },
  {
   "cell_type": "code",
   "execution_count": 109,
   "metadata": {},
   "outputs": [],
   "source": [
    "sanders=dj_4[dj_4['user_id']==29442313]\n",
    "# sanders"
   ]
  },
  {
   "cell_type": "code",
   "execution_count": 110,
   "metadata": {},
   "outputs": [
    {
     "data": {
      "text/plain": [
       "33039433"
      ]
     },
     "execution_count": 110,
     "metadata": {},
     "output_type": "execute_result"
    }
   ],
   "source": [
    "sanders['favorite_count'].sum()"
   ]
  },
  {
   "cell_type": "code",
   "execution_count": 111,
   "metadata": {},
   "outputs": [
    {
     "data": {
      "text/html": [
       "<div>\n",
       "<style scoped>\n",
       "    .dataframe tbody tr th:only-of-type {\n",
       "        vertical-align: middle;\n",
       "    }\n",
       "\n",
       "    .dataframe tbody tr th {\n",
       "        vertical-align: top;\n",
       "    }\n",
       "\n",
       "    .dataframe thead th {\n",
       "        text-align: right;\n",
       "    }\n",
       "</style>\n",
       "<table border=\"1\" class=\"dataframe\">\n",
       "  <thead>\n",
       "    <tr style=\"text-align: right;\">\n",
       "      <th></th>\n",
       "      <th>user_id</th>\n",
       "      <th>screen_name</th>\n",
       "      <th>cnt</th>\n",
       "      <th>user_id3</th>\n",
       "      <th>fsum</th>\n",
       "      <th>fpertw</th>\n",
       "    </tr>\n",
       "  </thead>\n",
       "  <tbody>\n",
       "    <tr>\n",
       "      <th>0</th>\n",
       "      <td>25073877</td>\n",
       "      <td>realDonaldTrump</td>\n",
       "      <td>3238</td>\n",
       "      <td>25073877</td>\n",
       "      <td>137775878</td>\n",
       "      <td>42549</td>\n",
       "    </tr>\n",
       "    <tr>\n",
       "      <th>1</th>\n",
       "      <td>822215679726100480</td>\n",
       "      <td>POTUS</td>\n",
       "      <td>641</td>\n",
       "      <td>822215679726100480</td>\n",
       "      <td>9559858</td>\n",
       "      <td>14913</td>\n",
       "    </tr>\n",
       "    <tr>\n",
       "      <th>2</th>\n",
       "      <td>29442313</td>\n",
       "      <td>SenSanders</td>\n",
       "      <td>3243</td>\n",
       "      <td>29442313</td>\n",
       "      <td>33039433</td>\n",
       "      <td>10187</td>\n",
       "    </tr>\n",
       "    <tr>\n",
       "      <th>3</th>\n",
       "      <td>970207298</td>\n",
       "      <td>SenWarren</td>\n",
       "      <td>2027</td>\n",
       "      <td>970207298</td>\n",
       "      <td>8442047</td>\n",
       "      <td>4164</td>\n",
       "    </tr>\n",
       "    <tr>\n",
       "      <th>4</th>\n",
       "      <td>36686040</td>\n",
       "      <td>MaxineWaters</td>\n",
       "      <td>2253</td>\n",
       "      <td>36686040</td>\n",
       "      <td>3225758</td>\n",
       "      <td>1431</td>\n",
       "    </tr>\n",
       "    <tr>\n",
       "      <th>...</th>\n",
       "      <td>...</td>\n",
       "      <td>...</td>\n",
       "      <td>...</td>\n",
       "      <td>...</td>\n",
       "      <td>...</td>\n",
       "      <td>...</td>\n",
       "    </tr>\n",
       "    <tr>\n",
       "      <th>540</th>\n",
       "      <td>82453460</td>\n",
       "      <td>BennieGThompson</td>\n",
       "      <td>752</td>\n",
       "      <td>82453460</td>\n",
       "      <td>700</td>\n",
       "      <td>0</td>\n",
       "    </tr>\n",
       "    <tr>\n",
       "      <th>541</th>\n",
       "      <td>25086658</td>\n",
       "      <td>congbillposey</td>\n",
       "      <td>1227</td>\n",
       "      <td>25086658</td>\n",
       "      <td>1099</td>\n",
       "      <td>0</td>\n",
       "    </tr>\n",
       "    <tr>\n",
       "      <th>542</th>\n",
       "      <td>23970171</td>\n",
       "      <td>TomRooney</td>\n",
       "      <td>2730</td>\n",
       "      <td>23970171</td>\n",
       "      <td>2102</td>\n",
       "      <td>0</td>\n",
       "    </tr>\n",
       "    <tr>\n",
       "      <th>543</th>\n",
       "      <td>20334348</td>\n",
       "      <td>GregHarper</td>\n",
       "      <td>4</td>\n",
       "      <td>20334348</td>\n",
       "      <td>0</td>\n",
       "      <td>0</td>\n",
       "    </tr>\n",
       "    <tr>\n",
       "      <th>544</th>\n",
       "      <td>15356407</td>\n",
       "      <td>RobWittman</td>\n",
       "      <td>3188</td>\n",
       "      <td>15356407</td>\n",
       "      <td>2533</td>\n",
       "      <td>0</td>\n",
       "    </tr>\n",
       "  </tbody>\n",
       "</table>\n",
       "<p>545 rows × 6 columns</p>\n",
       "</div>"
      ],
      "text/plain": [
       "                user_id      screen_name   cnt            user_id3       fsum  \\\n",
       "0              25073877  realDonaldTrump  3238            25073877  137775878   \n",
       "1    822215679726100480            POTUS   641  822215679726100480    9559858   \n",
       "2              29442313       SenSanders  3243            29442313   33039433   \n",
       "3             970207298        SenWarren  2027           970207298    8442047   \n",
       "4              36686040     MaxineWaters  2253            36686040    3225758   \n",
       "..                  ...              ...   ...                 ...        ...   \n",
       "540            82453460  BennieGThompson   752            82453460        700   \n",
       "541            25086658    congbillposey  1227            25086658       1099   \n",
       "542            23970171        TomRooney  2730            23970171       2102   \n",
       "543            20334348       GregHarper     4            20334348          0   \n",
       "544            15356407       RobWittman  3188            15356407       2533   \n",
       "\n",
       "     fpertw  \n",
       "0     42549  \n",
       "1     14913  \n",
       "2     10187  \n",
       "3      4164  \n",
       "4      1431  \n",
       "..      ...  \n",
       "540       0  \n",
       "541       0  \n",
       "542       0  \n",
       "543       0  \n",
       "544       0  \n",
       "\n",
       "[545 rows x 6 columns]"
      ]
     },
     "execution_count": 111,
     "metadata": {},
     "output_type": "execute_result"
    }
   ],
   "source": [
    "pysqldf(\"\"\"SELECT *, fsum/cnt as fpertw \n",
    "                FROM sq_fcnt0 as o\n",
    "                JOIN sq_fsum as s\n",
    "                ON o.user_id=s.user_id3\n",
    "                Group by user_id\n",
    "                ORDER BY fpertw desc\"\"\")\n"
   ]
  },
  {
   "cell_type": "code",
   "execution_count": 112,
   "metadata": {},
   "outputs": [
    {
     "data": {
      "text/html": [
       "<div>\n",
       "<style scoped>\n",
       "    .dataframe tbody tr th:only-of-type {\n",
       "        vertical-align: middle;\n",
       "    }\n",
       "\n",
       "    .dataframe tbody tr th {\n",
       "        vertical-align: top;\n",
       "    }\n",
       "\n",
       "    .dataframe thead th {\n",
       "        text-align: right;\n",
       "    }\n",
       "</style>\n",
       "<table border=\"1\" class=\"dataframe\">\n",
       "  <thead>\n",
       "    <tr style=\"text-align: right;\">\n",
       "      <th></th>\n",
       "      <th>user_id</th>\n",
       "      <th>screen_name</th>\n",
       "      <th>cnt</th>\n",
       "      <th>user_id3</th>\n",
       "      <th>fsum</th>\n",
       "      <th>fpertw</th>\n",
       "    </tr>\n",
       "  </thead>\n",
       "  <tbody>\n",
       "    <tr>\n",
       "      <th>0</th>\n",
       "      <td>2962868158</td>\n",
       "      <td>RepDonBeyer</td>\n",
       "      <td>3258</td>\n",
       "      <td>2962868158</td>\n",
       "      <td>343939</td>\n",
       "      <td>105</td>\n",
       "    </tr>\n",
       "    <tr>\n",
       "      <th>1</th>\n",
       "      <td>247334603</td>\n",
       "      <td>SenatorDurbin</td>\n",
       "      <td>3252</td>\n",
       "      <td>247334603</td>\n",
       "      <td>387862</td>\n",
       "      <td>119</td>\n",
       "    </tr>\n",
       "    <tr>\n",
       "      <th>2</th>\n",
       "      <td>3141213592</td>\n",
       "      <td>GovMattBevin</td>\n",
       "      <td>3250</td>\n",
       "      <td>3141213592</td>\n",
       "      <td>154743</td>\n",
       "      <td>47</td>\n",
       "    </tr>\n",
       "    <tr>\n",
       "      <th>3</th>\n",
       "      <td>18023868</td>\n",
       "      <td>MassGovernor</td>\n",
       "      <td>3250</td>\n",
       "      <td>18023868</td>\n",
       "      <td>93557</td>\n",
       "      <td>28</td>\n",
       "    </tr>\n",
       "    <tr>\n",
       "      <th>4</th>\n",
       "      <td>968650362</td>\n",
       "      <td>SenTomCotton</td>\n",
       "      <td>3249</td>\n",
       "      <td>968650362</td>\n",
       "      <td>152724</td>\n",
       "      <td>47</td>\n",
       "    </tr>\n",
       "    <tr>\n",
       "      <th>...</th>\n",
       "      <td>...</td>\n",
       "      <td>...</td>\n",
       "      <td>...</td>\n",
       "      <td>...</td>\n",
       "      <td>...</td>\n",
       "      <td>...</td>\n",
       "    </tr>\n",
       "    <tr>\n",
       "      <th>540</th>\n",
       "      <td>115676070</td>\n",
       "      <td>collinpeterson</td>\n",
       "      <td>80</td>\n",
       "      <td>115676070</td>\n",
       "      <td>109</td>\n",
       "      <td>1</td>\n",
       "    </tr>\n",
       "    <tr>\n",
       "      <th>541</th>\n",
       "      <td>510196665</td>\n",
       "      <td>Rep_Matt_Gaetz</td>\n",
       "      <td>37</td>\n",
       "      <td>510196665</td>\n",
       "      <td>0</td>\n",
       "      <td>0</td>\n",
       "    </tr>\n",
       "    <tr>\n",
       "      <th>542</th>\n",
       "      <td>854715071116849157</td>\n",
       "      <td>RepRonEstes</td>\n",
       "      <td>27</td>\n",
       "      <td>854715071116849157</td>\n",
       "      <td>383</td>\n",
       "      <td>14</td>\n",
       "    </tr>\n",
       "    <tr>\n",
       "      <th>543</th>\n",
       "      <td>818536152588238849</td>\n",
       "      <td>RepGonzalez</td>\n",
       "      <td>16</td>\n",
       "      <td>818536152588238849</td>\n",
       "      <td>47</td>\n",
       "      <td>2</td>\n",
       "    </tr>\n",
       "    <tr>\n",
       "      <th>544</th>\n",
       "      <td>20334348</td>\n",
       "      <td>GregHarper</td>\n",
       "      <td>4</td>\n",
       "      <td>20334348</td>\n",
       "      <td>0</td>\n",
       "      <td>0</td>\n",
       "    </tr>\n",
       "  </tbody>\n",
       "</table>\n",
       "<p>545 rows × 6 columns</p>\n",
       "</div>"
      ],
      "text/plain": [
       "                user_id     screen_name   cnt            user_id3    fsum  \\\n",
       "0            2962868158     RepDonBeyer  3258          2962868158  343939   \n",
       "1             247334603   SenatorDurbin  3252           247334603  387862   \n",
       "2            3141213592    GovMattBevin  3250          3141213592  154743   \n",
       "3              18023868    MassGovernor  3250            18023868   93557   \n",
       "4             968650362    SenTomCotton  3249           968650362  152724   \n",
       "..                  ...             ...   ...                 ...     ...   \n",
       "540           115676070  collinpeterson    80           115676070     109   \n",
       "541           510196665  Rep_Matt_Gaetz    37           510196665       0   \n",
       "542  854715071116849157     RepRonEstes    27  854715071116849157     383   \n",
       "543  818536152588238849     RepGonzalez    16  818536152588238849      47   \n",
       "544            20334348      GregHarper     4            20334348       0   \n",
       "\n",
       "     fpertw  \n",
       "0       105  \n",
       "1       119  \n",
       "2        47  \n",
       "3        28  \n",
       "4        47  \n",
       "..      ...  \n",
       "540       1  \n",
       "541       0  \n",
       "542      14  \n",
       "543       2  \n",
       "544       0  \n",
       "\n",
       "[545 rows x 6 columns]"
      ]
     },
     "execution_count": 112,
     "metadata": {},
     "output_type": "execute_result"
    }
   ],
   "source": [
    "sq_fav=pysqldf(\"\"\"SELECT *, fsum/cnt as fpertw \n",
    "                FROM sq_fcnt0 as o\n",
    "                JOIN sq_fsum as s\n",
    "                ON o.user_id=s.user_id3\n",
    "                Group by user_id\n",
    "                ORDER BY cnt desc\"\"\")\n",
    "\n",
    "sq_fav"
   ]
  },
  {
   "cell_type": "code",
   "execution_count": 113,
   "metadata": {},
   "outputs": [
    {
     "data": {
      "text/html": [
       "<div>\n",
       "<style scoped>\n",
       "    .dataframe tbody tr th:only-of-type {\n",
       "        vertical-align: middle;\n",
       "    }\n",
       "\n",
       "    .dataframe tbody tr th {\n",
       "        vertical-align: top;\n",
       "    }\n",
       "\n",
       "    .dataframe thead th {\n",
       "        text-align: right;\n",
       "    }\n",
       "</style>\n",
       "<table border=\"1\" class=\"dataframe\">\n",
       "  <thead>\n",
       "    <tr style=\"text-align: right;\">\n",
       "      <th></th>\n",
       "      <th>cnt</th>\n",
       "      <th>fsum</th>\n",
       "      <th>fpertw</th>\n",
       "    </tr>\n",
       "  </thead>\n",
       "  <tbody>\n",
       "    <tr>\n",
       "      <th>count</th>\n",
       "      <td>545.000000</td>\n",
       "      <td>5.450000e+02</td>\n",
       "      <td>545.000000</td>\n",
       "    </tr>\n",
       "    <tr>\n",
       "      <th>mean</th>\n",
       "      <td>2281.376147</td>\n",
       "      <td>4.582256e+05</td>\n",
       "      <td>173.955963</td>\n",
       "    </tr>\n",
       "    <tr>\n",
       "      <th>std</th>\n",
       "      <td>1057.006476</td>\n",
       "      <td>6.095455e+06</td>\n",
       "      <td>1987.969030</td>\n",
       "    </tr>\n",
       "    <tr>\n",
       "      <th>min</th>\n",
       "      <td>4.000000</td>\n",
       "      <td>0.000000e+00</td>\n",
       "      <td>0.000000</td>\n",
       "    </tr>\n",
       "    <tr>\n",
       "      <th>25%</th>\n",
       "      <td>1398.000000</td>\n",
       "      <td>6.412000e+03</td>\n",
       "      <td>4.000000</td>\n",
       "    </tr>\n",
       "    <tr>\n",
       "      <th>50%</th>\n",
       "      <td>2691.000000</td>\n",
       "      <td>1.653300e+04</td>\n",
       "      <td>8.000000</td>\n",
       "    </tr>\n",
       "    <tr>\n",
       "      <th>75%</th>\n",
       "      <td>3222.000000</td>\n",
       "      <td>5.216300e+04</td>\n",
       "      <td>21.000000</td>\n",
       "    </tr>\n",
       "    <tr>\n",
       "      <th>max</th>\n",
       "      <td>3258.000000</td>\n",
       "      <td>1.377759e+08</td>\n",
       "      <td>42549.000000</td>\n",
       "    </tr>\n",
       "  </tbody>\n",
       "</table>\n",
       "</div>"
      ],
      "text/plain": [
       "               cnt          fsum        fpertw\n",
       "count   545.000000  5.450000e+02    545.000000\n",
       "mean   2281.376147  4.582256e+05    173.955963\n",
       "std    1057.006476  6.095455e+06   1987.969030\n",
       "min       4.000000  0.000000e+00      0.000000\n",
       "25%    1398.000000  6.412000e+03      4.000000\n",
       "50%    2691.000000  1.653300e+04      8.000000\n",
       "75%    3222.000000  5.216300e+04     21.000000\n",
       "max    3258.000000  1.377759e+08  42549.000000"
      ]
     },
     "execution_count": 113,
     "metadata": {},
     "output_type": "execute_result"
    }
   ],
   "source": [
    "sq_fav[['cnt','fsum','fpertw']].describe()"
   ]
  },
  {
   "cell_type": "code",
   "execution_count": 114,
   "metadata": {},
   "outputs": [
    {
     "data": {
      "text/plain": [
       "79.3"
      ]
     },
     "execution_count": 114,
     "metadata": {},
     "output_type": "execute_result"
    }
   ],
   "source": [
    "lenf1=sq_fav[:20]\n",
    "lenf1['fpertw'].mean()"
   ]
  },
  {
   "cell_type": "code",
   "execution_count": 115,
   "metadata": {},
   "outputs": [
    {
     "data": {
      "text/plain": [
       "177.56190476190477"
      ]
     },
     "execution_count": 115,
     "metadata": {},
     "output_type": "execute_result"
    }
   ],
   "source": [
    "lenf2=sq_fav[20:]\n",
    "lenf2['fpertw'].mean()"
   ]
  },
  {
   "cell_type": "code",
   "execution_count": 165,
   "metadata": {},
   "outputs": [
    {
     "name": "stdout",
     "output_type": "stream",
     "text": [
      "Pearson correlation: 0.029\n"
     ]
    }
   ],
   "source": [
    "corr, _ = pearsonr(sq_fav['cnt'], sq_fav['fpertw'])\n",
    "print('Pearson correlation: %.3f' % corr)"
   ]
  },
  {
   "cell_type": "markdown",
   "metadata": {},
   "source": [
    "actually the ones who are tweeting less often get more 'favorites'"
   ]
  },
  {
   "cell_type": "markdown",
   "metadata": {},
   "source": [
    "now retweets"
   ]
  },
  {
   "cell_type": "code",
   "execution_count": 116,
   "metadata": {},
   "outputs": [],
   "source": [
    "dj_5=dj_1[['screen_name','user_id','id','retweet_count']]"
   ]
  },
  {
   "cell_type": "code",
   "execution_count": 117,
   "metadata": {},
   "outputs": [
    {
     "data": {
      "text/html": [
       "<div>\n",
       "<style scoped>\n",
       "    .dataframe tbody tr th:only-of-type {\n",
       "        vertical-align: middle;\n",
       "    }\n",
       "\n",
       "    .dataframe tbody tr th {\n",
       "        vertical-align: top;\n",
       "    }\n",
       "\n",
       "    .dataframe thead th {\n",
       "        text-align: right;\n",
       "    }\n",
       "</style>\n",
       "<table border=\"1\" class=\"dataframe\">\n",
       "  <thead>\n",
       "    <tr style=\"text-align: right;\">\n",
       "      <th></th>\n",
       "      <th>user_id4</th>\n",
       "      <th>rsum</th>\n",
       "    </tr>\n",
       "  </thead>\n",
       "  <tbody>\n",
       "    <tr>\n",
       "      <th>0</th>\n",
       "      <td>25073877</td>\n",
       "      <td>40852446</td>\n",
       "    </tr>\n",
       "    <tr>\n",
       "      <th>1</th>\n",
       "      <td>29442313</td>\n",
       "      <td>13332027</td>\n",
       "    </tr>\n",
       "    <tr>\n",
       "      <th>2</th>\n",
       "      <td>822215679726100480</td>\n",
       "      <td>5855933</td>\n",
       "    </tr>\n",
       "    <tr>\n",
       "      <th>3</th>\n",
       "      <td>15745368</td>\n",
       "      <td>4964220</td>\n",
       "    </tr>\n",
       "    <tr>\n",
       "      <th>4</th>\n",
       "      <td>816282029276938240</td>\n",
       "      <td>4896177</td>\n",
       "    </tr>\n",
       "    <tr>\n",
       "      <th>...</th>\n",
       "      <td>...</td>\n",
       "      <td>...</td>\n",
       "    </tr>\n",
       "    <tr>\n",
       "      <th>540</th>\n",
       "      <td>811986281177772032</td>\n",
       "      <td>349</td>\n",
       "    </tr>\n",
       "    <tr>\n",
       "      <th>541</th>\n",
       "      <td>115676070</td>\n",
       "      <td>208</td>\n",
       "    </tr>\n",
       "    <tr>\n",
       "      <th>542</th>\n",
       "      <td>854715071116849157</td>\n",
       "      <td>88</td>\n",
       "    </tr>\n",
       "    <tr>\n",
       "      <th>543</th>\n",
       "      <td>818536152588238849</td>\n",
       "      <td>43</td>\n",
       "    </tr>\n",
       "    <tr>\n",
       "      <th>544</th>\n",
       "      <td>20334348</td>\n",
       "      <td>1</td>\n",
       "    </tr>\n",
       "  </tbody>\n",
       "</table>\n",
       "<p>545 rows × 2 columns</p>\n",
       "</div>"
      ],
      "text/plain": [
       "               user_id4      rsum\n",
       "0              25073877  40852446\n",
       "1              29442313  13332027\n",
       "2    822215679726100480   5855933\n",
       "3              15745368   4964220\n",
       "4    816282029276938240   4896177\n",
       "..                  ...       ...\n",
       "540  811986281177772032       349\n",
       "541           115676070       208\n",
       "542  854715071116849157        88\n",
       "543  818536152588238849        43\n",
       "544            20334348         1\n",
       "\n",
       "[545 rows x 2 columns]"
      ]
     },
     "execution_count": 117,
     "metadata": {},
     "output_type": "execute_result"
    }
   ],
   "source": [
    "sq_rsum=pysqldf(\"\"\"SELECT user_id, sum(retweet_count) as rsum\n",
    "                FROM dj_5 \n",
    "                Group by user_id\n",
    "                ORDER BY rsum desc\"\"\")\n",
    "sq_rsum.rename({'user_id':'user_id4'},axis=1,inplace=True)\n",
    "sq_rsum"
   ]
  },
  {
   "cell_type": "code",
   "execution_count": 118,
   "metadata": {},
   "outputs": [
    {
     "data": {
      "text/html": [
       "<div>\n",
       "<style scoped>\n",
       "    .dataframe tbody tr th:only-of-type {\n",
       "        vertical-align: middle;\n",
       "    }\n",
       "\n",
       "    .dataframe tbody tr th {\n",
       "        vertical-align: top;\n",
       "    }\n",
       "\n",
       "    .dataframe thead th {\n",
       "        text-align: right;\n",
       "    }\n",
       "</style>\n",
       "<table border=\"1\" class=\"dataframe\">\n",
       "  <thead>\n",
       "    <tr style=\"text-align: right;\">\n",
       "      <th></th>\n",
       "      <th>user_id</th>\n",
       "      <th>screen_name</th>\n",
       "      <th>cnt</th>\n",
       "      <th>user_id4</th>\n",
       "      <th>rsum</th>\n",
       "      <th>rpertw</th>\n",
       "    </tr>\n",
       "  </thead>\n",
       "  <tbody>\n",
       "    <tr>\n",
       "      <th>0</th>\n",
       "      <td>2962868158</td>\n",
       "      <td>RepDonBeyer</td>\n",
       "      <td>3258</td>\n",
       "      <td>2962868158</td>\n",
       "      <td>4809746</td>\n",
       "      <td>1476</td>\n",
       "    </tr>\n",
       "    <tr>\n",
       "      <th>1</th>\n",
       "      <td>247334603</td>\n",
       "      <td>SenatorDurbin</td>\n",
       "      <td>3252</td>\n",
       "      <td>247334603</td>\n",
       "      <td>497996</td>\n",
       "      <td>153</td>\n",
       "    </tr>\n",
       "    <tr>\n",
       "      <th>2</th>\n",
       "      <td>3141213592</td>\n",
       "      <td>GovMattBevin</td>\n",
       "      <td>3250</td>\n",
       "      <td>3141213592</td>\n",
       "      <td>142384</td>\n",
       "      <td>43</td>\n",
       "    </tr>\n",
       "    <tr>\n",
       "      <th>3</th>\n",
       "      <td>18023868</td>\n",
       "      <td>MassGovernor</td>\n",
       "      <td>3250</td>\n",
       "      <td>18023868</td>\n",
       "      <td>64932</td>\n",
       "      <td>19</td>\n",
       "    </tr>\n",
       "    <tr>\n",
       "      <th>4</th>\n",
       "      <td>968650362</td>\n",
       "      <td>SenTomCotton</td>\n",
       "      <td>3249</td>\n",
       "      <td>968650362</td>\n",
       "      <td>85473</td>\n",
       "      <td>26</td>\n",
       "    </tr>\n",
       "    <tr>\n",
       "      <th>...</th>\n",
       "      <td>...</td>\n",
       "      <td>...</td>\n",
       "      <td>...</td>\n",
       "      <td>...</td>\n",
       "      <td>...</td>\n",
       "      <td>...</td>\n",
       "    </tr>\n",
       "    <tr>\n",
       "      <th>540</th>\n",
       "      <td>115676070</td>\n",
       "      <td>collinpeterson</td>\n",
       "      <td>80</td>\n",
       "      <td>115676070</td>\n",
       "      <td>208</td>\n",
       "      <td>2</td>\n",
       "    </tr>\n",
       "    <tr>\n",
       "      <th>541</th>\n",
       "      <td>510196665</td>\n",
       "      <td>Rep_Matt_Gaetz</td>\n",
       "      <td>37</td>\n",
       "      <td>510196665</td>\n",
       "      <td>646</td>\n",
       "      <td>17</td>\n",
       "    </tr>\n",
       "    <tr>\n",
       "      <th>542</th>\n",
       "      <td>854715071116849157</td>\n",
       "      <td>RepRonEstes</td>\n",
       "      <td>27</td>\n",
       "      <td>854715071116849157</td>\n",
       "      <td>88</td>\n",
       "      <td>3</td>\n",
       "    </tr>\n",
       "    <tr>\n",
       "      <th>543</th>\n",
       "      <td>818536152588238849</td>\n",
       "      <td>RepGonzalez</td>\n",
       "      <td>16</td>\n",
       "      <td>818536152588238849</td>\n",
       "      <td>43</td>\n",
       "      <td>2</td>\n",
       "    </tr>\n",
       "    <tr>\n",
       "      <th>544</th>\n",
       "      <td>20334348</td>\n",
       "      <td>GregHarper</td>\n",
       "      <td>4</td>\n",
       "      <td>20334348</td>\n",
       "      <td>1</td>\n",
       "      <td>0</td>\n",
       "    </tr>\n",
       "  </tbody>\n",
       "</table>\n",
       "<p>545 rows × 6 columns</p>\n",
       "</div>"
      ],
      "text/plain": [
       "                user_id     screen_name   cnt            user_id4     rsum  \\\n",
       "0            2962868158     RepDonBeyer  3258          2962868158  4809746   \n",
       "1             247334603   SenatorDurbin  3252           247334603   497996   \n",
       "2            3141213592    GovMattBevin  3250          3141213592   142384   \n",
       "3              18023868    MassGovernor  3250            18023868    64932   \n",
       "4             968650362    SenTomCotton  3249           968650362    85473   \n",
       "..                  ...             ...   ...                 ...      ...   \n",
       "540           115676070  collinpeterson    80           115676070      208   \n",
       "541           510196665  Rep_Matt_Gaetz    37           510196665      646   \n",
       "542  854715071116849157     RepRonEstes    27  854715071116849157       88   \n",
       "543  818536152588238849     RepGonzalez    16  818536152588238849       43   \n",
       "544            20334348      GregHarper     4            20334348        1   \n",
       "\n",
       "     rpertw  \n",
       "0      1476  \n",
       "1       153  \n",
       "2        43  \n",
       "3        19  \n",
       "4        26  \n",
       "..      ...  \n",
       "540       2  \n",
       "541      17  \n",
       "542       3  \n",
       "543       2  \n",
       "544       0  \n",
       "\n",
       "[545 rows x 6 columns]"
      ]
     },
     "execution_count": 118,
     "metadata": {},
     "output_type": "execute_result"
    }
   ],
   "source": [
    "sq_retw=pysqldf(\"\"\"SELECT *, rsum/cnt as rpertw \n",
    "                FROM sq_fcnt0 as o\n",
    "                JOIN sq_rsum as r\n",
    "                ON o.user_id=r.user_id4\n",
    "                Group by user_id\n",
    "                ORDER BY cnt desc\"\"\")\n",
    "\n",
    "sq_retw"
   ]
  },
  {
   "cell_type": "code",
   "execution_count": 119,
   "metadata": {},
   "outputs": [
    {
     "data": {
      "text/plain": [
       "177.0"
      ]
     },
     "execution_count": 119,
     "metadata": {},
     "output_type": "execute_result"
    }
   ],
   "source": [
    "lenr1=sq_retw[:20]\n",
    "lenr1['rpertw'].mean()"
   ]
  },
  {
   "cell_type": "code",
   "execution_count": 120,
   "metadata": {},
   "outputs": [
    {
     "data": {
      "text/plain": [
       "190.46666666666667"
      ]
     },
     "execution_count": 120,
     "metadata": {},
     "output_type": "execute_result"
    }
   ],
   "source": [
    "lenr2=sq_retw[20:]\n",
    "lenr2['rpertw'].mean()"
   ]
  },
  {
   "cell_type": "code",
   "execution_count": 166,
   "metadata": {},
   "outputs": [
    {
     "name": "stdout",
     "output_type": "stream",
     "text": [
      "Pearson correlation: -0.001\n"
     ]
    }
   ],
   "source": [
    "corr, _ = pearsonr(sq_retw['cnt'], sq_retw['rpertw'])\n",
    "print('Pearson correlation: %.3f' % corr)"
   ]
  },
  {
   "cell_type": "code",
   "execution_count": 121,
   "metadata": {},
   "outputs": [
    {
     "data": {
      "text/html": [
       "<div>\n",
       "<style scoped>\n",
       "    .dataframe tbody tr th:only-of-type {\n",
       "        vertical-align: middle;\n",
       "    }\n",
       "\n",
       "    .dataframe tbody tr th {\n",
       "        vertical-align: top;\n",
       "    }\n",
       "\n",
       "    .dataframe thead th {\n",
       "        text-align: right;\n",
       "    }\n",
       "</style>\n",
       "<table border=\"1\" class=\"dataframe\">\n",
       "  <thead>\n",
       "    <tr style=\"text-align: right;\">\n",
       "      <th></th>\n",
       "      <th>user_id</th>\n",
       "      <th>cnt</th>\n",
       "      <th>user_id4</th>\n",
       "      <th>rsum</th>\n",
       "      <th>rpertw</th>\n",
       "    </tr>\n",
       "  </thead>\n",
       "  <tbody>\n",
       "    <tr>\n",
       "      <th>count</th>\n",
       "      <td>5.450000e+02</td>\n",
       "      <td>545.000000</td>\n",
       "      <td>5.450000e+02</td>\n",
       "      <td>5.450000e+02</td>\n",
       "      <td>545.000000</td>\n",
       "    </tr>\n",
       "    <tr>\n",
       "      <th>mean</th>\n",
       "      <td>7.131135e+16</td>\n",
       "      <td>2281.376147</td>\n",
       "      <td>7.131135e+16</td>\n",
       "      <td>4.336118e+05</td>\n",
       "      <td>189.972477</td>\n",
       "    </tr>\n",
       "    <tr>\n",
       "      <th>std</th>\n",
       "      <td>2.297616e+17</td>\n",
       "      <td>1057.006476</td>\n",
       "      <td>2.297616e+17</td>\n",
       "      <td>1.968585e+06</td>\n",
       "      <td>795.886221</td>\n",
       "    </tr>\n",
       "    <tr>\n",
       "      <th>min</th>\n",
       "      <td>5.558312e+06</td>\n",
       "      <td>4.000000</td>\n",
       "      <td>5.558312e+06</td>\n",
       "      <td>1.000000e+00</td>\n",
       "      <td>0.000000</td>\n",
       "    </tr>\n",
       "    <tr>\n",
       "      <th>25%</th>\n",
       "      <td>5.686409e+07</td>\n",
       "      <td>1398.000000</td>\n",
       "      <td>5.686409e+07</td>\n",
       "      <td>2.154100e+04</td>\n",
       "      <td>11.000000</td>\n",
       "    </tr>\n",
       "    <tr>\n",
       "      <th>50%</th>\n",
       "      <td>2.467691e+08</td>\n",
       "      <td>2691.000000</td>\n",
       "      <td>2.467691e+08</td>\n",
       "      <td>6.853800e+04</td>\n",
       "      <td>33.000000</td>\n",
       "    </tr>\n",
       "    <tr>\n",
       "      <th>75%</th>\n",
       "      <td>1.206227e+09</td>\n",
       "      <td>3222.000000</td>\n",
       "      <td>1.206227e+09</td>\n",
       "      <td>2.921580e+05</td>\n",
       "      <td>118.000000</td>\n",
       "    </tr>\n",
       "    <tr>\n",
       "      <th>max</th>\n",
       "      <td>8.547151e+17</td>\n",
       "      <td>3258.000000</td>\n",
       "      <td>8.547151e+17</td>\n",
       "      <td>4.085245e+07</td>\n",
       "      <td>12616.000000</td>\n",
       "    </tr>\n",
       "  </tbody>\n",
       "</table>\n",
       "</div>"
      ],
      "text/plain": [
       "            user_id          cnt      user_id4          rsum        rpertw\n",
       "count  5.450000e+02   545.000000  5.450000e+02  5.450000e+02    545.000000\n",
       "mean   7.131135e+16  2281.376147  7.131135e+16  4.336118e+05    189.972477\n",
       "std    2.297616e+17  1057.006476  2.297616e+17  1.968585e+06    795.886221\n",
       "min    5.558312e+06     4.000000  5.558312e+06  1.000000e+00      0.000000\n",
       "25%    5.686409e+07  1398.000000  5.686409e+07  2.154100e+04     11.000000\n",
       "50%    2.467691e+08  2691.000000  2.467691e+08  6.853800e+04     33.000000\n",
       "75%    1.206227e+09  3222.000000  1.206227e+09  2.921580e+05    118.000000\n",
       "max    8.547151e+17  3258.000000  8.547151e+17  4.085245e+07  12616.000000"
      ]
     },
     "execution_count": 121,
     "metadata": {},
     "output_type": "execute_result"
    }
   ],
   "source": [
    "sq_retw.describe()"
   ]
  },
  {
   "cell_type": "markdown",
   "metadata": {},
   "source": [
    "well changed to : politicians that quote more, also tweet more"
   ]
  },
  {
   "cell_type": "code",
   "execution_count": 122,
   "metadata": {},
   "outputs": [],
   "source": [
    "dj_6=dj_1[['screen_name','user_id','id','is_quote_status']]"
   ]
  },
  {
   "cell_type": "code",
   "execution_count": 123,
   "metadata": {},
   "outputs": [
    {
     "data": {
      "text/plain": [
       "dtype('bool')"
      ]
     },
     "execution_count": 123,
     "metadata": {},
     "output_type": "execute_result"
    }
   ],
   "source": [
    "dj_6['is_quote_status'].dtype"
   ]
  },
  {
   "cell_type": "code",
   "execution_count": 124,
   "metadata": {},
   "outputs": [
    {
     "data": {
      "text/plain": [
       "57311"
      ]
     },
     "execution_count": 124,
     "metadata": {},
     "output_type": "execute_result"
    }
   ],
   "source": [
    "dj_6['is_quote_status'].sum()"
   ]
  },
  {
   "cell_type": "code",
   "execution_count": 125,
   "metadata": {},
   "outputs": [
    {
     "data": {
      "text/html": [
       "<div>\n",
       "<style scoped>\n",
       "    .dataframe tbody tr th:only-of-type {\n",
       "        vertical-align: middle;\n",
       "    }\n",
       "\n",
       "    .dataframe tbody tr th {\n",
       "        vertical-align: top;\n",
       "    }\n",
       "\n",
       "    .dataframe thead th {\n",
       "        text-align: right;\n",
       "    }\n",
       "</style>\n",
       "<table border=\"1\" class=\"dataframe\">\n",
       "  <thead>\n",
       "    <tr style=\"text-align: right;\">\n",
       "      <th></th>\n",
       "      <th>user_id5</th>\n",
       "      <th>qu</th>\n",
       "    </tr>\n",
       "  </thead>\n",
       "  <tbody>\n",
       "    <tr>\n",
       "      <th>0</th>\n",
       "      <td>2962868158</td>\n",
       "      <td>1111</td>\n",
       "    </tr>\n",
       "    <tr>\n",
       "      <th>1</th>\n",
       "      <td>15808765</td>\n",
       "      <td>890</td>\n",
       "    </tr>\n",
       "    <tr>\n",
       "      <th>2</th>\n",
       "      <td>2963445730</td>\n",
       "      <td>665</td>\n",
       "    </tr>\n",
       "    <tr>\n",
       "      <th>3</th>\n",
       "      <td>233842454</td>\n",
       "      <td>638</td>\n",
       "    </tr>\n",
       "    <tr>\n",
       "      <th>4</th>\n",
       "      <td>1880674038</td>\n",
       "      <td>636</td>\n",
       "    </tr>\n",
       "    <tr>\n",
       "      <th>...</th>\n",
       "      <td>...</td>\n",
       "      <td>...</td>\n",
       "    </tr>\n",
       "    <tr>\n",
       "      <th>540</th>\n",
       "      <td>75785294</td>\n",
       "      <td>0</td>\n",
       "    </tr>\n",
       "    <tr>\n",
       "      <th>541</th>\n",
       "      <td>57963724</td>\n",
       "      <td>0</td>\n",
       "    </tr>\n",
       "    <tr>\n",
       "      <th>542</th>\n",
       "      <td>20597460</td>\n",
       "      <td>0</td>\n",
       "    </tr>\n",
       "    <tr>\n",
       "      <th>543</th>\n",
       "      <td>20334348</td>\n",
       "      <td>0</td>\n",
       "    </tr>\n",
       "    <tr>\n",
       "      <th>544</th>\n",
       "      <td>10615232</td>\n",
       "      <td>0</td>\n",
       "    </tr>\n",
       "  </tbody>\n",
       "</table>\n",
       "<p>545 rows × 2 columns</p>\n",
       "</div>"
      ],
      "text/plain": [
       "       user_id5    qu\n",
       "0    2962868158  1111\n",
       "1      15808765   890\n",
       "2    2963445730   665\n",
       "3     233842454   638\n",
       "4    1880674038   636\n",
       "..          ...   ...\n",
       "540    75785294     0\n",
       "541    57963724     0\n",
       "542    20597460     0\n",
       "543    20334348     0\n",
       "544    10615232     0\n",
       "\n",
       "[545 rows x 2 columns]"
      ]
     },
     "execution_count": 125,
     "metadata": {},
     "output_type": "execute_result"
    }
   ],
   "source": [
    "sq_qsum=pysqldf(\"\"\"SELECT user_id, sum(is_quote_status) as qu\n",
    "                FROM dj_6\n",
    "                Group by user_id\n",
    "                ORDER BY qu desc\"\"\")\n",
    "sq_qsum.rename({'user_id':'user_id5'},axis=1,inplace=True)\n",
    "sq_qsum"
   ]
  },
  {
   "cell_type": "code",
   "execution_count": 126,
   "metadata": {},
   "outputs": [
    {
     "data": {
      "text/plain": [
       "False    1186039\n",
       "True       57311\n",
       "Name: is_quote_status, dtype: int64"
      ]
     },
     "execution_count": 126,
     "metadata": {},
     "output_type": "execute_result"
    }
   ],
   "source": [
    "dj_6['is_quote_status'].value_counts()"
   ]
  },
  {
   "cell_type": "code",
   "execution_count": 127,
   "metadata": {},
   "outputs": [],
   "source": [
    "# sq_qsum1=dj_1[['screen_name','user_id','is_quote_status']].groupby(['user_id', 'screen_name']).count()\n",
    "# sq_qsum1"
   ]
  },
  {
   "cell_type": "code",
   "execution_count": 128,
   "metadata": {},
   "outputs": [],
   "source": [
    "# sq_qsum1=sq_qsum1.sort_values('is_quote_status', ascending=False)\n",
    "# sq_qsum1"
   ]
  },
  {
   "cell_type": "code",
   "execution_count": 129,
   "metadata": {},
   "outputs": [
    {
     "data": {
      "text/html": [
       "<div>\n",
       "<style scoped>\n",
       "    .dataframe tbody tr th:only-of-type {\n",
       "        vertical-align: middle;\n",
       "    }\n",
       "\n",
       "    .dataframe tbody tr th {\n",
       "        vertical-align: top;\n",
       "    }\n",
       "\n",
       "    .dataframe thead th {\n",
       "        text-align: right;\n",
       "    }\n",
       "</style>\n",
       "<table border=\"1\" class=\"dataframe\">\n",
       "  <thead>\n",
       "    <tr style=\"text-align: right;\">\n",
       "      <th></th>\n",
       "      <th>user_id</th>\n",
       "      <th>screen_name</th>\n",
       "      <th>cnt</th>\n",
       "      <th>user_id5</th>\n",
       "      <th>qu</th>\n",
       "      <th>qpercnt</th>\n",
       "    </tr>\n",
       "  </thead>\n",
       "  <tbody>\n",
       "    <tr>\n",
       "      <th>0</th>\n",
       "      <td>2962868158</td>\n",
       "      <td>RepDonBeyer</td>\n",
       "      <td>3258</td>\n",
       "      <td>2962868158</td>\n",
       "      <td>1111</td>\n",
       "      <td>0.341007</td>\n",
       "    </tr>\n",
       "    <tr>\n",
       "      <th>1</th>\n",
       "      <td>247334603</td>\n",
       "      <td>SenatorDurbin</td>\n",
       "      <td>3252</td>\n",
       "      <td>247334603</td>\n",
       "      <td>240</td>\n",
       "      <td>0.073801</td>\n",
       "    </tr>\n",
       "    <tr>\n",
       "      <th>2</th>\n",
       "      <td>3141213592</td>\n",
       "      <td>GovMattBevin</td>\n",
       "      <td>3250</td>\n",
       "      <td>3141213592</td>\n",
       "      <td>422</td>\n",
       "      <td>0.129846</td>\n",
       "    </tr>\n",
       "    <tr>\n",
       "      <th>3</th>\n",
       "      <td>18023868</td>\n",
       "      <td>MassGovernor</td>\n",
       "      <td>3250</td>\n",
       "      <td>18023868</td>\n",
       "      <td>165</td>\n",
       "      <td>0.050769</td>\n",
       "    </tr>\n",
       "    <tr>\n",
       "      <th>4</th>\n",
       "      <td>968650362</td>\n",
       "      <td>SenTomCotton</td>\n",
       "      <td>3249</td>\n",
       "      <td>968650362</td>\n",
       "      <td>54</td>\n",
       "      <td>0.016620</td>\n",
       "    </tr>\n",
       "    <tr>\n",
       "      <th>...</th>\n",
       "      <td>...</td>\n",
       "      <td>...</td>\n",
       "      <td>...</td>\n",
       "      <td>...</td>\n",
       "      <td>...</td>\n",
       "      <td>...</td>\n",
       "    </tr>\n",
       "    <tr>\n",
       "      <th>540</th>\n",
       "      <td>115676070</td>\n",
       "      <td>collinpeterson</td>\n",
       "      <td>80</td>\n",
       "      <td>115676070</td>\n",
       "      <td>0</td>\n",
       "      <td>0.000000</td>\n",
       "    </tr>\n",
       "    <tr>\n",
       "      <th>541</th>\n",
       "      <td>510196665</td>\n",
       "      <td>Rep_Matt_Gaetz</td>\n",
       "      <td>37</td>\n",
       "      <td>510196665</td>\n",
       "      <td>1</td>\n",
       "      <td>0.027027</td>\n",
       "    </tr>\n",
       "    <tr>\n",
       "      <th>542</th>\n",
       "      <td>854715071116849157</td>\n",
       "      <td>RepRonEstes</td>\n",
       "      <td>27</td>\n",
       "      <td>854715071116849157</td>\n",
       "      <td>4</td>\n",
       "      <td>0.148148</td>\n",
       "    </tr>\n",
       "    <tr>\n",
       "      <th>543</th>\n",
       "      <td>818536152588238849</td>\n",
       "      <td>RepGonzalez</td>\n",
       "      <td>16</td>\n",
       "      <td>818536152588238849</td>\n",
       "      <td>0</td>\n",
       "      <td>0.000000</td>\n",
       "    </tr>\n",
       "    <tr>\n",
       "      <th>544</th>\n",
       "      <td>20334348</td>\n",
       "      <td>GregHarper</td>\n",
       "      <td>4</td>\n",
       "      <td>20334348</td>\n",
       "      <td>0</td>\n",
       "      <td>0.000000</td>\n",
       "    </tr>\n",
       "  </tbody>\n",
       "</table>\n",
       "<p>545 rows × 6 columns</p>\n",
       "</div>"
      ],
      "text/plain": [
       "                user_id     screen_name   cnt            user_id5    qu  \\\n",
       "0            2962868158     RepDonBeyer  3258          2962868158  1111   \n",
       "1             247334603   SenatorDurbin  3252           247334603   240   \n",
       "2            3141213592    GovMattBevin  3250          3141213592   422   \n",
       "3              18023868    MassGovernor  3250            18023868   165   \n",
       "4             968650362    SenTomCotton  3249           968650362    54   \n",
       "..                  ...             ...   ...                 ...   ...   \n",
       "540           115676070  collinpeterson    80           115676070     0   \n",
       "541           510196665  Rep_Matt_Gaetz    37           510196665     1   \n",
       "542  854715071116849157     RepRonEstes    27  854715071116849157     4   \n",
       "543  818536152588238849     RepGonzalez    16  818536152588238849     0   \n",
       "544            20334348      GregHarper     4            20334348     0   \n",
       "\n",
       "      qpercnt  \n",
       "0    0.341007  \n",
       "1    0.073801  \n",
       "2    0.129846  \n",
       "3    0.050769  \n",
       "4    0.016620  \n",
       "..        ...  \n",
       "540  0.000000  \n",
       "541  0.027027  \n",
       "542  0.148148  \n",
       "543  0.000000  \n",
       "544  0.000000  \n",
       "\n",
       "[545 rows x 6 columns]"
      ]
     },
     "execution_count": 129,
     "metadata": {},
     "output_type": "execute_result"
    }
   ],
   "source": [
    "sq_qu=pysqldf(\"\"\"SELECT *, qu/cnt as qpercnt\n",
    "                FROM sq_fcnt0 as o\n",
    "                JOIN sq_qsum as q\n",
    "                ON o.user_id=q.user_id5\n",
    "                Group by user_id\n",
    "                ORDER BY cnt desc\"\"\")\n",
    "sq_qu['qpercnt']=sq_qu['qu']/sq_qu['cnt']\n",
    "sq_qu"
   ]
  },
  {
   "cell_type": "code",
   "execution_count": 130,
   "metadata": {},
   "outputs": [
    {
     "data": {
      "text/plain": [
       "0.0741116482498236"
      ]
     },
     "execution_count": 130,
     "metadata": {},
     "output_type": "execute_result"
    }
   ],
   "source": [
    "lenq1=sq_qu[:20]\n",
    "lenq1['qpercnt'].mean()"
   ]
  },
  {
   "cell_type": "code",
   "execution_count": 131,
   "metadata": {},
   "outputs": [
    {
     "data": {
      "text/plain": [
       "0.046184081646966794"
      ]
     },
     "execution_count": 131,
     "metadata": {},
     "output_type": "execute_result"
    }
   ],
   "source": [
    "lenq2=sq_qu[20:]\n",
    "lenq2['qpercnt'].mean()"
   ]
  },
  {
   "cell_type": "code",
   "execution_count": 170,
   "metadata": {},
   "outputs": [
    {
     "name": "stdout",
     "output_type": "stream",
     "text": [
      "Pearson correlation: -0.050\n"
     ]
    }
   ],
   "source": [
    "corr, _ = pearsonr(sq_qu['cnt'], sq_qu['qpercnt'])\n",
    "print('Pearson correlation: %.3f' % corr)"
   ]
  },
  {
   "cell_type": "code",
   "execution_count": 132,
   "metadata": {},
   "outputs": [],
   "source": [
    "dj_7=dj_1[['screen_name','user_id','id','favorite_count','extended_entities']]"
   ]
  },
  {
   "cell_type": "code",
   "execution_count": 133,
   "metadata": {},
   "outputs": [
    {
     "data": {
      "text/html": [
       "<div>\n",
       "<style scoped>\n",
       "    .dataframe tbody tr th:only-of-type {\n",
       "        vertical-align: middle;\n",
       "    }\n",
       "\n",
       "    .dataframe tbody tr th {\n",
       "        vertical-align: top;\n",
       "    }\n",
       "\n",
       "    .dataframe thead th {\n",
       "        text-align: right;\n",
       "    }\n",
       "</style>\n",
       "<table border=\"1\" class=\"dataframe\">\n",
       "  <thead>\n",
       "    <tr style=\"text-align: right;\">\n",
       "      <th></th>\n",
       "      <th>screen_name</th>\n",
       "      <th>user_id</th>\n",
       "      <th>id</th>\n",
       "      <th>favorite_count</th>\n",
       "      <th>extended_entities</th>\n",
       "    </tr>\n",
       "  </thead>\n",
       "  <tbody>\n",
       "    <tr>\n",
       "      <th>0</th>\n",
       "      <td>JeffFlake</td>\n",
       "      <td>16056306</td>\n",
       "      <td>930546663</td>\n",
       "      <td>0</td>\n",
       "      <td>NaN</td>\n",
       "    </tr>\n",
       "    <tr>\n",
       "      <th>1</th>\n",
       "      <td>JeffFlake</td>\n",
       "      <td>16056306</td>\n",
       "      <td>931746104</td>\n",
       "      <td>0</td>\n",
       "      <td>NaN</td>\n",
       "    </tr>\n",
       "    <tr>\n",
       "      <th>2</th>\n",
       "      <td>JeffFlake</td>\n",
       "      <td>16056306</td>\n",
       "      <td>931747655</td>\n",
       "      <td>0</td>\n",
       "      <td>NaN</td>\n",
       "    </tr>\n",
       "    <tr>\n",
       "      <th>3</th>\n",
       "      <td>JeffFlake</td>\n",
       "      <td>16056306</td>\n",
       "      <td>931748572</td>\n",
       "      <td>0</td>\n",
       "      <td>NaN</td>\n",
       "    </tr>\n",
       "    <tr>\n",
       "      <th>4</th>\n",
       "      <td>JohnBoozman</td>\n",
       "      <td>5558312</td>\n",
       "      <td>932162206</td>\n",
       "      <td>0</td>\n",
       "      <td>NaN</td>\n",
       "    </tr>\n",
       "  </tbody>\n",
       "</table>\n",
       "</div>"
      ],
      "text/plain": [
       "   screen_name   user_id         id  favorite_count extended_entities\n",
       "0    JeffFlake  16056306  930546663               0               NaN\n",
       "1    JeffFlake  16056306  931746104               0               NaN\n",
       "2    JeffFlake  16056306  931747655               0               NaN\n",
       "3    JeffFlake  16056306  931748572               0               NaN\n",
       "4  JohnBoozman   5558312  932162206               0               NaN"
      ]
     },
     "execution_count": 133,
     "metadata": {},
     "output_type": "execute_result"
    }
   ],
   "source": [
    "dj_7.head()"
   ]
  },
  {
   "cell_type": "code",
   "execution_count": 134,
   "metadata": {},
   "outputs": [],
   "source": [
    "# dj_7['media']=1 if dj_7['extended_entities']!='Nan' else 0"
   ]
  },
  {
   "cell_type": "code",
   "execution_count": 135,
   "metadata": {},
   "outputs": [
    {
     "name": "stderr",
     "output_type": "stream",
     "text": [
      "C:\\ProgramData\\Miniconda3\\lib\\site-packages\\ipykernel_launcher.py:1: SettingWithCopyWarning: \n",
      "A value is trying to be set on a copy of a slice from a DataFrame.\n",
      "Try using .loc[row_indexer,col_indexer] = value instead\n",
      "\n",
      "See the caveats in the documentation: http://pandas.pydata.org/pandas-docs/stable/user_guide/indexing.html#returning-a-view-versus-a-copy\n",
      "  \"\"\"Entry point for launching an IPython kernel.\n"
     ]
    }
   ],
   "source": [
    "dj_7['extended_entities']=dj_7['extended_entities'].astype(str)"
   ]
  },
  {
   "cell_type": "code",
   "execution_count": 136,
   "metadata": {},
   "outputs": [
    {
     "name": "stderr",
     "output_type": "stream",
     "text": [
      "C:\\ProgramData\\Miniconda3\\lib\\site-packages\\ipykernel_launcher.py:2: SettingWithCopyWarning: \n",
      "A value is trying to be set on a copy of a slice from a DataFrame.\n",
      "Try using .loc[row_indexer,col_indexer] = value instead\n",
      "\n",
      "See the caveats in the documentation: http://pandas.pydata.org/pandas-docs/stable/user_guide/indexing.html#returning-a-view-versus-a-copy\n",
      "  \n"
     ]
    }
   ],
   "source": [
    "# dj_7['media'] = np.where(np.isnan(dj_7['extended_entities']) ==False, 0,1)\n",
    "dj_7['media'] = np.where(dj_7['extended_entities'] =='nan', 0,1)\n",
    "# dj_7['media'] = dj_7.apply(\n",
    "#     lambda x: 0 if np.isnan(x['media']) else 1,\n",
    "#     axis=1\n",
    "# )\n",
    "# dj_7['media'] = dj_7.apply(\n",
    "#     lambda x: 0 if np.isnan(x['extended_entities']) else 1,\n",
    "#     axis=1\n",
    "# )"
   ]
  },
  {
   "cell_type": "code",
   "execution_count": 137,
   "metadata": {},
   "outputs": [
    {
     "data": {
      "text/html": [
       "<div>\n",
       "<style scoped>\n",
       "    .dataframe tbody tr th:only-of-type {\n",
       "        vertical-align: middle;\n",
       "    }\n",
       "\n",
       "    .dataframe tbody tr th {\n",
       "        vertical-align: top;\n",
       "    }\n",
       "\n",
       "    .dataframe thead th {\n",
       "        text-align: right;\n",
       "    }\n",
       "</style>\n",
       "<table border=\"1\" class=\"dataframe\">\n",
       "  <thead>\n",
       "    <tr style=\"text-align: right;\">\n",
       "      <th></th>\n",
       "      <th>screen_name</th>\n",
       "      <th>user_id</th>\n",
       "      <th>id</th>\n",
       "      <th>favorite_count</th>\n",
       "      <th>extended_entities</th>\n",
       "      <th>media</th>\n",
       "    </tr>\n",
       "  </thead>\n",
       "  <tbody>\n",
       "    <tr>\n",
       "      <th>0</th>\n",
       "      <td>JeffFlake</td>\n",
       "      <td>16056306</td>\n",
       "      <td>930546663</td>\n",
       "      <td>0</td>\n",
       "      <td>nan</td>\n",
       "      <td>0</td>\n",
       "    </tr>\n",
       "    <tr>\n",
       "      <th>1</th>\n",
       "      <td>JeffFlake</td>\n",
       "      <td>16056306</td>\n",
       "      <td>931746104</td>\n",
       "      <td>0</td>\n",
       "      <td>nan</td>\n",
       "      <td>0</td>\n",
       "    </tr>\n",
       "    <tr>\n",
       "      <th>2</th>\n",
       "      <td>JeffFlake</td>\n",
       "      <td>16056306</td>\n",
       "      <td>931747655</td>\n",
       "      <td>0</td>\n",
       "      <td>nan</td>\n",
       "      <td>0</td>\n",
       "    </tr>\n",
       "    <tr>\n",
       "      <th>3</th>\n",
       "      <td>JeffFlake</td>\n",
       "      <td>16056306</td>\n",
       "      <td>931748572</td>\n",
       "      <td>0</td>\n",
       "      <td>nan</td>\n",
       "      <td>0</td>\n",
       "    </tr>\n",
       "    <tr>\n",
       "      <th>4</th>\n",
       "      <td>JohnBoozman</td>\n",
       "      <td>5558312</td>\n",
       "      <td>932162206</td>\n",
       "      <td>0</td>\n",
       "      <td>nan</td>\n",
       "      <td>0</td>\n",
       "    </tr>\n",
       "  </tbody>\n",
       "</table>\n",
       "</div>"
      ],
      "text/plain": [
       "   screen_name   user_id         id  favorite_count extended_entities  media\n",
       "0    JeffFlake  16056306  930546663               0               nan      0\n",
       "1    JeffFlake  16056306  931746104               0               nan      0\n",
       "2    JeffFlake  16056306  931747655               0               nan      0\n",
       "3    JeffFlake  16056306  931748572               0               nan      0\n",
       "4  JohnBoozman   5558312  932162206               0               nan      0"
      ]
     },
     "execution_count": 137,
     "metadata": {},
     "output_type": "execute_result"
    }
   ],
   "source": [
    "dj_7.head()"
   ]
  },
  {
   "cell_type": "code",
   "execution_count": 138,
   "metadata": {},
   "outputs": [
    {
     "data": {
      "text/plain": [
       "0    945310\n",
       "1    298040\n",
       "Name: media, dtype: int64"
      ]
     },
     "execution_count": 138,
     "metadata": {},
     "output_type": "execute_result"
    }
   ],
   "source": [
    "dj_7['media'].value_counts()"
   ]
  },
  {
   "cell_type": "code",
   "execution_count": 139,
   "metadata": {},
   "outputs": [
    {
     "name": "stdout",
     "output_type": "stream",
     "text": [
      "Pearson correlation: -0.002\n"
     ]
    }
   ],
   "source": [
    "corr, _ = pearsonr(dj_7['favorite_count'], dj_7['media'])\n",
    "print('Pearson correlation: %.3f' % corr)"
   ]
  },
  {
   "cell_type": "code",
   "execution_count": 140,
   "metadata": {},
   "outputs": [],
   "source": [
    "# dj_7.iloc[70000]['extended_entities']"
   ]
  },
  {
   "cell_type": "code",
   "execution_count": 141,
   "metadata": {},
   "outputs": [],
   "source": [
    "# np.isnull(dj_7['extended_entities'])"
   ]
  },
  {
   "cell_type": "code",
   "execution_count": 142,
   "metadata": {},
   "outputs": [
    {
     "name": "stderr",
     "output_type": "stream",
     "text": [
      "C:\\ProgramData\\Miniconda3\\lib\\site-packages\\pandas\\core\\frame.py:4117: SettingWithCopyWarning: \n",
      "A value is trying to be set on a copy of a slice from a DataFrame\n",
      "\n",
      "See the caveats in the documentation: http://pandas.pydata.org/pandas-docs/stable/user_guide/indexing.html#returning-a-view-versus-a-copy\n",
      "  errors=errors,\n"
     ]
    }
   ],
   "source": [
    "dj_7.drop(dj_7.columns[4], axis=1, inplace=True)"
   ]
  },
  {
   "cell_type": "code",
   "execution_count": 143,
   "metadata": {},
   "outputs": [
    {
     "data": {
      "text/html": [
       "<div>\n",
       "<style scoped>\n",
       "    .dataframe tbody tr th:only-of-type {\n",
       "        vertical-align: middle;\n",
       "    }\n",
       "\n",
       "    .dataframe tbody tr th {\n",
       "        vertical-align: top;\n",
       "    }\n",
       "\n",
       "    .dataframe thead th {\n",
       "        text-align: right;\n",
       "    }\n",
       "</style>\n",
       "<table border=\"1\" class=\"dataframe\">\n",
       "  <thead>\n",
       "    <tr style=\"text-align: right;\">\n",
       "      <th></th>\n",
       "      <th>screen_name</th>\n",
       "      <th>user_id</th>\n",
       "      <th>id</th>\n",
       "      <th>favorite_count</th>\n",
       "      <th>media</th>\n",
       "    </tr>\n",
       "  </thead>\n",
       "  <tbody>\n",
       "    <tr>\n",
       "      <th>0</th>\n",
       "      <td>JeffFlake</td>\n",
       "      <td>16056306</td>\n",
       "      <td>930546663</td>\n",
       "      <td>0</td>\n",
       "      <td>0</td>\n",
       "    </tr>\n",
       "    <tr>\n",
       "      <th>1</th>\n",
       "      <td>JeffFlake</td>\n",
       "      <td>16056306</td>\n",
       "      <td>931746104</td>\n",
       "      <td>0</td>\n",
       "      <td>0</td>\n",
       "    </tr>\n",
       "    <tr>\n",
       "      <th>2</th>\n",
       "      <td>JeffFlake</td>\n",
       "      <td>16056306</td>\n",
       "      <td>931747655</td>\n",
       "      <td>0</td>\n",
       "      <td>0</td>\n",
       "    </tr>\n",
       "    <tr>\n",
       "      <th>3</th>\n",
       "      <td>JeffFlake</td>\n",
       "      <td>16056306</td>\n",
       "      <td>931748572</td>\n",
       "      <td>0</td>\n",
       "      <td>0</td>\n",
       "    </tr>\n",
       "    <tr>\n",
       "      <th>4</th>\n",
       "      <td>JohnBoozman</td>\n",
       "      <td>5558312</td>\n",
       "      <td>932162206</td>\n",
       "      <td>0</td>\n",
       "      <td>0</td>\n",
       "    </tr>\n",
       "  </tbody>\n",
       "</table>\n",
       "</div>"
      ],
      "text/plain": [
       "   screen_name   user_id         id  favorite_count  media\n",
       "0    JeffFlake  16056306  930546663               0      0\n",
       "1    JeffFlake  16056306  931746104               0      0\n",
       "2    JeffFlake  16056306  931747655               0      0\n",
       "3    JeffFlake  16056306  931748572               0      0\n",
       "4  JohnBoozman   5558312  932162206               0      0"
      ]
     },
     "execution_count": 143,
     "metadata": {},
     "output_type": "execute_result"
    }
   ],
   "source": [
    "dj_7.head()"
   ]
  },
  {
   "cell_type": "code",
   "execution_count": 144,
   "metadata": {},
   "outputs": [],
   "source": [
    "dj_7b=dj_7[['favorite_count', 'media']]"
   ]
  },
  {
   "cell_type": "code",
   "execution_count": null,
   "metadata": {},
   "outputs": [],
   "source": []
  },
  {
   "cell_type": "code",
   "execution_count": 145,
   "metadata": {},
   "outputs": [
    {
     "data": {
      "text/html": [
       "<div>\n",
       "<style scoped>\n",
       "    .dataframe tbody tr th:only-of-type {\n",
       "        vertical-align: middle;\n",
       "    }\n",
       "\n",
       "    .dataframe tbody tr th {\n",
       "        vertical-align: top;\n",
       "    }\n",
       "\n",
       "    .dataframe thead th {\n",
       "        text-align: right;\n",
       "    }\n",
       "</style>\n",
       "<table border=\"1\" class=\"dataframe\">\n",
       "  <thead>\n",
       "    <tr style=\"text-align: right;\">\n",
       "      <th></th>\n",
       "      <th>favorite_count</th>\n",
       "    </tr>\n",
       "    <tr>\n",
       "      <th>media</th>\n",
       "      <th></th>\n",
       "    </tr>\n",
       "  </thead>\n",
       "  <tbody>\n",
       "    <tr>\n",
       "      <th>0</th>\n",
       "      <td>193365937</td>\n",
       "    </tr>\n",
       "    <tr>\n",
       "      <th>1</th>\n",
       "      <td>56367021</td>\n",
       "    </tr>\n",
       "  </tbody>\n",
       "</table>\n",
       "</div>"
      ],
      "text/plain": [
       "       favorite_count\n",
       "media                \n",
       "0           193365937\n",
       "1            56367021"
      ]
     },
     "execution_count": 145,
     "metadata": {},
     "output_type": "execute_result"
    }
   ],
   "source": [
    "dj_7b.groupby(['media']).sum()"
   ]
  },
  {
   "cell_type": "code",
   "execution_count": 146,
   "metadata": {},
   "outputs": [
    {
     "data": {
      "text/plain": [
       "249732958"
      ]
     },
     "execution_count": 146,
     "metadata": {},
     "output_type": "execute_result"
    }
   ],
   "source": [
    "dj_7b['favorite_count'].sum()"
   ]
  },
  {
   "cell_type": "code",
   "execution_count": 147,
   "metadata": {},
   "outputs": [
    {
     "data": {
      "text/plain": [
       "3.4304799787095366"
      ]
     },
     "execution_count": 147,
     "metadata": {},
     "output_type": "execute_result"
    }
   ],
   "source": [
    "193365937/56367021"
   ]
  },
  {
   "cell_type": "code",
   "execution_count": 148,
   "metadata": {},
   "outputs": [],
   "source": [
    "dj_8=dj_1[['screen_name','user_id','id','favorite_count','possibly_sensitive']]"
   ]
  },
  {
   "cell_type": "code",
   "execution_count": 149,
   "metadata": {},
   "outputs": [
    {
     "data": {
      "text/html": [
       "<div>\n",
       "<style scoped>\n",
       "    .dataframe tbody tr th:only-of-type {\n",
       "        vertical-align: middle;\n",
       "    }\n",
       "\n",
       "    .dataframe tbody tr th {\n",
       "        vertical-align: top;\n",
       "    }\n",
       "\n",
       "    .dataframe thead th {\n",
       "        text-align: right;\n",
       "    }\n",
       "</style>\n",
       "<table border=\"1\" class=\"dataframe\">\n",
       "  <thead>\n",
       "    <tr style=\"text-align: right;\">\n",
       "      <th></th>\n",
       "      <th>user_id</th>\n",
       "      <th>screen_name</th>\n",
       "      <th>ps</th>\n",
       "    </tr>\n",
       "  </thead>\n",
       "  <tbody>\n",
       "    <tr>\n",
       "      <th>0</th>\n",
       "      <td>236279233</td>\n",
       "      <td>NormaJTorres</td>\n",
       "      <td>832.0</td>\n",
       "    </tr>\n",
       "    <tr>\n",
       "      <th>1</th>\n",
       "      <td>1074412920</td>\n",
       "      <td>RepPaulCook</td>\n",
       "      <td>110.0</td>\n",
       "    </tr>\n",
       "    <tr>\n",
       "      <th>2</th>\n",
       "      <td>240427862</td>\n",
       "      <td>RepMcKinley</td>\n",
       "      <td>1.0</td>\n",
       "    </tr>\n",
       "    <tr>\n",
       "      <th>3</th>\n",
       "      <td>584012853</td>\n",
       "      <td>RepDLamborn</td>\n",
       "      <td>1.0</td>\n",
       "    </tr>\n",
       "    <tr>\n",
       "      <th>4</th>\n",
       "      <td>5558312</td>\n",
       "      <td>JohnBoozman</td>\n",
       "      <td>0.0</td>\n",
       "    </tr>\n",
       "    <tr>\n",
       "      <th>...</th>\n",
       "      <td>...</td>\n",
       "      <td>...</td>\n",
       "      <td>...</td>\n",
       "    </tr>\n",
       "    <tr>\n",
       "      <th>540</th>\n",
       "      <td>818975124460335106</td>\n",
       "      <td>RepDonBacon</td>\n",
       "      <td>0.0</td>\n",
       "    </tr>\n",
       "    <tr>\n",
       "      <th>541</th>\n",
       "      <td>822215679726100480</td>\n",
       "      <td>POTUS</td>\n",
       "      <td>0.0</td>\n",
       "    </tr>\n",
       "    <tr>\n",
       "      <th>542</th>\n",
       "      <td>827279765287559171</td>\n",
       "      <td>RepMikeJohnson</td>\n",
       "      <td>0.0</td>\n",
       "    </tr>\n",
       "    <tr>\n",
       "      <th>543</th>\n",
       "      <td>854715071116849157</td>\n",
       "      <td>RepRonEstes</td>\n",
       "      <td>0.0</td>\n",
       "    </tr>\n",
       "    <tr>\n",
       "      <th>544</th>\n",
       "      <td>20334348</td>\n",
       "      <td>GregHarper</td>\n",
       "      <td>NaN</td>\n",
       "    </tr>\n",
       "  </tbody>\n",
       "</table>\n",
       "<p>545 rows × 3 columns</p>\n",
       "</div>"
      ],
      "text/plain": [
       "                user_id     screen_name     ps\n",
       "0             236279233    NormaJTorres  832.0\n",
       "1            1074412920     RepPaulCook  110.0\n",
       "2             240427862     RepMcKinley    1.0\n",
       "3             584012853     RepDLamborn    1.0\n",
       "4               5558312     JohnBoozman    0.0\n",
       "..                  ...             ...    ...\n",
       "540  818975124460335106     RepDonBacon    0.0\n",
       "541  822215679726100480           POTUS    0.0\n",
       "542  827279765287559171  RepMikeJohnson    0.0\n",
       "543  854715071116849157     RepRonEstes    0.0\n",
       "544            20334348      GregHarper    NaN\n",
       "\n",
       "[545 rows x 3 columns]"
      ]
     },
     "execution_count": 149,
     "metadata": {},
     "output_type": "execute_result"
    }
   ],
   "source": [
    "sq_psum=pysqldf(\"\"\"SELECT user_id,screen_name,sum(possibly_sensitive) as ps\n",
    "                FROM dj_8\n",
    "                Group by user_id,screen_name\n",
    "                ORDER BY ps desc\"\"\")\n",
    "# sq_qsum.rename({'user_id':'user_id5'},axis=1,inplace=True)\n",
    "sq_psum"
   ]
  },
  {
   "cell_type": "code",
   "execution_count": 150,
   "metadata": {},
   "outputs": [],
   "source": [
    "# NOt much to exerise for possibly sensitive"
   ]
  },
  {
   "cell_type": "code",
   "execution_count": null,
   "metadata": {},
   "outputs": [],
   "source": []
  }
 ],
 "metadata": {
  "kernelspec": {
   "display_name": "Python 3",
   "language": "python",
   "name": "python3"
  },
  "language_info": {
   "codemirror_mode": {
    "name": "ipython",
    "version": 3
   },
   "file_extension": ".py",
   "mimetype": "text/x-python",
   "name": "python",
   "nbconvert_exporter": "python",
   "pygments_lexer": "ipython3",
   "version": "3.7.4"
  }
 },
 "nbformat": 4,
 "nbformat_minor": 4
}
