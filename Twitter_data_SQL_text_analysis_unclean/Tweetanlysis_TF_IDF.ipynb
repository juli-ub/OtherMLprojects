{
 "cells": [
  {
   "cell_type": "code",
   "execution_count": 2,
   "metadata": {},
   "outputs": [],
   "source": [
    "import pandas as pd\n",
    "import numpy as np\n",
    "import os\n",
    "import matplotlib.pyplot as plt\n",
    "%matplotlib inline\n",
    "import seaborn as sns"
   ]
  },
  {
   "cell_type": "code",
   "execution_count": 3,
   "metadata": {},
   "outputs": [
    {
     "name": "stderr",
     "output_type": "stream",
     "text": [
      "<string>:2: DtypeWarning: Columns (2,8,27,31,32) have mixed types. Specify dtype option on import or set low_memory=False.\n"
     ]
    },
    {
     "name": "stdout",
     "output_type": "stream",
     "text": [
      "Wall time: 11.1 s\n"
     ]
    }
   ],
   "source": [
    "%%time\n",
    "dj_1=pd.read_csv('dj_-20.csv')"
   ]
  },
  {
   "cell_type": "code",
   "execution_count": 4,
   "metadata": {},
   "outputs": [],
   "source": [
    "from pandasql import sqldf"
   ]
  },
  {
   "cell_type": "code",
   "execution_count": 5,
   "metadata": {},
   "outputs": [],
   "source": [
    "pysqldf=lambda q: sqldf(q,globals())"
   ]
  },
  {
   "cell_type": "code",
   "execution_count": 6,
   "metadata": {},
   "outputs": [],
   "source": [
    "dt=dj_1['text']"
   ]
  },
  {
   "cell_type": "code",
   "execution_count": 7,
   "metadata": {},
   "outputs": [
    {
     "data": {
      "text/plain": [
       "0    I'd tell you to hide your wallet, but it's pro...\n",
       "1    Will be heading the the conservative bloggers ...\n",
       "2    I'm speaking on the floor shortly to in opposi...\n",
       "3    I'm speaking on the floor shortly to in opposi...\n",
       "4                        Attending a Whip Team meeting\n",
       "Name: text, dtype: object"
      ]
     },
     "execution_count": 7,
     "metadata": {},
     "output_type": "execute_result"
    }
   ],
   "source": [
    "dt.head()"
   ]
  },
  {
   "cell_type": "code",
   "execution_count": 8,
   "metadata": {},
   "outputs": [
    {
     "data": {
      "text/plain": [
       "dtype('O')"
      ]
     },
     "execution_count": 8,
     "metadata": {},
     "output_type": "execute_result"
    }
   ],
   "source": [
    "dt.dtype"
   ]
  },
  {
   "cell_type": "code",
   "execution_count": 9,
   "metadata": {},
   "outputs": [
    {
     "data": {
      "text/plain": [
       "\"I'd tell you to hide your wallet, but it's probably too late. This will likely be a very bad week. Will keep you updated as the slog goes on\""
      ]
     },
     "execution_count": 9,
     "metadata": {},
     "output_type": "execute_result"
    }
   ],
   "source": [
    "dt[0]"
   ]
  },
  {
   "cell_type": "code",
   "execution_count": 10,
   "metadata": {},
   "outputs": [],
   "source": [
    "# dt[0].dtype #run it to see it is already string type"
   ]
  },
  {
   "cell_type": "code",
   "execution_count": 11,
   "metadata": {},
   "outputs": [],
   "source": [
    "dt0=dt[:1000]"
   ]
  },
  {
   "cell_type": "code",
   "execution_count": 12,
   "metadata": {},
   "outputs": [],
   "source": [
    "from textblob import TextBlob"
   ]
  },
  {
   "cell_type": "code",
   "execution_count": 13,
   "metadata": {},
   "outputs": [],
   "source": [
    "dt0['sentiment']=dt0.apply(lambda text: TextBlob(text).sentiment[0])"
   ]
  },
  {
   "cell_type": "code",
   "execution_count": 14,
   "metadata": {},
   "outputs": [
    {
     "data": {
      "text/plain": [
       "0    I'd tell you to hide your wallet, but it's pro...\n",
       "1    Will be heading the the conservative bloggers ...\n",
       "2    I'm speaking on the floor shortly to in opposi...\n",
       "3    I'm speaking on the floor shortly to in opposi...\n",
       "4                        Attending a Whip Team meeting\n",
       "Name: text, dtype: object"
      ]
     },
     "execution_count": 14,
     "metadata": {},
     "output_type": "execute_result"
    }
   ],
   "source": [
    "dt0.head()"
   ]
  },
  {
   "cell_type": "code",
   "execution_count": 15,
   "metadata": {},
   "outputs": [],
   "source": [
    "dt_1=dj_1[['text','id']]"
   ]
  },
  {
   "cell_type": "code",
   "execution_count": 16,
   "metadata": {},
   "outputs": [],
   "source": [
    "dt_1=dt_1[:1000]"
   ]
  },
  {
   "cell_type": "code",
   "execution_count": 17,
   "metadata": {},
   "outputs": [
    {
     "data": {
      "text/html": [
       "<div>\n",
       "<style scoped>\n",
       "    .dataframe tbody tr th:only-of-type {\n",
       "        vertical-align: middle;\n",
       "    }\n",
       "\n",
       "    .dataframe tbody tr th {\n",
       "        vertical-align: top;\n",
       "    }\n",
       "\n",
       "    .dataframe thead th {\n",
       "        text-align: right;\n",
       "    }\n",
       "</style>\n",
       "<table border=\"1\" class=\"dataframe\">\n",
       "  <thead>\n",
       "    <tr style=\"text-align: right;\">\n",
       "      <th></th>\n",
       "      <th>text</th>\n",
       "      <th>id</th>\n",
       "    </tr>\n",
       "  </thead>\n",
       "  <tbody>\n",
       "    <tr>\n",
       "      <th>0</th>\n",
       "      <td>I'd tell you to hide your wallet, but it's pro...</td>\n",
       "      <td>930546663</td>\n",
       "    </tr>\n",
       "    <tr>\n",
       "      <th>1</th>\n",
       "      <td>Will be heading the the conservative bloggers ...</td>\n",
       "      <td>931746104</td>\n",
       "    </tr>\n",
       "    <tr>\n",
       "      <th>2</th>\n",
       "      <td>I'm speaking on the floor shortly to in opposi...</td>\n",
       "      <td>931747655</td>\n",
       "    </tr>\n",
       "    <tr>\n",
       "      <th>3</th>\n",
       "      <td>I'm speaking on the floor shortly to in opposi...</td>\n",
       "      <td>931748572</td>\n",
       "    </tr>\n",
       "    <tr>\n",
       "      <th>4</th>\n",
       "      <td>Attending a Whip Team meeting</td>\n",
       "      <td>932162206</td>\n",
       "    </tr>\n",
       "  </tbody>\n",
       "</table>\n",
       "</div>"
      ],
      "text/plain": [
       "                                                text         id\n",
       "0  I'd tell you to hide your wallet, but it's pro...  930546663\n",
       "1  Will be heading the the conservative bloggers ...  931746104\n",
       "2  I'm speaking on the floor shortly to in opposi...  931747655\n",
       "3  I'm speaking on the floor shortly to in opposi...  931748572\n",
       "4                      Attending a Whip Team meeting  932162206"
      ]
     },
     "execution_count": 17,
     "metadata": {},
     "output_type": "execute_result"
    }
   ],
   "source": [
    "dt_1.head()"
   ]
  },
  {
   "cell_type": "code",
   "execution_count": 18,
   "metadata": {},
   "outputs": [],
   "source": [
    "dt_1['sentiment']=dt_1.text.apply(lambda text: TextBlob(text).sentiment[0])"
   ]
  },
  {
   "cell_type": "code",
   "execution_count": 19,
   "metadata": {},
   "outputs": [
    {
     "data": {
      "text/html": [
       "<div>\n",
       "<style scoped>\n",
       "    .dataframe tbody tr th:only-of-type {\n",
       "        vertical-align: middle;\n",
       "    }\n",
       "\n",
       "    .dataframe tbody tr th {\n",
       "        vertical-align: top;\n",
       "    }\n",
       "\n",
       "    .dataframe thead th {\n",
       "        text-align: right;\n",
       "    }\n",
       "</style>\n",
       "<table border=\"1\" class=\"dataframe\">\n",
       "  <thead>\n",
       "    <tr style=\"text-align: right;\">\n",
       "      <th></th>\n",
       "      <th>text</th>\n",
       "      <th>id</th>\n",
       "      <th>sentiment</th>\n",
       "    </tr>\n",
       "  </thead>\n",
       "  <tbody>\n",
       "    <tr>\n",
       "      <th>0</th>\n",
       "      <td>I'd tell you to hide your wallet, but it's pro...</td>\n",
       "      <td>930546663</td>\n",
       "      <td>-0.403333</td>\n",
       "    </tr>\n",
       "    <tr>\n",
       "      <th>1</th>\n",
       "      <td>Will be heading the the conservative bloggers ...</td>\n",
       "      <td>931746104</td>\n",
       "      <td>0.000000</td>\n",
       "    </tr>\n",
       "    <tr>\n",
       "      <th>2</th>\n",
       "      <td>I'm speaking on the floor shortly to in opposi...</td>\n",
       "      <td>931747655</td>\n",
       "      <td>0.000000</td>\n",
       "    </tr>\n",
       "    <tr>\n",
       "      <th>3</th>\n",
       "      <td>I'm speaking on the floor shortly to in opposi...</td>\n",
       "      <td>931748572</td>\n",
       "      <td>0.000000</td>\n",
       "    </tr>\n",
       "    <tr>\n",
       "      <th>4</th>\n",
       "      <td>Attending a Whip Team meeting</td>\n",
       "      <td>932162206</td>\n",
       "      <td>0.000000</td>\n",
       "    </tr>\n",
       "  </tbody>\n",
       "</table>\n",
       "</div>"
      ],
      "text/plain": [
       "                                                text         id  sentiment\n",
       "0  I'd tell you to hide your wallet, but it's pro...  930546663  -0.403333\n",
       "1  Will be heading the the conservative bloggers ...  931746104   0.000000\n",
       "2  I'm speaking on the floor shortly to in opposi...  931747655   0.000000\n",
       "3  I'm speaking on the floor shortly to in opposi...  931748572   0.000000\n",
       "4                      Attending a Whip Team meeting  932162206   0.000000"
      ]
     },
     "execution_count": 19,
     "metadata": {},
     "output_type": "execute_result"
    }
   ],
   "source": [
    "dt_1.head()"
   ]
  },
  {
   "cell_type": "code",
   "execution_count": 20,
   "metadata": {},
   "outputs": [
    {
     "data": {
      "text/plain": [
       " 0.000000    516\n",
       " 0.200000     32\n",
       " 0.500000     31\n",
       " 0.136364     24\n",
       " 0.100000     22\n",
       "            ... \n",
       " 0.207143      1\n",
       " 0.268182      1\n",
       " 0.075000      1\n",
       "-0.403333      1\n",
       " 0.253267      1\n",
       "Name: sentiment, Length: 191, dtype: int64"
      ]
     },
     "execution_count": 20,
     "metadata": {},
     "output_type": "execute_result"
    }
   ],
   "source": [
    "dt_1['sentiment'].value_counts()"
   ]
  },
  {
   "cell_type": "code",
   "execution_count": 62,
   "metadata": {},
   "outputs": [
    {
     "data": {
      "text/plain": [
       "Text(0, 0.5, 'Sentiment counts')"
      ]
     },
     "execution_count": 62,
     "metadata": {},
     "output_type": "execute_result"
    },
    {
     "data": {
      "image/png": "[encoded data removed]",
      "text/plain": [
       "<Figure size 432x288 with 1 Axes>"
      ]
     },
     "metadata": {
      "needs_background": "light"
     },
     "output_type": "display_data"
    }
   ],
   "source": [
    "dt_1['sentiment'].hist()\n",
    "plt.title('Tweet Sentiment',fontsize=17,pad=5)\n",
    "plt.xlabel(\"Sentiment groups\",fontsize=12,labelpad=5)\n",
    "plt.ylabel(\"Sentiment counts\",fontsize=12,labelpad=5)"
   ]
  },
  {
   "cell_type": "code",
   "execution_count": 22,
   "metadata": {},
   "outputs": [
    {
     "data": {
      "text/html": [
       "<div>\n",
       "<style scoped>\n",
       "    .dataframe tbody tr th:only-of-type {\n",
       "        vertical-align: middle;\n",
       "    }\n",
       "\n",
       "    .dataframe tbody tr th {\n",
       "        vertical-align: top;\n",
       "    }\n",
       "\n",
       "    .dataframe thead th {\n",
       "        text-align: right;\n",
       "    }\n",
       "</style>\n",
       "<table border=\"1\" class=\"dataframe\">\n",
       "  <thead>\n",
       "    <tr style=\"text-align: right;\">\n",
       "      <th></th>\n",
       "      <th>text</th>\n",
       "      <th>id</th>\n",
       "      <th>sentiment</th>\n",
       "    </tr>\n",
       "  </thead>\n",
       "  <tbody>\n",
       "    <tr>\n",
       "      <th>107</th>\n",
       "      <td>@dailybragger and residents of the 11th Congre...</td>\n",
       "      <td>1110340829</td>\n",
       "      <td>1.000</td>\n",
       "    </tr>\n",
       "    <tr>\n",
       "      <th>653</th>\n",
       "      <td>@gordongates your chowder sounded great!</td>\n",
       "      <td>1291349506</td>\n",
       "      <td>1.000</td>\n",
       "    </tr>\n",
       "    <tr>\n",
       "      <th>789</th>\n",
       "      <td>Happy St. Patrick's Day Twitterers!</td>\n",
       "      <td>1341919634</td>\n",
       "      <td>1.000</td>\n",
       "    </tr>\n",
       "    <tr>\n",
       "      <th>887</th>\n",
       "      <td>@Flexlewis1 jesse, I truly appreciate the feed...</td>\n",
       "      <td>1376122367</td>\n",
       "      <td>1.000</td>\n",
       "    </tr>\n",
       "    <tr>\n",
       "      <th>311</th>\n",
       "      <td>Pelosi is great laying out what we've done, th...</td>\n",
       "      <td>1184893448</td>\n",
       "      <td>1.000</td>\n",
       "    </tr>\n",
       "    <tr>\n",
       "      <th>...</th>\n",
       "      <td>...</td>\n",
       "      <td>...</td>\n",
       "      <td>...</td>\n",
       "    </tr>\n",
       "    <tr>\n",
       "      <th>638</th>\n",
       "      <td>BREAKING: GUILTY VERDICT IN HOMEGOLD CAROLINA ...</td>\n",
       "      <td>1289738786</td>\n",
       "      <td>-0.625</td>\n",
       "    </tr>\n",
       "    <tr>\n",
       "      <th>683</th>\n",
       "      <td>the President's embryonic stem cell support is...</td>\n",
       "      <td>1305248036</td>\n",
       "      <td>-0.700</td>\n",
       "    </tr>\n",
       "    <tr>\n",
       "      <th>966</th>\n",
       "      <td>@foolery Some are very dangerous.</td>\n",
       "      <td>1397746400</td>\n",
       "      <td>-0.780</td>\n",
       "    </tr>\n",
       "    <tr>\n",
       "      <th>883</th>\n",
       "      <td>Rev Creech's smoking ban editorial in The Obse...</td>\n",
       "      <td>1370457081</td>\n",
       "      <td>-0.800</td>\n",
       "    </tr>\n",
       "    <tr>\n",
       "      <th>529</th>\n",
       "      <td>A train station powered by a windmill...Saco i...</td>\n",
       "      <td>1259113564</td>\n",
       "      <td>-1.000</td>\n",
       "    </tr>\n",
       "  </tbody>\n",
       "</table>\n",
       "<p>1000 rows × 3 columns</p>\n",
       "</div>"
      ],
      "text/plain": [
       "                                                  text          id  sentiment\n",
       "107  @dailybragger and residents of the 11th Congre...  1110340829      1.000\n",
       "653           @gordongates your chowder sounded great!  1291349506      1.000\n",
       "789                Happy St. Patrick's Day Twitterers!  1341919634      1.000\n",
       "887  @Flexlewis1 jesse, I truly appreciate the feed...  1376122367      1.000\n",
       "311  Pelosi is great laying out what we've done, th...  1184893448      1.000\n",
       "..                                                 ...         ...        ...\n",
       "638  BREAKING: GUILTY VERDICT IN HOMEGOLD CAROLINA ...  1289738786     -0.625\n",
       "683  the President's embryonic stem cell support is...  1305248036     -0.700\n",
       "966                  @foolery Some are very dangerous.  1397746400     -0.780\n",
       "883  Rev Creech's smoking ban editorial in The Obse...  1370457081     -0.800\n",
       "529  A train station powered by a windmill...Saco i...  1259113564     -1.000\n",
       "\n",
       "[1000 rows x 3 columns]"
      ]
     },
     "execution_count": 22,
     "metadata": {},
     "output_type": "execute_result"
    }
   ],
   "source": [
    "dt_1.sort_values(by='sentiment', ascending=False)"
   ]
  },
  {
   "cell_type": "code",
   "execution_count": 23,
   "metadata": {},
   "outputs": [],
   "source": [
    "dj_1['year'] = pd.DatetimeIndex(dj_1['created_at']).year"
   ]
  },
  {
   "cell_type": "code",
   "execution_count": 24,
   "metadata": {},
   "outputs": [],
   "source": [
    "dt3=dj_1[dj_1['year']==2016][['text','id','favorite_count']]"
   ]
  },
  {
   "cell_type": "code",
   "execution_count": 25,
   "metadata": {},
   "outputs": [
    {
     "data": {
      "text/plain": [
       "(354942, 3)"
      ]
     },
     "execution_count": 25,
     "metadata": {},
     "output_type": "execute_result"
    }
   ],
   "source": [
    "dt3.shape"
   ]
  },
  {
   "cell_type": "code",
   "execution_count": 26,
   "metadata": {},
   "outputs": [
    {
     "data": {
      "text/html": [
       "<div>\n",
       "<style scoped>\n",
       "    .dataframe tbody tr th:only-of-type {\n",
       "        vertical-align: middle;\n",
       "    }\n",
       "\n",
       "    .dataframe tbody tr th {\n",
       "        vertical-align: top;\n",
       "    }\n",
       "\n",
       "    .dataframe thead th {\n",
       "        text-align: right;\n",
       "    }\n",
       "</style>\n",
       "<table border=\"1\" class=\"dataframe\">\n",
       "  <thead>\n",
       "    <tr style=\"text-align: right;\">\n",
       "      <th></th>\n",
       "      <th>text</th>\n",
       "      <th>id</th>\n",
       "      <th>favorite_count</th>\n",
       "    </tr>\n",
       "  </thead>\n",
       "  <tbody>\n",
       "    <tr>\n",
       "      <th>659046</th>\n",
       "      <td>#TeamHolcomb Year In Review: Eric wrote an op-...</td>\n",
       "      <td>682712993042313217</td>\n",
       "      <td>3</td>\n",
       "    </tr>\n",
       "    <tr>\n",
       "      <th>659047</th>\n",
       "      <td>Some of the great people I saw in 2015. Lookin...</td>\n",
       "      <td>682712996657807361</td>\n",
       "      <td>10</td>\n",
       "    </tr>\n",
       "    <tr>\n",
       "      <th>659048</th>\n",
       "      <td>Wishing you and your loved ones a safe and hap...</td>\n",
       "      <td>682714181900972034</td>\n",
       "      <td>13</td>\n",
       "    </tr>\n",
       "    <tr>\n",
       "      <th>659049</th>\n",
       "      <td>MT @c_sjohnson: New Lt. Gov. Mike Cooney is on...</td>\n",
       "      <td>682714197831102465</td>\n",
       "      <td>4</td>\n",
       "    </tr>\n",
       "    <tr>\n",
       "      <th>659050</th>\n",
       "      <td>For a compiled a list of the ongoing efforts b...</td>\n",
       "      <td>682715622715846657</td>\n",
       "      <td>5</td>\n",
       "    </tr>\n",
       "  </tbody>\n",
       "</table>\n",
       "</div>"
      ],
      "text/plain": [
       "                                                     text                  id  \\\n",
       "659046  #TeamHolcomb Year In Review: Eric wrote an op-...  682712993042313217   \n",
       "659047  Some of the great people I saw in 2015. Lookin...  682712996657807361   \n",
       "659048  Wishing you and your loved ones a safe and hap...  682714181900972034   \n",
       "659049  MT @c_sjohnson: New Lt. Gov. Mike Cooney is on...  682714197831102465   \n",
       "659050  For a compiled a list of the ongoing efforts b...  682715622715846657   \n",
       "\n",
       "        favorite_count  \n",
       "659046               3  \n",
       "659047              10  \n",
       "659048              13  \n",
       "659049               4  \n",
       "659050               5  "
      ]
     },
     "execution_count": 26,
     "metadata": {},
     "output_type": "execute_result"
    }
   ],
   "source": [
    "dt3.head()"
   ]
  },
  {
   "cell_type": "code",
   "execution_count": 27,
   "metadata": {},
   "outputs": [
    {
     "name": "stdout",
     "output_type": "stream",
     "text": [
      "Wall time: 1min 8s\n"
     ]
    }
   ],
   "source": [
    "%%time\n",
    "dt3['sentiment']=dt3.text.apply(lambda text: TextBlob(text).sentiment[0])"
   ]
  },
  {
   "cell_type": "code",
   "execution_count": 28,
   "metadata": {},
   "outputs": [
    {
     "data": {
      "text/html": [
       "<div>\n",
       "<style scoped>\n",
       "    .dataframe tbody tr th:only-of-type {\n",
       "        vertical-align: middle;\n",
       "    }\n",
       "\n",
       "    .dataframe tbody tr th {\n",
       "        vertical-align: top;\n",
       "    }\n",
       "\n",
       "    .dataframe thead th {\n",
       "        text-align: right;\n",
       "    }\n",
       "</style>\n",
       "<table border=\"1\" class=\"dataframe\">\n",
       "  <thead>\n",
       "    <tr style=\"text-align: right;\">\n",
       "      <th></th>\n",
       "      <th>text</th>\n",
       "      <th>id</th>\n",
       "      <th>favorite_count</th>\n",
       "      <th>sentiment</th>\n",
       "    </tr>\n",
       "  </thead>\n",
       "  <tbody>\n",
       "    <tr>\n",
       "      <th>659046</th>\n",
       "      <td>#TeamHolcomb Year In Review: Eric wrote an op-...</td>\n",
       "      <td>682712993042313217</td>\n",
       "      <td>3</td>\n",
       "      <td>0.000000</td>\n",
       "    </tr>\n",
       "    <tr>\n",
       "      <th>659047</th>\n",
       "      <td>Some of the great people I saw in 2015. Lookin...</td>\n",
       "      <td>682712996657807361</td>\n",
       "      <td>10</td>\n",
       "      <td>0.478788</td>\n",
       "    </tr>\n",
       "    <tr>\n",
       "      <th>659048</th>\n",
       "      <td>Wishing you and your loved ones a safe and hap...</td>\n",
       "      <td>682714181900972034</td>\n",
       "      <td>13</td>\n",
       "      <td>0.666667</td>\n",
       "    </tr>\n",
       "    <tr>\n",
       "      <th>659049</th>\n",
       "      <td>MT @c_sjohnson: New Lt. Gov. Mike Cooney is on...</td>\n",
       "      <td>682714197831102465</td>\n",
       "      <td>4</td>\n",
       "      <td>0.078788</td>\n",
       "    </tr>\n",
       "    <tr>\n",
       "      <th>659050</th>\n",
       "      <td>For a compiled a list of the ongoing efforts b...</td>\n",
       "      <td>682715622715846657</td>\n",
       "      <td>5</td>\n",
       "      <td>0.000000</td>\n",
       "    </tr>\n",
       "  </tbody>\n",
       "</table>\n",
       "</div>"
      ],
      "text/plain": [
       "                                                     text                  id  \\\n",
       "659046  #TeamHolcomb Year In Review: Eric wrote an op-...  682712993042313217   \n",
       "659047  Some of the great people I saw in 2015. Lookin...  682712996657807361   \n",
       "659048  Wishing you and your loved ones a safe and hap...  682714181900972034   \n",
       "659049  MT @c_sjohnson: New Lt. Gov. Mike Cooney is on...  682714197831102465   \n",
       "659050  For a compiled a list of the ongoing efforts b...  682715622715846657   \n",
       "\n",
       "        favorite_count  sentiment  \n",
       "659046               3   0.000000  \n",
       "659047              10   0.478788  \n",
       "659048              13   0.666667  \n",
       "659049               4   0.078788  \n",
       "659050               5   0.000000  "
      ]
     },
     "execution_count": 28,
     "metadata": {},
     "output_type": "execute_result"
    }
   ],
   "source": [
    "dt3.head()"
   ]
  },
  {
   "cell_type": "code",
   "execution_count": 29,
   "metadata": {},
   "outputs": [
    {
     "data": {
      "text/plain": [
       "<AxesSubplot:>"
      ]
     },
     "execution_count": 29,
     "metadata": {},
     "output_type": "execute_result"
    },
    {
     "data": {
      "image/png": "[encoded data removed]",
      "text/plain": [
       "<Figure size 432x288 with 1 Axes>"
      ]
     },
     "metadata": {
      "needs_background": "light"
     },
     "output_type": "display_data"
    }
   ],
   "source": [
    "dt3['sentiment'].hist()"
   ]
  },
  {
   "cell_type": "code",
   "execution_count": 30,
   "metadata": {},
   "outputs": [],
   "source": [
    "from scipy.stats import pearsonr"
   ]
  },
  {
   "cell_type": "code",
   "execution_count": 31,
   "metadata": {},
   "outputs": [
    {
     "name": "stdout",
     "output_type": "stream",
     "text": [
      "Pearson correlation: -0.011\n"
     ]
    }
   ],
   "source": [
    "corr, _ = pearsonr(dt3['sentiment'], dt3['favorite_count'])\n",
    "print('Pearson correlation: %.3f' % corr)"
   ]
  },
  {
   "cell_type": "code",
   "execution_count": 32,
   "metadata": {},
   "outputs": [],
   "source": [
    "dt3_p=dt3[dt3['sentiment']>0.5]"
   ]
  },
  {
   "cell_type": "code",
   "execution_count": 33,
   "metadata": {},
   "outputs": [
    {
     "name": "stdout",
     "output_type": "stream",
     "text": [
      "Pearsons correlation: 0.006\n"
     ]
    }
   ],
   "source": [
    "corr, _ = pearsonr(dt3_p['sentiment'], dt3_p['favorite_count'])\n",
    "print('Pearsons correlation: %.3f' % corr)"
   ]
  },
  {
   "cell_type": "code",
   "execution_count": 34,
   "metadata": {},
   "outputs": [],
   "source": [
    "dt3_n=dt3[dt3['sentiment']<-0.5]"
   ]
  },
  {
   "cell_type": "code",
   "execution_count": 35,
   "metadata": {},
   "outputs": [
    {
     "name": "stdout",
     "output_type": "stream",
     "text": [
      "Pearsons correlation: 0.032\n"
     ]
    }
   ],
   "source": [
    "corr, _ = pearsonr(dt3_n['sentiment'], dt3_n['favorite_count'])\n",
    "print('Pearsons correlation: %.3f' % corr)"
   ]
  },
  {
   "cell_type": "code",
   "execution_count": 36,
   "metadata": {},
   "outputs": [],
   "source": [
    "dt4=dj_1[dj_1['year']==2016][['text','id','favorite_count','created_at']]"
   ]
  },
  {
   "cell_type": "code",
   "execution_count": 37,
   "metadata": {},
   "outputs": [
    {
     "name": "stdout",
     "output_type": "stream",
     "text": [
      "Wall time: 1min 10s\n"
     ]
    }
   ],
   "source": [
    "%%time\n",
    "dt4['sentiment']=dt4.text.apply(lambda text: TextBlob(text).sentiment[0])"
   ]
  },
  {
   "cell_type": "code",
   "execution_count": 38,
   "metadata": {},
   "outputs": [],
   "source": [
    "dt4['year'] = pd.DatetimeIndex(dt4['created_at']).year\n",
    "dt4['month'] = pd.DatetimeIndex(dt4['created_at']).month"
   ]
  },
  {
   "cell_type": "code",
   "execution_count": 39,
   "metadata": {},
   "outputs": [
    {
     "data": {
      "text/html": [
       "<div>\n",
       "<style scoped>\n",
       "    .dataframe tbody tr th:only-of-type {\n",
       "        vertical-align: middle;\n",
       "    }\n",
       "\n",
       "    .dataframe tbody tr th {\n",
       "        vertical-align: top;\n",
       "    }\n",
       "\n",
       "    .dataframe thead th {\n",
       "        text-align: right;\n",
       "    }\n",
       "</style>\n",
       "<table border=\"1\" class=\"dataframe\">\n",
       "  <thead>\n",
       "    <tr style=\"text-align: right;\">\n",
       "      <th></th>\n",
       "      <th>text</th>\n",
       "      <th>id</th>\n",
       "      <th>favorite_count</th>\n",
       "      <th>created_at</th>\n",
       "      <th>sentiment</th>\n",
       "      <th>year</th>\n",
       "      <th>month</th>\n",
       "    </tr>\n",
       "  </thead>\n",
       "  <tbody>\n",
       "    <tr>\n",
       "      <th>659046</th>\n",
       "      <td>#TeamHolcomb Year In Review: Eric wrote an op-...</td>\n",
       "      <td>682712993042313217</td>\n",
       "      <td>3</td>\n",
       "      <td>2016-01-01 00:00:36</td>\n",
       "      <td>0.000000</td>\n",
       "      <td>2016</td>\n",
       "      <td>1</td>\n",
       "    </tr>\n",
       "    <tr>\n",
       "      <th>659047</th>\n",
       "      <td>Some of the great people I saw in 2015. Lookin...</td>\n",
       "      <td>682712996657807361</td>\n",
       "      <td>10</td>\n",
       "      <td>2016-01-01 00:00:37</td>\n",
       "      <td>0.478788</td>\n",
       "      <td>2016</td>\n",
       "      <td>1</td>\n",
       "    </tr>\n",
       "    <tr>\n",
       "      <th>659048</th>\n",
       "      <td>Wishing you and your loved ones a safe and hap...</td>\n",
       "      <td>682714181900972034</td>\n",
       "      <td>13</td>\n",
       "      <td>2016-01-01 00:05:19</td>\n",
       "      <td>0.666667</td>\n",
       "      <td>2016</td>\n",
       "      <td>1</td>\n",
       "    </tr>\n",
       "    <tr>\n",
       "      <th>659049</th>\n",
       "      <td>MT @c_sjohnson: New Lt. Gov. Mike Cooney is on...</td>\n",
       "      <td>682714197831102465</td>\n",
       "      <td>4</td>\n",
       "      <td>2016-01-01 00:05:23</td>\n",
       "      <td>0.078788</td>\n",
       "      <td>2016</td>\n",
       "      <td>1</td>\n",
       "    </tr>\n",
       "    <tr>\n",
       "      <th>659050</th>\n",
       "      <td>For a compiled a list of the ongoing efforts b...</td>\n",
       "      <td>682715622715846657</td>\n",
       "      <td>5</td>\n",
       "      <td>2016-01-01 00:11:03</td>\n",
       "      <td>0.000000</td>\n",
       "      <td>2016</td>\n",
       "      <td>1</td>\n",
       "    </tr>\n",
       "  </tbody>\n",
       "</table>\n",
       "</div>"
      ],
      "text/plain": [
       "                                                     text                  id  \\\n",
       "659046  #TeamHolcomb Year In Review: Eric wrote an op-...  682712993042313217   \n",
       "659047  Some of the great people I saw in 2015. Lookin...  682712996657807361   \n",
       "659048  Wishing you and your loved ones a safe and hap...  682714181900972034   \n",
       "659049  MT @c_sjohnson: New Lt. Gov. Mike Cooney is on...  682714197831102465   \n",
       "659050  For a compiled a list of the ongoing efforts b...  682715622715846657   \n",
       "\n",
       "        favorite_count           created_at  sentiment  year  month  \n",
       "659046               3  2016-01-01 00:00:36   0.000000  2016      1  \n",
       "659047              10  2016-01-01 00:00:37   0.478788  2016      1  \n",
       "659048              13  2016-01-01 00:05:19   0.666667  2016      1  \n",
       "659049               4  2016-01-01 00:05:23   0.078788  2016      1  \n",
       "659050               5  2016-01-01 00:11:03   0.000000  2016      1  "
      ]
     },
     "execution_count": 39,
     "metadata": {},
     "output_type": "execute_result"
    }
   ],
   "source": [
    "dt4.head()"
   ]
  },
  {
   "cell_type": "code",
   "execution_count": 40,
   "metadata": {},
   "outputs": [],
   "source": [
    "dt5=pysqldf(\"\"\"SELECT COUNT(*) OVER (PARTITION BY month) \n",
    "As NumPerMonth, \n",
    "month+' '+year As TheMonth,\n",
    "favorite_count, sentiment,id\n",
    "FROM dt4\n",
    "ORDER BY created_at;\"\"\")"
   ]
  },
  {
   "cell_type": "code",
   "execution_count": 41,
   "metadata": {},
   "outputs": [
    {
     "data": {
      "text/html": [
       "<div>\n",
       "<style scoped>\n",
       "    .dataframe tbody tr th:only-of-type {\n",
       "        vertical-align: middle;\n",
       "    }\n",
       "\n",
       "    .dataframe tbody tr th {\n",
       "        vertical-align: top;\n",
       "    }\n",
       "\n",
       "    .dataframe thead th {\n",
       "        text-align: right;\n",
       "    }\n",
       "</style>\n",
       "<table border=\"1\" class=\"dataframe\">\n",
       "  <thead>\n",
       "    <tr style=\"text-align: right;\">\n",
       "      <th></th>\n",
       "      <th>NumPerMonth</th>\n",
       "      <th>TheMonth</th>\n",
       "      <th>favorite_count</th>\n",
       "      <th>sentiment</th>\n",
       "      <th>id</th>\n",
       "    </tr>\n",
       "  </thead>\n",
       "  <tbody>\n",
       "    <tr>\n",
       "      <th>0</th>\n",
       "      <td>24894</td>\n",
       "      <td>2017</td>\n",
       "      <td>3</td>\n",
       "      <td>0.000000</td>\n",
       "      <td>682712993042313217</td>\n",
       "    </tr>\n",
       "    <tr>\n",
       "      <th>1</th>\n",
       "      <td>24894</td>\n",
       "      <td>2017</td>\n",
       "      <td>10</td>\n",
       "      <td>0.478788</td>\n",
       "      <td>682712996657807361</td>\n",
       "    </tr>\n",
       "    <tr>\n",
       "      <th>2</th>\n",
       "      <td>24894</td>\n",
       "      <td>2017</td>\n",
       "      <td>13</td>\n",
       "      <td>0.666667</td>\n",
       "      <td>682714181900972034</td>\n",
       "    </tr>\n",
       "    <tr>\n",
       "      <th>3</th>\n",
       "      <td>24894</td>\n",
       "      <td>2017</td>\n",
       "      <td>4</td>\n",
       "      <td>0.078788</td>\n",
       "      <td>682714197831102465</td>\n",
       "    </tr>\n",
       "    <tr>\n",
       "      <th>4</th>\n",
       "      <td>24894</td>\n",
       "      <td>2017</td>\n",
       "      <td>5</td>\n",
       "      <td>0.000000</td>\n",
       "      <td>682715622715846657</td>\n",
       "    </tr>\n",
       "    <tr>\n",
       "      <th>...</th>\n",
       "      <td>...</td>\n",
       "      <td>...</td>\n",
       "      <td>...</td>\n",
       "      <td>...</td>\n",
       "      <td>...</td>\n",
       "    </tr>\n",
       "    <tr>\n",
       "      <th>354937</th>\n",
       "      <td>24738</td>\n",
       "      <td>2028</td>\n",
       "      <td>9</td>\n",
       "      <td>0.267273</td>\n",
       "      <td>815343362832236544</td>\n",
       "    </tr>\n",
       "    <tr>\n",
       "      <th>354938</th>\n",
       "      <td>24738</td>\n",
       "      <td>2028</td>\n",
       "      <td>74</td>\n",
       "      <td>0.000000</td>\n",
       "      <td>815344665440518144</td>\n",
       "    </tr>\n",
       "    <tr>\n",
       "      <th>354939</th>\n",
       "      <td>24738</td>\n",
       "      <td>2028</td>\n",
       "      <td>20</td>\n",
       "      <td>0.200000</td>\n",
       "      <td>815345605660864512</td>\n",
       "    </tr>\n",
       "    <tr>\n",
       "      <th>354940</th>\n",
       "      <td>24738</td>\n",
       "      <td>2028</td>\n",
       "      <td>121</td>\n",
       "      <td>0.000000</td>\n",
       "      <td>815345747965120512</td>\n",
       "    </tr>\n",
       "    <tr>\n",
       "      <th>354941</th>\n",
       "      <td>24738</td>\n",
       "      <td>2028</td>\n",
       "      <td>46</td>\n",
       "      <td>0.000000</td>\n",
       "      <td>815346289067966464</td>\n",
       "    </tr>\n",
       "  </tbody>\n",
       "</table>\n",
       "<p>354942 rows × 5 columns</p>\n",
       "</div>"
      ],
      "text/plain": [
       "        NumPerMonth  TheMonth  favorite_count  sentiment                  id\n",
       "0             24894      2017               3   0.000000  682712993042313217\n",
       "1             24894      2017              10   0.478788  682712996657807361\n",
       "2             24894      2017              13   0.666667  682714181900972034\n",
       "3             24894      2017               4   0.078788  682714197831102465\n",
       "4             24894      2017               5   0.000000  682715622715846657\n",
       "...             ...       ...             ...        ...                 ...\n",
       "354937        24738      2028               9   0.267273  815343362832236544\n",
       "354938        24738      2028              74   0.000000  815344665440518144\n",
       "354939        24738      2028              20   0.200000  815345605660864512\n",
       "354940        24738      2028             121   0.000000  815345747965120512\n",
       "354941        24738      2028              46   0.000000  815346289067966464\n",
       "\n",
       "[354942 rows x 5 columns]"
      ]
     },
     "execution_count": 41,
     "metadata": {},
     "output_type": "execute_result"
    }
   ],
   "source": [
    "dt5"
   ]
  },
  {
   "cell_type": "code",
   "execution_count": 42,
   "metadata": {},
   "outputs": [],
   "source": [
    "dt6=dt4[['favorite_count','month']]"
   ]
  },
  {
   "cell_type": "code",
   "execution_count": 43,
   "metadata": {},
   "outputs": [
    {
     "data": {
      "text/html": [
       "<div>\n",
       "<style scoped>\n",
       "    .dataframe tbody tr th:only-of-type {\n",
       "        vertical-align: middle;\n",
       "    }\n",
       "\n",
       "    .dataframe tbody tr th {\n",
       "        vertical-align: top;\n",
       "    }\n",
       "\n",
       "    .dataframe thead th {\n",
       "        text-align: right;\n",
       "    }\n",
       "</style>\n",
       "<table border=\"1\" class=\"dataframe\">\n",
       "  <thead>\n",
       "    <tr style=\"text-align: right;\">\n",
       "      <th></th>\n",
       "      <th>favorite_count</th>\n",
       "      <th>month</th>\n",
       "    </tr>\n",
       "  </thead>\n",
       "  <tbody>\n",
       "    <tr>\n",
       "      <th>659046</th>\n",
       "      <td>3</td>\n",
       "      <td>1</td>\n",
       "    </tr>\n",
       "    <tr>\n",
       "      <th>659047</th>\n",
       "      <td>10</td>\n",
       "      <td>1</td>\n",
       "    </tr>\n",
       "    <tr>\n",
       "      <th>659048</th>\n",
       "      <td>13</td>\n",
       "      <td>1</td>\n",
       "    </tr>\n",
       "    <tr>\n",
       "      <th>659049</th>\n",
       "      <td>4</td>\n",
       "      <td>1</td>\n",
       "    </tr>\n",
       "    <tr>\n",
       "      <th>659050</th>\n",
       "      <td>5</td>\n",
       "      <td>1</td>\n",
       "    </tr>\n",
       "    <tr>\n",
       "      <th>...</th>\n",
       "      <td>...</td>\n",
       "      <td>...</td>\n",
       "    </tr>\n",
       "    <tr>\n",
       "      <th>1013983</th>\n",
       "      <td>9</td>\n",
       "      <td>12</td>\n",
       "    </tr>\n",
       "    <tr>\n",
       "      <th>1013984</th>\n",
       "      <td>74</td>\n",
       "      <td>12</td>\n",
       "    </tr>\n",
       "    <tr>\n",
       "      <th>1013985</th>\n",
       "      <td>20</td>\n",
       "      <td>12</td>\n",
       "    </tr>\n",
       "    <tr>\n",
       "      <th>1013986</th>\n",
       "      <td>121</td>\n",
       "      <td>12</td>\n",
       "    </tr>\n",
       "    <tr>\n",
       "      <th>1013987</th>\n",
       "      <td>46</td>\n",
       "      <td>12</td>\n",
       "    </tr>\n",
       "  </tbody>\n",
       "</table>\n",
       "<p>354942 rows × 2 columns</p>\n",
       "</div>"
      ],
      "text/plain": [
       "         favorite_count  month\n",
       "659046                3      1\n",
       "659047               10      1\n",
       "659048               13      1\n",
       "659049                4      1\n",
       "659050                5      1\n",
       "...                 ...    ...\n",
       "1013983               9     12\n",
       "1013984              74     12\n",
       "1013985              20     12\n",
       "1013986             121     12\n",
       "1013987              46     12\n",
       "\n",
       "[354942 rows x 2 columns]"
      ]
     },
     "execution_count": 43,
     "metadata": {},
     "output_type": "execute_result"
    }
   ],
   "source": [
    "dt6"
   ]
  },
  {
   "cell_type": "code",
   "execution_count": 44,
   "metadata": {},
   "outputs": [
    {
     "data": {
      "text/html": [
       "<div>\n",
       "<style scoped>\n",
       "    .dataframe tbody tr th:only-of-type {\n",
       "        vertical-align: middle;\n",
       "    }\n",
       "\n",
       "    .dataframe tbody tr th {\n",
       "        vertical-align: top;\n",
       "    }\n",
       "\n",
       "    .dataframe thead th {\n",
       "        text-align: right;\n",
       "    }\n",
       "</style>\n",
       "<table border=\"1\" class=\"dataframe\">\n",
       "  <thead>\n",
       "    <tr style=\"text-align: right;\">\n",
       "      <th></th>\n",
       "      <th>favm</th>\n",
       "    </tr>\n",
       "  </thead>\n",
       "  <tbody>\n",
       "    <tr>\n",
       "      <th>0</th>\n",
       "      <td>488046</td>\n",
       "    </tr>\n",
       "    <tr>\n",
       "      <th>1</th>\n",
       "      <td>488046</td>\n",
       "    </tr>\n",
       "    <tr>\n",
       "      <th>2</th>\n",
       "      <td>488046</td>\n",
       "    </tr>\n",
       "    <tr>\n",
       "      <th>3</th>\n",
       "      <td>488046</td>\n",
       "    </tr>\n",
       "    <tr>\n",
       "      <th>4</th>\n",
       "      <td>488046</td>\n",
       "    </tr>\n",
       "    <tr>\n",
       "      <th>...</th>\n",
       "      <td>...</td>\n",
       "    </tr>\n",
       "    <tr>\n",
       "      <th>354937</th>\n",
       "      <td>13033762</td>\n",
       "    </tr>\n",
       "    <tr>\n",
       "      <th>354938</th>\n",
       "      <td>13033762</td>\n",
       "    </tr>\n",
       "    <tr>\n",
       "      <th>354939</th>\n",
       "      <td>13033762</td>\n",
       "    </tr>\n",
       "    <tr>\n",
       "      <th>354940</th>\n",
       "      <td>13033762</td>\n",
       "    </tr>\n",
       "    <tr>\n",
       "      <th>354941</th>\n",
       "      <td>13033762</td>\n",
       "    </tr>\n",
       "  </tbody>\n",
       "</table>\n",
       "<p>354942 rows × 1 columns</p>\n",
       "</div>"
      ],
      "text/plain": [
       "            favm\n",
       "0         488046\n",
       "1         488046\n",
       "2         488046\n",
       "3         488046\n",
       "4         488046\n",
       "...          ...\n",
       "354937  13033762\n",
       "354938  13033762\n",
       "354939  13033762\n",
       "354940  13033762\n",
       "354941  13033762\n",
       "\n",
       "[354942 rows x 1 columns]"
      ]
     },
     "execution_count": 44,
     "metadata": {},
     "output_type": "execute_result"
    }
   ],
   "source": [
    "pysqldf(\"\"\"SELECT sum(favorite_count) OVER(Partition by month) As favm\n",
    "FROM dt4\n",
    "ORDER BY month\"\"\")\n",
    "# SELECT duration_seconds,\n",
    "#        SUM(duration_seconds) OVER (ORDER BY start_time) AS running_total\n",
    "#   FROM tutorial.dc_bikeshare_q1_2012"
   ]
  },
  {
   "cell_type": "code",
   "execution_count": 45,
   "metadata": {},
   "outputs": [
    {
     "data": {
      "text/plain": [
       "488046"
      ]
     },
     "execution_count": 45,
     "metadata": {},
     "output_type": "execute_result"
    }
   ],
   "source": [
    "dt4['favorite_count'][dt4['month']==1].sum()"
   ]
  },
  {
   "cell_type": "code",
   "execution_count": 46,
   "metadata": {},
   "outputs": [
    {
     "data": {
      "text/html": [
       "<div>\n",
       "<style scoped>\n",
       "    .dataframe tbody tr th:only-of-type {\n",
       "        vertical-align: middle;\n",
       "    }\n",
       "\n",
       "    .dataframe tbody tr th {\n",
       "        vertical-align: top;\n",
       "    }\n",
       "\n",
       "    .dataframe thead th {\n",
       "        text-align: right;\n",
       "    }\n",
       "</style>\n",
       "<table border=\"1\" class=\"dataframe\">\n",
       "  <thead>\n",
       "    <tr style=\"text-align: right;\">\n",
       "      <th></th>\n",
       "      <th>favm</th>\n",
       "      <th>sentiment</th>\n",
       "    </tr>\n",
       "  </thead>\n",
       "  <tbody>\n",
       "    <tr>\n",
       "      <th>0</th>\n",
       "      <td>29165</td>\n",
       "      <td>0.000000</td>\n",
       "    </tr>\n",
       "    <tr>\n",
       "      <th>1</th>\n",
       "      <td>29165</td>\n",
       "      <td>0.478788</td>\n",
       "    </tr>\n",
       "    <tr>\n",
       "      <th>2</th>\n",
       "      <td>29165</td>\n",
       "      <td>0.666667</td>\n",
       "    </tr>\n",
       "    <tr>\n",
       "      <th>3</th>\n",
       "      <td>29165</td>\n",
       "      <td>0.078788</td>\n",
       "    </tr>\n",
       "    <tr>\n",
       "      <th>4</th>\n",
       "      <td>29165</td>\n",
       "      <td>0.000000</td>\n",
       "    </tr>\n",
       "    <tr>\n",
       "      <th>...</th>\n",
       "      <td>...</td>\n",
       "      <td>...</td>\n",
       "    </tr>\n",
       "    <tr>\n",
       "      <th>354937</th>\n",
       "      <td>347262</td>\n",
       "      <td>0.267273</td>\n",
       "    </tr>\n",
       "    <tr>\n",
       "      <th>354938</th>\n",
       "      <td>347262</td>\n",
       "      <td>0.000000</td>\n",
       "    </tr>\n",
       "    <tr>\n",
       "      <th>354939</th>\n",
       "      <td>347262</td>\n",
       "      <td>0.200000</td>\n",
       "    </tr>\n",
       "    <tr>\n",
       "      <th>354940</th>\n",
       "      <td>347262</td>\n",
       "      <td>0.000000</td>\n",
       "    </tr>\n",
       "    <tr>\n",
       "      <th>354941</th>\n",
       "      <td>347262</td>\n",
       "      <td>0.000000</td>\n",
       "    </tr>\n",
       "  </tbody>\n",
       "</table>\n",
       "<p>354942 rows × 2 columns</p>\n",
       "</div>"
      ],
      "text/plain": [
       "          favm  sentiment\n",
       "0        29165   0.000000\n",
       "1        29165   0.478788\n",
       "2        29165   0.666667\n",
       "3        29165   0.078788\n",
       "4        29165   0.000000\n",
       "...        ...        ...\n",
       "354937  347262   0.267273\n",
       "354938  347262   0.000000\n",
       "354939  347262   0.200000\n",
       "354940  347262   0.000000\n",
       "354941  347262   0.000000\n",
       "\n",
       "[354942 rows x 2 columns]"
      ]
     },
     "execution_count": 46,
     "metadata": {},
     "output_type": "execute_result"
    }
   ],
   "source": [
    "pysqldf(\"\"\"SELECT max(favorite_count) OVER(Partition by month) As favm, sentiment\n",
    "FROM dt4\n",
    "ORDER BY month\"\"\")"
   ]
  },
  {
   "cell_type": "code",
   "execution_count": 47,
   "metadata": {},
   "outputs": [
    {
     "data": {
      "text/plain": [
       "29165"
      ]
     },
     "execution_count": 47,
     "metadata": {},
     "output_type": "execute_result"
    }
   ],
   "source": [
    "dt4['favorite_count'][dt4['month']==1].max()"
   ]
  },
  {
   "cell_type": "code",
   "execution_count": 48,
   "metadata": {},
   "outputs": [
    {
     "data": {
      "text/html": [
       "<div>\n",
       "<style scoped>\n",
       "    .dataframe tbody tr th:only-of-type {\n",
       "        vertical-align: middle;\n",
       "    }\n",
       "\n",
       "    .dataframe tbody tr th {\n",
       "        vertical-align: top;\n",
       "    }\n",
       "\n",
       "    .dataframe thead th {\n",
       "        text-align: right;\n",
       "    }\n",
       "</style>\n",
       "<table border=\"1\" class=\"dataframe\">\n",
       "  <thead>\n",
       "    <tr style=\"text-align: right;\">\n",
       "      <th></th>\n",
       "      <th>favm</th>\n",
       "    </tr>\n",
       "  </thead>\n",
       "  <tbody>\n",
       "    <tr>\n",
       "      <th>0</th>\n",
       "      <td>1</td>\n",
       "    </tr>\n",
       "    <tr>\n",
       "      <th>1</th>\n",
       "      <td>1</td>\n",
       "    </tr>\n",
       "    <tr>\n",
       "      <th>2</th>\n",
       "      <td>1</td>\n",
       "    </tr>\n",
       "    <tr>\n",
       "      <th>3</th>\n",
       "      <td>1</td>\n",
       "    </tr>\n",
       "    <tr>\n",
       "      <th>4</th>\n",
       "      <td>1</td>\n",
       "    </tr>\n",
       "    <tr>\n",
       "      <th>...</th>\n",
       "      <td>...</td>\n",
       "    </tr>\n",
       "    <tr>\n",
       "      <th>354937</th>\n",
       "      <td>1</td>\n",
       "    </tr>\n",
       "    <tr>\n",
       "      <th>354938</th>\n",
       "      <td>1</td>\n",
       "    </tr>\n",
       "    <tr>\n",
       "      <th>354939</th>\n",
       "      <td>1</td>\n",
       "    </tr>\n",
       "    <tr>\n",
       "      <th>354940</th>\n",
       "      <td>1</td>\n",
       "    </tr>\n",
       "    <tr>\n",
       "      <th>354941</th>\n",
       "      <td>1</td>\n",
       "    </tr>\n",
       "  </tbody>\n",
       "</table>\n",
       "<p>354942 rows × 1 columns</p>\n",
       "</div>"
      ],
      "text/plain": [
       "        favm\n",
       "0          1\n",
       "1          1\n",
       "2          1\n",
       "3          1\n",
       "4          1\n",
       "...      ...\n",
       "354937     1\n",
       "354938     1\n",
       "354939     1\n",
       "354940     1\n",
       "354941     1\n",
       "\n",
       "[354942 rows x 1 columns]"
      ]
     },
     "execution_count": 48,
     "metadata": {},
     "output_type": "execute_result"
    }
   ],
   "source": [
    "pysqldf(\"\"\"SELECT Rank() OVER(Partition by month) As favm\n",
    "FROM dt6\n",
    "ORDER BY month\"\"\")#??"
   ]
  },
  {
   "cell_type": "markdown",
   "metadata": {},
   "source": [
    "maybe window functions not so good here, because goal is to narrow down number of lines, not display a metric for each tweet"
   ]
  },
  {
   "cell_type": "code",
   "execution_count": 49,
   "metadata": {},
   "outputs": [],
   "source": [
    "from collections import Counter"
   ]
  },
  {
   "cell_type": "code",
   "execution_count": 50,
   "metadata": {},
   "outputs": [],
   "source": [
    "import nltk\n",
    "from nltk.corpus import stopwords"
   ]
  },
  {
   "cell_type": "code",
   "execution_count": 51,
   "metadata": {},
   "outputs": [
    {
     "name": "stderr",
     "output_type": "stream",
     "text": [
      "[nltk_data] Downloading package stopwords to\n",
      "[nltk_data]     C:\\Users\\julia\\AppData\\Roaming\\nltk_data...\n",
      "[nltk_data]   Package stopwords is already up-to-date!\n"
     ]
    },
    {
     "data": {
      "text/plain": [
       "True"
      ]
     },
     "execution_count": 51,
     "metadata": {},
     "output_type": "execute_result"
    }
   ],
   "source": [
    "nltk.download('stopwords')"
   ]
  },
  {
   "cell_type": "code",
   "execution_count": 52,
   "metadata": {},
   "outputs": [
    {
     "name": "stdout",
     "output_type": "stream",
     "text": [
      "['i', 'me', 'my', 'myself', 'we', 'our', 'ours', 'ourselves', 'you', \"you're\", \"you've\", \"you'll\", \"you'd\", 'your', 'yours', 'yourself', 'yourselves', 'he', 'him', 'his', 'himself', 'she', \"she's\", 'her', 'hers', 'herself', 'it', \"it's\", 'its', 'itself', 'they', 'them', 'their', 'theirs', 'themselves', 'what', 'which', 'who', 'whom', 'this', 'that', \"that'll\", 'these', 'those', 'am', 'is', 'are', 'was', 'were', 'be', 'been', 'being', 'have', 'has', 'had', 'having', 'do', 'does', 'did', 'doing', 'a', 'an', 'the', 'and', 'but', 'if', 'or', 'because', 'as', 'until', 'while', 'of', 'at', 'by', 'for', 'with', 'about', 'against', 'between', 'into', 'through', 'during', 'before', 'after', 'above', 'below', 'to', 'from', 'up', 'down', 'in', 'out', 'on', 'off', 'over', 'under', 'again', 'further', 'then', 'once', 'here', 'there', 'when', 'where', 'why', 'how', 'all', 'any', 'both', 'each', 'few', 'more', 'most', 'other', 'some', 'such', 'no', 'nor', 'not', 'only', 'own', 'same', 'so', 'than', 'too', 'very', 's', 't', 'can', 'will', 'just', 'don', \"don't\", 'should', \"should've\", 'now', 'd', 'll', 'm', 'o', 're', 've', 'y', 'ain', 'aren', \"aren't\", 'couldn', \"couldn't\", 'didn', \"didn't\", 'doesn', \"doesn't\", 'hadn', \"hadn't\", 'hasn', \"hasn't\", 'haven', \"haven't\", 'isn', \"isn't\", 'ma', 'mightn', \"mightn't\", 'mustn', \"mustn't\", 'needn', \"needn't\", 'shan', \"shan't\", 'shouldn', \"shouldn't\", 'wasn', \"wasn't\", 'weren', \"weren't\", 'won', \"won't\", 'wouldn', \"wouldn't\"]\n"
     ]
    }
   ],
   "source": [
    "print(stopwords.words('english'))"
   ]
  },
  {
   "cell_type": "code",
   "execution_count": 53,
   "metadata": {},
   "outputs": [],
   "source": [
    "stopwords =['i', 'me', 'my', 'myself', 'we', 'our', 'ours', 'ourselves', 'you', \"you're\", \"you've\", \"you'll\", \"you'd\", 'your', 'yours', 'yourself', 'yourselves', 'he', 'him', 'his', 'himself', 'she', \"she's\", 'her', 'hers', 'herself', 'it', \"it's\", 'its', 'itself', 'they', 'them', 'their', 'theirs', 'themselves', 'what', 'which', 'who', 'whom', 'this', 'that', \"that'll\", 'these', 'those', 'am', 'is', 'are', 'was', 'were', 'be', 'been', 'being', 'have', 'has', 'had', 'having', 'do', 'does', 'did', 'doing', 'a', 'an', 'the', 'and', 'but', 'if', 'or', 'because', 'as', 'until', 'while', 'of', 'at', 'by', 'for', 'with', 'about', 'against', 'between', 'into', 'through', 'during', 'before', 'after', 'above', 'below', 'to', 'from', 'up', 'down', 'in', 'out', 'on', 'off', 'over', 'under', 'again', 'further', 'then', 'once', 'here', 'there', 'when', 'where', 'why', 'how', 'all', 'any', 'both', 'each', 'few', 'more', 'most', 'other', 'some', 'such', 'no', 'nor', 'not', 'only', 'own', 'same', 'so', 'than', 'too', 'very', 's', 't', 'can', 'will', 'just', 'don', \"don't\", 'should', \"should've\", 'now', 'd', 'll', 'm', 'o', 're', 've', 'y', 'ain', 'aren', \"aren't\", 'couldn', \"couldn't\", 'didn', \"didn't\", 'doesn', \"doesn't\", 'hadn', \"hadn't\", 'hasn', \"hasn't\", 'haven', \"haven't\", 'isn', \"isn't\", 'ma', 'mightn', \"mightn't\", 'mustn', \"mustn't\", 'needn', \"needn't\", 'shan', \"shan't\", 'shouldn', \"shouldn't\", 'wasn', \"wasn't\", 'weren', \"weren't\", 'won', \"won't\", 'wouldn', \"wouldn't\"]"
   ]
  },
  {
   "cell_type": "code",
   "execution_count": 54,
   "metadata": {},
   "outputs": [
    {
     "data": {
      "text/plain": [
       "[('rt', 80141),\n",
       " ('&amp;', 67438),\n",
       " ('', 23706),\n",
       " ('great', 20070),\n",
       " ('today', 16719),\n",
       " ('thank', 13676),\n",
       " ('w/', 12542),\n",
       " ('new', 12481),\n",
       " ('-', 12293),\n",
       " ('thanks', 11580),\n",
       " ('us', 11266),\n",
       " ('help', 10087),\n",
       " ('house', 9615),\n",
       " ('bill', 9492),\n",
       " ('work', 9161),\n",
       " ('proud', 9004),\n",
       " ('must', 8980),\n",
       " ('time', 8748),\n",
       " ('support', 8727),\n",
       " ('need', 8400),\n",
       " ('happy', 8139),\n",
       " ('join', 7474),\n",
       " ('day', 7400),\n",
       " ('see', 7183),\n",
       " ('state', 7163),\n",
       " ('people', 7067),\n",
       " ('make', 6701),\n",
       " ('congress', 6572),\n",
       " ('good', 6331),\n",
       " ('one', 6322),\n",
       " ('get', 6193),\n",
       " ('american', 6183),\n",
       " ('health', 6148),\n",
       " ('act', 5965),\n",
       " ('last', 5891),\n",
       " ('watch', 5863),\n",
       " ('here:', 5852),\n",
       " ('read', 5597),\n",
       " ('honor', 5444),\n",
       " ('national', 5407),\n",
       " ('via', 5402),\n",
       " (\"i'm\", 5379),\n",
       " ('live', 5363),\n",
       " ('senate', 5349),\n",
       " ('students', 5345),\n",
       " ('congrats', 5265),\n",
       " ('first', 5171),\n",
       " ('women', 5166),\n",
       " ('americans', 5062),\n",
       " ('office', 4939)]"
      ]
     },
     "execution_count": 54,
     "metadata": {},
     "output_type": "execute_result"
    }
   ],
   "source": [
    "wo_dict=dt4.text.apply(lambda word: (word.lower() for word in word.split(' ') if word.lower() not in stopwords))\n",
    "\n",
    "tbody=[] \n",
    "for ea in wo_dict:\n",
    "    tbody += ea\n",
    "wordDict=Counter(tbody)\n",
    "[(k,v) for k,v in sorted (wordDict.items(), key=lambda item: item[1], reverse=True)][:50]\n"
   ]
  },
  {
   "cell_type": "code",
   "execution_count": 55,
   "metadata": {},
   "outputs": [],
   "source": [
    "dt4_s=dt4.sort_values(by='sentiment', ascending=False)"
   ]
  },
  {
   "cell_type": "code",
   "execution_count": 56,
   "metadata": {},
   "outputs": [
    {
     "data": {
      "text/html": [
       "<div>\n",
       "<style scoped>\n",
       "    .dataframe tbody tr th:only-of-type {\n",
       "        vertical-align: middle;\n",
       "    }\n",
       "\n",
       "    .dataframe tbody tr th {\n",
       "        vertical-align: top;\n",
       "    }\n",
       "\n",
       "    .dataframe thead th {\n",
       "        text-align: right;\n",
       "    }\n",
       "</style>\n",
       "<table border=\"1\" class=\"dataframe\">\n",
       "  <thead>\n",
       "    <tr style=\"text-align: right;\">\n",
       "      <th></th>\n",
       "      <th>text</th>\n",
       "      <th>id</th>\n",
       "      <th>favorite_count</th>\n",
       "      <th>created_at</th>\n",
       "      <th>sentiment</th>\n",
       "      <th>year</th>\n",
       "      <th>month</th>\n",
       "    </tr>\n",
       "  </thead>\n",
       "  <tbody>\n",
       "    <tr>\n",
       "      <th>893664</th>\n",
       "      <td>This @RoundRockISD grad is training as a navy ...</td>\n",
       "      <td>768613925403275264</td>\n",
       "      <td>2</td>\n",
       "      <td>2016-08-25 01:00:14</td>\n",
       "      <td>1.0</td>\n",
       "      <td>2016</td>\n",
       "      <td>8</td>\n",
       "    </tr>\n",
       "    <tr>\n",
       "      <th>804952</th>\n",
       "      <td>Happy birthday Rep. @GreggHarper!</td>\n",
       "      <td>737992114089250816</td>\n",
       "      <td>0</td>\n",
       "      <td>2016-06-01 13:00:05</td>\n",
       "      <td>1.0</td>\n",
       "      <td>2016</td>\n",
       "      <td>6</td>\n",
       "    </tr>\n",
       "    <tr>\n",
       "      <th>869631</th>\n",
       "      <td>July = National Parks &amp;amp; Recreation month. ...</td>\n",
       "      <td>758137842828660736</td>\n",
       "      <td>5</td>\n",
       "      <td>2016-07-27 03:12:01</td>\n",
       "      <td>1.0</td>\n",
       "      <td>2016</td>\n",
       "      <td>7</td>\n",
       "    </tr>\n",
       "    <tr>\n",
       "      <th>712545</th>\n",
       "      <td>Happy #SuperTuesday! For info on where you can...</td>\n",
       "      <td>704751809664032769</td>\n",
       "      <td>7</td>\n",
       "      <td>2016-03-01 19:34:59</td>\n",
       "      <td>1.0</td>\n",
       "      <td>2016</td>\n",
       "      <td>3</td>\n",
       "    </tr>\n",
       "    <tr>\n",
       "      <th>786837</th>\n",
       "      <td>RT @uhmanoa: 🌴 Happy #AlohaFriday! 🌴 https://t...</td>\n",
       "      <td>731216306964324352</td>\n",
       "      <td>0</td>\n",
       "      <td>2016-05-13 20:15:27</td>\n",
       "      <td>1.0</td>\n",
       "      <td>2016</td>\n",
       "      <td>5</td>\n",
       "    </tr>\n",
       "  </tbody>\n",
       "</table>\n",
       "</div>"
      ],
      "text/plain": [
       "                                                     text                  id  \\\n",
       "893664  This @RoundRockISD grad is training as a navy ...  768613925403275264   \n",
       "804952                  Happy birthday Rep. @GreggHarper!  737992114089250816   \n",
       "869631  July = National Parks &amp; Recreation month. ...  758137842828660736   \n",
       "712545  Happy #SuperTuesday! For info on where you can...  704751809664032769   \n",
       "786837  RT @uhmanoa: 🌴 Happy #AlohaFriday! 🌴 https://t...  731216306964324352   \n",
       "\n",
       "        favorite_count           created_at  sentiment  year  month  \n",
       "893664               2  2016-08-25 01:00:14        1.0  2016      8  \n",
       "804952               0  2016-06-01 13:00:05        1.0  2016      6  \n",
       "869631               5  2016-07-27 03:12:01        1.0  2016      7  \n",
       "712545               7  2016-03-01 19:34:59        1.0  2016      3  \n",
       "786837               0  2016-05-13 20:15:27        1.0  2016      5  "
      ]
     },
     "execution_count": 56,
     "metadata": {},
     "output_type": "execute_result"
    }
   ],
   "source": [
    "dt4_s.head()"
   ]
  },
  {
   "cell_type": "code",
   "execution_count": 57,
   "metadata": {},
   "outputs": [],
   "source": [
    "dt4_s1=dt4_s[:1000]"
   ]
  },
  {
   "cell_type": "code",
   "execution_count": 58,
   "metadata": {},
   "outputs": [],
   "source": [
    "dt4_s3=dt4_s.tail(1000)"
   ]
  },
  {
   "cell_type": "code",
   "execution_count": 59,
   "metadata": {},
   "outputs": [
    {
     "data": {
      "text/plain": [
       "[('happy', 301),\n",
       " ('great', 293),\n",
       " ('rt', 191),\n",
       " ('birthday', 147),\n",
       " ('&amp;', 132),\n",
       " ('best', 106),\n",
       " ('', 81),\n",
       " ('proud', 76),\n",
       " ('thank', 70),\n",
       " ('today', 40),\n",
       " ('today!', 35),\n",
       " ('time', 33),\n",
       " ('birthday,', 33),\n",
       " ('w/', 31),\n",
       " ('wonderful', 31),\n",
       " ('day', 31),\n",
       " ('support', 29),\n",
       " ('congrats', 29),\n",
       " ('welcome', 28),\n",
       " ('see', 27),\n",
       " ('us', 27),\n",
       " ('https…', 26),\n",
       " ('-', 25),\n",
       " ('visit', 25),\n",
       " ('one', 25),\n",
       " ('greatest', 25),\n",
       " ('meeting', 25),\n",
       " ('wishing', 24),\n",
       " ('meet', 23),\n",
       " ('#jobs', 21),\n",
       " ('birthday!', 21),\n",
       " ('#startupday!', 20),\n",
       " ('join', 20),\n",
       " ('work', 19),\n",
       " ('startup', 19),\n",
       " ('you!', 19),\n",
       " ('#innovation.', 19),\n",
       " ('give', 19),\n",
       " ('recognition', 19),\n",
       " ('@repjaredpolis:', 18),\n",
       " ('companies', 18),\n",
       " ('create', 18),\n",
       " ('deserve!', 18),\n",
       " ('students', 17),\n",
       " ('news', 17),\n",
       " ('house', 17),\n",
       " ('help', 17),\n",
       " ('make', 16),\n",
       " ('rep.', 15),\n",
       " ('excellent', 15)]"
      ]
     },
     "execution_count": 59,
     "metadata": {},
     "output_type": "execute_result"
    }
   ],
   "source": [
    "wo_dict=dt4_s1.text.apply(lambda word: (word.lower() for word in word.split(' ') if word.lower() not in stopwords))\n",
    "\n",
    "tbody=[] \n",
    "for ea in wo_dict:\n",
    "    tbody += ea\n",
    "wordDict=Counter(tbody)\n",
    "[(k,v) for k,v in sorted (wordDict.items(), key=lambda item: item[1], reverse=True)][:50]"
   ]
  },
  {
   "cell_type": "code",
   "execution_count": 60,
   "metadata": {
    "scrolled": true
   },
   "outputs": [
    {
     "data": {
      "text/plain": [
       "[('&amp;', 199),\n",
       " ('horrific', 167),\n",
       " ('rt', 161),\n",
       " ('devastating', 133),\n",
       " ('terrible', 107),\n",
       " ('prayers', 99),\n",
       " ('worst', 99),\n",
       " ('thoughts', 82),\n",
       " ('must', 81),\n",
       " ('families', 79),\n",
       " ('victims', 77),\n",
       " ('horrible', 73),\n",
       " ('attack', 71),\n",
       " ('people', 57),\n",
       " ('', 54),\n",
       " ('outrageous', 54),\n",
       " ('stand', 49),\n",
       " ('praying', 46),\n",
       " ('us', 46),\n",
       " ('affected', 43),\n",
       " ('news', 40),\n",
       " ('terror', 38),\n",
       " ('today', 35),\n",
       " ('evil', 35),\n",
       " ('awful', 33),\n",
       " ('act', 32),\n",
       " ('help', 30),\n",
       " ('fight', 29),\n",
       " ('bill', 28),\n",
       " ('heart', 28),\n",
       " ('congress', 28),\n",
       " ('terrorist', 26),\n",
       " ('shooting', 26),\n",
       " ('w/', 26),\n",
       " ('go', 26),\n",
       " ('attack.', 26),\n",
       " ('-', 25),\n",
       " ('another', 24),\n",
       " ('record', 24),\n",
       " ('attacks', 23),\n",
       " ('tragedy', 23),\n",
       " ('opioid', 23),\n",
       " ('lives', 21),\n",
       " ('one', 21),\n",
       " ('continue', 21),\n",
       " ('orlando.', 20),\n",
       " ('violence', 20),\n",
       " ('together', 20),\n",
       " ('tragedy.', 20),\n",
       " ('remember', 20)]"
      ]
     },
     "execution_count": 60,
     "metadata": {},
     "output_type": "execute_result"
    }
   ],
   "source": [
    "wo_dict=dt4_s3.text.apply(lambda word: (word.lower() for word in word.split(' ') if word.lower() not in stopwords))\n",
    "\n",
    "tbody=[] \n",
    "for ea in wo_dict:\n",
    "    tbody += ea\n",
    "wordDict=Counter(tbody)\n",
    "[(k,v) for k,v in sorted (wordDict.items(), key=lambda item: item[1], reverse=True)][:50]"
   ]
  },
  {
   "cell_type": "code",
   "execution_count": null,
   "metadata": {},
   "outputs": [],
   "source": []
  }
 ],
 "metadata": {
  "kernelspec": {
   "display_name": "Python 3",
   "language": "python",
   "name": "python3"
  },
  "language_info": {
   "codemirror_mode": {
    "name": "ipython",
    "version": 3
   },
   "file_extension": ".py",
   "mimetype": "text/x-python",
   "name": "python",
   "nbconvert_exporter": "python",
   "pygments_lexer": "ipython3",
   "version": "3.7.4"
  }
 },
 "nbformat": 4,
 "nbformat_minor": 4
}
