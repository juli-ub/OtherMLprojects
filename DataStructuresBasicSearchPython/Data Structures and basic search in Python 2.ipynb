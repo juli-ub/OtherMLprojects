{
 "cells": [
  {
   "cell_type": "markdown",
   "id": "1bcd442b",
   "metadata": {},
   "source": [
    "# Data Structures and basic search in Python"
   ]
  },
  {
   "cell_type": "markdown",
   "id": "b7f4a294",
   "metadata": {},
   "source": [
    "* [Stack](#chapter1)\n",
    "    * [Depth-First Search (Stack)](#section_1_1)\n",
    "    * [DFS networkX](#section_1_2)\n",
    "    * [Python LifoQueue (~ Stack)](#section_1_3)\n",
    "* [Deque](#chapter2)\n",
    "    * [Breadth-First Search (Deque)](#section_2_1)\n",
    "* [Priority Queue](#chapter3)\n",
    "* [Heap](#chapter4)\n",
    "    * [Heapsort vs Quicksort](#section_3_1)\n",
    "    * [Binary Search Trees](#section_3_2)\n",
    "    * [Dijkstra Algorithm](#section_3_3)\n",
    "* [Summary](#chapter5)"
   ]
  },
  {
   "cell_type": "markdown",
   "id": "4a2e373c",
   "metadata": {},
   "source": [
    "<font color=blue >[Python Big O Notation] (https://wiki.python.org/moin/TimeComplexity)</font> "
   ]
  },
  {
   "cell_type": "markdown",
   "id": "f932cd51",
   "metadata": {},
   "source": [
    "# Stack <a class=\"anchor\" id=\"chapter1\"></a>"
   ]
  },
  {
   "cell_type": "markdown",
   "id": "3d18aba4",
   "metadata": {},
   "source": [
    "- stack is a linear data structure that follows the principle of Last In First Out (LIFO) (last element inserted inside the stack is removed first)"
   ]
  },
  {
   "cell_type": "markdown",
   "id": "e6d9623c",
   "metadata": {},
   "source": [
    "- example implementation of stack using classes: https://www.tutorialspoint.com/python_data_structure/python_stack.htm"
   ]
  },
  {
   "attachments": {
    "stack.webp": {
     "image/webp": "[encoded data removed]"
    }
   },
   "cell_type": "markdown",
   "id": "04996f09",
   "metadata": {},
   "source": [
    "![stack.webp](attachment:stack.webp)"
   ]
  },
  {
   "cell_type": "code",
   "execution_count": 1,
   "id": "65714613",
   "metadata": {},
   "outputs": [
    {
     "data": {
      "text/plain": [
       "['Akbar', 'Alice', 'Amar', 'Anthony', 'Ben', 'Cedric', 'Luna', 'Richard']"
      ]
     },
     "execution_count": 1,
     "metadata": {},
     "output_type": "execute_result"
    }
   ],
   "source": [
    "stack = ['Akbar','Alice','Amar', 'Anthony', 'Ben', 'Cedric', 'Luna','Richard']\n",
    "stack"
   ]
  },
  {
   "cell_type": "code",
   "execution_count": 2,
   "id": "75f701b3",
   "metadata": {},
   "outputs": [
    {
     "data": {
      "text/plain": [
       "['Akbar', 'Alice', 'Amar', 'Anthony', 'Ben', 'Cedric', 'Luna']"
      ]
     },
     "execution_count": 2,
     "metadata": {},
     "output_type": "execute_result"
    }
   ],
   "source": [
    "stack.pop() # O(1)\n",
    "stack"
   ]
  },
  {
   "cell_type": "code",
   "execution_count": 3,
   "id": "cc306803",
   "metadata": {},
   "outputs": [
    {
     "data": {
      "text/plain": [
       "['Akbar', 'Alice', 'Amar', 'Anthony', 'Ben', 'Luna']"
      ]
     },
     "execution_count": 3,
     "metadata": {},
     "output_type": "execute_result"
    }
   ],
   "source": [
    "stack.pop(-2) # ~ O(2)\n",
    "stack"
   ]
  },
  {
   "cell_type": "code",
   "execution_count": 4,
   "id": "641e807b",
   "metadata": {},
   "outputs": [
    {
     "data": {
      "text/plain": [
       "['Akbar', 'Alice', 'Amar', 'Anthony', 'Ben', 'Luna', 'Iris']"
      ]
     },
     "execution_count": 4,
     "metadata": {},
     "output_type": "execute_result"
    }
   ],
   "source": [
    "stack.append('Iris') # O(1)\n",
    "stack"
   ]
  },
  {
   "cell_type": "code",
   "execution_count": 5,
   "id": "8c9f1ced",
   "metadata": {},
   "outputs": [
    {
     "data": {
      "text/plain": [
       "['Akbar', 'Alice', 'Amar', 'Anthony', 'Ben', 'Luna', 'Iris', 'Iris']"
      ]
     },
     "execution_count": 5,
     "metadata": {},
     "output_type": "execute_result"
    }
   ],
   "source": [
    "stack.append('Iris') # O(1)\n",
    "stack"
   ]
  },
  {
   "cell_type": "code",
   "execution_count": 6,
   "id": "74b100d3",
   "metadata": {},
   "outputs": [
    {
     "data": {
      "text/plain": [
       "['Alice', 'Amar', 'Anthony', 'Ben', 'Luna', 'Iris', 'Iris']"
      ]
     },
     "execution_count": 6,
     "metadata": {},
     "output_type": "execute_result"
    }
   ],
   "source": [
    "stack.pop(0) # O(n)\n",
    "stack"
   ]
  },
  {
   "cell_type": "markdown",
   "id": "f14e96d8",
   "metadata": {},
   "source": [
    "- all the elements in the list are physically moved one position to the left # O(n)\n",
    "- up to here basically a list \n",
    "- Python documentation: https://docs.python.org/3/tutorial/datastructures.html"
   ]
  },
  {
   "cell_type": "markdown",
   "id": "5c33e944",
   "metadata": {},
   "source": [
    "Why use a stack?\n",
    "- Stacks are simple data structures that allow us to store and retrieve data sequentially\n",
    "- Stacks make excellent mechanisms for temporary storage of information within procedures \n",
    "  (they allow recursive invocations of procedures without risk of \n",
    "   destroying data from previous invocations of the routine)"
   ]
  },
  {
   "cell_type": "markdown",
   "id": "81af3d4d",
   "metadata": {},
   "source": [
    "Applications of stack:\n",
    "- Back/Forward stacks on browsers (https://cse.buffalo.edu/~shapiro/Courses/CSE116/notes10.html)\n",
    "- allowing users to backtrack their actions until the beginning of the session \n",
    "- temporary storage of information within procedures"
   ]
  },
  {
   "cell_type": "markdown",
   "id": "c7c7c1f3",
   "metadata": {},
   "source": [
    "## Depth-First Search (Stack) <a class=\"anchor\" id=\"section_1_1\"></a>"
   ]
  },
  {
   "cell_type": "markdown",
   "id": "3a9189dc",
   "metadata": {},
   "source": [
    "![DFSUrl](https://www3.cs.stonybrook.edu/~skiena/combinatorica/animations/anim/dfs.gif \"DFS\")"
   ]
  },
  {
   "cell_type": "code",
   "execution_count": 7,
   "id": "5578288b",
   "metadata": {},
   "outputs": [],
   "source": [
    "graph_dict = {'A': (['B', 'C']),\n",
    "         'B': (['A', 'D', 'E']),\n",
    "         'C': (['A', 'F']),\n",
    "         'D': (['B']),\n",
    "         'E': (['B', 'F']),\n",
    "         'F': (['C', 'E'])}"
   ]
  },
  {
   "cell_type": "code",
   "execution_count": 8,
   "id": "ad53c3b7",
   "metadata": {},
   "outputs": [],
   "source": [
    "%matplotlib inline\n",
    "import networkx as nx\n",
    "import matplotlib.pyplot as plt"
   ]
  },
  {
   "cell_type": "code",
   "execution_count": 9,
   "id": "14e6fb90",
   "metadata": {},
   "outputs": [
    {
     "data": {
      "image/png": "[encoded data removed]",
      "text/plain": [
       "<Figure size 648x432 with 1 Axes>"
      ]
     },
     "metadata": {},
     "output_type": "display_data"
    }
   ],
   "source": [
    "gd1 = nx.from_dict_of_lists(graph_dict)\n",
    "plt.figure(3,figsize=(9,6)) \n",
    "nx.draw_networkx(gd1, with_labels=True, node_color='cyan', node_size=300)\n",
    "plt.show()"
   ]
  },
  {
   "cell_type": "code",
   "execution_count": 10,
   "id": "4f0e0d1a",
   "metadata": {},
   "outputs": [],
   "source": [
    "def dfs(graph, initial):\n",
    "    explored, stack = list(), [initial]  # stack == frontier\n",
    "    while stack:\n",
    "        state = stack.pop()\n",
    "        if state not in explored:\n",
    "            explored.append(state)\n",
    "            stack.extend([neighbor for neighbor in graph[state]\n",
    "                          if not ((neighbor in stack) or (neighbor in explored))])\n",
    "    return explored"
   ]
  },
  {
   "cell_type": "code",
   "execution_count": 11,
   "id": "7d2fd32a",
   "metadata": {},
   "outputs": [
    {
     "name": "stdout",
     "output_type": "stream",
     "text": [
      "A DFS traversal starting from 'A': ['A', 'C', 'F', 'E', 'B', 'D']\n",
      "A DFS traversal starting from 'E': ['E', 'F', 'C', 'A', 'B', 'D']\n"
     ]
    }
   ],
   "source": [
    "print(\"A DFS traversal starting from 'A': {}\".format(dfs(graph_dict, 'A')))\n",
    "print(\"A DFS traversal starting from 'E': {}\".format(dfs(graph_dict, 'E')))"
   ]
  },
  {
   "cell_type": "markdown",
   "id": "f338d229",
   "metadata": {},
   "source": [
    "## DFS networkX <a class=\"anchor\" id=\"section_1_2\"></a>"
   ]
  },
  {
   "cell_type": "code",
   "execution_count": 12,
   "id": "1c8f6447",
   "metadata": {},
   "outputs": [],
   "source": [
    "romania_graph = {'Arad': ['Zerind', 'Sibiu', 'Timisoara'],\n",
    "               'Bucharest': ['Urziceni', 'Pitesti', 'Giurgiu', 'Fagaras'],\n",
    "               'Craiova': ['Drobeta', 'Rimnicu', 'Pitesti'],\n",
    "               'Drobeta': ['Craiova', 'Mehadia'],\n",
    "               'Eforie': ['Hirsova'],\n",
    "               'Fagaras': ['Bucharest', 'Sibiu'],\n",
    "               'Giurgiu': ['Bucharest'],\n",
    "               'Hirsova': ['Eforie', 'Urziceni'],\n",
    "               'Iasi': ['Vaslui', 'Neamt'],\n",
    "               'Lugoj': ['Timisoara', 'Mehadia'],\n",
    "               'Mehadia': ['Drobeta', 'Lugoj'],\n",
    "               'Neamt': ['Iasi'],\n",
    "               'Oradea': ['Zerind', 'Sibiu'],\n",
    "               'Pitesti': ['Bucharest', 'Craiova', 'Rimnicu'],\n",
    "               'Rimnicu': ['Craiova', 'Pitesti', 'Sibiu'],\n",
    "               'Sibiu': ['Arad', 'Fagaras', 'Oradea', 'Rimnicu'],\n",
    "               'Timisoara': ['Arad', 'Lugoj'],\n",
    "               'Urziceni': ['Bucharest', 'Hirsova', 'Vaslui'],\n",
    "               'Vaslui': ['Iasi', 'Urziceni'],\n",
    "               'Zerind': ['Arad', 'Oradea']}"
   ]
  },
  {
   "cell_type": "code",
   "execution_count": 13,
   "id": "198145ae",
   "metadata": {},
   "outputs": [
    {
     "data": {
      "image/png": "[encoded data removed]",
      "text/plain": [
       "<Figure size 864x648 with 1 Axes>"
      ]
     },
     "metadata": {},
     "output_type": "display_data"
    }
   ],
   "source": [
    "R = nx.from_dict_of_lists(romania_graph)\n",
    "plt.figure(3,figsize=(12,9)) \n",
    "nx.draw_networkx(R, with_labels=True, node_color='yellow', node_size=300)\n",
    "plt.show()"
   ]
  },
  {
   "cell_type": "code",
   "execution_count": 14,
   "id": "ac1bc953",
   "metadata": {},
   "outputs": [
    {
     "data": {
      "text/plain": [
       "[('Sibiu', 'Arad'),\n",
       " ('Arad', 'Zerind'),\n",
       " ('Zerind', 'Oradea'),\n",
       " ('Arad', 'Timisoara'),\n",
       " ('Timisoara', 'Lugoj'),\n",
       " ('Sibiu', 'Fagaras'),\n",
       " ('Fagaras', 'Bucharest'),\n",
       " ('Bucharest', 'Urziceni'),\n",
       " ('Bucharest', 'Pitesti'),\n",
       " ('Bucharest', 'Giurgiu'),\n",
       " ('Sibiu', 'Rimnicu'),\n",
       " ('Rimnicu', 'Craiova'),\n",
       " ('Craiova', 'Drobeta')]"
      ]
     },
     "execution_count": 14,
     "metadata": {},
     "output_type": "execute_result"
    }
   ],
   "source": [
    "list(nx.dfs_edges(R, source='Sibiu', depth_limit=3))"
   ]
  },
  {
   "cell_type": "markdown",
   "id": "3e130533",
   "metadata": {},
   "source": [
    "## Python LifoQueue (~ Stack) <a class=\"anchor\" id=\"section_1_3\"></a>"
   ]
  },
  {
   "cell_type": "code",
   "execution_count": 15,
   "id": "93b19374",
   "metadata": {},
   "outputs": [],
   "source": [
    "from queue import LifoQueue"
   ]
  },
  {
   "cell_type": "markdown",
   "id": "7ec4c6c8",
   "metadata": {},
   "source": [
    "- ...thread-safe LIFO Data structure \n",
    "- ...stack operation that are sequential\n",
    "- ...more than one thread accesses it\n",
    "\n",
    "Useful Links:\n",
    "https://www.baeldung.com/java-lifo-thread-safe\n",
    "https://docs.python.org/3/library/queue.html\n",
    "\n",
    "Many time - related operation, e.g. :\n",
    "\n",
    "- Queue.get(block=True, timeout=None)\n",
    "Remove and return an item from the queue. If optional args block is true and timeout is None (the default), block if necessary until an item is available.\n",
    "\n",
    "- Queue.task_done()\n",
    "Indicate that a formerly enqueued task is complete."
   ]
  },
  {
   "cell_type": "markdown",
   "id": "c5f024f2",
   "metadata": {},
   "source": [
    "(more) applications:\n",
    "- Undo: Maintaining changes to an object so that they can be undone or reversed in the order they were applied\n",
    "- Depth-First: Maintaining a list of nodes when navigating a tree or graph in a depth-first manner\n",
    "- Parsers: Maintain a list of expressions in the order they must be executed\n",
    "- Backtracking: Maintain a list of options in the order they were encountered or made available, in case the current option fails\n",
    "- Freshness: Maintain a list of connections or data in the reverse order they were used so the most recent can be acquired when needed\n",
    "\n",
    "--> Conclusion:\n",
    "- <font color=blue > stack-based processing of data is a common building block in many algorithms used in computer science, such as depth-first search, branch and bound, and many more</font>"
   ]
  },
  {
   "cell_type": "code",
   "execution_count": 16,
   "id": "41d88933",
   "metadata": {},
   "outputs": [],
   "source": [
    "# created a size limited queue\n",
    "lifo_queue = LifoQueue(maxsize=1)"
   ]
  },
  {
   "cell_type": "code",
   "execution_count": 17,
   "id": "a2f9b432",
   "metadata": {},
   "outputs": [],
   "source": [
    "# add an item to the queue\n",
    "lifo_queue.put(\"Cedric\", block=True, timeout=None) #choose to not block when adding items by setting the “block” argument to False."
   ]
  },
  {
   "cell_type": "code",
   "execution_count": 18,
   "id": "85f44868",
   "metadata": {},
   "outputs": [
    {
     "data": {
      "text/plain": [
       "True"
      ]
     },
     "execution_count": 18,
     "metadata": {},
     "output_type": "execute_result"
    }
   ],
   "source": [
    "lifo_queue.full()"
   ]
  },
  {
   "cell_type": "code",
   "execution_count": 19,
   "id": "618b8f43",
   "metadata": {},
   "outputs": [
    {
     "data": {
      "text/plain": [
       "1"
      ]
     },
     "execution_count": 19,
     "metadata": {},
     "output_type": "execute_result"
    }
   ],
   "source": [
    "lifo_queue.qsize()"
   ]
  },
  {
   "cell_type": "code",
   "execution_count": 20,
   "id": "193a4d57",
   "metadata": {},
   "outputs": [
    {
     "data": {
      "text/plain": [
       "'Cedric'"
      ]
     },
     "execution_count": 20,
     "metadata": {},
     "output_type": "execute_result"
    }
   ],
   "source": [
    "# get an item from the queue\n",
    "item = lifo_queue.get(block=True, timeout=0)\n",
    "item"
   ]
  },
  {
   "cell_type": "code",
   "execution_count": 21,
   "id": "efedcd0b",
   "metadata": {},
   "outputs": [
    {
     "data": {
      "text/plain": [
       "0"
      ]
     },
     "execution_count": 21,
     "metadata": {},
     "output_type": "execute_result"
    }
   ],
   "source": [
    "lifo_queue.qsize()"
   ]
  },
  {
   "cell_type": "code",
   "execution_count": 22,
   "id": "74ad265f",
   "metadata": {},
   "outputs": [],
   "source": [
    "# check if the queue has space\n",
    "if not lifo_queue.full():\n",
    "    # add an item to the queue\n",
    "    lifo_queue.put_nowait('Adam')"
   ]
  },
  {
   "cell_type": "code",
   "execution_count": 23,
   "id": "d81ed5c1",
   "metadata": {},
   "outputs": [
    {
     "data": {
      "text/plain": [
       "1"
      ]
     },
     "execution_count": 23,
     "metadata": {},
     "output_type": "execute_result"
    }
   ],
   "source": [
    "lifo_queue.qsize()"
   ]
  },
  {
   "cell_type": "markdown",
   "id": "fbe7f78a",
   "metadata": {},
   "source": [
    "- sample implementation in python: https://www.geeksforgeeks.org/stack-in-python/"
   ]
  },
  {
   "cell_type": "markdown",
   "id": "2a0ba23f",
   "metadata": {},
   "source": [
    "## Deque <a class=\"anchor\" id=\"chapter2\"></a>"
   ]
  },
  {
   "cell_type": "markdown",
   "id": "d1bfced3",
   "metadata": {},
   "source": [
    "A double-ended queue (or \"doubly linked list), or deque, has the feature of adding and removing elements from either end\n",
    "\n",
    "Useful links:\n",
    "https://www.tutorialspoint.com/python/python_deque.htm\n",
    "https://docs.python.org/3/library/collections.html"
   ]
  },
  {
   "attachments": {
    "deque.png": {
     "image/png": "[encoded data removed]"
    }
   },
   "cell_type": "markdown",
   "id": "b908faa2",
   "metadata": {},
   "source": [
    "![deque.png](attachment:deque.png)"
   ]
  },
  {
   "cell_type": "code",
   "execution_count": 24,
   "id": "f0adda57",
   "metadata": {},
   "outputs": [],
   "source": [
    "from collections import deque"
   ]
  },
  {
   "cell_type": "code",
   "execution_count": 25,
   "id": "5b0d1683",
   "metadata": {},
   "outputs": [],
   "source": [
    "deque1 = deque(['Alice','Amar', 'Akbar', 'Anthony', 'Ben', 'Cedric', 'Lisa','Richard'])"
   ]
  },
  {
   "cell_type": "code",
   "execution_count": 26,
   "id": "6a10f76e",
   "metadata": {},
   "outputs": [
    {
     "data": {
      "text/plain": [
       "'Alice'"
      ]
     },
     "execution_count": 26,
     "metadata": {},
     "output_type": "execute_result"
    }
   ],
   "source": [
    "deque1.popleft() # 0(1)"
   ]
  },
  {
   "cell_type": "code",
   "execution_count": 27,
   "id": "606dd328",
   "metadata": {},
   "outputs": [
    {
     "data": {
      "text/plain": [
       "deque(['Amar', 'Akbar', 'Anthony', 'Ben', 'Cedric', 'Lisa', 'Richard'])"
      ]
     },
     "execution_count": 27,
     "metadata": {},
     "output_type": "execute_result"
    }
   ],
   "source": [
    "deque1"
   ]
  },
  {
   "cell_type": "code",
   "execution_count": 28,
   "id": "eaf47fd3",
   "metadata": {},
   "outputs": [
    {
     "data": {
      "text/plain": [
       "deque(['Cedric', 'Lisa', 'Richard', 'Amar', 'Akbar', 'Anthony', 'Ben'])"
      ]
     },
     "execution_count": 28,
     "metadata": {},
     "output_type": "execute_result"
    }
   ],
   "source": [
    "deque1.rotate(3) # O(k)\n",
    "deque1"
   ]
  },
  {
   "cell_type": "markdown",
   "id": "896005bc",
   "metadata": {},
   "source": [
    "Sample applications / useful links:\n",
    "\n",
    "- https://www.geeksforgeeks.org/deque-set-1-introduction-applications/\n",
    "- Given an array and an integer K, find the maximum for each and every contiguous subarray of size K.\n",
    "  https://www.geeksforgeeks.org/sliding-window-maximum-maximum-of-all-subarrays-of-size-k/\n",
    "- 0-1 BFS (Breadth-First Search) similiar to Dijkstra, later\n",
    "- scheduling problems https://en.wikipedia.org/wiki/Round-robin_scheduling\n",
    "- thread stealing algorithm https://en.wikipedia.org/wiki/Double-ended_queue#Applications   \n",
    "\n",
    "Conclusion:\n",
    "- Deque similiar to FifoQueue (but \"import Queue\" more for sequential operations)        "
   ]
  },
  {
   "cell_type": "markdown",
   "id": "4895a069",
   "metadata": {},
   "source": [
    "## Breadth-First Search (Deque) <a class=\"anchor\" id=\"section_2_1\"></a>"
   ]
  },
  {
   "cell_type": "markdown",
   "id": "f4771288",
   "metadata": {},
   "source": [
    "![BFSUrl](https://www3.cs.stonybrook.edu/~skiena/combinatorica/animations/anim/bfs.gif \"BFS\")"
   ]
  },
  {
   "cell_type": "code",
   "execution_count": 30,
   "id": "6b4051e3",
   "metadata": {},
   "outputs": [],
   "source": [
    "def bfs(graph, initial):\n",
    "    explored, deque0 = list(), [initial]  # deque == frontier\n",
    "    deque1=deque(deque0)\n",
    "#     print(type(deque1))\n",
    "    while deque1:\n",
    "        state = deque1.popleft()\n",
    "        if state not in explored:\n",
    "            explored.append(state)\n",
    "            deque1.extend([neighbor for neighbor in graph[state]\n",
    "                          if not ((neighbor in deque1) or (neighbor in explored))])\n",
    "    return explored"
   ]
  },
  {
   "cell_type": "code",
   "execution_count": 31,
   "id": "b4bd52a6",
   "metadata": {},
   "outputs": [
    {
     "name": "stdout",
     "output_type": "stream",
     "text": [
      "A BFS traversal starting from 'A': ['A', 'B', 'C', 'D', 'E', 'F']\n",
      "A BFS traversal starting from 'E': ['E', 'B', 'F', 'A', 'D', 'C']\n"
     ]
    }
   ],
   "source": [
    "print(\"A BFS traversal starting from 'A': {}\".format(bfs(graph_dict, 'A')))\n",
    "print(\"A BFS traversal starting from 'E': {}\".format(bfs(graph_dict, 'E')))"
   ]
  },
  {
   "cell_type": "code",
   "execution_count": 32,
   "id": "2071b18c",
   "metadata": {},
   "outputs": [
    {
     "data": {
      "text/plain": [
       "[('Sibiu', 'Arad'),\n",
       " ('Sibiu', 'Fagaras'),\n",
       " ('Sibiu', 'Oradea'),\n",
       " ('Sibiu', 'Rimnicu'),\n",
       " ('Arad', 'Zerind'),\n",
       " ('Arad', 'Timisoara'),\n",
       " ('Fagaras', 'Bucharest'),\n",
       " ('Rimnicu', 'Craiova'),\n",
       " ('Rimnicu', 'Pitesti'),\n",
       " ('Timisoara', 'Lugoj'),\n",
       " ('Bucharest', 'Urziceni'),\n",
       " ('Bucharest', 'Giurgiu'),\n",
       " ('Craiova', 'Drobeta')]"
      ]
     },
     "execution_count": 32,
     "metadata": {},
     "output_type": "execute_result"
    }
   ],
   "source": [
    "list(nx.bfs_edges(R, source='Sibiu', depth_limit=3))"
   ]
  },
  {
   "cell_type": "markdown",
   "id": "aa4f9c71",
   "metadata": {},
   "source": [
    "# Priority Queue <a class=\"anchor\" id=\"chapter3\"></a>"
   ]
  },
  {
   "cell_type": "markdown",
   "id": "0311ed2a",
   "metadata": {},
   "source": [
    "A priority queue sorts and dequeues elements based on their priorities.\n",
    "\n",
    "https://www.educative.io/answers/what-is-the-python-priority-queue\n",
    "\n",
    "A sorting mechanism is required every time a new element is enqueued (internally using a heap, next), O(logn)\n",
    "\n",
    "https://docs.python.org/3/library/queue.html"
   ]
  },
  {
   "attachments": {
    "Priority.webp": {
     "image/webp": "[encoded data removed]"
    }
   },
   "cell_type": "markdown",
   "id": "e0f80eac",
   "metadata": {},
   "source": [
    "![Priority.webp](attachment:Priority.webp)"
   ]
  },
  {
   "cell_type": "code",
   "execution_count": 33,
   "id": "e053fd2a",
   "metadata": {},
   "outputs": [
    {
     "name": "stdout",
     "output_type": "stream",
     "text": [
      "1\n",
      "2\n",
      "3\n",
      "4\n",
      "5\n"
     ]
    }
   ],
   "source": [
    "from queue import PriorityQueue\n",
    "\n",
    "q = PriorityQueue()\n",
    "\n",
    "q.put(4)\n",
    "q.put(2)\n",
    "q.put(5)\n",
    "q.put(1)\n",
    "q.put(3)\n",
    "\n",
    "while not q.empty():\n",
    "    next_item = q.get()\n",
    "    print(next_item)"
   ]
  },
  {
   "cell_type": "markdown",
   "id": "2cb0793e",
   "metadata": {},
   "source": [
    "Applications:\n",
    "- Dijkstra algorithm (shortest distance)\n",
    "- A* search algorithm\n",
    "- scheduling problems\n",
    "- extract largest/smallest element (more on heaps)\n",
    "- load balancing\n",
    "\n",
    "https://www.geeksforgeeks.org/applications-priority-queue/"
   ]
  },
  {
   "cell_type": "markdown",
   "id": "37153f90",
   "metadata": {},
   "source": [
    "# HEAP <a class=\"anchor\" id=\"chapter4\"></a>"
   ]
  },
  {
   "cell_type": "markdown",
   "id": "5ae09f34",
   "metadata": {},
   "source": [
    "- Heap is a special tree structure in which each parent node is less than or equal to its child node. Then it is called a Min Heap\n",
    "- If each parent node is greater than or equal to its child node then it is called a max heap\n",
    "- useful with implementing priority queues where the queue item with higher weightage is given more priority in processing\n",
    "\n",
    "https://www.tutorialspoint.com/python_data_structure/python_heaps.htm"
   ]
  },
  {
   "attachments": {
    "heap.png": {
     "image/png": "[encoded data removed]"
    }
   },
   "cell_type": "markdown",
   "id": "bd9d84c8",
   "metadata": {},
   "source": [
    "![heap.png](attachment:heap.png)"
   ]
  },
  {
   "cell_type": "code",
   "execution_count": 34,
   "id": "3fc61b3e",
   "metadata": {},
   "outputs": [
    {
     "name": "stdout",
     "output_type": "stream",
     "text": [
      "[1, 3, 5, 78, 21, 45]\n"
     ]
    }
   ],
   "source": [
    "import heapq\n",
    "\n",
    "H = [21,1,45,78,3,5]\n",
    "# Use heapify to rearrange the elements\n",
    "heapq.heapify(H)\n",
    "print(H)"
   ]
  },
  {
   "cell_type": "markdown",
   "id": "5cb2d720",
   "metadata": {},
   "source": [
    "<font color=blue >[Heap visualization] (https://www.cs.usfca.edu/~galles/visualization/Heap.html)</font> "
   ]
  },
  {
   "cell_type": "code",
   "execution_count": 35,
   "id": "447b6cf2",
   "metadata": {},
   "outputs": [
    {
     "data": {
      "text/plain": [
       "1"
      ]
     },
     "execution_count": 35,
     "metadata": {},
     "output_type": "execute_result"
    }
   ],
   "source": [
    "# Remove element from the heap\n",
    "heapq.heappop(H)"
   ]
  },
  {
   "cell_type": "code",
   "execution_count": 36,
   "id": "70afd4ed",
   "metadata": {},
   "outputs": [
    {
     "data": {
      "text/plain": [
       "[3, 21, 5, 78, 45]"
      ]
     },
     "execution_count": 36,
     "metadata": {},
     "output_type": "execute_result"
    }
   ],
   "source": [
    "H"
   ]
  },
  {
   "cell_type": "code",
   "execution_count": 37,
   "id": "154fcdbb",
   "metadata": {},
   "outputs": [
    {
     "data": {
      "text/plain": [
       "3"
      ]
     },
     "execution_count": 37,
     "metadata": {},
     "output_type": "execute_result"
    }
   ],
   "source": [
    "# Replace an element\n",
    "heapq.heapreplace(H,6)"
   ]
  },
  {
   "cell_type": "code",
   "execution_count": 38,
   "id": "00421b2d",
   "metadata": {},
   "outputs": [
    {
     "data": {
      "text/plain": [
       "[5, 21, 6, 78, 45]"
      ]
     },
     "execution_count": 38,
     "metadata": {},
     "output_type": "execute_result"
    }
   ],
   "source": [
    "H"
   ]
  },
  {
   "cell_type": "code",
   "execution_count": 39,
   "id": "460d205c",
   "metadata": {},
   "outputs": [
    {
     "data": {
      "text/plain": [
       "5"
      ]
     },
     "execution_count": 39,
     "metadata": {},
     "output_type": "execute_result"
    }
   ],
   "source": [
    "# Push item on the heap, then pop and return the smallest item from the heap\n",
    "heapq.heappushpop(H, 49)"
   ]
  },
  {
   "cell_type": "code",
   "execution_count": 40,
   "id": "8a44ecb1",
   "metadata": {},
   "outputs": [
    {
     "data": {
      "text/plain": [
       "[6, 21, 49, 78, 45]"
      ]
     },
     "execution_count": 40,
     "metadata": {},
     "output_type": "execute_result"
    }
   ],
   "source": [
    "H"
   ]
  },
  {
   "cell_type": "code",
   "execution_count": 41,
   "id": "290d94cc",
   "metadata": {},
   "outputs": [
    {
     "data": {
      "text/plain": [
       "[78, 49, 45]"
      ]
     },
     "execution_count": 41,
     "metadata": {},
     "output_type": "execute_result"
    }
   ],
   "source": [
    "heapq.nlargest(3, H)"
   ]
  },
  {
   "cell_type": "markdown",
   "id": "5f1e07c8",
   "metadata": {},
   "source": [
    "Heap use cases:\n",
    " - same as priority queue (algorithms, scheduling, ..)\n",
    " - Building heap takes O(n) time complexity, whereas building Sorted Array takes O(n * log n)\n",
    " - other operations similiar order statistics benefit (insert, delete, find min even O(1) or constant time)\n",
    " - https://docs.python.org/3/library/heapq.html"
   ]
  },
  {
   "cell_type": "markdown",
   "id": "f3bd30d3",
   "metadata": {},
   "source": [
    "## Heapsort vs Quicksort <a class=\"anchor\" id=\"section_3_1\"></a>"
   ]
  },
  {
   "cell_type": "code",
   "execution_count": 42,
   "id": "6138aa54",
   "metadata": {},
   "outputs": [
    {
     "name": "stdout",
     "output_type": "stream",
     "text": [
      "Wall time: 0 ns\n"
     ]
    },
    {
     "data": {
      "text/plain": [
       "[1, 2, 4, 5, 8, 9, 13, 46, 70, 110]"
      ]
     },
     "execution_count": 42,
     "metadata": {},
     "output_type": "execute_result"
    }
   ],
   "source": [
    "def heapsort(iterable):\n",
    "    h = []\n",
    "    for value in iterable:\n",
    "         heapq.heappush(h, value)\n",
    "    return [heapq.heappop(h) for i in range(len(h))]\n",
    "heapsort([1, 13, 5, 70, 9, 2, 4, 46, 8, 110])"
   ]
  },
  {
   "cell_type": "markdown",
   "id": "69d26a76",
   "metadata": {},
   "source": [
    "- https://stackabuse.com/quicksort-in-python/ - divide and conquer\n",
    "- heapsort worst case (O(n*logn)) much better than quicksort worst case (O(n * n))\n",
    "- https://stackabuse.com/heap-sort-in-python/"
   ]
  },
  {
   "cell_type": "code",
   "execution_count": 44,
   "id": "c1e68469",
   "metadata": {},
   "outputs": [],
   "source": [
    "import random\n",
    "import numpy as np\n",
    "import time\n",
    "import pandas as pd"
   ]
  },
  {
   "cell_type": "code",
   "execution_count": 45,
   "id": "34022829",
   "metadata": {},
   "outputs": [],
   "source": [
    "numbers = [random.randint(1,1000) for x in range(100000)]"
   ]
  },
  {
   "cell_type": "code",
   "execution_count": 46,
   "id": "367b0baf",
   "metadata": {},
   "outputs": [
    {
     "name": "stdout",
     "output_type": "stream",
     "text": [
      "Wall time: 13 ms\n"
     ]
    },
    {
     "data": {
      "text/plain": [
       "array([1000, 1000, 1000, 1000, 1000, 1000, 1000, 1000, 1000, 1000])"
      ]
     },
     "execution_count": 46,
     "metadata": {},
     "output_type": "execute_result"
    }
   ],
   "source": [
    "%%time\n",
    "numbers_np=np.array(numbers)\n",
    "indices=numbers_np.argsort()[-10:]\n",
    "numbers_np[indices]"
   ]
  },
  {
   "cell_type": "code",
   "execution_count": 47,
   "id": "6b878241",
   "metadata": {},
   "outputs": [
    {
     "name": "stdout",
     "output_type": "stream",
     "text": [
      "Wall time: 7.96 ms\n"
     ]
    },
    {
     "data": {
      "text/plain": [
       "[1000, 1000, 1000, 1000, 1000, 1000, 1000, 1000, 1000, 1000]"
      ]
     },
     "execution_count": 47,
     "metadata": {},
     "output_type": "execute_result"
    }
   ],
   "source": [
    "%%time\n",
    "heapq.nlargest(10,numbers)"
   ]
  },
  {
   "cell_type": "code",
   "execution_count": 48,
   "id": "6a1c2c6c",
   "metadata": {},
   "outputs": [
    {
     "name": "stdout",
     "output_type": "stream",
     "text": [
      "      quicksort  mergesort  heapsort\n",
      "time   0.023251   0.019995  0.019242\n"
     ]
    }
   ],
   "source": [
    "time_dict={}\n",
    "algo=['quicksort', 'mergesort', 'heapsort']\n",
    "for i in algo:\n",
    "    start = time.time()\n",
    "    np.sort(numbers, kind=i)[:10]    \n",
    "    stop = time.time()\n",
    "    duration = stop-start\n",
    "    time_dict[i]= duration\n",
    "time_pd=pd.DataFrame(time_dict, index=['time'])\n",
    "print(time_pd)"
   ]
  },
  {
   "cell_type": "markdown",
   "id": "05034630",
   "metadata": {},
   "source": [
    "- https://numpy.org/doc/stable/reference/generated/numpy.sort.html\n",
    "- Merge Sort is another Divide and Conquer algorithm\n",
    "- https://stackoverflow.com/questions/10337533/a-fast-way-to-find-the-largest-n-elements-in-an-numpy-array"
   ]
  },
  {
   "cell_type": "markdown",
   "id": "43e5fe8b",
   "metadata": {},
   "source": [
    "# Binary Search Trees <a class=\"anchor\" id=\"section_3_2\"></a>"
   ]
  },
  {
   "cell_type": "markdown",
   "id": "0afd22f4",
   "metadata": {},
   "source": [
    "- The left subtree of a node contains only nodes with keys lesser than the node’s key\n",
    "- The right subtree of a node contains only nodes with keys greater than the node’s key\n",
    "- The left and right subtree each must also be a binary search tree\n",
    "- There must be no duplicate nodes"
   ]
  },
  {
   "attachments": {
    "BSTSearch.png": {
     "image/png": "[encoded data removed]"
    }
   },
   "cell_type": "markdown",
   "id": "1fa18833",
   "metadata": {},
   "source": [
    "![BSTSearch.png](attachment:BSTSearch.png)"
   ]
  },
  {
   "cell_type": "markdown",
   "id": "9c0689da",
   "metadata": {},
   "source": [
    "Sample implementations:\n",
    "\n",
    "- https://blog.boot.dev/computer-science/binary-search-tree-in-python/\n",
    "- https://www.tutorialspoint.com/python_data_structure/python_binary_search_tree.htm (search)\n",
    "\n",
    "Performance:  \n",
    "- insert,  search, delete: average O(logn), worst case (O(n)) \n",
    "- balanced binary search tree (BST) worst case: O(n)\n",
    "- BST = height between bottom leaves not differ by more than 1    "
   ]
  },
  {
   "cell_type": "markdown",
   "id": "097226e9",
   "metadata": {},
   "source": [
    "What is difference between binary heap and binary search tree?\n",
    "\n",
    "- Duplication in binary heaps is allowed because nodes <= root\n",
    "- heaps are complete BST (except for last level all levels are filled)\n",
    "- heaps can be created in linear time O(n) while the BST takes O (N * log ( N ) ) to build\n",
    "\n",
    "https://www.codingninjas.com/codestudio/library/why-binary-heap-is-better-than-binary-search-tree-bst-for-priority-queues"
   ]
  },
  {
   "cell_type": "markdown",
   "id": "4e1763e2",
   "metadata": {},
   "source": [
    "# Dijkstra Algorithm  <a class=\"anchor\" id=\"section_3_3\"></a>"
   ]
  },
  {
   "cell_type": "markdown",
   "id": "f9bf2e7a",
   "metadata": {},
   "source": [
    "- weighted edges ~ cost function\n",
    "\n",
    "- start at vertex $A$ in a graph and traverse an efficient path (as measured by summing edge weights) to terminate at some different vertex $B$\n",
    "\n",
    "Process:\n",
    "\n",
    "1. Create *unvisited set* of all nodes\n",
    "\n",
    "2. Set distance from $A$ to $0$ for the initial/current node and to $+\\infty$ for all other nodes.\n",
    "<a id=\"dijkstra-3\"></a>\n",
    "\n",
    "3. For the current node, calculate all distances from $A$ to unvisited neighbours; compare, select smallest distance (Relaxation)\n",
    "\n",
    "4. Remove all considered nodes from unvisited set (don't check these again) \n",
    "\n",
    "5. Set node with (new) smallest tentative distance as \"current node\", go back to step 3\n",
    "\n",
    "(from [Wikipedia Commons](https://commons.wikimedia.org/wiki/Main_Page)) \n",
    "\n",
    "<center>\n",
    "<img src = \"https://upload.wikimedia.org/wikipedia/commons/2/23/Dijkstras_progress_animation.gif\" />\n",
    "    </center>"
   ]
  },
  {
   "cell_type": "markdown",
   "id": "d4103dab",
   "metadata": {},
   "source": [
    "- another explanation: https://www.geeksforgeeks.org/dijkstras-shortest-path-algorithm-greedy-algo-7/"
   ]
  },
  {
   "cell_type": "code",
   "execution_count": 50,
   "id": "782096ed",
   "metadata": {},
   "outputs": [],
   "source": [
    "def relax_dijkstra(G, start, neighbor, D, P):\n",
    "    '''\n",
    "    This function updates the distance & predecessor dictionaries\n",
    "    D & P by comparing their putative distances to the start vertex.\n",
    "    ------\n",
    "    G: Graph as dict of dicts\n",
    "    start: start vertex\n",
    "    neighbor: neighbor vertex\n",
    "    D: dict of dicts keeping track of distances\n",
    "    P: predecessor dictionary to track shortest path trees\n",
    "    '''\n",
    "    # Convenient shorthand for infinity\n",
    "    inf = float('inf')\n",
    "    # Shortcut estimate\n",
    "    d = D.get(start, inf) + G[start][neighbor]\n",
    "    print(\"d:\",d)\n",
    "    print(\"Start:\",start)\n",
    "    # Compare shortcut to existing distance\n",
    "    if d < D.get(neighbor, inf):\n",
    "        # Update D and P accordingly\n",
    "        D[neighbor], P[neighbor] = d, start\n",
    "        print(\"D:\",D,\"P:\", P)\n",
    "        return True"
   ]
  },
  {
   "cell_type": "code",
   "execution_count": 51,
   "id": "02883680",
   "metadata": {},
   "outputs": [],
   "source": [
    "graph_dij = {'a': {'b': 3, 'd': 1},\n",
    "     'b': {'a': 3, 'c': 2},\n",
    "     'c': {'b': 2, 'f': 5},\n",
    "     'd': {'a': 1, 'e': 8, 'f': 12},\n",
    "     'e': {'d': 8, 'f': 4},\n",
    "     'f': {'c': 5, 'd': 12, 'e': 4}}"
   ]
  },
  {
   "cell_type": "code",
   "execution_count": 52,
   "id": "6d92833c",
   "metadata": {},
   "outputs": [
    {
     "data": {
      "image/png": "[encoded data removed]",
      "text/plain": [
       "<Figure size 648x432 with 1 Axes>"
      ]
     },
     "metadata": {},
     "output_type": "display_data"
    }
   ],
   "source": [
    "# Dij = nx.from_dict_of_lists(graph_dij)\n",
    "edges = [['a', 'b'],['a','d'], ['b', 'c'],['c','f'], ['d', 'a'],['d','e'],['d','f'],['e','f'],['f','c']]\n",
    "Dij = nx.Graph()\n",
    "Dij.add_edges_from(edges)\n",
    "pos = nx.spring_layout(Dij)\n",
    "plt.figure(3,figsize=(9,6)) \n",
    "nx.draw_networkx(Dij, pos, with_labels=True, node_color='cyan', node_size=300)\n",
    "nx.draw_networkx_edge_labels(\n",
    "    Dij, pos,\n",
    "    edge_labels={('a','b'):3,('a','d'):1,('c','b'):2,('c','f'):5,('e','d'):8,('e','f'):4,('f','c'):5,('d','f'):12},\n",
    "    font_color='red')\n",
    "plt.show()"
   ]
  },
  {
   "cell_type": "code",
   "execution_count": 53,
   "id": "c9ddf477",
   "metadata": {},
   "outputs": [],
   "source": [
    "def setup_dijkstra(start):\n",
    "    '''Initialize data structures for Dijkstra's algorithm\n",
    "    INPUT:\n",
    "      start: label of initial vertex\n",
    "    OUTPUT:\n",
    "      D: Dict of distances: initialize with start->0\n",
    "      P: Dict for predecessors (traversal tree, initially empty)\n",
    "      Q: Priority queue (list) of tuples of form (distance, vertex)\n",
    "         Initialize with tuple (0, start)\n",
    "      S: Set for visited vertices (initially empty)\n",
    "    '''\n",
    "    D={start:0}\n",
    "    P={}\n",
    "    Q=[(0,start)]\n",
    "    S=set()\n",
    "    return D, P, Q, S"
   ]
  },
  {
   "cell_type": "code",
   "execution_count": 54,
   "id": "76464d05",
   "metadata": {},
   "outputs": [],
   "source": [
    "def dijkstra(graph, start):\n",
    "    '''\n",
    "    This function implements Dijkstra's algorithm on a graph,\n",
    "    determining shortest distances from start to all vertices\n",
    "    in the graph.\n",
    "    INPUT:\n",
    "    graph: dict of dicts to represent weighted graph\n",
    "    start: starting vertex\n",
    "    OUTPUT:\n",
    "    D : dict of distances of each vertex to start\n",
    "    P : dict of predecessors (for paths back to start) \n",
    "    Example:\n",
    "    G = {'a': {'b': 3, 'd': 1},\n",
    "         'b': {'a': 3, 'c': 2},\n",
    "         'c': {'b': 2, 'f': 5},\n",
    "         'd': {'a': 1, 'e': 8, 'f': 12},\n",
    "         'e': {'d': 8, 'f': 4},\n",
    "         'f': {'c': 5, 'd': 12, 'e': 4}}\n",
    "    dijkstra(G, 'a') ====> (D, P) where\n",
    "      ({'a': 0, 'b': 3, 'c': 5, 'd': 1, 'e': 9, 'f': 10},\n",
    "       {'b': 'a', 'c': 'b', 'd': 'a', 'e': 'd', 'f': 'c'})\n",
    "    '''\n",
    "    D, P, Q, S = setup_dijkstra(start)\n",
    "    while Q:                              # Unprocessed nodes?\n",
    "        _, u = heapq.heappop(Q)                   # Get closest node\n",
    "        if u in S: continue                 # If visited skip\n",
    "        S.add(u)                            # Visit otherwise\n",
    "        for v in graph[u]:                  # Examine neighbors\n",
    "            relax_dijkstra(graph, u, v, D, P) # Relax edges\n",
    "      ### INSERT MISSING LINE HERE\n",
    "            heapq.heappush(Q,(D[v],v))\n",
    "    return D,  P\n"
   ]
  },
  {
   "cell_type": "code",
   "execution_count": 58,
   "id": "a2bd4ab3",
   "metadata": {},
   "outputs": [
    {
     "name": "stdout",
     "output_type": "stream",
     "text": [
      "d: 3\n",
      "Start: a\n",
      "D: {'a': 0, 'b': 3} P: {'b': 'a'}\n",
      "d: 1\n",
      "Start: a\n",
      "D: {'a': 0, 'b': 3, 'd': 1} P: {'b': 'a', 'd': 'a'}\n",
      "d: 2\n",
      "Start: d\n",
      "d: 9\n",
      "Start: d\n",
      "D: {'a': 0, 'b': 3, 'd': 1, 'e': 9} P: {'b': 'a', 'd': 'a', 'e': 'd'}\n",
      "d: 13\n",
      "Start: d\n",
      "D: {'a': 0, 'b': 3, 'd': 1, 'e': 9, 'f': 13} P: {'b': 'a', 'd': 'a', 'e': 'd', 'f': 'd'}\n",
      "d: 6\n",
      "Start: b\n",
      "d: 5\n",
      "Start: b\n",
      "D: {'a': 0, 'b': 3, 'd': 1, 'e': 9, 'f': 13, 'c': 5} P: {'b': 'a', 'd': 'a', 'e': 'd', 'f': 'd', 'c': 'b'}\n",
      "d: 7\n",
      "Start: c\n",
      "d: 10\n",
      "Start: c\n",
      "D: {'a': 0, 'b': 3, 'd': 1, 'e': 9, 'f': 10, 'c': 5} P: {'b': 'a', 'd': 'a', 'e': 'd', 'f': 'c', 'c': 'b'}\n",
      "d: 17\n",
      "Start: e\n",
      "d: 13\n",
      "Start: e\n",
      "d: 15\n",
      "Start: f\n",
      "d: 22\n",
      "Start: f\n",
      "d: 14\n",
      "Start: f\n"
     ]
    },
    {
     "data": {
      "text/plain": [
       "({'a': 0, 'b': 3, 'd': 1, 'e': 9, 'f': 10, 'c': 5},\n",
       " {'b': 'a', 'd': 'a', 'e': 'd', 'f': 'c', 'c': 'b'})"
      ]
     },
     "execution_count": 58,
     "metadata": {},
     "output_type": "execute_result"
    }
   ],
   "source": [
    "dijkstra(graph_dij, 'a')\n",
    "#d Shortcut estimate\n",
    "#D: dict of dicts keeping track of distances\n",
    "#P: predecessor dictionary to track shortest path trees"
   ]
  },
  {
   "cell_type": "code",
   "execution_count": 59,
   "id": "18224d3f",
   "metadata": {},
   "outputs": [
    {
     "name": "stdout",
     "output_type": "stream",
     "text": [
      "['Urziceni', 'Bucharest', 'Pitesti', 'Craiova', 'Drobeta', 'Mehadia']\n"
     ]
    }
   ],
   "source": [
    "print(nx.shortest_path(R, source='Urziceni', target='Mehadia'))"
   ]
  },
  {
   "cell_type": "markdown",
   "id": "52f3cbb3",
   "metadata": {},
   "source": [
    "# Summary <a class=\"anchor\" id=\"chapter5\"></a>"
   ]
  },
  {
   "cell_type": "markdown",
   "id": "2b0f93d1",
   "metadata": {},
   "source": [
    "- what stacks, queues and heaps are\n",
    "- data structures can be important for performance\n",
    "- where data structures are used (applications: BFS, DFS, Dijkstra)\n",
    "- how this is done in python"
   ]
  },
  {
   "cell_type": "code",
   "execution_count": 60,
   "id": "be72a07b",
   "metadata": {},
   "outputs": [],
   "source": [
    "# A* search\n",
    "\n",
    "# - *heuristic function* $h$: \n",
    "#     - helps in choosing the node progression \n",
    "#     - eliminates some of the work that Dijkstra's algorithm requires\n",
    "\n",
    "# -  focus on the goal state of the traversal and trim the amount of routes considered\n",
    "\n",
    "# <center>\n",
    "#     <img src = 'https://upload.wikimedia.org/wikipedia/commons/5/5d/Astar_progress_animation.gif'/>\n",
    "# </center>"
   ]
  }
 ],
 "metadata": {
  "kernelspec": {
   "display_name": "Python 3 (ipykernel)",
   "language": "python",
   "name": "python3"
  },
  "language_info": {
   "codemirror_mode": {
    "name": "ipython",
    "version": 3
   },
   "file_extension": ".py",
   "mimetype": "text/x-python",
   "name": "python",
   "nbconvert_exporter": "python",
   "pygments_lexer": "ipython3",
   "version": "3.8.12"
  }
 },
 "nbformat": 4,
 "nbformat_minor": 5
}
