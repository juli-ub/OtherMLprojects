{
 "cells": [
  {
   "cell_type": "code",
   "execution_count": 1,
   "metadata": {},
   "outputs": [
    {
     "name": "stderr",
     "output_type": "stream",
     "text": [
      "Using TensorFlow backend.\n"
     ]
    }
   ],
   "source": [
    "from keras import models\n",
    "from keras import layers,datasets"
   ]
  },
  {
   "cell_type": "code",
   "execution_count": 2,
   "metadata": {},
   "outputs": [],
   "source": [
    "from keras import losses"
   ]
  },
  {
   "cell_type": "code",
   "execution_count": 3,
   "metadata": {},
   "outputs": [],
   "source": [
    "from tensorflow.keras.preprocessing.image import ImageDataGenerator"
   ]
  },
  {
   "cell_type": "code",
   "execution_count": 4,
   "metadata": {},
   "outputs": [],
   "source": [
    "from keras import callbacks"
   ]
  },
  {
   "cell_type": "code",
   "execution_count": 5,
   "metadata": {},
   "outputs": [],
   "source": [
    "import keras"
   ]
  },
  {
   "cell_type": "code",
   "execution_count": 6,
   "metadata": {},
   "outputs": [],
   "source": [
    "import os\n",
    "import matplotlib.pyplot as plt\n",
    "%matplotlib inline\n",
    "import matplotlib.image as mpimg\n",
    "from matplotlib.image import imread"
   ]
  },
  {
   "cell_type": "code",
   "execution_count": 7,
   "metadata": {},
   "outputs": [],
   "source": [
    "from PIL import Image\n",
    "from numpy import asarray"
   ]
  },
  {
   "cell_type": "code",
   "execution_count": 8,
   "metadata": {},
   "outputs": [],
   "source": [
    "import numpy as np\n",
    "import pandas as pd"
   ]
  },
  {
   "cell_type": "code",
   "execution_count": 9,
   "metadata": {},
   "outputs": [],
   "source": [
    "from sklearn.preprocessing import StandardScaler\n",
    "from sklearn.preprocessing import OneHotEncoder"
   ]
  },
  {
   "cell_type": "code",
   "execution_count": 10,
   "metadata": {},
   "outputs": [],
   "source": [
    "from sklearn import decomposition"
   ]
  },
  {
   "cell_type": "code",
   "execution_count": 11,
   "metadata": {},
   "outputs": [
    {
     "name": "stdout",
     "output_type": "stream",
     "text": [
      "Found 15 images belonging to 3 classes.\n",
      "Found 6 images belonging to 3 classes.\n"
     ]
    }
   ],
   "source": [
    "train_datagen = ImageDataGenerator(\n",
    "        shear_range=0.1,\n",
    "        zoom_range=0.1,\n",
    "        horizontal_flip=True)\n",
    "train_generator = train_datagen.flow_from_directory(\n",
    "        './train_birds0',\n",
    "        target_size=(224, 224),\n",
    "        batch_size=32,\n",
    "        class_mode='categorical')\n",
    "val_datagen = ImageDataGenerator(\n",
    "        shear_range=0.1,\n",
    "        zoom_range=0.1,\n",
    "        horizontal_flip=True)\n",
    "val_generator = val_datagen.flow_from_directory(\n",
    "        './val_birds0',\n",
    "        target_size=(224, 224),\n",
    "        batch_size=32,\n",
    "        class_mode='categorical')"
   ]
  },
  {
   "cell_type": "code",
   "execution_count": 12,
   "metadata": {},
   "outputs": [
    {
     "data": {
      "text/plain": [
       "2"
      ]
     },
     "execution_count": 12,
     "metadata": {},
     "output_type": "execute_result"
    }
   ],
   "source": [
    "len(train_generator[0])"
   ]
  },
  {
   "cell_type": "code",
   "execution_count": 13,
   "metadata": {},
   "outputs": [],
   "source": [
    "class Conv_build():\n",
    "    def __init__(self, fltr,k):\n",
    "        self.fltr=fltr\n",
    "        self.k=k\n",
    "        self.model=self.build_model()\n",
    "#         self.fit=self.fit(self.model)\n",
    "    \n",
    "    def build_model(self):\n",
    "        model = models.Sequential()\n",
    "    \n",
    "        model.add(layers.Conv2D(self.fltr*1, (self.k, self.k), activation='relu', input_shape=(224,224,3)))\n",
    "        model.add(layers.Conv2D(self.fltr*1, (self.k, self.k), activation='relu'))\n",
    "        return model   "
   ]
  },
  {
   "cell_type": "code",
   "execution_count": 14,
   "metadata": {},
   "outputs": [],
   "source": [
    "class add_lyrs(Conv_build):\n",
    "    def __init__(self, fltr,k,model):\n",
    "        super().__init__(fltr,k)\n",
    "        self.model=model\n",
    "        \n",
    "    def add_lyr(self,fac):\n",
    "        self.fac=fac\n",
    "        self.model.add(layers.Conv2D(self.fltr*self.fac, (self.k, self.k), activation='relu'))\n",
    "        return self.model   \n",
    "    \n",
    "    def add_pool(self):\n",
    "        self.model.add(layers.MaxPooling2D((2, 2)))\n",
    "        return self.model\n",
    "    \n",
    "    def add_cnn(self):\n",
    "        self.model.add(layers.Flatten())\n",
    "        self.model.add(layers.Dense(self.fltr*2,activation='relu'))        \n",
    "        return self.model\n",
    "    \n",
    "    def add_drp(self):\n",
    "        self.model.add(layers.Dropout(0.35))\n",
    "        self.model.add(layers.Dense(self.fltr*4,activation='relu'))  \n",
    "        return self.model      \n",
    "\n",
    "        "
   ]
  },
  {
   "cell_type": "code",
   "execution_count": 15,
   "metadata": {},
   "outputs": [],
   "source": [
    "def model_builder(fltr,k,fac,lyrs,pools,drop):\n",
    "    mdl=Conv_build(fltr,k).build_model()\n",
    "    for i in range(lyrs[0]):\n",
    "        add_lyrs(fltr,k,mdl).add_lyr(fac[0])\n",
    "    if pools[0]!=0:\n",
    "        add_lyrs(fltr,k,mdl).add_pool()\n",
    "    for i in range(lyrs[1]):\n",
    "        add_lyrs(fltr,k,mdl).add_lyr(fac[1])\n",
    "    if pools[1]!=0:\n",
    "        add_lyrs(fltr,k,mdl).add_pool()\n",
    "    for i in range(lyrs[2]):\n",
    "        add_lyrs(fltr,k,mdl).add_lyr(fac[2])\n",
    "    if pools[2]!=0:\n",
    "        add_lyrs(fltr,k,mdl).add_pool()\n",
    "    for i in range(lyrs[3]):\n",
    "        add_lyrs(fltr,k,mdl).add_lyr(fac[3])\n",
    "    if pools[3]!=0:\n",
    "        add_lyrs(fltr,k,mdl).add_pool()\n",
    "    for i in range(lyrs[4]):\n",
    "        add_lyrs(fltr,k,mdl).add_lyr(fac[4])\n",
    "    if pools[4]!=0:\n",
    "            add_lyrs(fltr,k,mdl).add_pool()\n",
    "    for i in range(lyrs[5]):\n",
    "            add_lyrs(fltr,k,mdl).add_lyr(fac[5])        \n",
    "    \n",
    "    add_lyrs(fltr,k,mdl).add_cnn()\n",
    "    if drop:\n",
    "        add_lyrs(fltr,k,mdl).add_drp()\n",
    "    return mdl      "
   ]
  },
  {
   "cell_type": "code",
   "execution_count": 16,
   "metadata": {},
   "outputs": [],
   "source": [
    "fltr=32\n",
    "k=3\n",
    "fac=[1,2,2,4,4,0]\n",
    "lyrs=[1,3,2,1,1,0]\n",
    "pools=[1,1,1,1,0]\n",
    "drop=True"
   ]
  },
  {
   "cell_type": "code",
   "execution_count": 17,
   "metadata": {},
   "outputs": [
    {
     "name": "stdout",
     "output_type": "stream",
     "text": [
      "Model: \"sequential_2\"\n",
      "_________________________________________________________________\n",
      "Layer (type)                 Output Shape              Param #   \n",
      "=================================================================\n",
      "conv2d_3 (Conv2D)            (None, 222, 222, 32)      896       \n",
      "_________________________________________________________________\n",
      "conv2d_4 (Conv2D)            (None, 220, 220, 32)      9248      \n",
      "_________________________________________________________________\n",
      "conv2d_7 (Conv2D)            (None, 218, 218, 32)      9248      \n",
      "_________________________________________________________________\n",
      "max_pooling2d_1 (MaxPooling2 (None, 109, 109, 32)      0         \n",
      "_________________________________________________________________\n",
      "conv2d_12 (Conv2D)           (None, 107, 107, 64)      18496     \n",
      "_________________________________________________________________\n",
      "conv2d_15 (Conv2D)           (None, 105, 105, 64)      36928     \n",
      "_________________________________________________________________\n",
      "conv2d_18 (Conv2D)           (None, 103, 103, 64)      36928     \n",
      "_________________________________________________________________\n",
      "max_pooling2d_2 (MaxPooling2 (None, 51, 51, 64)        0         \n",
      "_________________________________________________________________\n",
      "conv2d_23 (Conv2D)           (None, 49, 49, 64)        36928     \n",
      "_________________________________________________________________\n",
      "conv2d_26 (Conv2D)           (None, 47, 47, 64)        36928     \n",
      "_________________________________________________________________\n",
      "max_pooling2d_3 (MaxPooling2 (None, 23, 23, 64)        0         \n",
      "_________________________________________________________________\n",
      "conv2d_31 (Conv2D)           (None, 21, 21, 128)       73856     \n",
      "_________________________________________________________________\n",
      "max_pooling2d_4 (MaxPooling2 (None, 10, 10, 128)       0         \n",
      "_________________________________________________________________\n",
      "conv2d_36 (Conv2D)           (None, 8, 8, 128)         147584    \n",
      "_________________________________________________________________\n",
      "flatten_1 (Flatten)          (None, 8192)              0         \n",
      "_________________________________________________________________\n",
      "dense_1 (Dense)              (None, 64)                524352    \n",
      "_________________________________________________________________\n",
      "dropout_1 (Dropout)          (None, 64)                0         \n",
      "_________________________________________________________________\n",
      "dense_2 (Dense)              (None, 128)               8320      \n",
      "=================================================================\n",
      "Total params: 939,712\n",
      "Trainable params: 939,712\n",
      "Non-trainable params: 0\n",
      "_________________________________________________________________\n"
     ]
    }
   ],
   "source": [
    "mdl_drop=model_builder(fltr,k,fac,lyrs,pools, drop)\n",
    "mdl_drop.summary()"
   ]
  },
  {
   "cell_type": "code",
   "execution_count": 18,
   "metadata": {},
   "outputs": [],
   "source": [
    "fltr2=32\n",
    "k2=3\n",
    "fac2=[1,1,2,2,4,4]\n",
    "lyrs2=[0,1,2,1,1,1]\n",
    "pools2=[1,1,1,1,1]\n",
    "drop2=None"
   ]
  },
  {
   "cell_type": "code",
   "execution_count": 19,
   "metadata": {},
   "outputs": [
    {
     "name": "stdout",
     "output_type": "stream",
     "text": [
      "Model: \"sequential_18\"\n",
      "_________________________________________________________________\n",
      "Layer (type)                 Output Shape              Param #   \n",
      "=================================================================\n",
      "conv2d_43 (Conv2D)           (None, 222, 222, 32)      896       \n",
      "_________________________________________________________________\n",
      "conv2d_44 (Conv2D)           (None, 220, 220, 32)      9248      \n",
      "_________________________________________________________________\n",
      "max_pooling2d_5 (MaxPooling2 (None, 110, 110, 32)      0         \n",
      "_________________________________________________________________\n",
      "conv2d_49 (Conv2D)           (None, 108, 108, 32)      9248      \n",
      "_________________________________________________________________\n",
      "max_pooling2d_6 (MaxPooling2 (None, 54, 54, 32)        0         \n",
      "_________________________________________________________________\n",
      "conv2d_54 (Conv2D)           (None, 52, 52, 64)        18496     \n",
      "_________________________________________________________________\n",
      "conv2d_57 (Conv2D)           (None, 50, 50, 64)        36928     \n",
      "_________________________________________________________________\n",
      "max_pooling2d_7 (MaxPooling2 (None, 25, 25, 64)        0         \n",
      "_________________________________________________________________\n",
      "conv2d_62 (Conv2D)           (None, 23, 23, 64)        36928     \n",
      "_________________________________________________________________\n",
      "max_pooling2d_8 (MaxPooling2 (None, 11, 11, 64)        0         \n",
      "_________________________________________________________________\n",
      "conv2d_67 (Conv2D)           (None, 9, 9, 128)         73856     \n",
      "_________________________________________________________________\n",
      "max_pooling2d_9 (MaxPooling2 (None, 4, 4, 128)         0         \n",
      "_________________________________________________________________\n",
      "conv2d_72 (Conv2D)           (None, 2, 2, 128)         147584    \n",
      "_________________________________________________________________\n",
      "flatten_2 (Flatten)          (None, 512)               0         \n",
      "_________________________________________________________________\n",
      "dense_3 (Dense)              (None, 64)                32832     \n",
      "=================================================================\n",
      "Total params: 366,016\n",
      "Trainable params: 366,016\n",
      "Non-trainable params: 0\n",
      "_________________________________________________________________\n"
     ]
    }
   ],
   "source": [
    "mdl_base=model_builder(fltr=fltr2,k=k2,fac=fac2,lyrs=lyrs2,pools=pools2, drop=drop2)\n",
    "mdl_base.summary()"
   ]
  },
  {
   "cell_type": "code",
   "execution_count": 37,
   "metadata": {},
   "outputs": [],
   "source": [
    "# mdl_base.add(layers.Dense(len(classes),activation='softmax'))    \n",
    "# mdl_base.compile(optimizer='adam',\n",
    "#               loss=losses.SparseCategoricalCrossentropy(from_logits=True),\n",
    "#               metrics=['accuracy'])\n",
    "# mdl_base"
   ]
  },
  {
   "cell_type": "code",
   "execution_count": 38,
   "metadata": {},
   "outputs": [],
   "source": [
    "# mdl_base.fit(train_imgs,train_lbls,epochs=7,validation_data=(val_imgs, val_lbls))"
   ]
  },
  {
   "cell_type": "code",
   "execution_count": 16,
   "metadata": {},
   "outputs": [],
   "source": [
    "fltr3=32\n",
    "k3=3\n",
    "fac3=[1,2,4,8,0,0]\n",
    "lyrs3=[1,3,3,3,0,0]\n",
    "pools3=[1,1,1,1,0]\n",
    "drop3=None"
   ]
  },
  {
   "cell_type": "code",
   "execution_count": 17,
   "metadata": {},
   "outputs": [
    {
     "name": "stdout",
     "output_type": "stream",
     "text": [
      "Model: \"sequential_2\"\n",
      "_________________________________________________________________\n",
      "Layer (type)                 Output Shape              Param #   \n",
      "=================================================================\n",
      "conv2d_3 (Conv2D)            (None, 222, 222, 32)      896       \n",
      "_________________________________________________________________\n",
      "conv2d_4 (Conv2D)            (None, 220, 220, 32)      9248      \n",
      "_________________________________________________________________\n",
      "conv2d_7 (Conv2D)            (None, 218, 218, 32)      9248      \n",
      "_________________________________________________________________\n",
      "max_pooling2d_1 (MaxPooling2 (None, 109, 109, 32)      0         \n",
      "_________________________________________________________________\n",
      "conv2d_12 (Conv2D)           (None, 107, 107, 64)      18496     \n",
      "_________________________________________________________________\n",
      "conv2d_15 (Conv2D)           (None, 105, 105, 64)      36928     \n",
      "_________________________________________________________________\n",
      "conv2d_18 (Conv2D)           (None, 103, 103, 64)      36928     \n",
      "_________________________________________________________________\n",
      "max_pooling2d_2 (MaxPooling2 (None, 51, 51, 64)        0         \n",
      "_________________________________________________________________\n",
      "conv2d_23 (Conv2D)           (None, 49, 49, 128)       73856     \n",
      "_________________________________________________________________\n",
      "conv2d_26 (Conv2D)           (None, 47, 47, 128)       147584    \n",
      "_________________________________________________________________\n",
      "conv2d_29 (Conv2D)           (None, 45, 45, 128)       147584    \n",
      "_________________________________________________________________\n",
      "max_pooling2d_3 (MaxPooling2 (None, 22, 22, 128)       0         \n",
      "_________________________________________________________________\n",
      "conv2d_34 (Conv2D)           (None, 20, 20, 256)       295168    \n",
      "_________________________________________________________________\n",
      "conv2d_37 (Conv2D)           (None, 18, 18, 256)       590080    \n",
      "_________________________________________________________________\n",
      "conv2d_40 (Conv2D)           (None, 16, 16, 256)       590080    \n",
      "_________________________________________________________________\n",
      "max_pooling2d_4 (MaxPooling2 (None, 8, 8, 256)         0         \n",
      "_________________________________________________________________\n",
      "flatten_1 (Flatten)          (None, 16384)             0         \n",
      "_________________________________________________________________\n",
      "dense_1 (Dense)              (None, 64)                1048640   \n",
      "=================================================================\n",
      "Total params: 3,004,736\n",
      "Trainable params: 3,004,736\n",
      "Non-trainable params: 0\n",
      "_________________________________________________________________\n"
     ]
    }
   ],
   "source": [
    "mdl_12lyrs=model_builder(fltr3,k3,fac3,lyrs3,pools3, drop3)\n",
    "mdl_12lyrs.summary()"
   ]
  },
  {
   "cell_type": "code",
   "execution_count": 41,
   "metadata": {},
   "outputs": [],
   "source": [
    "mdl_dict={'Base':mdl_base,'Drop':mdl_drop,'12 Layers':mdl_12lyrs}"
   ]
  },
  {
   "cell_type": "code",
   "execution_count": 45,
   "metadata": {},
   "outputs": [],
   "source": [
    "def model_sel(mdl_dict):\n",
    "    \n",
    "    val_accs={}\n",
    "    \n",
    "    for mod,conv in mdl_dict.items():  \n",
    "        print(mod)\n",
    "        conv.add(layers.Dense(len(classes),activation='softmax'))  \n",
    "        conv.compile(optimizer=keras.optimizers.Adam(1e-4),loss='categorical_crossentropy',metrics=['accuracy'])\n",
    "        model_f=conv.fit(train_generator,epochs=10,validation_data=val_generator)\n",
    "        \n",
    "        accs=model_f.history['accuracy']\n",
    "        val_accs[mod]=accs\n",
    "    return val_accs"
   ]
  },
  {
   "cell_type": "code",
   "execution_count": 46,
   "metadata": {},
   "outputs": [
    {
     "name": "stdout",
     "output_type": "stream",
     "text": [
      "Base\n",
      "Epoch 1/10\n",
      "1/1 [==============================] - 2s 2s/step - loss: 1.0916 - accuracy: 0.2667 - val_loss: 1.1698 - val_accuracy: 0.3333\n",
      "Epoch 2/10\n",
      "1/1 [==============================] - 1s 688ms/step - loss: 1.1684 - accuracy: 0.3333 - val_loss: 0.9940 - val_accuracy: 0.3333\n",
      "Epoch 3/10\n",
      "1/1 [==============================] - 1s 678ms/step - loss: 1.0943 - accuracy: 0.3333 - val_loss: 1.0651 - val_accuracy: 0.3333\n",
      "Epoch 4/10\n",
      "1/1 [==============================] - 1s 665ms/step - loss: 1.0830 - accuracy: 0.4000 - val_loss: 1.0734 - val_accuracy: 0.5000\n",
      "Epoch 5/10\n",
      "1/1 [==============================] - 1s 665ms/step - loss: 1.0876 - accuracy: 0.4000 - val_loss: 1.0781 - val_accuracy: 0.5000\n",
      "Epoch 6/10\n",
      "1/1 [==============================] - 1s 667ms/step - loss: 1.0794 - accuracy: 0.4000 - val_loss: 1.0549 - val_accuracy: 0.6667\n",
      "Epoch 7/10\n",
      "1/1 [==============================] - 1s 674ms/step - loss: 1.0686 - accuracy: 0.5333 - val_loss: 1.0910 - val_accuracy: 0.3333\n",
      "Epoch 8/10\n",
      "1/1 [==============================] - 1s 658ms/step - loss: 1.0936 - accuracy: 0.4000 - val_loss: 1.1074 - val_accuracy: 0.3333\n",
      "Epoch 9/10\n",
      "1/1 [==============================] - 1s 686ms/step - loss: 1.1033 - accuracy: 0.4000 - val_loss: 1.0813 - val_accuracy: 0.5000\n",
      "Epoch 10/10\n",
      "1/1 [==============================] - 1s 683ms/step - loss: 1.1072 - accuracy: 0.3333 - val_loss: 1.0754 - val_accuracy: 0.5000\n",
      "Drop\n",
      "Epoch 1/10\n",
      "1/1 [==============================] - 3s 3s/step - loss: 1.1199 - accuracy: 0.4667 - val_loss: 1.0714 - val_accuracy: 0.3333\n",
      "Epoch 2/10\n",
      "1/1 [==============================] - 2s 2s/step - loss: 1.1632 - accuracy: 0.2667 - val_loss: 1.0869 - val_accuracy: 0.3333\n",
      "Epoch 3/10\n",
      "1/1 [==============================] - 2s 2s/step - loss: 1.2592 - accuracy: 0.2000 - val_loss: 1.0183 - val_accuracy: 0.3333\n",
      "Epoch 4/10\n",
      "1/1 [==============================] - 2s 2s/step - loss: 1.0498 - accuracy: 0.4667 - val_loss: 1.0336 - val_accuracy: 0.3333\n",
      "Epoch 5/10\n",
      "1/1 [==============================] - 2s 2s/step - loss: 1.1040 - accuracy: 0.4000 - val_loss: 0.9825 - val_accuracy: 0.6667\n",
      "Epoch 6/10\n",
      "1/1 [==============================] - 2s 2s/step - loss: 0.9849 - accuracy: 0.4667 - val_loss: 0.9775 - val_accuracy: 0.6667\n",
      "Epoch 7/10\n",
      "1/1 [==============================] - 2s 2s/step - loss: 0.9799 - accuracy: 0.6000 - val_loss: 0.9426 - val_accuracy: 0.5000\n",
      "Epoch 8/10\n",
      "1/1 [==============================] - 2s 2s/step - loss: 1.0249 - accuracy: 0.3333 - val_loss: 0.9048 - val_accuracy: 0.8333\n",
      "Epoch 9/10\n",
      "1/1 [==============================] - 2s 2s/step - loss: 0.9102 - accuracy: 0.5333 - val_loss: 0.9749 - val_accuracy: 0.6667\n",
      "Epoch 10/10\n",
      "1/1 [==============================] - 2s 2s/step - loss: 0.9953 - accuracy: 0.5333 - val_loss: 0.9429 - val_accuracy: 0.6667\n",
      "12 Layers\n",
      "Epoch 1/10\n",
      "1/1 [==============================] - 4s 4s/step - loss: 1.0685 - accuracy: 0.4000 - val_loss: 0.9818 - val_accuracy: 0.6667\n",
      "Epoch 2/10\n",
      "1/1 [==============================] - 3s 3s/step - loss: 0.9124 - accuracy: 0.6000 - val_loss: 0.8955 - val_accuracy: 0.5000\n",
      "Epoch 3/10\n",
      "1/1 [==============================] - 3s 3s/step - loss: 0.7362 - accuracy: 0.6000 - val_loss: 0.7673 - val_accuracy: 0.6667\n",
      "Epoch 4/10\n",
      "1/1 [==============================] - 3s 3s/step - loss: 0.6634 - accuracy: 0.8000 - val_loss: 0.6538 - val_accuracy: 0.6667\n",
      "Epoch 5/10\n",
      "1/1 [==============================] - 3s 3s/step - loss: 0.4463 - accuracy: 0.9333 - val_loss: 0.4719 - val_accuracy: 0.8333\n",
      "Epoch 6/10\n",
      "1/1 [==============================] - 3s 3s/step - loss: 0.2654 - accuracy: 1.0000 - val_loss: 0.3823 - val_accuracy: 0.8333\n",
      "Epoch 7/10\n",
      "1/1 [==============================] - 3s 3s/step - loss: 0.2982 - accuracy: 0.8667 - val_loss: 0.4410 - val_accuracy: 0.8333\n",
      "Epoch 8/10\n",
      "1/1 [==============================] - 3s 3s/step - loss: 0.2190 - accuracy: 0.9333 - val_loss: 0.3290 - val_accuracy: 0.8333\n",
      "Epoch 9/10\n",
      "1/1 [==============================] - 3s 3s/step - loss: 0.1323 - accuracy: 1.0000 - val_loss: 0.1389 - val_accuracy: 1.0000\n",
      "Epoch 10/10\n",
      "1/1 [==============================] - 3s 3s/step - loss: 0.0557 - accuracy: 1.0000 - val_loss: 0.1891 - val_accuracy: 1.0000\n"
     ]
    },
    {
     "data": {
      "text/plain": [
       "{'Base': [0.26666668,\n",
       "  0.33333334,\n",
       "  0.33333334,\n",
       "  0.4,\n",
       "  0.4,\n",
       "  0.4,\n",
       "  0.53333336,\n",
       "  0.4,\n",
       "  0.4,\n",
       "  0.33333334],\n",
       " 'Drop': [0.46666667,\n",
       "  0.26666668,\n",
       "  0.2,\n",
       "  0.46666667,\n",
       "  0.4,\n",
       "  0.46666667,\n",
       "  0.6,\n",
       "  0.33333334,\n",
       "  0.53333336,\n",
       "  0.53333336],\n",
       " '12 Layers': [0.4,\n",
       "  0.6,\n",
       "  0.6,\n",
       "  0.8,\n",
       "  0.93333334,\n",
       "  1.0,\n",
       "  0.8666667,\n",
       "  0.93333334,\n",
       "  1.0,\n",
       "  1.0]}"
      ]
     },
     "execution_count": 46,
     "metadata": {},
     "output_type": "execute_result"
    }
   ],
   "source": [
    "val_accs=model_sel(mdl_dict)\n",
    "val_accs"
   ]
  },
  {
   "cell_type": "code",
   "execution_count": 20,
   "metadata": {},
   "outputs": [],
   "source": [
    "def Twlv_lyrs(fltr,k):\n",
    "   \n",
    "    model = models.Sequential()\n",
    "    \n",
    "    model.add(layers.Conv2D(fltr*1, (k,k), activation='relu', input_shape=(224,224,3)))\n",
    "    \n",
    "    model.add(layers.Conv2D(fltr*1, (k,k), activation='relu'))   \n",
    "    model.add(layers.Conv2D(fltr*1, (k,k), activation='relu'))\n",
    "    model.add(layers.MaxPooling2D((2, 2)))\n",
    "    model.add(layers.Conv2D(fltr*2, (k,k), activation='relu'))\n",
    "    model.add(layers.Conv2D(fltr*2, (k,k), activation='relu'))\n",
    "    model.add(layers.Conv2D(fltr*2, (k,k), activation='relu'))\n",
    "    model.add(layers.MaxPooling2D((2, 2)))\n",
    "    model.add(layers.Conv2D(fltr*4, (k,k), activation='relu'))\n",
    "    model.add(layers.Conv2D(fltr*4, (k,k), activation='relu'))\n",
    "    model.add(layers.Conv2D(fltr*4, (k,k), activation='relu'))\n",
    "    model.add(layers.MaxPooling2D((2, 2)))\n",
    "    model.add(layers.Conv2D(fltr*8, (k,k), activation='relu'))\n",
    "    model.add(layers.Conv2D(fltr*8, (k,k), activation='relu'))\n",
    "    model.add(layers.Conv2D(fltr*8, (k,k), activation='relu'))\n",
    "    model.add(layers.MaxPooling2D((2, 2)))\n",
    "       \n",
    "    model.add(layers.Flatten())\n",
    "    model.add(layers.Dense(fltr*2,activation='relu'))  \n",
    "    model.add(layers.Dense(10,activation='softmax'))\n",
    "\n",
    "    model.compile(optimizer=keras.optimizers.Adam(1e-4),loss='categorical_crossentropy',metrics=['accuracy'])\n",
    "#      model_f=conv.fit(train_generator,epochs=10,validation_data=val_generator)       \n",
    "  \n",
    "    return model"
   ]
  },
  {
   "cell_type": "code",
   "execution_count": 21,
   "metadata": {},
   "outputs": [
    {
     "data": {
      "text/plain": [
       "<keras.engine.sequential.Sequential at 0x24cffcace48>"
      ]
     },
     "execution_count": 21,
     "metadata": {},
     "output_type": "execute_result"
    }
   ],
   "source": [
    "twelv=Twlv_lyrs(32,3)\n",
    "twelv"
   ]
  },
  {
   "cell_type": "code",
   "execution_count": 22,
   "metadata": {},
   "outputs": [
    {
     "name": "stdout",
     "output_type": "stream",
     "text": [
      "Found 120 images belonging to 10 classes.\n",
      "Found 30 images belonging to 10 classes.\n"
     ]
    }
   ],
   "source": [
    "train_datagen = ImageDataGenerator(\n",
    "        shear_range=0.1,\n",
    "        zoom_range=0.1,\n",
    "        horizontal_flip=True)\n",
    "train_generator2 = train_datagen.flow_from_directory(\n",
    "        './train_birds20',\n",
    "        target_size=(224, 224),\n",
    "        batch_size=32,\n",
    "        class_mode='categorical')\n",
    "val_datagen = ImageDataGenerator(\n",
    "        shear_range=0.1,\n",
    "        zoom_range=0.1,\n",
    "        horizontal_flip=True)\n",
    "val_generator2 = val_datagen.flow_from_directory(\n",
    "        './val_birds20',\n",
    "        target_size=(224, 224),\n",
    "        batch_size=32,\n",
    "        class_mode='categorical')"
   ]
  },
  {
   "cell_type": "code",
   "execution_count": 23,
   "metadata": {},
   "outputs": [
    {
     "name": "stdout",
     "output_type": "stream",
     "text": [
      "Epoch 1/30\n",
      "4/4 [==============================] - 47s 12s/step - loss: 2.5642 - accuracy: 0.1083 - val_loss: 2.2899 - val_accuracy: 0.0667\n",
      "Epoch 2/30\n",
      "4/4 [==============================] - 43s 11s/step - loss: 2.3085 - accuracy: 0.1083 - val_loss: 2.2642 - val_accuracy: 0.1000\n",
      "Epoch 3/30\n",
      "4/4 [==============================] - 44s 11s/step - loss: 2.2532 - accuracy: 0.2000 - val_loss: 2.2575 - val_accuracy: 0.3000\n",
      "Epoch 4/30\n",
      "4/4 [==============================] - 44s 11s/step - loss: 2.1844 - accuracy: 0.2500 - val_loss: 2.1505 - val_accuracy: 0.2333\n",
      "Epoch 5/30\n",
      "4/4 [==============================] - 44s 11s/step - loss: 2.0973 - accuracy: 0.2917 - val_loss: 2.0020 - val_accuracy: 0.3667\n",
      "Epoch 6/30\n",
      "4/4 [==============================] - 44s 11s/step - loss: 1.9536 - accuracy: 0.3250 - val_loss: 1.9249 - val_accuracy: 0.3333\n",
      "Epoch 7/30\n",
      "4/4 [==============================] - 44s 11s/step - loss: 1.7359 - accuracy: 0.4333 - val_loss: 1.8117 - val_accuracy: 0.3667\n",
      "Epoch 8/30\n",
      "4/4 [==============================] - 43s 11s/step - loss: 1.6666 - accuracy: 0.3917 - val_loss: 1.7711 - val_accuracy: 0.4000\n",
      "Epoch 9/30\n",
      "4/4 [==============================] - 43s 11s/step - loss: 1.6557 - accuracy: 0.4333 - val_loss: 1.9742 - val_accuracy: 0.3667\n",
      "Epoch 10/30\n",
      "4/4 [==============================] - 43s 11s/step - loss: 1.3898 - accuracy: 0.5750 - val_loss: 2.1505 - val_accuracy: 0.4000\n",
      "Epoch 11/30\n",
      "4/4 [==============================] - 43s 11s/step - loss: 1.2097 - accuracy: 0.6333 - val_loss: 1.9593 - val_accuracy: 0.4000\n",
      "Epoch 12/30\n",
      "4/4 [==============================] - 43s 11s/step - loss: 1.1401 - accuracy: 0.6333 - val_loss: 2.1436 - val_accuracy: 0.4333\n",
      "Epoch 13/30\n",
      "4/4 [==============================] - 43s 11s/step - loss: 1.0535 - accuracy: 0.6583 - val_loss: 2.4624 - val_accuracy: 0.4000\n",
      "Epoch 14/30\n",
      "4/4 [==============================] - 43s 11s/step - loss: 0.8853 - accuracy: 0.6833 - val_loss: 3.0854 - val_accuracy: 0.2333\n",
      "Epoch 15/30\n",
      "4/4 [==============================] - 43s 11s/step - loss: 1.0895 - accuracy: 0.6167 - val_loss: 2.0236 - val_accuracy: 0.4000\n",
      "Epoch 16/30\n",
      "4/4 [==============================] - 44s 11s/step - loss: 1.0117 - accuracy: 0.6750 - val_loss: 2.7852 - val_accuracy: 0.3667\n",
      "Epoch 17/30\n",
      "4/4 [==============================] - 44s 11s/step - loss: 0.8934 - accuracy: 0.7417 - val_loss: 2.5441 - val_accuracy: 0.4000\n",
      "Epoch 18/30\n",
      "4/4 [==============================] - 44s 11s/step - loss: 0.8361 - accuracy: 0.7500 - val_loss: 2.9281 - val_accuracy: 0.3000\n",
      "Epoch 19/30\n",
      "4/4 [==============================] - 44s 11s/step - loss: 0.7179 - accuracy: 0.7417 - val_loss: 2.7633 - val_accuracy: 0.4000\n",
      "Epoch 20/30\n",
      "4/4 [==============================] - 44s 11s/step - loss: 0.6179 - accuracy: 0.8083 - val_loss: 2.7230 - val_accuracy: 0.4000\n",
      "Epoch 21/30\n",
      "4/4 [==============================] - 44s 11s/step - loss: 0.5635 - accuracy: 0.8000 - val_loss: 2.8299 - val_accuracy: 0.4667\n",
      "Epoch 22/30\n",
      "4/4 [==============================] - 44s 11s/step - loss: 0.4865 - accuracy: 0.8583 - val_loss: 3.4483 - val_accuracy: 0.5000\n",
      "Epoch 23/30\n",
      "4/4 [==============================] - 44s 11s/step - loss: 0.5501 - accuracy: 0.8000 - val_loss: 3.3380 - val_accuracy: 0.5000\n",
      "Epoch 24/30\n",
      "4/4 [==============================] - 44s 11s/step - loss: 0.5001 - accuracy: 0.8500 - val_loss: 3.5115 - val_accuracy: 0.5333\n",
      "Epoch 25/30\n",
      "4/4 [==============================] - 43s 11s/step - loss: 0.5361 - accuracy: 0.8000 - val_loss: 3.2804 - val_accuracy: 0.5000\n",
      "Epoch 26/30\n",
      "4/4 [==============================] - 44s 11s/step - loss: 0.3648 - accuracy: 0.8667 - val_loss: 3.3036 - val_accuracy: 0.5000\n",
      "Epoch 27/30\n",
      "4/4 [==============================] - 44s 11s/step - loss: 0.2938 - accuracy: 0.9000 - val_loss: 3.1550 - val_accuracy: 0.4667\n",
      "Epoch 28/30\n",
      "4/4 [==============================] - 43s 11s/step - loss: 0.3310 - accuracy: 0.8917 - val_loss: 3.6526 - val_accuracy: 0.5000\n",
      "Epoch 29/30\n",
      "4/4 [==============================] - 44s 11s/step - loss: 0.1714 - accuracy: 0.9833 - val_loss: 4.2752 - val_accuracy: 0.4333\n",
      "Epoch 30/30\n",
      "4/4 [==============================] - 44s 11s/step - loss: 0.2570 - accuracy: 0.9083 - val_loss: 3.5274 - val_accuracy: 0.4667\n"
     ]
    }
   ],
   "source": [
    "model_20f=twelv.fit(train_generator2,epochs=30,validation_data=val_generator2)       "
   ]
  },
  {
   "cell_type": "markdown",
   "metadata": {},
   "source": [
    "adding dropout layers might improve validation"
   ]
  },
  {
   "cell_type": "code",
   "execution_count": 29,
   "metadata": {},
   "outputs": [
    {
     "data": {
      "text/plain": [
       "<matplotlib.legend.Legend at 0x24c87e02a08>"
      ]
     },
     "execution_count": 29,
     "metadata": {},
     "output_type": "execute_result"
    },
    {
     "data": {
      "image/png": "[encoded data removed]",
      "text/plain": [
       "<Figure size 432x288 with 1 Axes>"
      ]
     },
     "metadata": {
      "needs_background": "light"
     },
     "output_type": "display_data"
    }
   ],
   "source": [
    "plt.plot(model_20f.history['accuracy'], label='accuracy')\n",
    "plt.plot(model_20f.history['val_accuracy'], label = 'val_accuracy')\n",
    "plt.xlabel('Epoch')\n",
    "plt.ylabel('Accuracy')\n",
    "plt.ylim([0.1, 1])\n",
    "plt.legend(loc='lower right')"
   ]
  },
  {
   "cell_type": "code",
   "execution_count": null,
   "metadata": {},
   "outputs": [],
   "source": [
    "# model_20f.save_weights('./checkpoints/model_20f')"
   ]
  },
  {
   "cell_type": "code",
   "execution_count": 30,
   "metadata": {},
   "outputs": [],
   "source": [
    "\n",
    "filters={'fil1': 32,'fil2':64}\n",
    "\n",
    "kernels={'ker1':3,'ker2':5}\n",
    "\n",
    "learn={\"norm\": 0.001,'high':0.002}"
   ]
  },
  {
   "cell_type": "code",
   "execution_count": 31,
   "metadata": {},
   "outputs": [],
   "source": [
    "def Twlv_grid(fltr,k,lr):   \n",
    "    model = models.Sequential()    \n",
    "    model.add(layers.Conv2D(32*1, (k,k), activation='relu', input_shape=(224,224,3)))    \n",
    "    model.add(layers.Conv2D(32*1, (k,k), activation='relu'))   \n",
    "    model.add(layers.Conv2D(32*1, (k,k), activation='relu'))\n",
    "    model.add(layers.MaxPooling2D((2, 2)))\n",
    "    model.add(layers.Conv2D(32*2, (k,k), activation='relu'))\n",
    "    model.add(layers.Conv2D(32*2, (k,k), activation='relu'))\n",
    "    model.add(layers.Conv2D(32*2, (k,k), activation='relu'))\n",
    "    model.add(layers.MaxPooling2D((2, 2)))\n",
    "    model.add(layers.Conv2D(32*4, (k,k), activation='relu'))\n",
    "    model.add(layers.Conv2D(32*4, (k,k), activation='relu'))\n",
    "    model.add(layers.Conv2D(32*4, (k,k), activation='relu'))\n",
    "    model.add(layers.MaxPooling2D((2, 2)))\n",
    "    model.add(layers.Conv2D(32*8, (k,k), activation='relu'))\n",
    "    model.add(layers.Conv2D(32*8, (k,k), activation='relu'))\n",
    "    model.add(layers.Conv2D(32*8, (k,k), activation='relu'))\n",
    "    model.add(layers.MaxPooling2D((2, 2)))       \n",
    "    model.add(layers.Flatten())\n",
    "    model.add(layers.Dense(fltr*2,activation='relu'))  \n",
    "    model.add(layers.Dense(len(train_generator[0])+1,activation='softmax'))\n",
    "    model.compile(optimizer=keras.optimizers.Adam(epsilon=1e-4, learning_rate=lr),loss='categorical_crossentropy',metrics=['accuracy'])\n",
    "    return model"
   ]
  },
  {
   "cell_type": "code",
   "execution_count": 32,
   "metadata": {},
   "outputs": [
    {
     "name": "stdout",
     "output_type": "stream",
     "text": [
      "Epoch 1/15\n",
      "1/1 [==============================] - 9s 9s/step - loss: 1.2131 - accuracy: 0.3333 - val_loss: 21.7007 - val_accuracy: 0.3333\n",
      "Epoch 2/15\n",
      "1/1 [==============================] - 6s 6s/step - loss: 23.2348 - accuracy: 0.3333 - val_loss: 1.3231 - val_accuracy: 0.3333\n",
      "Epoch 3/15\n",
      "1/1 [==============================] - 6s 6s/step - loss: 1.2673 - accuracy: 0.3333 - val_loss: 1.1204 - val_accuracy: 0.3333\n",
      "Epoch 4/15\n",
      "1/1 [==============================] - 6s 6s/step - loss: 1.1070 - accuracy: 0.3333 - val_loss: 1.0876 - val_accuracy: 0.3333\n",
      "Epoch 5/15\n",
      "1/1 [==============================] - 6s 6s/step - loss: 1.0887 - accuracy: 0.4000 - val_loss: 1.0704 - val_accuracy: 0.3333\n",
      "Epoch 6/15\n",
      "1/1 [==============================] - 6s 6s/step - loss: 1.0781 - accuracy: 0.3333 - val_loss: 1.0599 - val_accuracy: 0.3333\n",
      "Epoch 7/15\n",
      "1/1 [==============================] - 6s 6s/step - loss: 1.0730 - accuracy: 0.3333 - val_loss: 1.0352 - val_accuracy: 0.6667\n",
      "Epoch 8/15\n",
      "1/1 [==============================] - 6s 6s/step - loss: 1.0691 - accuracy: 0.3333 - val_loss: 1.2565 - val_accuracy: 0.3333\n",
      "Epoch 9/15\n",
      "1/1 [==============================] - 6s 6s/step - loss: 1.2246 - accuracy: 0.3333 - val_loss: 1.1550 - val_accuracy: 0.3333\n",
      "Epoch 10/15\n",
      "1/1 [==============================] - 6s 6s/step - loss: 1.1395 - accuracy: 0.3333 - val_loss: 1.1244 - val_accuracy: 0.3333\n",
      "Epoch 11/15\n",
      "1/1 [==============================] - 6s 6s/step - loss: 1.1030 - accuracy: 0.4000 - val_loss: 1.0981 - val_accuracy: 0.3333\n",
      "1/1 [==============================] - 1s 1s/step\n",
      "Epoch 1/15\n",
      "1/1 [==============================] - 9s 9s/step - loss: 1.1625 - accuracy: 0.0667 - val_loss: 15.9412 - val_accuracy: 0.3333\n",
      "Epoch 2/15\n",
      "1/1 [==============================] - 6s 6s/step - loss: 15.9725 - accuracy: 0.3333 - val_loss: 1.2410 - val_accuracy: 0.3333\n",
      "Epoch 3/15\n",
      "1/1 [==============================] - 6s 6s/step - loss: 1.1748 - accuracy: 0.3333 - val_loss: 1.1386 - val_accuracy: 0.3333\n",
      "Epoch 4/15\n",
      "1/1 [==============================] - 6s 6s/step - loss: 1.1161 - accuracy: 0.3333 - val_loss: 1.1075 - val_accuracy: 0.3333\n",
      "Epoch 5/15\n",
      "1/1 [==============================] - 6s 6s/step - loss: 1.0925 - accuracy: 0.4000 - val_loss: 1.0650 - val_accuracy: 0.3333\n",
      "Epoch 6/15\n",
      "1/1 [==============================] - 6s 6s/step - loss: 1.0805 - accuracy: 0.2667 - val_loss: 1.0595 - val_accuracy: 0.3333\n",
      "Epoch 7/15\n",
      "1/1 [==============================] - 6s 6s/step - loss: 1.0309 - accuracy: 0.4000 - val_loss: 1.3233 - val_accuracy: 0.3333\n",
      "Epoch 8/15\n",
      "1/1 [==============================] - 6s 6s/step - loss: 1.2014 - accuracy: 0.4667 - val_loss: 1.1927 - val_accuracy: 0.3333\n",
      "Epoch 9/15\n",
      "1/1 [==============================] - 6s 6s/step - loss: 1.2330 - accuracy: 0.3333 - val_loss: 1.0799 - val_accuracy: 0.3333\n",
      "Epoch 10/15\n",
      "1/1 [==============================] - 6s 6s/step - loss: 1.0928 - accuracy: 0.3333 - val_loss: 1.0812 - val_accuracy: 0.3333\n",
      "1/1 [==============================] - 1s 1s/step\n",
      "Epoch 1/15\n",
      "1/1 [==============================] - 15s 15s/step - loss: 1.1714 - accuracy: 0.3333 - val_loss: 7.5908 - val_accuracy: 0.3333\n",
      "Epoch 2/15\n",
      "1/1 [==============================] - 12s 12s/step - loss: 7.3466 - accuracy: 0.3333 - val_loss: 2.9141 - val_accuracy: 0.3333\n",
      "Epoch 3/15\n",
      "1/1 [==============================] - 12s 12s/step - loss: 2.8069 - accuracy: 0.3333 - val_loss: 1.0835 - val_accuracy: 0.3333\n",
      "Epoch 4/15\n",
      "1/1 [==============================] - 12s 12s/step - loss: 1.0918 - accuracy: 0.3333 - val_loss: 1.0889 - val_accuracy: 0.3333\n",
      "Epoch 5/15\n",
      "1/1 [==============================] - 12s 12s/step - loss: 1.0948 - accuracy: 0.3333 - val_loss: 1.1066 - val_accuracy: 0.3333\n",
      "Epoch 6/15\n",
      "1/1 [==============================] - 12s 12s/step - loss: 1.1069 - accuracy: 0.3333 - val_loss: 1.0873 - val_accuracy: 0.3333\n",
      "Epoch 7/15\n",
      "1/1 [==============================] - 12s 12s/step - loss: 1.0935 - accuracy: 0.3333 - val_loss: 1.0503 - val_accuracy: 0.3333\n",
      "1/1 [==============================] - 2s 2s/step\n",
      "Epoch 1/15\n",
      "1/1 [==============================] - 15s 15s/step - loss: 1.2134 - accuracy: 0.3333 - val_loss: 569.7532 - val_accuracy: 0.3333\n",
      "Epoch 2/15\n",
      "1/1 [==============================] - 12s 12s/step - loss: 515.5175 - accuracy: 0.3333 - val_loss: 1.3132 - val_accuracy: 0.3333\n",
      "Epoch 3/15\n",
      "1/1 [==============================] - 11s 11s/step - loss: 1.3758 - accuracy: 0.3333 - val_loss: 2.4451 - val_accuracy: 0.3333\n",
      "Epoch 4/15\n",
      "1/1 [==============================] - 12s 12s/step - loss: 2.5297 - accuracy: 0.3333 - val_loss: 1.1023 - val_accuracy: 0.3333\n",
      "1/1 [==============================] - 2s 2s/step\n",
      "Epoch 1/15\n",
      "1/1 [==============================] - 9s 9s/step - loss: 1.2977 - accuracy: 0.1333 - val_loss: 37.7784 - val_accuracy: 0.3333\n",
      "Epoch 2/15\n",
      "1/1 [==============================] - 6s 6s/step - loss: 35.0845 - accuracy: 0.3333 - val_loss: 1.1229 - val_accuracy: 0.3333\n",
      "Epoch 3/15\n",
      "1/1 [==============================] - 6s 6s/step - loss: 1.1058 - accuracy: 0.3333 - val_loss: 1.0953 - val_accuracy: 0.3333\n",
      "Epoch 4/15\n",
      "1/1 [==============================] - 6s 6s/step - loss: 1.0865 - accuracy: 0.3333 - val_loss: 1.0775 - val_accuracy: 0.3333\n",
      "Epoch 5/15\n",
      "1/1 [==============================] - 6s 6s/step - loss: 1.0603 - accuracy: 0.3333 - val_loss: 1.1995 - val_accuracy: 0.3333\n",
      "Epoch 6/15\n",
      "1/1 [==============================] - 6s 6s/step - loss: 1.1522 - accuracy: 0.4000 - val_loss: 1.3460 - val_accuracy: 0.3333\n",
      "Epoch 7/15\n",
      "1/1 [==============================] - 6s 6s/step - loss: 1.2370 - accuracy: 0.4667 - val_loss: 1.1049 - val_accuracy: 0.3333\n",
      "Epoch 8/15\n",
      "1/1 [==============================] - 6s 6s/step - loss: 1.0659 - accuracy: 0.3333 - val_loss: 1.0810 - val_accuracy: 0.3333\n",
      "1/1 [==============================] - 1s 981ms/step\n",
      "Epoch 1/15\n",
      "1/1 [==============================] - 9s 9s/step - loss: 1.2303 - accuracy: 0.2000 - val_loss: 48.6794 - val_accuracy: 0.3333\n",
      "Epoch 2/15\n",
      "1/1 [==============================] - 6s 6s/step - loss: 47.5488 - accuracy: 0.3333 - val_loss: 1.2424 - val_accuracy: 0.3333\n",
      "Epoch 3/15\n",
      "1/1 [==============================] - 6s 6s/step - loss: 1.2177 - accuracy: 0.3333 - val_loss: 1.1583 - val_accuracy: 0.3333\n",
      "Epoch 4/15\n",
      "1/1 [==============================] - 6s 6s/step - loss: 1.1272 - accuracy: 0.3333 - val_loss: 1.1186 - val_accuracy: 0.3333\n",
      "Epoch 5/15\n",
      "1/1 [==============================] - 6s 6s/step - loss: 1.0972 - accuracy: 0.3333 - val_loss: 1.0994 - val_accuracy: 0.5000\n",
      "Epoch 6/15\n",
      "1/1 [==============================] - 6s 6s/step - loss: 1.0736 - accuracy: 0.5333 - val_loss: 1.0928 - val_accuracy: 0.1667\n",
      "Epoch 7/15\n",
      "1/1 [==============================] - 6s 6s/step - loss: 1.0444 - accuracy: 0.4000 - val_loss: 5.1575 - val_accuracy: 0.3333\n",
      "Epoch 8/15\n",
      "1/1 [==============================] - 6s 6s/step - loss: 5.2919 - accuracy: 0.3333 - val_loss: 1.1466 - val_accuracy: 0.3333\n",
      "Epoch 9/15\n",
      "1/1 [==============================] - 6s 6s/step - loss: 1.1165 - accuracy: 0.3333 - val_loss: 1.1365 - val_accuracy: 0.3333\n",
      "Epoch 10/15\n",
      "1/1 [==============================] - 6s 6s/step - loss: 1.1052 - accuracy: 0.3333 - val_loss: 1.1225 - val_accuracy: 0.3333\n",
      "1/1 [==============================] - 1s 1s/step\n",
      "Epoch 1/15\n",
      "1/1 [==============================] - 15s 15s/step - loss: 1.4412 - accuracy: 0.2667 - val_loss: 7.8208 - val_accuracy: 0.3333\n",
      "Epoch 2/15\n",
      "1/1 [==============================] - 12s 12s/step - loss: 7.8482 - accuracy: 0.3333 - val_loss: 1.6457 - val_accuracy: 0.3333\n",
      "Epoch 3/15\n",
      "1/1 [==============================] - 12s 12s/step - loss: 1.6424 - accuracy: 0.3333 - val_loss: 1.0885 - val_accuracy: 0.3333\n",
      "Epoch 4/15\n",
      "1/1 [==============================] - 12s 12s/step - loss: 1.0865 - accuracy: 0.3333 - val_loss: 1.1146 - val_accuracy: 0.5000\n",
      "Epoch 5/15\n",
      "1/1 [==============================] - 12s 12s/step - loss: 1.1055 - accuracy: 0.4667 - val_loss: 1.1204 - val_accuracy: 0.3333\n",
      "Epoch 6/15\n",
      "1/1 [==============================] - 12s 12s/step - loss: 1.1169 - accuracy: 0.4000 - val_loss: 1.1011 - val_accuracy: 0.3333\n",
      "Epoch 7/15\n",
      "1/1 [==============================] - 12s 12s/step - loss: 1.0851 - accuracy: 0.3333 - val_loss: 1.4548 - val_accuracy: 0.3333\n",
      "Epoch 8/15\n",
      "1/1 [==============================] - 11s 11s/step - loss: 1.3659 - accuracy: 0.3333 - val_loss: 1.1010 - val_accuracy: 0.3333\n"
     ]
    },
    {
     "name": "stdout",
     "output_type": "stream",
     "text": [
      "Epoch 9/15\n",
      "1/1 [==============================] - 12s 12s/step - loss: 1.0998 - accuracy: 0.3333 - val_loss: 1.0999 - val_accuracy: 0.3333\n",
      "Epoch 10/15\n",
      "1/1 [==============================] - 11s 11s/step - loss: 1.1016 - accuracy: 0.3333 - val_loss: 1.0934 - val_accuracy: 0.3333\n",
      "1/1 [==============================] - 2s 2s/step\n",
      "Epoch 1/15\n",
      "1/1 [==============================] - 13s 13s/step - loss: 1.8647 - accuracy: 0.3333 - val_loss: 184.0887 - val_accuracy: 0.3333\n",
      "Epoch 2/15\n",
      "1/1 [==============================] - 11s 11s/step - loss: 168.4929 - accuracy: 0.3333 - val_loss: 2.8424 - val_accuracy: 0.3333\n",
      "Epoch 3/15\n",
      "1/1 [==============================] - 12s 12s/step - loss: 2.8868 - accuracy: 0.3333 - val_loss: 2.6992 - val_accuracy: 0.3333\n",
      "Epoch 4/15\n",
      "1/1 [==============================] - 12s 12s/step - loss: 2.6293 - accuracy: 0.3333 - val_loss: 1.2101 - val_accuracy: 0.3333\n",
      "1/1 [==============================] - 2s 2s/step\n"
     ]
    }
   ],
   "source": [
    "val_accs_params={}\n",
    "callback=callbacks.EarlyStopping(monitor='loss', min_delta=0, patience=3, verbose=0, mode='auto',\n",
    "    baseline=None, restore_best_weights=False)\n",
    "for fil, fil_v in filters.items():      \n",
    "    for k, k_v in kernels.items():\n",
    "        for lr, lr_v in learn.items(): \n",
    "            twlv=Twlv_grid(fil_v,k_v,lr_v)            \n",
    "            model_f=twlv.fit(train_generator,epochs=15,validation_data=val_generator,callbacks=[callback])\n",
    "            val_lss,val_acc = twlv.evaluate(val_generator)\n",
    "            val_accs_params[fil+k+lr]=val_lss,val_acc"
   ]
  },
  {
   "cell_type": "code",
   "execution_count": 33,
   "metadata": {},
   "outputs": [
    {
     "data": {
      "text/plain": [
       "{'fil1ker1norm': (1.0979870557785034, 0.3333333432674408),\n",
       " 'fil1ker1high': (1.0871189832687378, 0.3333333432674408),\n",
       " 'fil1ker2norm': (1.0469813346862793, 0.5),\n",
       " 'fil1ker2high': (1.0977977514266968, 0.3333333432674408),\n",
       " 'fil2ker1norm': (1.0773807764053345, 0.3333333432674408),\n",
       " 'fil2ker1high': (1.1242519617080688, 0.3333333432674408),\n",
       " 'fil2ker2norm': (1.0946060419082642, 0.3333333432674408),\n",
       " 'fil2ker2high': (1.2199323177337646, 0.3333333432674408)}"
      ]
     },
     "execution_count": 33,
     "metadata": {},
     "output_type": "execute_result"
    }
   ],
   "source": [
    "val_accs_params"
   ]
  },
  {
   "cell_type": "code",
   "execution_count": 52,
   "metadata": {},
   "outputs": [],
   "source": [
    "filters={'fil1': 3}#2,'fil2':64}\n",
    "\n",
    "kernels={'ker1':3,'ker2':5}\n",
    "\n",
    "learn={\"norm\": 0.001,'low':0.005}"
   ]
  },
  {
   "cell_type": "code",
   "execution_count": 54,
   "metadata": {},
   "outputs": [
    {
     "name": "stdout",
     "output_type": "stream",
     "text": [
      "fil1ker1norm\n",
      "Epoch 1/3\n",
      "1/1 [==============================] - 1s 1s/step - loss: 1.1046 - accuracy: 0.2000 - val_loss: 1.1041 - val_accuracy: 0.3333\n",
      "Epoch 2/3\n",
      "1/1 [==============================] - 0s 480ms/step - loss: 1.0950 - accuracy: 0.3333 - val_loss: 1.0915 - val_accuracy: 0.3333\n",
      "Epoch 3/3\n",
      "1/1 [==============================] - 0s 474ms/step - loss: 1.0980 - accuracy: 0.3333 - val_loss: 1.0720 - val_accuracy: 0.3333\n",
      "fil1ker1low\n",
      "Epoch 1/3\n",
      "1/1 [==============================] - 1s 1s/step - loss: 1.2461 - accuracy: 0.3333 - val_loss: 1.0753 - val_accuracy: 0.3333\n",
      "Epoch 2/3\n",
      "1/1 [==============================] - 0s 486ms/step - loss: 1.0972 - accuracy: 0.3333 - val_loss: 1.0692 - val_accuracy: 0.3333\n",
      "Epoch 3/3\n",
      "1/1 [==============================] - 0s 459ms/step - loss: 1.0897 - accuracy: 0.3333 - val_loss: 1.0618 - val_accuracy: 0.3333\n",
      "fil1ker2norm\n",
      "Epoch 1/3\n",
      "1/1 [==============================] - 1s 1s/step - loss: 1.1168 - accuracy: 0.4667 - val_loss: 1.3750 - val_accuracy: 0.3333\n",
      "Epoch 2/3\n",
      "1/1 [==============================] - 0s 490ms/step - loss: 1.0592 - accuracy: 0.4000 - val_loss: 1.1602 - val_accuracy: 0.3333\n",
      "Epoch 3/3\n",
      "1/1 [==============================] - 0s 469ms/step - loss: 1.0965 - accuracy: 0.2667 - val_loss: 1.0769 - val_accuracy: 0.5000\n",
      "fil1ker2low\n",
      "Epoch 1/3\n",
      "1/1 [==============================] - 1s 1s/step - loss: 2.6674 - accuracy: 0.3333 - val_loss: 1.0423 - val_accuracy: 0.3333\n",
      "Epoch 2/3\n",
      "1/1 [==============================] - 0s 492ms/step - loss: 1.0929 - accuracy: 0.3333 - val_loss: 1.0720 - val_accuracy: 0.3333\n",
      "Epoch 3/3\n",
      "1/1 [==============================] - 0s 497ms/step - loss: 1.0903 - accuracy: 0.3333 - val_loss: 1.0617 - val_accuracy: 0.3333\n"
     ]
    }
   ],
   "source": [
    "val_accs_params={}\n",
    "\n",
    "for fil, fil_v in filters.items():      \n",
    "    for k, k_v in kernels.items():\n",
    "        for lr, lr_v in learn.items(): \n",
    "            print(fil+k+lr)\n",
    "            twlv=Twlv_grid(fil_v,k_v,lr_v)\n",
    "            model_f=twlv.fit(train_generator,epochs=3,validation_data=val_generator)\n",
    "            val_accs=model_f.history['val_accuracy']\n",
    "            val_lsss=model_f.history['val_loss']\n",
    "            val_accs_params[fil+k+lr]=val_lsss,val_accs"
   ]
  },
  {
   "cell_type": "code",
   "execution_count": 55,
   "metadata": {},
   "outputs": [
    {
     "data": {
      "text/plain": [
       "{'fil1ker1norm': ([1.1040838956832886, 1.091464877128601, 1.0720248222351074],\n",
       "  [0.3333333432674408, 0.3333333432674408, 0.3333333432674408]),\n",
       " 'fil1ker1low': ([1.075334906578064, 1.0692082643508911, 1.0618118047714233],\n",
       "  [0.3333333432674408, 0.3333333432674408, 0.3333333432674408]),\n",
       " 'fil1ker2norm': ([1.3749905824661255, 1.1602091789245605, 1.0769305229187012],\n",
       "  [0.3333333432674408, 0.3333333432674408, 0.5]),\n",
       " 'fil1ker2low': ([1.042349100112915, 1.0719786882400513, 1.0616697072982788],\n",
       "  [0.3333333432674408, 0.3333333432674408, 0.3333333432674408])}"
      ]
     },
     "execution_count": 55,
     "metadata": {},
     "output_type": "execute_result"
    }
   ],
   "source": [
    "val_accs_params"
   ]
  },
  {
   "cell_type": "code",
   "execution_count": null,
   "metadata": {},
   "outputs": [],
   "source": []
  }
 ],
 "metadata": {
  "kernelspec": {
   "display_name": "Python 3",
   "language": "python",
   "name": "python3"
  },
  "language_info": {
   "codemirror_mode": {
    "name": "ipython",
    "version": 3
   },
   "file_extension": ".py",
   "mimetype": "text/x-python",
   "name": "python",
   "nbconvert_exporter": "python",
   "pygments_lexer": "ipython3",
   "version": "3.7.4"
  }
 },
 "nbformat": 4,
 "nbformat_minor": 4
}
